{
 "cells": [
  {
   "cell_type": "code",
   "execution_count": 1,
   "metadata": {},
   "outputs": [],
   "source": [
    "import torch\n",
    "import torch.nn as nn\n",
    "import torch.nn.functional as F\n",
    "import torch.optim as optim\n",
    "import numpy as np\n",
    "import pandas as pd\n",
    "import pickle\n",
    "from tqdm import tqdm\n",
    "import re\n",
    "import string\n",
    "import json\n",
    "import sys\n",
    "#import classificationreport\n",
    "from sklearn.metrics import classification_report, confusion_matrix\n",
    "from spacy.lang.en import English\n",
    "eng = English()\n",
    "tok = eng.tokenizer\n",
    "device = torch.device(\"cuda\" if torch.cuda.is_available() else \"cpu\")"
   ]
  },
  {
   "cell_type": "code",
   "execution_count": 2,
   "metadata": {},
   "outputs": [],
   "source": [
    "#NLI_LSTM with 3 class classification with dense layer\n",
    "class NLI_LSTM(nn.Module):\n",
    "    def __init__(self,embedding_matrix, vocab_size, embedding_dim, hidden_dim, output_dim,n_fc_layers, dropout):\n",
    "        super().__init__()\n",
    "        \n",
    "        self.embedding = nn.Embedding(vocab_size, embedding_dim)\n",
    "        self.embedding.weight.data.copy_(torch.from_numpy(embedding_matrix))\n",
    "        self.embedding.weight.requires_grad = False\n",
    "        self.lstm = nn.LSTM(embedding_dim, hidden_dim,batch_first=True)\n",
    "        self.fc=nn.ModuleList([nn.Linear(hidden_dim * 2,hidden_dim * 2) for i in range(n_fc_layers)])\n",
    "        self.linear=nn.Linear(hidden_dim * 2, output_dim)\n",
    "        self.dropout = nn.Dropout(dropout)\n",
    "        \n",
    "    \n",
    "    # forward pass\n",
    "    # NLI with 2 text inputs\n",
    "    def forward(self, text1, text2):\n",
    "        #text = [sent len, batch size]\n",
    "        embedded1 = self.dropout(self.embedding(text1))\n",
    "        embedded2 = self.dropout(self.embedding(text2))\n",
    "        #embedded = [sent len, batch size, emb dim]\n",
    "        output1, (hidden1, cell1) = self.lstm(embedded1)\n",
    "        output2, (hidden2, cell2) = self.lstm(embedded2)\n",
    "\n",
    "        hidden = torch.cat((hidden1,hidden2),dim=2)\n",
    "        hidden = torch.squeeze(hidden)\n",
    "\n",
    "        for i in range(len(self.fc)-1):\n",
    "            hidden = self.fc[i](hidden)\n",
    "            hidden = F.relu(hidden)\n",
    "            hidden = self.dropout(hidden)\n",
    "        \n",
    "        hidden = self.fc[len(self.fc)-1](hidden)\n",
    "        hidden = F.log_softmax(hidden,dim=1)\n",
    "        hidden = self.dropout(hidden)\n",
    "\n",
    "        hidden = self.linear(hidden)\n",
    "        #hidden = [batch size, output dim]\n",
    "        return hidden"
   ]
  },
  {
   "cell_type": "code",
   "execution_count": 3,
   "metadata": {},
   "outputs": [
    {
     "name": "stderr",
     "output_type": "stream",
     "text": [
      "100%|████████████████████████████████| 400000/400000 [00:24<00:00, 16257.27it/s]\n"
     ]
    }
   ],
   "source": [
    "#load glove vectors\n",
    "embeddings_index = {}\n",
    "f = open('../data/glove.6B.300d.txt')\n",
    "lines = f.readlines()\n",
    "for line in tqdm(lines):\n",
    "    values = line.split()\n",
    "    word = values[0]\n",
    "    coefs = np.asarray(values[1:], dtype='float32')\n",
    "    embeddings_index[word] = coefs\n",
    "f.close()"
   ]
  },
  {
   "cell_type": "code",
   "execution_count": 4,
   "metadata": {},
   "outputs": [],
   "source": [
    "# tokenise input and remove punctuation and numbers using only regex\n",
    "def tokenize(text):\n",
    "    # text = re.sub(r'[^a-zA-Z ]', '', text)\n",
    "    # #convert to lowercase\n",
    "    # text = text.lower()\n",
    "    # return text.split()\n",
    "    text = re.sub(r\"[^\\x00-\\x7F]+\", \" \", text)\n",
    "    regex = re.compile('[' + re.escape(string.punctuation) + '0-9\\\\r\\\\t\\\\n]') # remove punctuation and numbers\n",
    "    nopunctext = regex.sub(\" \", text.lower())\n",
    "    return [token.text for token in tok(nopunctext)]\n",
    "\n",
    "UNK=\"<UNK>\"\n",
    "PAD=\"<PAD>\"\n",
    "\n",
    "#import data\n",
    "def getDataset(dataset_name=\"mnli\"):\n",
    "    if dataset_name==\"mnli\":\n",
    "        filepath_train=\"../data/multinli_1.0/multinli_1.0/multinli_1.0_train.jsonl\"\n",
    "        filepath_dev=\"../data/multinli_1.0/multinli_1.0/multinli_1.0_dev_matched.jsonl\"\n",
    "        filepath_test=\"../data/multinli_1.0/multinli_1.0/multinli_1.0_dev_mismatched.jsonl\"\n",
    "    elif dataset_name==\"snli\":\n",
    "        filepath_train=\"../data/snli_1.0/snli_1.0/snli_1.0_train.jsonl\"\n",
    "        filepath_dev=\"../data/snli_1.0/snli_1.0/snli_1.0_dev.jsonl\"\n",
    "        filepath_test=\"../data/snli_1.0/snli_1.0/snli_1.0_test.jsonl\"\n",
    "    else:\n",
    "        print(\"Invalid dataset name\")\n",
    "        return None\n",
    "    \n",
    "    #read train,dev and test data\n",
    "    labels = [\"contradiction\", \"entailment\", \"neutral\"]\n",
    "    f= open(filepath_train, \"r\")\n",
    "    data = list(f)\n",
    "    train_dataset={\"premise\":[],\"hypothesis\":[],\"label\":[]}\n",
    "    print(\"train data\")\n",
    "    for line in tqdm(data):\n",
    "        line = json.loads(line)\n",
    "        if line['gold_label'] not in labels:\n",
    "            # print(line['gold_label'])\n",
    "            continue\n",
    "        train_dataset[\"premise\"].append(line['sentence1'])\n",
    "        train_dataset[\"hypothesis\"].append(line['sentence2'])\n",
    "        train_dataset[\"label\"].append(line['gold_label'])\n",
    "    f.close()\n",
    "\n",
    "    f= open(filepath_dev, \"r\")\n",
    "    data = list(f)\n",
    "    dev_dataset={\"premise\":[],\"hypothesis\":[],\"label\":[]}\n",
    "    print(\"dev data\")\n",
    "    for line in tqdm(data):\n",
    "        line = json.loads(line)\n",
    "        if line['gold_label'] not in labels:\n",
    "            # print(line['gold_label'])\n",
    "            continue\n",
    "        dev_dataset[\"premise\"].append(line['sentence1'])\n",
    "        dev_dataset[\"hypothesis\"].append(line['sentence2'])\n",
    "        dev_dataset[\"label\"].append(line['gold_label'])\n",
    "    f.close()\n",
    "\n",
    "    f= open(filepath_test, \"r\")\n",
    "    data = list(f)\n",
    "    test_dataset={\"premise\":[],\"hypothesis\":[],\"label\":[]}\n",
    "    print(\"test data\")\n",
    "    for line in tqdm(data):\n",
    "        line = json.loads(line)\n",
    "        if line['gold_label'] not in labels:\n",
    "            # print(line['gold_label'])\n",
    "            continue\n",
    "        test_dataset[\"premise\"].append(line['sentence1'])\n",
    "        test_dataset[\"hypothesis\"].append(line['sentence2'])\n",
    "        test_dataset[\"label\"].append(line['gold_label'])\n",
    "    f.close()\n",
    "    \n",
    "    return train_dataset,dev_dataset,test_dataset\n",
    "\n",
    "def getWord2index(dataset):\n",
    "    word2index = {\"\":0,UNK:1,PAD:2}\n",
    "    for sentence in dataset[\"premise\"]:\n",
    "        for word in tokenize(sentence):\n",
    "            if word not in word2index:\n",
    "                word2index[word] = len(word2index)\n",
    "    for sentence in dataset[\"hypothesis\"]:\n",
    "        for word in tokenize(sentence):\n",
    "            if word not in word2index:\n",
    "                word2index[word] = len(word2index)\n",
    "    return word2index\n",
    "\n",
    "def getEmbeddingMatrix(word2index,emb_size=300):\n",
    "    embedding_matrix = np.zeros((len(word2index),emb_size),dtype=np.float32)\n",
    "    for word, i in word2index.items():\n",
    "        if i==0:\n",
    "            embedding_matrix[i] = np.zeros(emb_size)\n",
    "        elif word in embeddings_index:\n",
    "            embedding_matrix[i] = embeddings_index[word]\n",
    "        else:\n",
    "            embedding_matrix[i] = np.random.uniform(-0.25,0.25,emb_size)\n",
    "    return embedding_matrix\n",
    "\n",
    "def getLabel2index(dataset):\n",
    "    label2index = {\"entailment\":0,\"neutral\":1,\"contradiction\":2}\n",
    "    return label2index\n",
    "\n",
    "def getSentence2vector(sentence,word2index,padLength=32):\n",
    "    sentence = tokenize(sentence)\n",
    "    vector = []\n",
    "    for word in sentence:\n",
    "        if word in word2index:\n",
    "            vector.append(word2index[word])\n",
    "        else:\n",
    "            vector.append(word2index[UNK])\n",
    "    \n",
    "    if len(vector)>padLength:\n",
    "        vector=vector[:padLength]\n",
    "    else:\n",
    "        for i in range(padLength-len(vector)):\n",
    "            vector.append(word2index[PAD])\n",
    "    \n",
    "    if(len(vector)!=padLength):\n",
    "        print(\"Error in vector length\")\n",
    "    return np.array(vector)   "
   ]
  },
  {
   "cell_type": "code",
   "execution_count": 5,
   "metadata": {},
   "outputs": [],
   "source": [
    "def preprocess(dataset,word2index,label2index):\n",
    "    dataset[\"premise\"] = [getSentence2vector(sentence,word2index) for sentence in tqdm(dataset[\"premise\"])]\n",
    "    dataset[\"hypothesis\"] = [getSentence2vector(sentence,word2index) for sentence in tqdm(dataset[\"hypothesis\"])]\n",
    "    dataset[\"label\"] = [label2index[label] for label in dataset[\"label\"]]\n",
    "    return dataset\n",
    "\n",
    "def getDataloader(dataset,batch_size=32):\n",
    "    # print(len(dataset[\"premise\"]))\n",
    "    premise = torch.tensor(dataset[\"premise\"],dtype=torch.long)\n",
    "    hypothesis = torch.tensor(dataset[\"hypothesis\"],dtype=torch.long)\n",
    "    labels = torch.tensor(dataset[\"label\"],dtype=torch.long)\n",
    "    dataset = torch.utils.data.TensorDataset(premise,hypothesis,labels)\n",
    "    dataloader = torch.utils.data.DataLoader(dataset, batch_size=batch_size, shuffle=True)\n",
    "    return dataloader\n",
    "\n",
    "def prepData(dataset_name=\"mnli\"):\n",
    "    train_dataset,dev_dataset,test_dataset = getDataset(dataset_name)\n",
    "    word2index = getWord2index(train_dataset)\n",
    "    label2index = getLabel2index(train_dataset)\n",
    "    embedding_matrix = getEmbeddingMatrix(word2index)\n",
    "    #preprocess datasets\n",
    "    print(\"preprocess\")\n",
    "    train_dataset = preprocess(train_dataset,word2index,label2index)\n",
    "    dev_dataset = preprocess(dev_dataset,word2index,label2index)\n",
    "    test_dataset = preprocess(test_dataset,word2index,label2index)\n",
    "    #dataloader\n",
    "    train_dataloader = getDataloader(train_dataset)\n",
    "    dev_dataloader = getDataloader(dev_dataset)\n",
    "    test_dataloader = getDataloader(test_dataset)\n",
    "\n",
    "    return train_dataloader,dev_dataloader,test_dataloader,embedding_matrix,word2index\n"
   ]
  },
  {
   "cell_type": "code",
   "execution_count": 6,
   "metadata": {},
   "outputs": [],
   "source": [
    "def train(model,train_dataloader,dev_dataloader,test_dataloader,optimizer,criterion,datasetName,epochs=5):\n",
    "    \n",
    "    \n",
    "    f=open(f\"../reports_and_results/report_lstm_nli_{datasetName}_foreachepoch.txt\",'w')\n",
    "    \n",
    "    total_loss=[]\n",
    "    total_acc=[]\n",
    "    for epoch in range(1,1+epochs):\n",
    "        ep_loss=0\n",
    "        ep_acc=0\n",
    "        train_total=0\n",
    "        val_total=0\n",
    "        test_total=0\n",
    "        print(\"\\n\\nEpoch: \",epoch)\n",
    "        #training\n",
    "        print(\"Training\")\n",
    "        for batch in tqdm(train_dataloader):\n",
    "            prem, hyp, label = batch\n",
    "            # print(len(prem),len(hyp),len(label))\n",
    "            optimizer.zero_grad()\n",
    "            prem, hyp, label= prem.to(device), hyp.to(device), label.to(device)\n",
    "            output = model(prem, hyp)\n",
    "            # print(len(output))\n",
    "            loss = criterion(output, label)\n",
    "            loss.backward()\n",
    "            optimizer.step()\n",
    "            ep_loss+=loss.item()\n",
    "            total_loss.append(loss.item())\n",
    "            acc = (output.argmax(1) == label).sum().item()\n",
    "            train_total+=label.size(0)\n",
    "            ep_acc+=acc\n",
    "        total_acc.append((ep_acc/train_total))\n",
    "        \n",
    "        print(\"Validation\")\n",
    "        #validation\n",
    "        val_y_true = []\n",
    "        val_y_pred = []\n",
    "        with torch.no_grad():\n",
    "            ep_val_loss=0\n",
    "            ep_val_acc=0\n",
    "            for batch in tqdm(dev_dataloader):\n",
    "                prem, hyp, label = batch\n",
    "                prem, hyp, label= prem.to(device), hyp.to(device), label.to(device)\n",
    "                output = model(prem, hyp)\n",
    "                loss = criterion(output, label)\n",
    "                val_y_true.extend(label.cpu())\n",
    "                val_y_pred.extend(output.cpu().argmax(1))\n",
    "                ep_val_loss+=loss.item()\n",
    "                acc = (output.argmax(1) == label).sum().item()\n",
    "                val_total+=label.size(0)\n",
    "                ep_val_acc+=acc\n",
    "        \n",
    "        print(\"Test\")\n",
    "        y_true = []\n",
    "        y_pred = []\n",
    "        with torch.no_grad():\n",
    "            ep_test_loss=0\n",
    "            ep_test_acc=0\n",
    "            for batch in tqdm(test_dataloader):\n",
    "                prem, hyp, label = batch\n",
    "                prem, hyp, label= prem.to(device), hyp.to(device), label.to(device)\n",
    "                output = model(prem, hyp)\n",
    "                y_true.extend(label.cpu())\n",
    "                y_pred.extend(output.cpu().argmax(1))\n",
    "                loss = criterion(output, label)\n",
    "                ep_test_loss+=loss.item()\n",
    "                acc = (output.argmax(1) == label).sum().item()\n",
    "                test_total+=label.size(0)\n",
    "                ep_test_acc+=acc\n",
    "                \n",
    "        print(\"Epoch: \",epoch,\" Train Loss: \",ep_loss/len(train_dataloader),\"Train Accuracy: \",ep_acc/train_total)\n",
    "\n",
    "        print(\"Epoch: \",epoch,\" Val Loss: \",ep_val_loss/len(dev_dataloader),\" Val Accuracy: \",ep_val_acc/val_total)\n",
    "\n",
    "        print(\"Epoch: \",epoch,\"Test Loss: \",ep_test_loss/len(test_dataloader),\" Test Accuracy: \",ep_test_acc/test_total)\n",
    "\n",
    "        print()\n",
    "        print(\"Validation Classification report\")\n",
    "\n",
    "        print(classification_report(val_y_true, val_y_pred, target_names=[\"entailment\",\"neutral\",\"contradiction\"]))\n",
    "        print(\"Test Classification report\")\n",
    "        print(classification_report(y_true, y_pred, target_names=[\"entailment\",\"neutral\",\"contradiction\"]))\n",
    "                \n",
    "        orginal_stdout=sys.stdout\n",
    "        sys.stdout=f \n",
    "        print(\"\\n\\nEpoch: \",epoch)\n",
    "\n",
    "        \n",
    "        print(\"Epoch: \",epoch,\" Train Loss: \",ep_loss/len(train_dataloader),\"Train Accuracy: \",ep_acc/train_total)\n",
    "\n",
    "        print(\"Epoch: \",epoch,\" Val Loss: \",ep_val_loss/len(dev_dataloader),\" Val Accuracy: \",ep_val_acc/val_total)\n",
    "\n",
    "        print(\"Epoch: \",epoch,\"Test Loss: \",ep_test_loss/len(test_dataloader),\" Test Accuracy: \",ep_test_acc/test_total)\n",
    "\n",
    "        print()\n",
    "        print(\"Validation Classification report\")\n",
    "\n",
    "        print(classification_report(val_y_true, val_y_pred, target_names=[\"entailment\",\"neutral\",\"contradiction\"]))\n",
    "        print(\"Test Classification report\")\n",
    "        print(classification_report(y_true, y_pred, target_names=[\"entailment\",\"neutral\",\"contradiction\"]))\n",
    "        #save model\n",
    "        torch.save(model.state_dict(), f\"../models/model_lstm_nli_{datasetName}_ep_{epoch}.pt\")\n",
    "        sys.stdout=orginal_stdout\n",
    "        \n",
    "    sys.stdout=f\n",
    "    print(\"Total Train Loss\",sum(total_loss)/len(total_loss),\" Total Train Accuracy: \",sum(total_acc)/len(total_acc))\n",
    "              \n",
    "    sys.stdout=orginal_stdout\n",
    "    print(\"Total Train Loss\",sum(total_loss)/len(total_loss),\" Total Train Accuracy: \",sum(total_acc)/len(total_acc))\n",
    "    f.close()\n",
    "    return model\n",
    "    "
   ]
  },
  {
   "cell_type": "code",
   "execution_count": 7,
   "metadata": {},
   "outputs": [],
   "source": [
    "def test(model,test_dataloader,criterion):\n",
    "#test\n",
    "    y_true = []\n",
    "    y_pred = []\n",
    "    test_total=0\n",
    "    with torch.no_grad():\n",
    "        ep_test_loss=0\n",
    "        ep_test_acc=0\n",
    "        for batch in tqdm(test_dataloader):\n",
    "            prem, hyp, label = batch\n",
    "            prem, hyp, label= prem.to(device), hyp.to(device), label.to(device)\n",
    "            output = model(prem, hyp)\n",
    "            y_true.extend(label.cpu())\n",
    "            y_pred.extend(output.cpu().argmax(1))\n",
    "            loss = criterion(output, label)\n",
    "            ep_test_loss+=loss.item()\n",
    "            acc = (output.argmax(1) == label).sum().item()\n",
    "            ep_test_acc+=acc\n",
    "            test_total+=label.size(0)\n",
    "        print(\"Test Loss: \",ep_test_loss/len(test_dataloader),\" Test Accuracy: \",ep_test_acc/test_total)\n",
    "        print(classification_report(y_true, y_pred, target_names=[\"entailment\",\"neutral\",\"contradiction\"]))\n",
    "        print(confusion_matrix(y_true, y_pred))\n",
    "        \n"
   ]
  },
  {
   "cell_type": "code",
   "execution_count": 8,
   "metadata": {},
   "outputs": [],
   "source": [
    "EMBEDDING_DIM = 300\n",
    "HIDDEN_DIM = 100\n",
    "OUTPUT_DIM = 3\n",
    "N_FC_LAYERS = 2\n",
    "DROPOUT = 0.3\n",
    "EPOCHS = 30\n",
    "lr=0.001"
   ]
  },
  {
   "cell_type": "code",
   "execution_count": 9,
   "metadata": {},
   "outputs": [
    {
     "name": "stdout",
     "output_type": "stream",
     "text": [
      "train data\n"
     ]
    },
    {
     "name": "stderr",
     "output_type": "stream",
     "text": [
      "100%|███████████████████████████████| 392702/392702 [00:02<00:00, 142146.51it/s]\n"
     ]
    },
    {
     "name": "stdout",
     "output_type": "stream",
     "text": [
      "dev data\n"
     ]
    },
    {
     "name": "stderr",
     "output_type": "stream",
     "text": [
      "100%|█████████████████████████████████| 10000/10000 [00:00<00:00, 126808.85it/s]\n"
     ]
    },
    {
     "name": "stdout",
     "output_type": "stream",
     "text": [
      "test data\n"
     ]
    },
    {
     "name": "stderr",
     "output_type": "stream",
     "text": [
      "100%|█████████████████████████████████| 10000/10000 [00:00<00:00, 124214.95it/s]\n"
     ]
    },
    {
     "name": "stdout",
     "output_type": "stream",
     "text": [
      "preprocess\n"
     ]
    },
    {
     "name": "stderr",
     "output_type": "stream",
     "text": [
      "100%|████████████████████████████████| 392702/392702 [00:30<00:00, 13087.71it/s]\n",
      "100%|████████████████████████████████| 392702/392702 [00:19<00:00, 20141.12it/s]\n",
      "100%|████████████████████████████████████| 9815/9815 [00:00<00:00, 11985.46it/s]\n",
      "100%|████████████████████████████████████| 9815/9815 [00:00<00:00, 19911.14it/s]\n",
      "100%|████████████████████████████████████| 9832/9832 [00:00<00:00, 11025.80it/s]\n",
      "100%|████████████████████████████████████| 9832/9832 [00:00<00:00, 18068.43it/s]\n",
      "/tmp/ipykernel_67675/1833773205.py:9: UserWarning: Creating a tensor from a list of numpy.ndarrays is extremely slow. Please consider converting the list to a single numpy.ndarray with numpy.array() before converting to a tensor. (Triggered internally at ../torch/csrc/utils/tensor_new.cpp:245.)\n",
      "  premise = torch.tensor(dataset[\"premise\"],dtype=torch.long)\n"
     ]
    }
   ],
   "source": [
    "datasetName=\"mnli\"\n",
    "\n",
    "mtrain_dataloader,mdev_dataloader,mtest_dataloader,membedding_matrix,mword2index = prepData(datasetName)\n",
    "\n",
    "INPUT_DIM = len(mword2index)"
   ]
  },
  {
   "cell_type": "code",
   "execution_count": 10,
   "metadata": {},
   "outputs": [
    {
     "name": "stdout",
     "output_type": "stream",
     "text": [
      "\n",
      "\n",
      "Epoch:  1\n",
      "Training\n"
     ]
    },
    {
     "name": "stderr",
     "output_type": "stream",
     "text": [
      "100%|████████████████████████████████████| 12272/12272 [00:57<00:00, 214.83it/s]\n"
     ]
    },
    {
     "name": "stdout",
     "output_type": "stream",
     "text": [
      "Validation\n"
     ]
    },
    {
     "name": "stderr",
     "output_type": "stream",
     "text": [
      "100%|████████████████████████████████████████| 307/307 [00:00<00:00, 518.62it/s]\n"
     ]
    },
    {
     "name": "stdout",
     "output_type": "stream",
     "text": [
      "Test\n"
     ]
    },
    {
     "name": "stderr",
     "output_type": "stream",
     "text": [
      "100%|████████████████████████████████████████| 308/308 [00:00<00:00, 499.40it/s]\n"
     ]
    },
    {
     "name": "stdout",
     "output_type": "stream",
     "text": [
      "Epoch:  1  Train Loss:  1.1012832468722837 Train Accuracy:  0.41839868398938634\n",
      "Epoch:  1  Val Loss:  1.0391180895827103  Val Accuracy:  0.46673458991339783\n",
      "Epoch:  1 Test Loss:  1.0156671304207343  Test Accuracy:  0.47030105777054515\n",
      "\n",
      "Validation Classification report\n",
      "               precision    recall  f1-score   support\n",
      "\n",
      "   entailment       0.55      0.23      0.32      3479\n",
      "      neutral       0.47      0.41      0.44      3123\n",
      "contradiction       0.45      0.78      0.57      3213\n",
      "\n",
      "     accuracy                           0.47      9815\n",
      "    macro avg       0.49      0.47      0.44      9815\n",
      " weighted avg       0.49      0.47      0.44      9815\n",
      "\n",
      "Test Classification report\n",
      "               precision    recall  f1-score   support\n",
      "\n",
      "   entailment       0.56      0.24      0.33      3463\n",
      "      neutral       0.44      0.43      0.43      3129\n",
      "contradiction       0.46      0.76      0.57      3240\n",
      "\n",
      "     accuracy                           0.47      9832\n",
      "    macro avg       0.49      0.48      0.45      9832\n",
      " weighted avg       0.49      0.47      0.45      9832\n",
      "\n",
      "\n",
      "\n",
      "Epoch:  2\n",
      "Training\n"
     ]
    },
    {
     "name": "stderr",
     "output_type": "stream",
     "text": [
      "100%|████████████████████████████████████| 12272/12272 [00:54<00:00, 225.76it/s]\n"
     ]
    },
    {
     "name": "stdout",
     "output_type": "stream",
     "text": [
      "Validation\n"
     ]
    },
    {
     "name": "stderr",
     "output_type": "stream",
     "text": [
      "100%|████████████████████████████████████████| 307/307 [00:00<00:00, 427.44it/s]\n"
     ]
    },
    {
     "name": "stdout",
     "output_type": "stream",
     "text": [
      "Test\n"
     ]
    },
    {
     "name": "stderr",
     "output_type": "stream",
     "text": [
      "100%|████████████████████████████████████████| 308/308 [00:00<00:00, 384.14it/s]\n"
     ]
    },
    {
     "name": "stdout",
     "output_type": "stream",
     "text": [
      "Epoch:  2  Train Loss:  0.9873785929805374 Train Accuracy:  0.5185458693869652\n",
      "Epoch:  2  Val Loss:  0.995045176740578  Val Accuracy:  0.5073866530820174\n",
      "Epoch:  2 Test Loss:  0.9725893983593235  Test Accuracy:  0.5102725793327909\n",
      "\n",
      "Validation Classification report\n",
      "               precision    recall  f1-score   support\n",
      "\n",
      "   entailment       0.61      0.30      0.40      3479\n",
      "      neutral       0.49      0.47      0.48      3123\n",
      "contradiction       0.48      0.77      0.59      3213\n",
      "\n",
      "     accuracy                           0.51      9815\n",
      "    macro avg       0.53      0.51      0.49      9815\n",
      " weighted avg       0.53      0.51      0.49      9815\n",
      "\n",
      "Test Classification report\n",
      "               precision    recall  f1-score   support\n",
      "\n",
      "   entailment       0.59      0.30      0.40      3463\n",
      "      neutral       0.48      0.48      0.48      3129\n",
      "contradiction       0.50      0.76      0.61      3240\n",
      "\n",
      "     accuracy                           0.51      9832\n",
      "    macro avg       0.52      0.51      0.49      9832\n",
      " weighted avg       0.52      0.51      0.49      9832\n",
      "\n",
      "\n",
      "\n",
      "Epoch:  3\n",
      "Training\n"
     ]
    },
    {
     "name": "stderr",
     "output_type": "stream",
     "text": [
      "100%|████████████████████████████████████| 12272/12272 [00:59<00:00, 206.97it/s]\n"
     ]
    },
    {
     "name": "stdout",
     "output_type": "stream",
     "text": [
      "Validation\n"
     ]
    },
    {
     "name": "stderr",
     "output_type": "stream",
     "text": [
      "100%|████████████████████████████████████████| 307/307 [00:00<00:00, 413.91it/s]\n"
     ]
    },
    {
     "name": "stdout",
     "output_type": "stream",
     "text": [
      "Test\n"
     ]
    },
    {
     "name": "stderr",
     "output_type": "stream",
     "text": [
      "100%|████████████████████████████████████████| 308/308 [00:01<00:00, 296.00it/s]\n"
     ]
    },
    {
     "name": "stdout",
     "output_type": "stream",
     "text": [
      "Epoch:  3  Train Loss:  0.9539278550887046 Train Accuracy:  0.5461698692647351\n",
      "Epoch:  3  Val Loss:  0.9502856319812688  Val Accuracy:  0.552827305145186\n",
      "Epoch:  3 Test Loss:  0.9466895292718689  Test Accuracy:  0.5502441008950366\n",
      "\n",
      "Validation Classification report\n",
      "               precision    recall  f1-score   support\n",
      "\n",
      "   entailment       0.59      0.45      0.51      3479\n",
      "      neutral       0.45      0.71      0.55      3123\n",
      "contradiction       0.73      0.52      0.60      3213\n",
      "\n",
      "     accuracy                           0.55      9815\n",
      "    macro avg       0.59      0.56      0.55      9815\n",
      " weighted avg       0.59      0.55      0.55      9815\n",
      "\n",
      "Test Classification report\n",
      "               precision    recall  f1-score   support\n",
      "\n",
      "   entailment       0.58      0.44      0.50      3463\n",
      "      neutral       0.44      0.72      0.55      3129\n",
      "contradiction       0.77      0.51      0.61      3240\n",
      "\n",
      "     accuracy                           0.55      9832\n",
      "    macro avg       0.60      0.55      0.55      9832\n",
      " weighted avg       0.60      0.55      0.55      9832\n",
      "\n",
      "\n",
      "\n",
      "Epoch:  4\n",
      "Training\n"
     ]
    },
    {
     "name": "stderr",
     "output_type": "stream",
     "text": [
      "100%|████████████████████████████████████| 12272/12272 [01:16<00:00, 161.30it/s]\n"
     ]
    },
    {
     "name": "stdout",
     "output_type": "stream",
     "text": [
      "Validation\n"
     ]
    },
    {
     "name": "stderr",
     "output_type": "stream",
     "text": [
      "100%|████████████████████████████████████████| 307/307 [00:00<00:00, 337.60it/s]\n"
     ]
    },
    {
     "name": "stdout",
     "output_type": "stream",
     "text": [
      "Test\n"
     ]
    },
    {
     "name": "stderr",
     "output_type": "stream",
     "text": [
      "100%|████████████████████████████████████████| 308/308 [00:01<00:00, 305.53it/s]\n"
     ]
    },
    {
     "name": "stdout",
     "output_type": "stream",
     "text": [
      "Epoch:  4  Train Loss:  0.9360061957509375 Train Accuracy:  0.5588283227485472\n",
      "Epoch:  4  Val Loss:  0.9714779436394135  Val Accuracy:  0.5522159959246052\n",
      "Epoch:  4 Test Loss:  0.9636900688146616  Test Accuracy:  0.559499593165175\n",
      "\n",
      "Validation Classification report\n",
      "               precision    recall  f1-score   support\n",
      "\n",
      "   entailment       0.48      0.91      0.62      3479\n",
      "      neutral       0.64      0.21      0.32      3123\n",
      "contradiction       0.75      0.50      0.60      3213\n",
      "\n",
      "     accuracy                           0.55      9815\n",
      "    macro avg       0.62      0.54      0.51      9815\n",
      " weighted avg       0.62      0.55      0.52      9815\n",
      "\n",
      "Test Classification report\n",
      "               precision    recall  f1-score   support\n",
      "\n",
      "   entailment       0.48      0.92      0.63      3463\n",
      "      neutral       0.64      0.21      0.32      3129\n",
      "contradiction       0.79      0.51      0.62      3240\n",
      "\n",
      "     accuracy                           0.56      9832\n",
      "    macro avg       0.64      0.55      0.52      9832\n",
      " weighted avg       0.63      0.56      0.53      9832\n",
      "\n",
      "\n",
      "\n",
      "Epoch:  5\n",
      "Training\n"
     ]
    },
    {
     "name": "stderr",
     "output_type": "stream",
     "text": [
      "100%|████████████████████████████████████| 12272/12272 [01:14<00:00, 165.59it/s]\n"
     ]
    },
    {
     "name": "stdout",
     "output_type": "stream",
     "text": [
      "Validation\n"
     ]
    },
    {
     "name": "stderr",
     "output_type": "stream",
     "text": [
      "100%|████████████████████████████████████████| 307/307 [00:00<00:00, 392.93it/s]\n"
     ]
    },
    {
     "name": "stdout",
     "output_type": "stream",
     "text": [
      "Test\n"
     ]
    },
    {
     "name": "stderr",
     "output_type": "stream",
     "text": [
      "100%|████████████████████████████████████████| 308/308 [00:00<00:00, 428.72it/s]\n"
     ]
    },
    {
     "name": "stdout",
     "output_type": "stream",
     "text": [
      "Epoch:  5  Train Loss:  0.9247146720792783 Train Accuracy:  0.5675881457186365\n",
      "Epoch:  5  Val Loss:  0.9398071198976001  Val Accuracy:  0.5574121242995416\n",
      "Epoch:  5 Test Loss:  0.9164400723847476  Test Accuracy:  0.5666192026037429\n",
      "\n",
      "Validation Classification report\n",
      "               precision    recall  f1-score   support\n",
      "\n",
      "   entailment       0.60      0.48      0.53      3479\n",
      "      neutral       0.55      0.46      0.50      3123\n",
      "contradiction       0.53      0.75      0.62      3213\n",
      "\n",
      "     accuracy                           0.56      9815\n",
      "    macro avg       0.56      0.56      0.55      9815\n",
      " weighted avg       0.56      0.56      0.55      9815\n",
      "\n",
      "Test Classification report\n",
      "               precision    recall  f1-score   support\n",
      "\n",
      "   entailment       0.60      0.49      0.54      3463\n",
      "      neutral       0.54      0.47      0.50      3129\n",
      "contradiction       0.56      0.75      0.64      3240\n",
      "\n",
      "     accuracy                           0.57      9832\n",
      "    macro avg       0.57      0.57      0.56      9832\n",
      " weighted avg       0.57      0.57      0.56      9832\n",
      "\n",
      "\n",
      "\n",
      "Epoch:  6\n",
      "Training\n"
     ]
    },
    {
     "name": "stderr",
     "output_type": "stream",
     "text": [
      "100%|████████████████████████████████████| 12272/12272 [01:03<00:00, 193.88it/s]\n"
     ]
    },
    {
     "name": "stdout",
     "output_type": "stream",
     "text": [
      "Validation\n"
     ]
    },
    {
     "name": "stderr",
     "output_type": "stream",
     "text": [
      "100%|████████████████████████████████████████| 307/307 [00:00<00:00, 393.83it/s]\n"
     ]
    },
    {
     "name": "stdout",
     "output_type": "stream",
     "text": [
      "Test\n"
     ]
    },
    {
     "name": "stderr",
     "output_type": "stream",
     "text": [
      "100%|████████████████████████████████████████| 308/308 [00:01<00:00, 289.98it/s]\n"
     ]
    },
    {
     "name": "stdout",
     "output_type": "stream",
     "text": [
      "Epoch:  6  Train Loss:  0.9173656905111232 Train Accuracy:  0.5734017142769836\n",
      "Epoch:  6  Val Loss:  0.955836085038387  Val Accuracy:  0.5752419765664799\n",
      "Epoch:  6 Test Loss:  0.93343186378479  Test Accuracy:  0.584519934906428\n",
      "\n",
      "Validation Classification report\n",
      "               precision    recall  f1-score   support\n",
      "\n",
      "   entailment       0.51      0.85      0.64      3479\n",
      "      neutral       0.68      0.24      0.35      3123\n",
      "contradiction       0.67      0.61      0.64      3213\n",
      "\n",
      "     accuracy                           0.58      9815\n",
      "    macro avg       0.62      0.56      0.54      9815\n",
      " weighted avg       0.62      0.58      0.55      9815\n",
      "\n",
      "Test Classification report\n",
      "               precision    recall  f1-score   support\n",
      "\n",
      "   entailment       0.51      0.87      0.64      3463\n",
      "      neutral       0.69      0.24      0.35      3129\n",
      "contradiction       0.70      0.62      0.66      3240\n",
      "\n",
      "     accuracy                           0.58      9832\n",
      "    macro avg       0.63      0.57      0.55      9832\n",
      " weighted avg       0.63      0.58      0.55      9832\n",
      "\n",
      "\n",
      "\n",
      "Epoch:  7\n",
      "Training\n"
     ]
    },
    {
     "name": "stderr",
     "output_type": "stream",
     "text": [
      "100%|████████████████████████████████████| 12272/12272 [01:33<00:00, 130.93it/s]\n"
     ]
    },
    {
     "name": "stdout",
     "output_type": "stream",
     "text": [
      "Validation\n"
     ]
    },
    {
     "name": "stderr",
     "output_type": "stream",
     "text": [
      "100%|████████████████████████████████████████| 307/307 [00:01<00:00, 300.23it/s]\n"
     ]
    },
    {
     "name": "stdout",
     "output_type": "stream",
     "text": [
      "Test\n"
     ]
    },
    {
     "name": "stderr",
     "output_type": "stream",
     "text": [
      "100%|████████████████████████████████████████| 308/308 [00:00<00:00, 336.22it/s]\n"
     ]
    },
    {
     "name": "stdout",
     "output_type": "stream",
     "text": [
      "Epoch:  7  Train Loss:  0.9054850880129474 Train Accuracy:  0.5814357960998416\n",
      "Epoch:  7  Val Loss:  0.8984677983805877  Val Accuracy:  0.5916454406520631\n",
      "Epoch:  7 Test Loss:  0.8875788572159681  Test Accuracy:  0.5965215622457283\n",
      "\n",
      "Validation Classification report\n",
      "               precision    recall  f1-score   support\n",
      "\n",
      "   entailment       0.55      0.74      0.63      3479\n",
      "      neutral       0.60      0.38      0.47      3123\n",
      "contradiction       0.65      0.64      0.64      3213\n",
      "\n",
      "     accuracy                           0.59      9815\n",
      "    macro avg       0.60      0.59      0.58      9815\n",
      " weighted avg       0.60      0.59      0.58      9815\n",
      "\n",
      "Test Classification report\n",
      "               precision    recall  f1-score   support\n",
      "\n",
      "   entailment       0.55      0.76      0.63      3463\n",
      "      neutral       0.59      0.38      0.46      3129\n",
      "contradiction       0.68      0.63      0.65      3240\n",
      "\n",
      "     accuracy                           0.60      9832\n",
      "    macro avg       0.61      0.59      0.58      9832\n",
      " weighted avg       0.61      0.60      0.59      9832\n",
      "\n",
      "\n",
      "\n",
      "Epoch:  8\n",
      "Training\n"
     ]
    },
    {
     "name": "stderr",
     "output_type": "stream",
     "text": [
      "100%|████████████████████████████████████| 12272/12272 [01:21<00:00, 150.73it/s]\n"
     ]
    },
    {
     "name": "stdout",
     "output_type": "stream",
     "text": [
      "Validation\n"
     ]
    },
    {
     "name": "stderr",
     "output_type": "stream",
     "text": [
      "100%|████████████████████████████████████████| 307/307 [00:00<00:00, 376.29it/s]\n"
     ]
    },
    {
     "name": "stdout",
     "output_type": "stream",
     "text": [
      "Test\n"
     ]
    },
    {
     "name": "stderr",
     "output_type": "stream",
     "text": [
      "100%|████████████████████████████████████████| 308/308 [00:00<00:00, 363.48it/s]\n"
     ]
    },
    {
     "name": "stdout",
     "output_type": "stream",
     "text": [
      "Epoch:  8  Train Loss:  0.8996846384017921 Train Accuracy:  0.5847181832534594\n",
      "Epoch:  8  Val Loss:  1.0146143401484535  Val Accuracy:  0.4935303107488538\n",
      "Epoch:  8 Test Loss:  1.0058879409130517  Test Accuracy:  0.4968470301057771\n",
      "\n",
      "Validation Classification report\n",
      "               precision    recall  f1-score   support\n",
      "\n",
      "   entailment       0.68      0.13      0.22      3479\n",
      "      neutral       0.39      0.84      0.54      3123\n",
      "contradiction       0.72      0.54      0.62      3213\n",
      "\n",
      "     accuracy                           0.49      9815\n",
      "    macro avg       0.60      0.51      0.46      9815\n",
      " weighted avg       0.60      0.49      0.45      9815\n",
      "\n",
      "Test Classification report\n",
      "               precision    recall  f1-score   support\n",
      "\n",
      "   entailment       0.69      0.12      0.21      3463\n",
      "      neutral       0.39      0.87      0.54      3129\n",
      "contradiction       0.76      0.54      0.63      3240\n",
      "\n",
      "     accuracy                           0.50      9832\n",
      "    macro avg       0.62      0.51      0.46      9832\n",
      " weighted avg       0.62      0.50      0.45      9832\n",
      "\n",
      "\n",
      "\n",
      "Epoch:  9\n",
      "Training\n"
     ]
    },
    {
     "name": "stderr",
     "output_type": "stream",
     "text": [
      "100%|████████████████████████████████████| 12272/12272 [01:09<00:00, 176.63it/s]\n"
     ]
    },
    {
     "name": "stdout",
     "output_type": "stream",
     "text": [
      "Validation\n"
     ]
    },
    {
     "name": "stderr",
     "output_type": "stream",
     "text": [
      "100%|████████████████████████████████████████| 307/307 [00:01<00:00, 293.42it/s]\n"
     ]
    },
    {
     "name": "stdout",
     "output_type": "stream",
     "text": [
      "Test\n"
     ]
    },
    {
     "name": "stderr",
     "output_type": "stream",
     "text": [
      "100%|████████████████████████████████████████| 308/308 [00:00<00:00, 438.81it/s]\n"
     ]
    },
    {
     "name": "stdout",
     "output_type": "stream",
     "text": [
      "Epoch:  9  Train Loss:  0.8954710398801885 Train Accuracy:  0.5884232827945872\n",
      "Epoch:  9  Val Loss:  0.9203405160857334  Val Accuracy:  0.589302088639837\n",
      "Epoch:  9 Test Loss:  0.9057335756815873  Test Accuracy:  0.5938771358828315\n",
      "\n",
      "Validation Classification report\n",
      "               precision    recall  f1-score   support\n",
      "\n",
      "   entailment       0.52      0.83      0.64      3479\n",
      "      neutral       0.66      0.32      0.43      3123\n",
      "contradiction       0.70      0.59      0.64      3213\n",
      "\n",
      "     accuracy                           0.59      9815\n",
      "    macro avg       0.62      0.58      0.57      9815\n",
      " weighted avg       0.62      0.59      0.57      9815\n",
      "\n",
      "Test Classification report\n",
      "               precision    recall  f1-score   support\n",
      "\n",
      "   entailment       0.52      0.84      0.64      3463\n",
      "      neutral       0.65      0.32      0.43      3129\n",
      "contradiction       0.72      0.59      0.65      3240\n",
      "\n",
      "     accuracy                           0.59      9832\n",
      "    macro avg       0.63      0.59      0.57      9832\n",
      " weighted avg       0.63      0.59      0.58      9832\n",
      "\n",
      "\n",
      "\n",
      "Epoch:  10\n",
      "Training\n"
     ]
    },
    {
     "name": "stderr",
     "output_type": "stream",
     "text": [
      "100%|████████████████████████████████████| 12272/12272 [01:08<00:00, 178.42it/s]\n"
     ]
    },
    {
     "name": "stdout",
     "output_type": "stream",
     "text": [
      "Validation\n"
     ]
    },
    {
     "name": "stderr",
     "output_type": "stream",
     "text": [
      "100%|████████████████████████████████████████| 307/307 [00:01<00:00, 268.43it/s]\n"
     ]
    },
    {
     "name": "stdout",
     "output_type": "stream",
     "text": [
      "Test\n"
     ]
    },
    {
     "name": "stderr",
     "output_type": "stream",
     "text": [
      "100%|████████████████████████████████████████| 308/308 [00:01<00:00, 298.37it/s]\n"
     ]
    },
    {
     "name": "stdout",
     "output_type": "stream",
     "text": [
      "Epoch:  10  Train Loss:  0.8893078930428279 Train Accuracy:  0.5926656854306828\n",
      "Epoch:  10  Val Loss:  0.9396341497424371  Val Accuracy:  0.5375445746306673\n",
      "Epoch:  10 Test Loss:  0.9330330063383301  Test Accuracy:  0.5360048820179008\n",
      "\n",
      "Validation Classification report\n",
      "               precision    recall  f1-score   support\n",
      "\n",
      "   entailment       0.66      0.29      0.40      3479\n",
      "      neutral       0.43      0.79      0.55      3123\n",
      "contradiction       0.72      0.56      0.63      3213\n",
      "\n",
      "     accuracy                           0.54      9815\n",
      "    macro avg       0.60      0.55      0.53      9815\n",
      " weighted avg       0.60      0.54      0.53      9815\n",
      "\n",
      "Test Classification report\n",
      "               precision    recall  f1-score   support\n",
      "\n",
      "   entailment       0.66      0.28      0.39      3463\n",
      "      neutral       0.42      0.80      0.55      3129\n",
      "contradiction       0.74      0.55      0.63      3240\n",
      "\n",
      "     accuracy                           0.54      9832\n",
      "    macro avg       0.61      0.55      0.53      9832\n",
      " weighted avg       0.61      0.54      0.52      9832\n",
      "\n",
      "\n",
      "\n",
      "Epoch:  11\n",
      "Training\n"
     ]
    },
    {
     "name": "stderr",
     "output_type": "stream",
     "text": [
      "100%|████████████████████████████████████| 12272/12272 [01:14<00:00, 165.60it/s]\n"
     ]
    },
    {
     "name": "stdout",
     "output_type": "stream",
     "text": [
      "Validation\n"
     ]
    },
    {
     "name": "stderr",
     "output_type": "stream",
     "text": [
      "100%|████████████████████████████████████████| 307/307 [00:00<00:00, 466.56it/s]\n"
     ]
    },
    {
     "name": "stdout",
     "output_type": "stream",
     "text": [
      "Test\n"
     ]
    },
    {
     "name": "stderr",
     "output_type": "stream",
     "text": [
      "100%|████████████████████████████████████████| 308/308 [00:00<00:00, 458.37it/s]\n"
     ]
    },
    {
     "name": "stdout",
     "output_type": "stream",
     "text": [
      "Epoch:  11  Train Loss:  0.8873752898802542 Train Accuracy:  0.5944533004670208\n",
      "Epoch:  11  Val Loss:  0.9317555231457813  Val Accuracy:  0.5699439633214468\n",
      "Epoch:  11 Test Loss:  0.9140590849247846  Test Accuracy:  0.575772986167616\n",
      "\n",
      "Validation Classification report\n",
      "               precision    recall  f1-score   support\n",
      "\n",
      "   entailment       0.63      0.45      0.53      3479\n",
      "      neutral       0.53      0.55      0.54      3123\n",
      "contradiction       0.57      0.71      0.63      3213\n",
      "\n",
      "     accuracy                           0.57      9815\n",
      "    macro avg       0.58      0.57      0.57      9815\n",
      " weighted avg       0.58      0.57      0.57      9815\n",
      "\n",
      "Test Classification report\n",
      "               precision    recall  f1-score   support\n",
      "\n",
      "   entailment       0.64      0.46      0.53      3463\n",
      "      neutral       0.51      0.56      0.53      3129\n",
      "contradiction       0.59      0.72      0.65      3240\n",
      "\n",
      "     accuracy                           0.58      9832\n",
      "    macro avg       0.58      0.58      0.57      9832\n",
      " weighted avg       0.58      0.58      0.57      9832\n",
      "\n",
      "\n",
      "\n",
      "Epoch:  12\n",
      "Training\n"
     ]
    },
    {
     "name": "stderr",
     "output_type": "stream",
     "text": [
      "100%|████████████████████████████████████| 12272/12272 [01:18<00:00, 156.27it/s]\n"
     ]
    },
    {
     "name": "stdout",
     "output_type": "stream",
     "text": [
      "Validation\n"
     ]
    },
    {
     "name": "stderr",
     "output_type": "stream",
     "text": [
      "100%|████████████████████████████████████████| 307/307 [00:00<00:00, 480.26it/s]\n"
     ]
    },
    {
     "name": "stdout",
     "output_type": "stream",
     "text": [
      "Test\n"
     ]
    },
    {
     "name": "stderr",
     "output_type": "stream",
     "text": [
      "100%|████████████████████████████████████████| 308/308 [00:00<00:00, 449.15it/s]\n"
     ]
    },
    {
     "name": "stdout",
     "output_type": "stream",
     "text": [
      "Epoch:  12  Train Loss:  0.8824080383184097 Train Accuracy:  0.597216209746831\n",
      "Epoch:  12  Val Loss:  0.9406909967866705  Val Accuracy:  0.599490575649516\n",
      "Epoch:  12 Test Loss:  0.9162251749983081  Test Accuracy:  0.6005899104963385\n",
      "\n",
      "Validation Classification report\n",
      "               precision    recall  f1-score   support\n",
      "\n",
      "   entailment       0.55      0.79      0.65      3479\n",
      "      neutral       0.69      0.31      0.43      3123\n",
      "contradiction       0.64      0.67      0.66      3213\n",
      "\n",
      "     accuracy                           0.60      9815\n",
      "    macro avg       0.63      0.59      0.58      9815\n",
      " weighted avg       0.62      0.60      0.58      9815\n",
      "\n",
      "Test Classification report\n",
      "               precision    recall  f1-score   support\n",
      "\n",
      "   entailment       0.54      0.81      0.65      3463\n",
      "      neutral       0.68      0.31      0.42      3129\n",
      "contradiction       0.67      0.66      0.66      3240\n",
      "\n",
      "     accuracy                           0.60      9832\n",
      "    macro avg       0.63      0.59      0.58      9832\n",
      " weighted avg       0.63      0.60      0.58      9832\n",
      "\n",
      "\n",
      "\n",
      "Epoch:  13\n",
      "Training\n"
     ]
    },
    {
     "name": "stderr",
     "output_type": "stream",
     "text": [
      "100%|████████████████████████████████████| 12272/12272 [01:10<00:00, 174.09it/s]\n"
     ]
    },
    {
     "name": "stdout",
     "output_type": "stream",
     "text": [
      "Validation\n"
     ]
    },
    {
     "name": "stderr",
     "output_type": "stream",
     "text": [
      "100%|████████████████████████████████████████| 307/307 [00:01<00:00, 294.09it/s]\n"
     ]
    },
    {
     "name": "stdout",
     "output_type": "stream",
     "text": [
      "Test\n"
     ]
    },
    {
     "name": "stderr",
     "output_type": "stream",
     "text": [
      "100%|████████████████████████████████████████| 308/308 [00:00<00:00, 424.58it/s]\n"
     ]
    },
    {
     "name": "stdout",
     "output_type": "stream",
     "text": [
      "Epoch:  13  Train Loss:  0.8796656166447382 Train Accuracy:  0.5990343823051576\n",
      "Epoch:  13  Val Loss:  0.9189552534674977  Val Accuracy:  0.5865511971472236\n",
      "Epoch:  13 Test Loss:  0.8977151189918642  Test Accuracy:  0.5975386493083807\n",
      "\n",
      "Validation Classification report\n",
      "               precision    recall  f1-score   support\n",
      "\n",
      "   entailment       0.60      0.61      0.60      3479\n",
      "      neutral       0.59      0.41      0.48      3123\n",
      "contradiction       0.57      0.74      0.64      3213\n",
      "\n",
      "     accuracy                           0.59      9815\n",
      "    macro avg       0.59      0.58      0.58      9815\n",
      " weighted avg       0.59      0.59      0.58      9815\n",
      "\n",
      "Test Classification report\n",
      "               precision    recall  f1-score   support\n",
      "\n",
      "   entailment       0.60      0.64      0.62      3463\n",
      "      neutral       0.59      0.40      0.48      3129\n",
      "contradiction       0.60      0.74      0.66      3240\n",
      "\n",
      "     accuracy                           0.60      9832\n",
      "    macro avg       0.60      0.59      0.59      9832\n",
      " weighted avg       0.60      0.60      0.59      9832\n",
      "\n",
      "\n",
      "\n",
      "Epoch:  14\n",
      "Training\n"
     ]
    },
    {
     "name": "stderr",
     "output_type": "stream",
     "text": [
      "100%|████████████████████████████████████| 12272/12272 [01:18<00:00, 155.85it/s]\n"
     ]
    },
    {
     "name": "stdout",
     "output_type": "stream",
     "text": [
      "Validation\n"
     ]
    },
    {
     "name": "stderr",
     "output_type": "stream",
     "text": [
      "100%|████████████████████████████████████████| 307/307 [00:00<00:00, 327.50it/s]\n"
     ]
    },
    {
     "name": "stdout",
     "output_type": "stream",
     "text": [
      "Test\n"
     ]
    },
    {
     "name": "stderr",
     "output_type": "stream",
     "text": [
      "100%|████████████████████████████████████████| 308/308 [00:00<00:00, 367.97it/s]\n"
     ]
    },
    {
     "name": "stdout",
     "output_type": "stream",
     "text": [
      "Epoch:  14  Train Loss:  0.8754686147673966 Train Accuracy:  0.6021105061853518\n",
      "Epoch:  14  Val Loss:  0.9147572426143609  Val Accuracy:  0.5967396841569027\n",
      "Epoch:  14 Test Loss:  0.8943829583850774  Test Accuracy:  0.6079129373474369\n",
      "\n",
      "Validation Classification report\n",
      "               precision    recall  f1-score   support\n",
      "\n",
      "   entailment       0.55      0.77      0.64      3479\n",
      "      neutral       0.67      0.32      0.43      3123\n",
      "contradiction       0.62      0.68      0.65      3213\n",
      "\n",
      "     accuracy                           0.60      9815\n",
      "    macro avg       0.61      0.59      0.58      9815\n",
      " weighted avg       0.61      0.60      0.58      9815\n",
      "\n",
      "Test Classification report\n",
      "               precision    recall  f1-score   support\n",
      "\n",
      "   entailment       0.56      0.79      0.66      3463\n",
      "      neutral       0.67      0.33      0.44      3129\n",
      "contradiction       0.65      0.68      0.66      3240\n",
      "\n",
      "     accuracy                           0.61      9832\n",
      "    macro avg       0.63      0.60      0.59      9832\n",
      " weighted avg       0.62      0.61      0.59      9832\n",
      "\n",
      "\n",
      "\n",
      "Epoch:  15\n",
      "Training\n"
     ]
    },
    {
     "name": "stderr",
     "output_type": "stream",
     "text": [
      "100%|████████████████████████████████████| 12272/12272 [01:18<00:00, 156.29it/s]\n"
     ]
    },
    {
     "name": "stdout",
     "output_type": "stream",
     "text": [
      "Validation\n"
     ]
    },
    {
     "name": "stderr",
     "output_type": "stream",
     "text": [
      "100%|████████████████████████████████████████| 307/307 [00:00<00:00, 462.10it/s]\n"
     ]
    },
    {
     "name": "stdout",
     "output_type": "stream",
     "text": [
      "Test\n"
     ]
    },
    {
     "name": "stderr",
     "output_type": "stream",
     "text": [
      "100%|████████████████████████████████████████| 308/308 [00:00<00:00, 459.93it/s]\n"
     ]
    },
    {
     "name": "stdout",
     "output_type": "stream",
     "text": [
      "Epoch:  15  Train Loss:  0.8761703544059547 Train Accuracy:  0.6023320482197697\n",
      "Epoch:  15  Val Loss:  0.8832220095376627  Val Accuracy:  0.6050942435048395\n",
      "Epoch:  15 Test Loss:  0.8764262739327047  Test Accuracy:  0.6070992676973149\n",
      "\n",
      "Validation Classification report\n",
      "               precision    recall  f1-score   support\n",
      "\n",
      "   entailment       0.56      0.76      0.65      3479\n",
      "      neutral       0.64      0.38      0.47      3123\n",
      "contradiction       0.65      0.66      0.65      3213\n",
      "\n",
      "     accuracy                           0.61      9815\n",
      "    macro avg       0.62      0.60      0.59      9815\n",
      " weighted avg       0.62      0.61      0.59      9815\n",
      "\n",
      "Test Classification report\n",
      "               precision    recall  f1-score   support\n",
      "\n",
      "   entailment       0.55      0.77      0.65      3463\n",
      "      neutral       0.63      0.38      0.48      3129\n",
      "contradiction       0.68      0.65      0.66      3240\n",
      "\n",
      "     accuracy                           0.61      9832\n",
      "    macro avg       0.62      0.60      0.59      9832\n",
      " weighted avg       0.62      0.61      0.60      9832\n",
      "\n",
      "\n",
      "\n",
      "Epoch:  16\n",
      "Training\n"
     ]
    },
    {
     "name": "stderr",
     "output_type": "stream",
     "text": [
      "100%|████████████████████████████████████| 12272/12272 [01:12<00:00, 169.60it/s]\n"
     ]
    },
    {
     "name": "stdout",
     "output_type": "stream",
     "text": [
      "Validation\n"
     ]
    },
    {
     "name": "stderr",
     "output_type": "stream",
     "text": [
      "100%|████████████████████████████████████████| 307/307 [00:00<00:00, 351.69it/s]\n"
     ]
    },
    {
     "name": "stdout",
     "output_type": "stream",
     "text": [
      "Test\n"
     ]
    },
    {
     "name": "stderr",
     "output_type": "stream",
     "text": [
      "100%|████████████████████████████████████████| 308/308 [00:00<00:00, 347.57it/s]\n"
     ]
    },
    {
     "name": "stdout",
     "output_type": "stream",
     "text": [
      "Epoch:  16  Train Loss:  0.8723976217875696 Train Accuracy:  0.6040127119291473\n",
      "Epoch:  16  Val Loss:  0.8776708390891358  Val Accuracy:  0.6057055527254203\n",
      "Epoch:  16 Test Loss:  0.8719387418263919  Test Accuracy:  0.6075061025223759\n",
      "\n",
      "Validation Classification report\n",
      "               precision    recall  f1-score   support\n",
      "\n",
      "   entailment       0.55      0.79      0.65      3479\n",
      "      neutral       0.61      0.41      0.49      3123\n",
      "contradiction       0.71      0.59      0.65      3213\n",
      "\n",
      "     accuracy                           0.61      9815\n",
      "    macro avg       0.62      0.60      0.60      9815\n",
      " weighted avg       0.62      0.61      0.60      9815\n",
      "\n",
      "Test Classification report\n",
      "               precision    recall  f1-score   support\n",
      "\n",
      "   entailment       0.54      0.80      0.65      3463\n",
      "      neutral       0.61      0.40      0.48      3129\n",
      "contradiction       0.74      0.60      0.66      3240\n",
      "\n",
      "     accuracy                           0.61      9832\n",
      "    macro avg       0.63      0.60      0.60      9832\n",
      " weighted avg       0.63      0.61      0.60      9832\n",
      "\n",
      "\n",
      "\n",
      "Epoch:  17\n",
      "Training\n"
     ]
    },
    {
     "name": "stderr",
     "output_type": "stream",
     "text": [
      "100%|████████████████████████████████████| 12272/12272 [01:12<00:00, 168.78it/s]\n"
     ]
    },
    {
     "name": "stdout",
     "output_type": "stream",
     "text": [
      "Validation\n"
     ]
    },
    {
     "name": "stderr",
     "output_type": "stream",
     "text": [
      "100%|████████████████████████████████████████| 307/307 [00:00<00:00, 407.00it/s]\n"
     ]
    },
    {
     "name": "stdout",
     "output_type": "stream",
     "text": [
      "Test\n"
     ]
    },
    {
     "name": "stderr",
     "output_type": "stream",
     "text": [
      "100%|████████████████████████████████████████| 308/308 [00:00<00:00, 429.87it/s]\n"
     ]
    },
    {
     "name": "stdout",
     "output_type": "stream",
     "text": [
      "Epoch:  17  Train Loss:  0.8713184230301573 Train Accuracy:  0.6040763734332903\n",
      "Epoch:  17  Val Loss:  0.8806752997423228  Val Accuracy:  0.6107997962302598\n",
      "Epoch:  17 Test Loss:  0.8674070304864413  Test Accuracy:  0.6113710333604556\n",
      "\n",
      "Validation Classification report\n",
      "               precision    recall  f1-score   support\n",
      "\n",
      "   entailment       0.56      0.78      0.65      3479\n",
      "      neutral       0.63      0.41      0.50      3123\n",
      "contradiction       0.68      0.62      0.65      3213\n",
      "\n",
      "     accuracy                           0.61      9815\n",
      "    macro avg       0.62      0.60      0.60      9815\n",
      " weighted avg       0.62      0.61      0.60      9815\n",
      "\n",
      "Test Classification report\n",
      "               precision    recall  f1-score   support\n",
      "\n",
      "   entailment       0.55      0.79      0.65      3463\n",
      "      neutral       0.63      0.40      0.49      3129\n",
      "contradiction       0.71      0.63      0.66      3240\n",
      "\n",
      "     accuracy                           0.61      9832\n",
      "    macro avg       0.63      0.60      0.60      9832\n",
      " weighted avg       0.63      0.61      0.60      9832\n",
      "\n",
      "\n",
      "\n",
      "Epoch:  18\n",
      "Training\n"
     ]
    },
    {
     "name": "stderr",
     "output_type": "stream",
     "text": [
      "100%|████████████████████████████████████| 12272/12272 [01:10<00:00, 174.49it/s]\n"
     ]
    },
    {
     "name": "stdout",
     "output_type": "stream",
     "text": [
      "Validation\n"
     ]
    },
    {
     "name": "stderr",
     "output_type": "stream",
     "text": [
      "100%|████████████████████████████████████████| 307/307 [00:01<00:00, 277.16it/s]\n"
     ]
    },
    {
     "name": "stdout",
     "output_type": "stream",
     "text": [
      "Test\n"
     ]
    },
    {
     "name": "stderr",
     "output_type": "stream",
     "text": [
      "100%|████████████████████████████████████████| 308/308 [00:00<00:00, 495.39it/s]\n"
     ]
    },
    {
     "name": "stdout",
     "output_type": "stream",
     "text": [
      "Epoch:  18  Train Loss:  0.8712509759304732 Train Accuracy:  0.6055940636920617\n",
      "Epoch:  18  Val Loss:  0.9082037796803328  Val Accuracy:  0.5753438614365767\n",
      "Epoch:  18 Test Loss:  0.8911697581990973  Test Accuracy:  0.5795362082994304\n",
      "\n",
      "Validation Classification report\n",
      "               precision    recall  f1-score   support\n",
      "\n",
      "   entailment       0.64      0.47      0.54      3479\n",
      "      neutral       0.51      0.57      0.54      3123\n",
      "contradiction       0.60      0.69      0.64      3213\n",
      "\n",
      "     accuracy                           0.58      9815\n",
      "    macro avg       0.58      0.58      0.57      9815\n",
      " weighted avg       0.58      0.58      0.57      9815\n",
      "\n",
      "Test Classification report\n",
      "               precision    recall  f1-score   support\n",
      "\n",
      "   entailment       0.62      0.46      0.53      3463\n",
      "      neutral       0.50      0.59      0.54      3129\n",
      "contradiction       0.63      0.70      0.66      3240\n",
      "\n",
      "     accuracy                           0.58      9832\n",
      "    macro avg       0.58      0.58      0.58      9832\n",
      " weighted avg       0.59      0.58      0.58      9832\n",
      "\n",
      "\n",
      "\n",
      "Epoch:  19\n",
      "Training\n"
     ]
    },
    {
     "name": "stderr",
     "output_type": "stream",
     "text": [
      "100%|████████████████████████████████████| 12272/12272 [01:07<00:00, 182.03it/s]\n"
     ]
    },
    {
     "name": "stdout",
     "output_type": "stream",
     "text": [
      "Validation\n"
     ]
    },
    {
     "name": "stderr",
     "output_type": "stream",
     "text": [
      "100%|████████████████████████████████████████| 307/307 [00:01<00:00, 157.81it/s]\n"
     ]
    },
    {
     "name": "stdout",
     "output_type": "stream",
     "text": [
      "Test\n"
     ]
    },
    {
     "name": "stderr",
     "output_type": "stream",
     "text": [
      "100%|████████████████████████████████████████| 308/308 [00:00<00:00, 449.24it/s]\n"
     ]
    },
    {
     "name": "stdout",
     "output_type": "stream",
     "text": [
      "Epoch:  19  Train Loss:  0.868676036246597 Train Accuracy:  0.6070633712076842\n",
      "Epoch:  19  Val Loss:  0.9429933147244034  Val Accuracy:  0.5622007131940907\n",
      "Epoch:  19 Test Loss:  0.9353368978995782  Test Accuracy:  0.5547192839707079\n",
      "\n",
      "Validation Classification report\n",
      "               precision    recall  f1-score   support\n",
      "\n",
      "   entailment       0.65      0.40      0.50      3479\n",
      "      neutral       0.45      0.76      0.56      3123\n",
      "contradiction       0.74      0.55      0.63      3213\n",
      "\n",
      "     accuracy                           0.56      9815\n",
      "    macro avg       0.61      0.57      0.56      9815\n",
      " weighted avg       0.62      0.56      0.56      9815\n",
      "\n",
      "Test Classification report\n",
      "               precision    recall  f1-score   support\n",
      "\n",
      "   entailment       0.64      0.37      0.47      3463\n",
      "      neutral       0.44      0.77      0.56      3129\n",
      "contradiction       0.76      0.54      0.63      3240\n",
      "\n",
      "     accuracy                           0.55      9832\n",
      "    macro avg       0.61      0.56      0.55      9832\n",
      " weighted avg       0.62      0.55      0.55      9832\n",
      "\n",
      "\n",
      "\n",
      "Epoch:  20\n",
      "Training\n"
     ]
    },
    {
     "name": "stderr",
     "output_type": "stream",
     "text": [
      "100%|████████████████████████████████████| 12272/12272 [01:11<00:00, 172.14it/s]\n"
     ]
    },
    {
     "name": "stdout",
     "output_type": "stream",
     "text": [
      "Validation\n"
     ]
    },
    {
     "name": "stderr",
     "output_type": "stream",
     "text": [
      "100%|████████████████████████████████████████| 307/307 [00:01<00:00, 276.30it/s]\n"
     ]
    },
    {
     "name": "stdout",
     "output_type": "stream",
     "text": [
      "Test\n"
     ]
    },
    {
     "name": "stderr",
     "output_type": "stream",
     "text": [
      "100%|████████████████████████████████████████| 308/308 [00:01<00:00, 301.73it/s]\n"
     ]
    },
    {
     "name": "stdout",
     "output_type": "stream",
     "text": [
      "Epoch:  20  Train Loss:  0.8663002040062338 Train Accuracy:  0.6082703933262372\n",
      "Epoch:  20  Val Loss:  0.8783093275387046  Val Accuracy:  0.6052980132450331\n",
      "Epoch:  20 Test Loss:  0.8581834278710476  Test Accuracy:  0.6079129373474369\n",
      "\n",
      "Validation Classification report\n",
      "               precision    recall  f1-score   support\n",
      "\n",
      "   entailment       0.61      0.62      0.61      3479\n",
      "      neutral       0.57      0.54      0.55      3123\n",
      "contradiction       0.64      0.66      0.65      3213\n",
      "\n",
      "     accuracy                           0.61      9815\n",
      "    macro avg       0.60      0.60      0.60      9815\n",
      " weighted avg       0.60      0.61      0.60      9815\n",
      "\n",
      "Test Classification report\n",
      "               precision    recall  f1-score   support\n",
      "\n",
      "   entailment       0.61      0.64      0.62      3463\n",
      "      neutral       0.55      0.53      0.54      3129\n",
      "contradiction       0.67      0.65      0.66      3240\n",
      "\n",
      "     accuracy                           0.61      9832\n",
      "    macro avg       0.61      0.61      0.61      9832\n",
      " weighted avg       0.61      0.61      0.61      9832\n",
      "\n",
      "\n",
      "\n",
      "Epoch:  21\n",
      "Training\n"
     ]
    },
    {
     "name": "stderr",
     "output_type": "stream",
     "text": [
      "100%|████████████████████████████████████| 12272/12272 [01:06<00:00, 184.88it/s]\n"
     ]
    },
    {
     "name": "stdout",
     "output_type": "stream",
     "text": [
      "Validation\n"
     ]
    },
    {
     "name": "stderr",
     "output_type": "stream",
     "text": [
      "100%|████████████████████████████████████████| 307/307 [00:00<00:00, 466.13it/s]\n"
     ]
    },
    {
     "name": "stdout",
     "output_type": "stream",
     "text": [
      "Test\n"
     ]
    },
    {
     "name": "stderr",
     "output_type": "stream",
     "text": [
      "100%|████████████████████████████████████████| 308/308 [00:00<00:00, 459.25it/s]\n"
     ]
    },
    {
     "name": "stdout",
     "output_type": "stream",
     "text": [
      "Epoch:  21  Train Loss:  0.8647528190719452 Train Accuracy:  0.6094264862414758\n",
      "Epoch:  21  Val Loss:  1.010086209940988  Val Accuracy:  0.5620988283239939\n",
      "Epoch:  21 Test Loss:  1.0332269434417998  Test Accuracy:  0.5574654190398698\n",
      "\n",
      "Validation Classification report\n",
      "               precision    recall  f1-score   support\n",
      "\n",
      "   entailment       0.49      0.90      0.64      3479\n",
      "      neutral       0.57      0.40      0.47      3123\n",
      "contradiction       0.87      0.36      0.50      3213\n",
      "\n",
      "     accuracy                           0.56      9815\n",
      "    macro avg       0.65      0.55      0.54      9815\n",
      " weighted avg       0.64      0.56      0.54      9815\n",
      "\n",
      "Test Classification report\n",
      "               precision    recall  f1-score   support\n",
      "\n",
      "   entailment       0.49      0.90      0.64      3463\n",
      "      neutral       0.55      0.40      0.46      3129\n",
      "contradiction       0.90      0.35      0.50      3240\n",
      "\n",
      "     accuracy                           0.56      9832\n",
      "    macro avg       0.65      0.55      0.53      9832\n",
      " weighted avg       0.65      0.56      0.54      9832\n",
      "\n",
      "\n",
      "\n",
      "Epoch:  22\n",
      "Training\n"
     ]
    },
    {
     "name": "stderr",
     "output_type": "stream",
     "text": [
      "100%|████████████████████████████████████| 12272/12272 [01:06<00:00, 185.63it/s]\n"
     ]
    },
    {
     "name": "stdout",
     "output_type": "stream",
     "text": [
      "Validation\n"
     ]
    },
    {
     "name": "stderr",
     "output_type": "stream",
     "text": [
      "100%|████████████████████████████████████████| 307/307 [00:00<00:00, 484.56it/s]\n"
     ]
    },
    {
     "name": "stdout",
     "output_type": "stream",
     "text": [
      "Test\n"
     ]
    },
    {
     "name": "stderr",
     "output_type": "stream",
     "text": [
      "100%|████████████████████████████████████████| 308/308 [00:00<00:00, 452.00it/s]\n"
     ]
    },
    {
     "name": "stdout",
     "output_type": "stream",
     "text": [
      "Epoch:  22  Train Loss:  0.8642010579742928 Train Accuracy:  0.6098542915493173\n",
      "Epoch:  22  Val Loss:  0.8889391292189931  Val Accuracy:  0.601935812531839\n",
      "Epoch:  22 Test Loss:  0.8725722530832538  Test Accuracy:  0.6022172497965825\n",
      "\n",
      "Validation Classification report\n",
      "               precision    recall  f1-score   support\n",
      "\n",
      "   entailment       0.62      0.57      0.59      3479\n",
      "      neutral       0.52      0.61      0.56      3123\n",
      "contradiction       0.67      0.64      0.66      3213\n",
      "\n",
      "     accuracy                           0.60      9815\n",
      "    macro avg       0.61      0.60      0.60      9815\n",
      " weighted avg       0.61      0.60      0.60      9815\n",
      "\n",
      "Test Classification report\n",
      "               precision    recall  f1-score   support\n",
      "\n",
      "   entailment       0.62      0.57      0.59      3463\n",
      "      neutral       0.51      0.61      0.56      3129\n",
      "contradiction       0.70      0.63      0.66      3240\n",
      "\n",
      "     accuracy                           0.60      9832\n",
      "    macro avg       0.61      0.60      0.60      9832\n",
      " weighted avg       0.61      0.60      0.60      9832\n",
      "\n",
      "\n",
      "\n",
      "Epoch:  23\n",
      "Training\n"
     ]
    },
    {
     "name": "stderr",
     "output_type": "stream",
     "text": [
      "100%|████████████████████████████████████| 12272/12272 [01:09<00:00, 177.43it/s]\n"
     ]
    },
    {
     "name": "stdout",
     "output_type": "stream",
     "text": [
      "Validation\n"
     ]
    },
    {
     "name": "stderr",
     "output_type": "stream",
     "text": [
      "100%|████████████████████████████████████████| 307/307 [00:00<00:00, 459.60it/s]\n"
     ]
    },
    {
     "name": "stdout",
     "output_type": "stream",
     "text": [
      "Test\n"
     ]
    },
    {
     "name": "stderr",
     "output_type": "stream",
     "text": [
      "100%|████████████████████████████████████████| 308/308 [00:00<00:00, 457.84it/s]\n"
     ]
    },
    {
     "name": "stdout",
     "output_type": "stream",
     "text": [
      "Epoch:  23  Train Loss:  0.861685373974573 Train Accuracy:  0.6116393601254896\n",
      "Epoch:  23  Val Loss:  0.8856899965469535  Val Accuracy:  0.6066225165562914\n",
      "Epoch:  23 Test Loss:  0.8746532581069253  Test Accuracy:  0.6068958502847844\n",
      "\n",
      "Validation Classification report\n",
      "               precision    recall  f1-score   support\n",
      "\n",
      "   entailment       0.55      0.77      0.65      3479\n",
      "      neutral       0.61      0.41      0.49      3123\n",
      "contradiction       0.69      0.62      0.65      3213\n",
      "\n",
      "     accuracy                           0.61      9815\n",
      "    macro avg       0.62      0.60      0.60      9815\n",
      " weighted avg       0.62      0.61      0.60      9815\n",
      "\n",
      "Test Classification report\n",
      "               precision    recall  f1-score   support\n",
      "\n",
      "   entailment       0.55      0.80      0.65      3463\n",
      "      neutral       0.60      0.38      0.47      3129\n",
      "contradiction       0.71      0.62      0.66      3240\n",
      "\n",
      "     accuracy                           0.61      9832\n",
      "    macro avg       0.62      0.60      0.59      9832\n",
      " weighted avg       0.62      0.61      0.60      9832\n",
      "\n",
      "\n",
      "\n",
      "Epoch:  24\n",
      "Training\n"
     ]
    },
    {
     "name": "stderr",
     "output_type": "stream",
     "text": [
      "100%|████████████████████████████████████| 12272/12272 [01:11<00:00, 171.61it/s]\n"
     ]
    },
    {
     "name": "stdout",
     "output_type": "stream",
     "text": [
      "Validation\n"
     ]
    },
    {
     "name": "stderr",
     "output_type": "stream",
     "text": [
      "100%|████████████████████████████████████████| 307/307 [00:01<00:00, 278.99it/s]\n"
     ]
    },
    {
     "name": "stdout",
     "output_type": "stream",
     "text": [
      "Test\n"
     ]
    },
    {
     "name": "stderr",
     "output_type": "stream",
     "text": [
      "100%|████████████████████████████████████████| 308/308 [00:01<00:00, 292.50it/s]\n"
     ]
    },
    {
     "name": "stdout",
     "output_type": "stream",
     "text": [
      "Epoch:  24  Train Loss:  0.8621818065385891 Train Accuracy:  0.610170052609867\n",
      "Epoch:  24  Val Loss:  0.9633699321591505  Val Accuracy:  0.5660723382577687\n",
      "Epoch:  24 Test Loss:  0.942217127262772  Test Accuracy:  0.5687550854353133\n",
      "\n",
      "Validation Classification report\n",
      "               precision    recall  f1-score   support\n",
      "\n",
      "   entailment       0.62      0.57      0.59      3479\n",
      "      neutral       0.65      0.32      0.43      3123\n",
      "contradiction       0.51      0.80      0.62      3213\n",
      "\n",
      "     accuracy                           0.57      9815\n",
      "    macro avg       0.59      0.56      0.55      9815\n",
      " weighted avg       0.59      0.57      0.55      9815\n",
      "\n",
      "Test Classification report\n",
      "               precision    recall  f1-score   support\n",
      "\n",
      "   entailment       0.61      0.58      0.60      3463\n",
      "      neutral       0.64      0.30      0.41      3129\n",
      "contradiction       0.52      0.81      0.63      3240\n",
      "\n",
      "     accuracy                           0.57      9832\n",
      "    macro avg       0.59      0.57      0.55      9832\n",
      " weighted avg       0.59      0.57      0.55      9832\n",
      "\n",
      "\n",
      "\n",
      "Epoch:  25\n",
      "Training\n"
     ]
    },
    {
     "name": "stderr",
     "output_type": "stream",
     "text": [
      "100%|████████████████████████████████████| 12272/12272 [01:10<00:00, 173.59it/s]\n"
     ]
    },
    {
     "name": "stdout",
     "output_type": "stream",
     "text": [
      "Validation\n"
     ]
    },
    {
     "name": "stderr",
     "output_type": "stream",
     "text": [
      "100%|████████████████████████████████████████| 307/307 [00:01<00:00, 280.04it/s]\n"
     ]
    },
    {
     "name": "stdout",
     "output_type": "stream",
     "text": [
      "Test\n"
     ]
    },
    {
     "name": "stderr",
     "output_type": "stream",
     "text": [
      "100%|████████████████████████████████████████| 308/308 [00:00<00:00, 384.59it/s]\n"
     ]
    },
    {
     "name": "stdout",
     "output_type": "stream",
     "text": [
      "Epoch:  25  Train Loss:  0.8608515489278203 Train Accuracy:  0.6103661300426277\n",
      "Epoch:  25  Val Loss:  0.9471624961505107  Val Accuracy:  0.574223127865512\n",
      "Epoch:  25 Test Loss:  0.9267593887332198  Test Accuracy:  0.5768917819365338\n",
      "\n",
      "Validation Classification report\n",
      "               precision    recall  f1-score   support\n",
      "\n",
      "   entailment       0.59      0.66      0.62      3479\n",
      "      neutral       0.67      0.28      0.39      3123\n",
      "contradiction       0.54      0.77      0.63      3213\n",
      "\n",
      "     accuracy                           0.57      9815\n",
      "    macro avg       0.60      0.57      0.55      9815\n",
      " weighted avg       0.60      0.57      0.55      9815\n",
      "\n",
      "Test Classification report\n",
      "               precision    recall  f1-score   support\n",
      "\n",
      "   entailment       0.58      0.68      0.63      3463\n",
      "      neutral       0.65      0.27      0.38      3129\n",
      "contradiction       0.55      0.76      0.64      3240\n",
      "\n",
      "     accuracy                           0.58      9832\n",
      "    macro avg       0.59      0.57      0.55      9832\n",
      " weighted avg       0.59      0.58      0.55      9832\n",
      "\n",
      "\n",
      "\n",
      "Epoch:  26\n",
      "Training\n"
     ]
    },
    {
     "name": "stderr",
     "output_type": "stream",
     "text": [
      "100%|████████████████████████████████████| 12272/12272 [01:08<00:00, 179.85it/s]\n"
     ]
    },
    {
     "name": "stdout",
     "output_type": "stream",
     "text": [
      "Validation\n"
     ]
    },
    {
     "name": "stderr",
     "output_type": "stream",
     "text": [
      "100%|████████████████████████████████████████| 307/307 [00:00<00:00, 325.34it/s]\n"
     ]
    },
    {
     "name": "stdout",
     "output_type": "stream",
     "text": [
      "Test\n"
     ]
    },
    {
     "name": "stderr",
     "output_type": "stream",
     "text": [
      "100%|████████████████████████████████████████| 308/308 [00:00<00:00, 336.05it/s]\n"
     ]
    },
    {
     "name": "stdout",
     "output_type": "stream",
     "text": [
      "Epoch:  26  Train Loss:  0.8615216623185472 Train Accuracy:  0.611598616762838\n",
      "Epoch:  26  Val Loss:  0.9548149590383523  Val Accuracy:  0.5468160978094753\n",
      "Epoch:  26 Test Loss:  0.9365113932978023  Test Accuracy:  0.5458706265256306\n",
      "\n",
      "Validation Classification report\n",
      "               precision    recall  f1-score   support\n",
      "\n",
      "   entailment       0.66      0.28      0.40      3479\n",
      "      neutral       0.45      0.72      0.56      3123\n",
      "contradiction       0.63      0.66      0.65      3213\n",
      "\n",
      "     accuracy                           0.55      9815\n",
      "    macro avg       0.58      0.56      0.53      9815\n",
      " weighted avg       0.58      0.55      0.53      9815\n",
      "\n",
      "Test Classification report\n",
      "               precision    recall  f1-score   support\n",
      "\n",
      "   entailment       0.67      0.27      0.39      3463\n",
      "      neutral       0.44      0.73      0.55      3129\n",
      "contradiction       0.65      0.66      0.66      3240\n",
      "\n",
      "     accuracy                           0.55      9832\n",
      "    macro avg       0.59      0.55      0.53      9832\n",
      " weighted avg       0.59      0.55      0.53      9832\n",
      "\n",
      "\n",
      "\n",
      "Epoch:  27\n",
      "Training\n"
     ]
    },
    {
     "name": "stderr",
     "output_type": "stream",
     "text": [
      "100%|████████████████████████████████████| 12272/12272 [01:08<00:00, 179.93it/s]\n"
     ]
    },
    {
     "name": "stdout",
     "output_type": "stream",
     "text": [
      "Validation\n"
     ]
    },
    {
     "name": "stderr",
     "output_type": "stream",
     "text": [
      "100%|████████████████████████████████████████| 307/307 [00:00<00:00, 489.32it/s]\n"
     ]
    },
    {
     "name": "stdout",
     "output_type": "stream",
     "text": [
      "Test\n"
     ]
    },
    {
     "name": "stderr",
     "output_type": "stream",
     "text": [
      "100%|████████████████████████████████████████| 308/308 [00:00<00:00, 458.91it/s]\n"
     ]
    },
    {
     "name": "stdout",
     "output_type": "stream",
     "text": [
      "Epoch:  27  Train Loss:  0.8578566845598712 Train Accuracy:  0.6134804508253078\n",
      "Epoch:  27  Val Loss:  0.9790344044129312  Val Accuracy:  0.5323484462557311\n",
      "Epoch:  27 Test Loss:  0.972311552662354  Test Accuracy:  0.5270545158665582\n",
      "\n",
      "Validation Classification report\n",
      "               precision    recall  f1-score   support\n",
      "\n",
      "   entailment       0.71      0.25      0.37      3479\n",
      "      neutral       0.43      0.80      0.56      3123\n",
      "contradiction       0.68      0.58      0.63      3213\n",
      "\n",
      "     accuracy                           0.53      9815\n",
      "    macro avg       0.61      0.54      0.52      9815\n",
      " weighted avg       0.61      0.53      0.51      9815\n",
      "\n",
      "Test Classification report\n",
      "               precision    recall  f1-score   support\n",
      "\n",
      "   entailment       0.68      0.24      0.36      3463\n",
      "      neutral       0.42      0.81      0.55      3129\n",
      "contradiction       0.71      0.56      0.63      3240\n",
      "\n",
      "     accuracy                           0.53      9832\n",
      "    macro avg       0.60      0.54      0.51      9832\n",
      " weighted avg       0.61      0.53      0.51      9832\n",
      "\n",
      "\n",
      "\n",
      "Epoch:  28\n",
      "Training\n"
     ]
    },
    {
     "name": "stderr",
     "output_type": "stream",
     "text": [
      "100%|████████████████████████████████████| 12272/12272 [01:07<00:00, 181.97it/s]\n"
     ]
    },
    {
     "name": "stdout",
     "output_type": "stream",
     "text": [
      "Validation\n"
     ]
    },
    {
     "name": "stderr",
     "output_type": "stream",
     "text": [
      "100%|████████████████████████████████████████| 307/307 [00:00<00:00, 381.59it/s]\n"
     ]
    },
    {
     "name": "stdout",
     "output_type": "stream",
     "text": [
      "Test\n"
     ]
    },
    {
     "name": "stderr",
     "output_type": "stream",
     "text": [
      "100%|████████████████████████████████████████| 308/308 [00:00<00:00, 406.40it/s]\n"
     ]
    },
    {
     "name": "stdout",
     "output_type": "stream",
     "text": [
      "Epoch:  28  Train Loss:  0.858389700084167 Train Accuracy:  0.6132538158705584\n",
      "Epoch:  28  Val Loss:  0.9650114953323762  Val Accuracy:  0.5681100356597045\n",
      "Epoch:  28 Test Loss:  0.9503468155086815  Test Accuracy:  0.5751627339300244\n",
      "\n",
      "Validation Classification report\n",
      "               precision    recall  f1-score   support\n",
      "\n",
      "   entailment       0.61      0.56      0.58      3479\n",
      "      neutral       0.69      0.33      0.45      3123\n",
      "contradiction       0.51      0.81      0.62      3213\n",
      "\n",
      "     accuracy                           0.57      9815\n",
      "    macro avg       0.60      0.57      0.55      9815\n",
      " weighted avg       0.60      0.57      0.55      9815\n",
      "\n",
      "Test Classification report\n",
      "               precision    recall  f1-score   support\n",
      "\n",
      "   entailment       0.61      0.57      0.59      3463\n",
      "      neutral       0.67      0.34      0.45      3129\n",
      "contradiction       0.52      0.80      0.63      3240\n",
      "\n",
      "     accuracy                           0.58      9832\n",
      "    macro avg       0.60      0.57      0.56      9832\n",
      " weighted avg       0.60      0.58      0.56      9832\n",
      "\n",
      "\n",
      "\n",
      "Epoch:  29\n",
      "Training\n"
     ]
    },
    {
     "name": "stderr",
     "output_type": "stream",
     "text": [
      "100%|████████████████████████████████████| 12272/12272 [01:10<00:00, 174.22it/s]\n"
     ]
    },
    {
     "name": "stdout",
     "output_type": "stream",
     "text": [
      "Validation\n"
     ]
    },
    {
     "name": "stderr",
     "output_type": "stream",
     "text": [
      "100%|████████████████████████████████████████| 307/307 [00:00<00:00, 358.07it/s]\n"
     ]
    },
    {
     "name": "stdout",
     "output_type": "stream",
     "text": [
      "Test\n"
     ]
    },
    {
     "name": "stderr",
     "output_type": "stream",
     "text": [
      "100%|████████████████████████████████████████| 308/308 [00:00<00:00, 463.02it/s]\n"
     ]
    },
    {
     "name": "stdout",
     "output_type": "stream",
     "text": [
      "Epoch:  29  Train Loss:  0.8557937037772857 Train Accuracy:  0.6152451477201543\n",
      "Epoch:  29  Val Loss:  0.9315669295842174  Val Accuracy:  0.5732042791645441\n",
      "Epoch:  29 Test Loss:  0.9240148348080648  Test Accuracy:  0.5763832384052074\n",
      "\n",
      "Validation Classification report\n",
      "               precision    recall  f1-score   support\n",
      "\n",
      "   entailment       0.66      0.41      0.51      3479\n",
      "      neutral       0.48      0.71      0.57      3123\n",
      "contradiction       0.65      0.62      0.63      3213\n",
      "\n",
      "     accuracy                           0.57      9815\n",
      "    macro avg       0.60      0.58      0.57      9815\n",
      " weighted avg       0.60      0.57      0.57      9815\n",
      "\n",
      "Test Classification report\n",
      "               precision    recall  f1-score   support\n",
      "\n",
      "   entailment       0.66      0.42      0.51      3463\n",
      "      neutral       0.47      0.71      0.57      3129\n",
      "contradiction       0.68      0.61      0.64      3240\n",
      "\n",
      "     accuracy                           0.58      9832\n",
      "    macro avg       0.60      0.58      0.58      9832\n",
      " weighted avg       0.61      0.58      0.57      9832\n",
      "\n",
      "\n",
      "\n",
      "Epoch:  30\n",
      "Training\n"
     ]
    },
    {
     "name": "stderr",
     "output_type": "stream",
     "text": [
      "100%|████████████████████████████████████| 12272/12272 [01:11<00:00, 171.82it/s]\n"
     ]
    },
    {
     "name": "stdout",
     "output_type": "stream",
     "text": [
      "Validation\n"
     ]
    },
    {
     "name": "stderr",
     "output_type": "stream",
     "text": [
      "100%|████████████████████████████████████████| 307/307 [00:01<00:00, 281.46it/s]\n"
     ]
    },
    {
     "name": "stdout",
     "output_type": "stream",
     "text": [
      "Test\n"
     ]
    },
    {
     "name": "stderr",
     "output_type": "stream",
     "text": [
      "100%|████████████████████████████████████████| 308/308 [00:01<00:00, 267.31it/s]\n"
     ]
    },
    {
     "name": "stdout",
     "output_type": "stream",
     "text": [
      "Epoch:  30  Train Loss:  0.8556207113157389 Train Accuracy:  0.6148631786952957\n",
      "Epoch:  30  Val Loss:  0.8984044167040225  Val Accuracy:  0.6069281711665817\n",
      "Epoch:  30 Test Loss:  0.8809550278759622  Test Accuracy:  0.6084214808787632\n",
      "\n",
      "Validation Classification report\n",
      "               precision    recall  f1-score   support\n",
      "\n",
      "   entailment       0.54      0.81      0.65      3479\n",
      "      neutral       0.66      0.37      0.47      3123\n",
      "contradiction       0.69      0.62      0.65      3213\n",
      "\n",
      "     accuracy                           0.61      9815\n",
      "    macro avg       0.63      0.60      0.59      9815\n",
      " weighted avg       0.63      0.61      0.59      9815\n",
      "\n",
      "Test Classification report\n",
      "               precision    recall  f1-score   support\n",
      "\n",
      "   entailment       0.54      0.83      0.65      3463\n",
      "      neutral       0.64      0.36      0.46      3129\n",
      "contradiction       0.72      0.62      0.66      3240\n",
      "\n",
      "     accuracy                           0.61      9832\n",
      "    macro avg       0.63      0.60      0.59      9832\n",
      " weighted avg       0.63      0.61      0.60      9832\n",
      "\n",
      "Total Train Loss 0.8921503718727078  Total Train Accuracy:  0.5891412147973102\n"
     ]
    },
    {
     "name": "stderr",
     "output_type": "stream",
     "text": [
      "100%|████████████████████████████████████████| 308/308 [00:01<00:00, 294.98it/s]\n"
     ]
    },
    {
     "name": "stdout",
     "output_type": "stream",
     "text": [
      "Test Loss:  0.8827209006269257  Test Accuracy:  0.60913344182262\n",
      "               precision    recall  f1-score   support\n",
      "\n",
      "   entailment       0.54      0.83      0.65      3463\n",
      "      neutral       0.64      0.36      0.46      3129\n",
      "contradiction       0.72      0.62      0.66      3240\n",
      "\n",
      "     accuracy                           0.61      9832\n",
      "    macro avg       0.63      0.60      0.59      9832\n",
      " weighted avg       0.63      0.61      0.60      9832\n",
      "\n",
      "[[2861  354  248]\n",
      " [1466 1130  533]\n",
      " [ 956  286 1998]]\n"
     ]
    }
   ],
   "source": [
    "\n",
    "\n",
    "#initialize the model with above parameters\n",
    "mnli_model = NLI_LSTM(membedding_matrix,INPUT_DIM, EMBEDDING_DIM, HIDDEN_DIM, OUTPUT_DIM, N_FC_LAYERS, DROPOUT)\n",
    "#adam optimizer\n",
    "mnli_model.to(device)\n",
    "optimizer = optim.Adam(mnli_model.parameters())\n",
    "#loss function\n",
    "criterion = nn.CrossEntropyLoss()\n",
    "#train\n",
    "mnli_model = train(mnli_model,mtrain_dataloader,mdev_dataloader,mtest_dataloader,optimizer,criterion,datasetName,EPOCHS)\n",
    "\n",
    "#test\n",
    "test(mnli_model,mtest_dataloader,criterion)\n"
   ]
  },
  {
   "cell_type": "code",
   "execution_count": 11,
   "metadata": {},
   "outputs": [
    {
     "name": "stdout",
     "output_type": "stream",
     "text": [
      "train data\n"
     ]
    },
    {
     "name": "stderr",
     "output_type": "stream",
     "text": [
      "100%|████████████████████████████████| 550152/550152 [00:07<00:00, 75061.04it/s]\n"
     ]
    },
    {
     "name": "stdout",
     "output_type": "stream",
     "text": [
      "dev data\n"
     ]
    },
    {
     "name": "stderr",
     "output_type": "stream",
     "text": [
      "100%|██████████████████████████████████| 10000/10000 [00:00<00:00, 67383.68it/s]\n"
     ]
    },
    {
     "name": "stdout",
     "output_type": "stream",
     "text": [
      "test data\n"
     ]
    },
    {
     "name": "stderr",
     "output_type": "stream",
     "text": [
      "100%|██████████████████████████████████| 10000/10000 [00:00<00:00, 67923.51it/s]\n"
     ]
    },
    {
     "name": "stdout",
     "output_type": "stream",
     "text": [
      "preprocess\n"
     ]
    },
    {
     "name": "stderr",
     "output_type": "stream",
     "text": [
      "100%|████████████████████████████████| 549367/549367 [00:29<00:00, 18633.43it/s]\n",
      "100%|████████████████████████████████| 549367/549367 [00:21<00:00, 25397.48it/s]\n",
      "100%|████████████████████████████████████| 9842/9842 [00:00<00:00, 19120.38it/s]\n",
      "100%|████████████████████████████████████| 9842/9842 [00:00<00:00, 25347.01it/s]\n",
      "100%|████████████████████████████████████| 9824/9824 [00:00<00:00, 19469.94it/s]\n",
      "100%|████████████████████████████████████| 9824/9824 [00:00<00:00, 25865.49it/s]\n"
     ]
    }
   ],
   "source": [
    "datasetName=\"snli\"\n",
    "\n",
    "strain_dataloader,sdev_dataloader,stest_dataloader,sembedding_matrix,sword2index = prepData(datasetName)\n",
    "#intialize the model\n",
    "INPUT_DIM = len(sword2index)"
   ]
  },
  {
   "cell_type": "code",
   "execution_count": 12,
   "metadata": {},
   "outputs": [
    {
     "name": "stdout",
     "output_type": "stream",
     "text": [
      "\n",
      "\n",
      "Epoch:  1\n",
      "Training\n"
     ]
    },
    {
     "name": "stderr",
     "output_type": "stream",
     "text": [
      "100%|████████████████████████████████████| 17168/17168 [01:16<00:00, 223.71it/s]\n"
     ]
    },
    {
     "name": "stdout",
     "output_type": "stream",
     "text": [
      "Validation\n"
     ]
    },
    {
     "name": "stderr",
     "output_type": "stream",
     "text": [
      "100%|████████████████████████████████████████| 308/308 [00:00<00:00, 455.40it/s]\n"
     ]
    },
    {
     "name": "stdout",
     "output_type": "stream",
     "text": [
      "Test\n"
     ]
    },
    {
     "name": "stderr",
     "output_type": "stream",
     "text": [
      "100%|████████████████████████████████████████| 307/307 [00:00<00:00, 465.71it/s]\n"
     ]
    },
    {
     "name": "stdout",
     "output_type": "stream",
     "text": [
      "Epoch:  1  Train Loss:  1.1413172060295675 Train Accuracy:  0.37204819364832614\n",
      "Epoch:  1  Val Loss:  0.9950530130367774  Val Accuracy:  0.5439951229424914\n",
      "Epoch:  1 Test Loss:  0.9936889105200379  Test Accuracy:  0.5457043973941368\n",
      "\n",
      "Validation Classification report\n",
      "               precision    recall  f1-score   support\n",
      "\n",
      "   entailment       0.73      0.34      0.46      3329\n",
      "      neutral       0.57      0.57      0.57      3235\n",
      "contradiction       0.47      0.72      0.57      3278\n",
      "\n",
      "     accuracy                           0.54      9842\n",
      "    macro avg       0.59      0.55      0.54      9842\n",
      " weighted avg       0.59      0.54      0.53      9842\n",
      "\n",
      "Test Classification report\n",
      "               precision    recall  f1-score   support\n",
      "\n",
      "   entailment       0.72      0.36      0.48      3368\n",
      "      neutral       0.57      0.57      0.57      3219\n",
      "contradiction       0.47      0.71      0.57      3237\n",
      "\n",
      "     accuracy                           0.55      9824\n",
      "    macro avg       0.59      0.55      0.54      9824\n",
      " weighted avg       0.59      0.55      0.54      9824\n",
      "\n",
      "\n",
      "\n",
      "Epoch:  2\n",
      "Training\n"
     ]
    },
    {
     "name": "stderr",
     "output_type": "stream",
     "text": [
      "100%|████████████████████████████████████| 17168/17168 [01:27<00:00, 195.48it/s]\n"
     ]
    },
    {
     "name": "stdout",
     "output_type": "stream",
     "text": [
      "Validation\n"
     ]
    },
    {
     "name": "stderr",
     "output_type": "stream",
     "text": [
      "100%|████████████████████████████████████████| 308/308 [00:00<00:00, 346.57it/s]\n"
     ]
    },
    {
     "name": "stdout",
     "output_type": "stream",
     "text": [
      "Test\n"
     ]
    },
    {
     "name": "stderr",
     "output_type": "stream",
     "text": [
      "100%|████████████████████████████████████████| 307/307 [00:01<00:00, 302.18it/s]\n"
     ]
    },
    {
     "name": "stdout",
     "output_type": "stream",
     "text": [
      "Epoch:  2  Train Loss:  0.8821629602965471 Train Accuracy:  0.6044265491010563\n",
      "Epoch:  2  Val Loss:  0.8375505971444117  Val Accuracy:  0.6234505181873603\n",
      "Epoch:  2 Test Loss:  0.8294789785282619  Test Accuracy:  0.6244910423452769\n",
      "\n",
      "Validation Classification report\n",
      "               precision    recall  f1-score   support\n",
      "\n",
      "   entailment       0.66      0.63      0.65      3329\n",
      "      neutral       0.54      0.77      0.63      3235\n",
      "contradiction       0.75      0.47      0.58      3278\n",
      "\n",
      "     accuracy                           0.62      9842\n",
      "    macro avg       0.65      0.62      0.62      9842\n",
      " weighted avg       0.65      0.62      0.62      9842\n",
      "\n",
      "Test Classification report\n",
      "               precision    recall  f1-score   support\n",
      "\n",
      "   entailment       0.67      0.65      0.66      3368\n",
      "      neutral       0.54      0.76      0.63      3219\n",
      "contradiction       0.75      0.47      0.58      3237\n",
      "\n",
      "     accuracy                           0.62      9824\n",
      "    macro avg       0.65      0.62      0.62      9824\n",
      " weighted avg       0.65      0.62      0.62      9824\n",
      "\n",
      "\n",
      "\n",
      "Epoch:  3\n",
      "Training\n"
     ]
    },
    {
     "name": "stderr",
     "output_type": "stream",
     "text": [
      "100%|████████████████████████████████████| 17168/17168 [01:30<00:00, 190.06it/s]\n"
     ]
    },
    {
     "name": "stdout",
     "output_type": "stream",
     "text": [
      "Validation\n"
     ]
    },
    {
     "name": "stderr",
     "output_type": "stream",
     "text": [
      "100%|████████████████████████████████████████| 308/308 [00:00<00:00, 444.12it/s]\n"
     ]
    },
    {
     "name": "stdout",
     "output_type": "stream",
     "text": [
      "Test\n"
     ]
    },
    {
     "name": "stderr",
     "output_type": "stream",
     "text": [
      "100%|████████████████████████████████████████| 307/307 [00:00<00:00, 440.54it/s]\n"
     ]
    },
    {
     "name": "stdout",
     "output_type": "stream",
     "text": [
      "Epoch:  3  Train Loss:  0.8267890822059039 Train Accuracy:  0.6384893886964452\n",
      "Epoch:  3  Val Loss:  0.7800269186883778  Val Accuracy:  0.6657183499288762\n",
      "Epoch:  3 Test Loss:  0.777587072177508  Test Accuracy:  0.6677524429967426\n",
      "\n",
      "Validation Classification report\n",
      "               precision    recall  f1-score   support\n",
      "\n",
      "   entailment       0.69      0.66      0.67      3329\n",
      "      neutral       0.61      0.72      0.66      3235\n",
      "contradiction       0.71      0.62      0.66      3278\n",
      "\n",
      "     accuracy                           0.67      9842\n",
      "    macro avg       0.67      0.67      0.67      9842\n",
      " weighted avg       0.67      0.67      0.67      9842\n",
      "\n",
      "Test Classification report\n",
      "               precision    recall  f1-score   support\n",
      "\n",
      "   entailment       0.69      0.67      0.68      3368\n",
      "      neutral       0.62      0.72      0.66      3219\n",
      "contradiction       0.70      0.62      0.66      3237\n",
      "\n",
      "     accuracy                           0.67      9824\n",
      "    macro avg       0.67      0.67      0.67      9824\n",
      " weighted avg       0.67      0.67      0.67      9824\n",
      "\n",
      "\n",
      "\n",
      "Epoch:  4\n",
      "Training\n"
     ]
    },
    {
     "name": "stderr",
     "output_type": "stream",
     "text": [
      "100%|████████████████████████████████████| 17168/17168 [01:33<00:00, 183.78it/s]\n"
     ]
    },
    {
     "name": "stdout",
     "output_type": "stream",
     "text": [
      "Validation\n"
     ]
    },
    {
     "name": "stderr",
     "output_type": "stream",
     "text": [
      "100%|████████████████████████████████████████| 308/308 [00:00<00:00, 385.99it/s]\n"
     ]
    },
    {
     "name": "stdout",
     "output_type": "stream",
     "text": [
      "Test\n"
     ]
    },
    {
     "name": "stderr",
     "output_type": "stream",
     "text": [
      "100%|████████████████████████████████████████| 307/307 [00:00<00:00, 459.53it/s]\n"
     ]
    },
    {
     "name": "stdout",
     "output_type": "stream",
     "text": [
      "Epoch:  4  Train Loss:  0.8014741822181466 Train Accuracy:  0.653037040812426\n",
      "Epoch:  4  Val Loss:  0.7653290364262345  Val Accuracy:  0.666023166023166\n",
      "Epoch:  4 Test Loss:  0.7610187255792586  Test Accuracy:  0.6650040716612378\n",
      "\n",
      "Validation Classification report\n",
      "               precision    recall  f1-score   support\n",
      "\n",
      "   entailment       0.62      0.82      0.71      3329\n",
      "      neutral       0.75      0.50      0.60      3235\n",
      "contradiction       0.67      0.67      0.67      3278\n",
      "\n",
      "     accuracy                           0.67      9842\n",
      "    macro avg       0.68      0.66      0.66      9842\n",
      " weighted avg       0.68      0.67      0.66      9842\n",
      "\n",
      "Test Classification report\n",
      "               precision    recall  f1-score   support\n",
      "\n",
      "   entailment       0.62      0.83      0.71      3368\n",
      "      neutral       0.75      0.50      0.60      3219\n",
      "contradiction       0.67      0.66      0.67      3237\n",
      "\n",
      "     accuracy                           0.67      9824\n",
      "    macro avg       0.68      0.66      0.66      9824\n",
      " weighted avg       0.68      0.67      0.66      9824\n",
      "\n",
      "\n",
      "\n",
      "Epoch:  5\n",
      "Training\n"
     ]
    },
    {
     "name": "stderr",
     "output_type": "stream",
     "text": [
      "100%|████████████████████████████████████| 17168/17168 [01:36<00:00, 177.26it/s]\n"
     ]
    },
    {
     "name": "stdout",
     "output_type": "stream",
     "text": [
      "Validation\n"
     ]
    },
    {
     "name": "stderr",
     "output_type": "stream",
     "text": [
      "100%|████████████████████████████████████████| 308/308 [00:01<00:00, 282.11it/s]\n"
     ]
    },
    {
     "name": "stdout",
     "output_type": "stream",
     "text": [
      "Test\n"
     ]
    },
    {
     "name": "stderr",
     "output_type": "stream",
     "text": [
      "100%|████████████████████████████████████████| 307/307 [00:00<00:00, 448.97it/s]\n"
     ]
    },
    {
     "name": "stdout",
     "output_type": "stream",
     "text": [
      "Epoch:  5  Train Loss:  0.7862899141526761 Train Accuracy:  0.6625061206807107\n",
      "Epoch:  5  Val Loss:  0.8973945745012977  Val Accuracy:  0.6275147327778907\n",
      "Epoch:  5 Test Loss:  0.8911722575220301  Test Accuracy:  0.6260179153094463\n",
      "\n",
      "Validation Classification report\n",
      "               precision    recall  f1-score   support\n",
      "\n",
      "   entailment       0.71      0.67      0.69      3329\n",
      "      neutral       0.51      0.85      0.63      3235\n",
      "contradiction       0.92      0.37      0.53      3278\n",
      "\n",
      "     accuracy                           0.63      9842\n",
      "    macro avg       0.71      0.63      0.62      9842\n",
      " weighted avg       0.71      0.63      0.62      9842\n",
      "\n",
      "Test Classification report\n",
      "               precision    recall  f1-score   support\n",
      "\n",
      "   entailment       0.71      0.67      0.69      3368\n",
      "      neutral       0.51      0.84      0.64      3219\n",
      "contradiction       0.91      0.36      0.52      3237\n",
      "\n",
      "     accuracy                           0.63      9824\n",
      "    macro avg       0.71      0.63      0.61      9824\n",
      " weighted avg       0.71      0.63      0.61      9824\n",
      "\n",
      "\n",
      "\n",
      "Epoch:  6\n",
      "Training\n"
     ]
    },
    {
     "name": "stderr",
     "output_type": "stream",
     "text": [
      "100%|████████████████████████████████████| 17168/17168 [01:35<00:00, 179.89it/s]\n"
     ]
    },
    {
     "name": "stdout",
     "output_type": "stream",
     "text": [
      "Validation\n"
     ]
    },
    {
     "name": "stderr",
     "output_type": "stream",
     "text": [
      "100%|████████████████████████████████████████| 308/308 [00:00<00:00, 389.49it/s]\n"
     ]
    },
    {
     "name": "stdout",
     "output_type": "stream",
     "text": [
      "Test\n"
     ]
    },
    {
     "name": "stderr",
     "output_type": "stream",
     "text": [
      "100%|████████████████████████████████████████| 307/307 [00:00<00:00, 407.24it/s]\n"
     ]
    },
    {
     "name": "stdout",
     "output_type": "stream",
     "text": [
      "Epoch:  6  Train Loss:  0.7738367887222506 Train Accuracy:  0.6688133797625266\n",
      "Epoch:  6  Val Loss:  0.7360244641056308  Val Accuracy:  0.6929485876854298\n",
      "Epoch:  6 Test Loss:  0.7202084535302091  Test Accuracy:  0.6941164495114006\n",
      "\n",
      "Validation Classification report\n",
      "               precision    recall  f1-score   support\n",
      "\n",
      "   entailment       0.67      0.78      0.72      3329\n",
      "      neutral       0.70      0.62      0.66      3235\n",
      "contradiction       0.71      0.67      0.69      3278\n",
      "\n",
      "     accuracy                           0.69      9842\n",
      "    macro avg       0.70      0.69      0.69      9842\n",
      " weighted avg       0.70      0.69      0.69      9842\n",
      "\n",
      "Test Classification report\n",
      "               precision    recall  f1-score   support\n",
      "\n",
      "   entailment       0.67      0.79      0.72      3368\n",
      "      neutral       0.70      0.61      0.66      3219\n",
      "contradiction       0.72      0.67      0.70      3237\n",
      "\n",
      "     accuracy                           0.69      9824\n",
      "    macro avg       0.70      0.69      0.69      9824\n",
      " weighted avg       0.70      0.69      0.69      9824\n",
      "\n",
      "\n",
      "\n",
      "Epoch:  7\n",
      "Training\n"
     ]
    },
    {
     "name": "stderr",
     "output_type": "stream",
     "text": [
      "100%|████████████████████████████████████| 17168/17168 [01:41<00:00, 169.33it/s]\n"
     ]
    },
    {
     "name": "stdout",
     "output_type": "stream",
     "text": [
      "Validation\n"
     ]
    },
    {
     "name": "stderr",
     "output_type": "stream",
     "text": [
      "100%|████████████████████████████████████████| 308/308 [00:00<00:00, 318.65it/s]\n"
     ]
    },
    {
     "name": "stdout",
     "output_type": "stream",
     "text": [
      "Test\n"
     ]
    },
    {
     "name": "stderr",
     "output_type": "stream",
     "text": [
      "100%|████████████████████████████████████████| 307/307 [00:00<00:00, 346.43it/s]\n"
     ]
    },
    {
     "name": "stdout",
     "output_type": "stream",
     "text": [
      "Epoch:  7  Train Loss:  0.7591521930893864 Train Accuracy:  0.6774360309228621\n",
      "Epoch:  7  Val Loss:  0.7130398000409077  Val Accuracy:  0.6999593578540947\n",
      "Epoch:  7 Test Loss:  0.707038195203104  Test Accuracy:  0.7061278501628665\n",
      "\n",
      "Validation Classification report\n",
      "               precision    recall  f1-score   support\n",
      "\n",
      "   entailment       0.69      0.78      0.73      3329\n",
      "      neutral       0.65      0.68      0.67      3235\n",
      "contradiction       0.77      0.64      0.70      3278\n",
      "\n",
      "     accuracy                           0.70      9842\n",
      "    macro avg       0.71      0.70      0.70      9842\n",
      " weighted avg       0.71      0.70      0.70      9842\n",
      "\n",
      "Test Classification report\n",
      "               precision    recall  f1-score   support\n",
      "\n",
      "   entailment       0.69      0.79      0.74      3368\n",
      "      neutral       0.67      0.68      0.67      3219\n",
      "contradiction       0.77      0.65      0.70      3237\n",
      "\n",
      "     accuracy                           0.71      9824\n",
      "    macro avg       0.71      0.70      0.70      9824\n",
      " weighted avg       0.71      0.71      0.71      9824\n",
      "\n",
      "\n",
      "\n",
      "Epoch:  8\n",
      "Training\n"
     ]
    },
    {
     "name": "stderr",
     "output_type": "stream",
     "text": [
      "100%|████████████████████████████████████| 17168/17168 [01:34<00:00, 180.75it/s]\n"
     ]
    },
    {
     "name": "stdout",
     "output_type": "stream",
     "text": [
      "Validation\n"
     ]
    },
    {
     "name": "stderr",
     "output_type": "stream",
     "text": [
      "100%|████████████████████████████████████████| 308/308 [00:00<00:00, 311.87it/s]\n"
     ]
    },
    {
     "name": "stdout",
     "output_type": "stream",
     "text": [
      "Test\n"
     ]
    },
    {
     "name": "stderr",
     "output_type": "stream",
     "text": [
      "100%|████████████████████████████████████████| 307/307 [00:00<00:00, 327.22it/s]\n"
     ]
    },
    {
     "name": "stdout",
     "output_type": "stream",
     "text": [
      "Epoch:  8  Train Loss:  0.7402065372544115 Train Accuracy:  0.6880446040624938\n",
      "Epoch:  8  Val Loss:  0.7425250995468784  Val Accuracy:  0.6878683194472668\n",
      "Epoch:  8 Test Loss:  0.7381296843193254  Test Accuracy:  0.6886197068403909\n",
      "\n",
      "Validation Classification report\n",
      "               precision    recall  f1-score   support\n",
      "\n",
      "   entailment       0.76      0.66      0.70      3329\n",
      "      neutral       0.59      0.79      0.67      3235\n",
      "contradiction       0.77      0.62      0.69      3278\n",
      "\n",
      "     accuracy                           0.69      9842\n",
      "    macro avg       0.71      0.69      0.69      9842\n",
      " weighted avg       0.71      0.69      0.69      9842\n",
      "\n",
      "Test Classification report\n",
      "               precision    recall  f1-score   support\n",
      "\n",
      "   entailment       0.75      0.66      0.70      3368\n",
      "      neutral       0.59      0.79      0.67      3219\n",
      "contradiction       0.78      0.62      0.69      3237\n",
      "\n",
      "     accuracy                           0.69      9824\n",
      "    macro avg       0.71      0.69      0.69      9824\n",
      " weighted avg       0.71      0.69      0.69      9824\n",
      "\n",
      "\n",
      "\n",
      "Epoch:  9\n",
      "Training\n"
     ]
    },
    {
     "name": "stderr",
     "output_type": "stream",
     "text": [
      "100%|████████████████████████████████████| 17168/17168 [01:37<00:00, 176.97it/s]\n"
     ]
    },
    {
     "name": "stdout",
     "output_type": "stream",
     "text": [
      "Validation\n"
     ]
    },
    {
     "name": "stderr",
     "output_type": "stream",
     "text": [
      "100%|████████████████████████████████████████| 308/308 [00:00<00:00, 356.59it/s]\n"
     ]
    },
    {
     "name": "stdout",
     "output_type": "stream",
     "text": [
      "Test\n"
     ]
    },
    {
     "name": "stderr",
     "output_type": "stream",
     "text": [
      "100%|████████████████████████████████████████| 307/307 [00:00<00:00, 470.89it/s]\n"
     ]
    },
    {
     "name": "stdout",
     "output_type": "stream",
     "text": [
      "Epoch:  9  Train Loss:  0.7293607881032312 Train Accuracy:  0.6936492363028722\n",
      "Epoch:  9  Val Loss:  0.7373156888144357  Val Accuracy:  0.6924405608616135\n",
      "Epoch:  9 Test Loss:  0.7298975079183858  Test Accuracy:  0.6968648208469055\n",
      "\n",
      "Validation Classification report\n",
      "               precision    recall  f1-score   support\n",
      "\n",
      "   entailment       0.79      0.60      0.68      3329\n",
      "      neutral       0.61      0.77      0.68      3235\n",
      "contradiction       0.72      0.71      0.72      3278\n",
      "\n",
      "     accuracy                           0.69      9842\n",
      "    macro avg       0.71      0.69      0.69      9842\n",
      " weighted avg       0.71      0.69      0.69      9842\n",
      "\n",
      "Test Classification report\n",
      "               precision    recall  f1-score   support\n",
      "\n",
      "   entailment       0.79      0.61      0.69      3368\n",
      "      neutral       0.62      0.77      0.69      3219\n",
      "contradiction       0.72      0.71      0.72      3237\n",
      "\n",
      "     accuracy                           0.70      9824\n",
      "    macro avg       0.71      0.70      0.70      9824\n",
      " weighted avg       0.71      0.70      0.70      9824\n",
      "\n",
      "\n",
      "\n",
      "Epoch:  10\n",
      "Training\n"
     ]
    },
    {
     "name": "stderr",
     "output_type": "stream",
     "text": [
      "100%|████████████████████████████████████| 17168/17168 [01:37<00:00, 176.55it/s]\n"
     ]
    },
    {
     "name": "stdout",
     "output_type": "stream",
     "text": [
      "Validation\n"
     ]
    },
    {
     "name": "stderr",
     "output_type": "stream",
     "text": [
      "100%|████████████████████████████████████████| 308/308 [00:00<00:00, 412.43it/s]\n"
     ]
    },
    {
     "name": "stdout",
     "output_type": "stream",
     "text": [
      "Test\n"
     ]
    },
    {
     "name": "stderr",
     "output_type": "stream",
     "text": [
      "100%|████████████████████████████████████████| 307/307 [00:01<00:00, 294.49it/s]\n"
     ]
    },
    {
     "name": "stdout",
     "output_type": "stream",
     "text": [
      "Epoch:  10  Train Loss:  0.7211840810065001 Train Accuracy:  0.6977393982528983\n",
      "Epoch:  10  Val Loss:  0.7143503901633349  Val Accuracy:  0.7003657793131477\n",
      "Epoch:  10 Test Loss:  0.7104439419915699  Test Accuracy:  0.6978827361563518\n",
      "\n",
      "Validation Classification report\n",
      "               precision    recall  f1-score   support\n",
      "\n",
      "   entailment       0.68      0.81      0.74      3329\n",
      "      neutral       0.76      0.52      0.62      3235\n",
      "contradiction       0.69      0.76      0.73      3278\n",
      "\n",
      "     accuracy                           0.70      9842\n",
      "    macro avg       0.71      0.70      0.69      9842\n",
      " weighted avg       0.71      0.70      0.69      9842\n",
      "\n",
      "Test Classification report\n",
      "               precision    recall  f1-score   support\n",
      "\n",
      "   entailment       0.67      0.81      0.73      3368\n",
      "      neutral       0.76      0.52      0.62      3219\n",
      "contradiction       0.69      0.76      0.73      3237\n",
      "\n",
      "     accuracy                           0.70      9824\n",
      "    macro avg       0.71      0.70      0.69      9824\n",
      " weighted avg       0.71      0.70      0.69      9824\n",
      "\n",
      "\n",
      "\n",
      "Epoch:  11\n",
      "Training\n"
     ]
    },
    {
     "name": "stderr",
     "output_type": "stream",
     "text": [
      "100%|████████████████████████████████████| 17168/17168 [01:31<00:00, 186.95it/s]\n"
     ]
    },
    {
     "name": "stdout",
     "output_type": "stream",
     "text": [
      "Validation\n"
     ]
    },
    {
     "name": "stderr",
     "output_type": "stream",
     "text": [
      "100%|████████████████████████████████████████| 308/308 [00:00<00:00, 436.57it/s]\n"
     ]
    },
    {
     "name": "stdout",
     "output_type": "stream",
     "text": [
      "Test\n"
     ]
    },
    {
     "name": "stderr",
     "output_type": "stream",
     "text": [
      "100%|████████████████████████████████████████| 307/307 [00:00<00:00, 440.12it/s]\n"
     ]
    },
    {
     "name": "stdout",
     "output_type": "stream",
     "text": [
      "Epoch:  11  Train Loss:  0.7163228721836129 Train Accuracy:  0.700522601466779\n",
      "Epoch:  11  Val Loss:  0.7623795837938011  Val Accuracy:  0.6900020321072953\n",
      "Epoch:  11 Test Loss:  0.7593511230394195  Test Accuracy:  0.6893322475570033\n",
      "\n",
      "Validation Classification report\n",
      "               precision    recall  f1-score   support\n",
      "\n",
      "   entailment       0.74      0.71      0.73      3329\n",
      "      neutral       0.74      0.53      0.62      3235\n",
      "contradiction       0.62      0.83      0.71      3278\n",
      "\n",
      "     accuracy                           0.69      9842\n",
      "    macro avg       0.70      0.69      0.69      9842\n",
      " weighted avg       0.70      0.69      0.69      9842\n",
      "\n",
      "Test Classification report\n",
      "               precision    recall  f1-score   support\n",
      "\n",
      "   entailment       0.74      0.72      0.73      3368\n",
      "      neutral       0.74      0.52      0.61      3219\n",
      "contradiction       0.62      0.83      0.71      3237\n",
      "\n",
      "     accuracy                           0.69      9824\n",
      "    macro avg       0.70      0.69      0.68      9824\n",
      " weighted avg       0.70      0.69      0.68      9824\n",
      "\n",
      "\n",
      "\n",
      "Epoch:  12\n",
      "Training\n"
     ]
    },
    {
     "name": "stderr",
     "output_type": "stream",
     "text": [
      "100%|████████████████████████████████████| 17168/17168 [01:36<00:00, 177.46it/s]\n"
     ]
    },
    {
     "name": "stdout",
     "output_type": "stream",
     "text": [
      "Validation\n"
     ]
    },
    {
     "name": "stderr",
     "output_type": "stream",
     "text": [
      "100%|████████████████████████████████████████| 308/308 [00:00<00:00, 328.92it/s]\n"
     ]
    },
    {
     "name": "stdout",
     "output_type": "stream",
     "text": [
      "Test\n"
     ]
    },
    {
     "name": "stderr",
     "output_type": "stream",
     "text": [
      "100%|████████████████████████████████████████| 307/307 [00:00<00:00, 319.98it/s]\n"
     ]
    },
    {
     "name": "stdout",
     "output_type": "stream",
     "text": [
      "Epoch:  12  Train Loss:  0.7099008666297624 Train Accuracy:  0.7035679245386054\n",
      "Epoch:  12  Val Loss:  0.7008231390606273  Val Accuracy:  0.7135744767323715\n",
      "Epoch:  12 Test Loss:  0.6942111272182837  Test Accuracy:  0.7156962540716613\n",
      "\n",
      "Validation Classification report\n",
      "               precision    recall  f1-score   support\n",
      "\n",
      "   entailment       0.68      0.80      0.74      3329\n",
      "      neutral       0.66      0.71      0.69      3235\n",
      "contradiction       0.84      0.62      0.71      3278\n",
      "\n",
      "     accuracy                           0.71      9842\n",
      "    macro avg       0.73      0.71      0.71      9842\n",
      " weighted avg       0.73      0.71      0.71      9842\n",
      "\n",
      "Test Classification report\n",
      "               precision    recall  f1-score   support\n",
      "\n",
      "   entailment       0.68      0.80      0.74      3368\n",
      "      neutral       0.67      0.72      0.69      3219\n",
      "contradiction       0.84      0.63      0.72      3237\n",
      "\n",
      "     accuracy                           0.72      9824\n",
      "    macro avg       0.73      0.71      0.72      9824\n",
      " weighted avg       0.73      0.72      0.72      9824\n",
      "\n",
      "\n",
      "\n",
      "Epoch:  13\n",
      "Training\n"
     ]
    },
    {
     "name": "stderr",
     "output_type": "stream",
     "text": [
      "100%|████████████████████████████████████| 17168/17168 [01:35<00:00, 180.45it/s]\n"
     ]
    },
    {
     "name": "stdout",
     "output_type": "stream",
     "text": [
      "Validation\n"
     ]
    },
    {
     "name": "stderr",
     "output_type": "stream",
     "text": [
      "100%|████████████████████████████████████████| 308/308 [00:00<00:00, 332.12it/s]\n"
     ]
    },
    {
     "name": "stdout",
     "output_type": "stream",
     "text": [
      "Test\n"
     ]
    },
    {
     "name": "stderr",
     "output_type": "stream",
     "text": [
      "100%|████████████████████████████████████████| 307/307 [00:00<00:00, 334.82it/s]\n"
     ]
    },
    {
     "name": "stdout",
     "output_type": "stream",
     "text": [
      "Epoch:  13  Train Loss:  0.7051800196627563 Train Accuracy:  0.7059397451976548\n",
      "Epoch:  13  Val Loss:  0.7248974884678792  Val Accuracy:  0.6982320666531193\n",
      "Epoch:  13 Test Loss:  0.731532781733752  Test Accuracy:  0.6929967426710097\n",
      "\n",
      "Validation Classification report\n",
      "               precision    recall  f1-score   support\n",
      "\n",
      "   entailment       0.73      0.77      0.75      3329\n",
      "      neutral       0.78      0.50      0.61      3235\n",
      "contradiction       0.63      0.82      0.71      3278\n",
      "\n",
      "     accuracy                           0.70      9842\n",
      "    macro avg       0.71      0.70      0.69      9842\n",
      " weighted avg       0.71      0.70      0.69      9842\n",
      "\n",
      "Test Classification report\n",
      "               precision    recall  f1-score   support\n",
      "\n",
      "   entailment       0.72      0.78      0.75      3368\n",
      "      neutral       0.78      0.49      0.60      3219\n",
      "contradiction       0.63      0.81      0.71      3237\n",
      "\n",
      "     accuracy                           0.69      9824\n",
      "    macro avg       0.71      0.69      0.69      9824\n",
      " weighted avg       0.71      0.69      0.69      9824\n",
      "\n",
      "\n",
      "\n",
      "Epoch:  14\n",
      "Training\n"
     ]
    },
    {
     "name": "stderr",
     "output_type": "stream",
     "text": [
      "100%|████████████████████████████████████| 17168/17168 [01:34<00:00, 182.61it/s]\n"
     ]
    },
    {
     "name": "stdout",
     "output_type": "stream",
     "text": [
      "Validation\n"
     ]
    },
    {
     "name": "stderr",
     "output_type": "stream",
     "text": [
      "100%|████████████████████████████████████████| 308/308 [00:00<00:00, 375.49it/s]\n"
     ]
    },
    {
     "name": "stdout",
     "output_type": "stream",
     "text": [
      "Test\n"
     ]
    },
    {
     "name": "stderr",
     "output_type": "stream",
     "text": [
      "100%|████████████████████████████████████████| 307/307 [00:00<00:00, 384.41it/s]\n"
     ]
    },
    {
     "name": "stdout",
     "output_type": "stream",
     "text": [
      "Epoch:  14  Train Loss:  0.7012605330241082 Train Accuracy:  0.7086301142951797\n",
      "Epoch:  14  Val Loss:  0.771540142595768  Val Accuracy:  0.6811623653728917\n",
      "Epoch:  14 Test Loss:  0.7724230441868499  Test Accuracy:  0.6792548859934854\n",
      "\n",
      "Validation Classification report\n",
      "               precision    recall  f1-score   support\n",
      "\n",
      "   entailment       0.82      0.55      0.66      3329\n",
      "      neutral       0.56      0.84      0.67      3235\n",
      "contradiction       0.77      0.66      0.71      3278\n",
      "\n",
      "     accuracy                           0.68      9842\n",
      "    macro avg       0.72      0.68      0.68      9842\n",
      " weighted avg       0.72      0.68      0.68      9842\n",
      "\n",
      "Test Classification report\n",
      "               precision    recall  f1-score   support\n",
      "\n",
      "   entailment       0.82      0.55      0.66      3368\n",
      "      neutral       0.56      0.83      0.67      3219\n",
      "contradiction       0.77      0.66      0.71      3237\n",
      "\n",
      "     accuracy                           0.68      9824\n",
      "    macro avg       0.72      0.68      0.68      9824\n",
      " weighted avg       0.72      0.68      0.68      9824\n",
      "\n",
      "\n",
      "\n",
      "Epoch:  15\n",
      "Training\n"
     ]
    },
    {
     "name": "stderr",
     "output_type": "stream",
     "text": [
      "100%|████████████████████████████████████| 17168/17168 [01:29<00:00, 191.43it/s]\n"
     ]
    },
    {
     "name": "stdout",
     "output_type": "stream",
     "text": [
      "Validation\n"
     ]
    },
    {
     "name": "stderr",
     "output_type": "stream",
     "text": [
      "100%|████████████████████████████████████████| 308/308 [00:01<00:00, 300.61it/s]\n"
     ]
    },
    {
     "name": "stdout",
     "output_type": "stream",
     "text": [
      "Test\n"
     ]
    },
    {
     "name": "stderr",
     "output_type": "stream",
     "text": [
      "100%|████████████████████████████████████████| 307/307 [00:00<00:00, 322.53it/s]\n"
     ]
    },
    {
     "name": "stdout",
     "output_type": "stream",
     "text": [
      "Epoch:  15  Train Loss:  0.6975934533645353 Train Accuracy:  0.7104176261042254\n",
      "Epoch:  15  Val Loss:  0.7198925635644368  Val Accuracy:  0.6895956106482423\n",
      "Epoch:  15 Test Loss:  0.7255540187273429  Test Accuracy:  0.6860749185667753\n",
      "\n",
      "Validation Classification report\n",
      "               precision    recall  f1-score   support\n",
      "\n",
      "   entailment       0.81      0.61      0.69      3329\n",
      "      neutral       0.56      0.83      0.67      3235\n",
      "contradiction       0.82      0.64      0.72      3278\n",
      "\n",
      "     accuracy                           0.69      9842\n",
      "    macro avg       0.73      0.69      0.69      9842\n",
      " weighted avg       0.73      0.69      0.69      9842\n",
      "\n",
      "Test Classification report\n",
      "               precision    recall  f1-score   support\n",
      "\n",
      "   entailment       0.79      0.60      0.69      3368\n",
      "      neutral       0.56      0.82      0.66      3219\n",
      "contradiction       0.82      0.64      0.72      3237\n",
      "\n",
      "     accuracy                           0.69      9824\n",
      "    macro avg       0.72      0.69      0.69      9824\n",
      " weighted avg       0.72      0.69      0.69      9824\n",
      "\n",
      "\n",
      "\n",
      "Epoch:  16\n",
      "Training\n"
     ]
    },
    {
     "name": "stderr",
     "output_type": "stream",
     "text": [
      "100%|████████████████████████████████████| 17168/17168 [01:37<00:00, 175.18it/s]\n"
     ]
    },
    {
     "name": "stdout",
     "output_type": "stream",
     "text": [
      "Validation\n"
     ]
    },
    {
     "name": "stderr",
     "output_type": "stream",
     "text": [
      "100%|████████████████████████████████████████| 308/308 [00:00<00:00, 309.56it/s]\n"
     ]
    },
    {
     "name": "stdout",
     "output_type": "stream",
     "text": [
      "Test\n"
     ]
    },
    {
     "name": "stderr",
     "output_type": "stream",
     "text": [
      "100%|████████████████████████████████████████| 307/307 [00:00<00:00, 330.02it/s]\n"
     ]
    },
    {
     "name": "stdout",
     "output_type": "stream",
     "text": [
      "Epoch:  16  Train Loss:  0.694764021360502 Train Accuracy:  0.7118155986799353\n",
      "Epoch:  16  Val Loss:  0.703687916134859  Val Accuracy:  0.7187563503352977\n",
      "Epoch:  16 Test Loss:  0.6933654731182012  Test Accuracy:  0.7151872964169381\n",
      "\n",
      "Validation Classification report\n",
      "               precision    recall  f1-score   support\n",
      "\n",
      "   entailment       0.66      0.86      0.75      3329\n",
      "      neutral       0.77      0.58      0.66      3235\n",
      "contradiction       0.76      0.72      0.74      3278\n",
      "\n",
      "     accuracy                           0.72      9842\n",
      "    macro avg       0.73      0.72      0.71      9842\n",
      " weighted avg       0.73      0.72      0.72      9842\n",
      "\n",
      "Test Classification report\n",
      "               precision    recall  f1-score   support\n",
      "\n",
      "   entailment       0.66      0.86      0.75      3368\n",
      "      neutral       0.76      0.57      0.65      3219\n",
      "contradiction       0.75      0.72      0.74      3237\n",
      "\n",
      "     accuracy                           0.72      9824\n",
      "    macro avg       0.73      0.71      0.71      9824\n",
      " weighted avg       0.72      0.72      0.71      9824\n",
      "\n",
      "\n",
      "\n",
      "Epoch:  17\n",
      "Training\n"
     ]
    },
    {
     "name": "stderr",
     "output_type": "stream",
     "text": [
      "100%|████████████████████████████████████| 17168/17168 [01:30<00:00, 190.43it/s]\n"
     ]
    },
    {
     "name": "stdout",
     "output_type": "stream",
     "text": [
      "Validation\n"
     ]
    },
    {
     "name": "stderr",
     "output_type": "stream",
     "text": [
      "100%|████████████████████████████████████████| 308/308 [00:00<00:00, 374.28it/s]\n"
     ]
    },
    {
     "name": "stdout",
     "output_type": "stream",
     "text": [
      "Test\n"
     ]
    },
    {
     "name": "stderr",
     "output_type": "stream",
     "text": [
      "100%|████████████████████████████████████████| 307/307 [00:00<00:00, 397.91it/s]\n"
     ]
    },
    {
     "name": "stdout",
     "output_type": "stream",
     "text": [
      "Epoch:  17  Train Loss:  0.6907658303609571 Train Accuracy:  0.7142420276427234\n",
      "Epoch:  17  Val Loss:  0.7305901751115724  Val Accuracy:  0.7132696606380817\n",
      "Epoch:  17 Test Loss:  0.7133450198445336  Test Accuracy:  0.7169177524429967\n",
      "\n",
      "Validation Classification report\n",
      "               precision    recall  f1-score   support\n",
      "\n",
      "   entailment       0.67      0.84      0.75      3329\n",
      "      neutral       0.80      0.53      0.63      3235\n",
      "contradiction       0.71      0.77      0.74      3278\n",
      "\n",
      "     accuracy                           0.71      9842\n",
      "    macro avg       0.73      0.71      0.71      9842\n",
      " weighted avg       0.73      0.71      0.71      9842\n",
      "\n",
      "Test Classification report\n",
      "               precision    recall  f1-score   support\n",
      "\n",
      "   entailment       0.68      0.84      0.75      3368\n",
      "      neutral       0.80      0.52      0.63      3219\n",
      "contradiction       0.72      0.78      0.75      3237\n",
      "\n",
      "     accuracy                           0.72      9824\n",
      "    macro avg       0.73      0.71      0.71      9824\n",
      " weighted avg       0.73      0.72      0.71      9824\n",
      "\n",
      "\n",
      "\n",
      "Epoch:  18\n",
      "Training\n"
     ]
    },
    {
     "name": "stderr",
     "output_type": "stream",
     "text": [
      "100%|████████████████████████████████████| 17168/17168 [01:34<00:00, 182.43it/s]\n"
     ]
    },
    {
     "name": "stdout",
     "output_type": "stream",
     "text": [
      "Validation\n"
     ]
    },
    {
     "name": "stderr",
     "output_type": "stream",
     "text": [
      "100%|████████████████████████████████████████| 308/308 [00:01<00:00, 302.04it/s]\n"
     ]
    },
    {
     "name": "stdout",
     "output_type": "stream",
     "text": [
      "Test\n"
     ]
    },
    {
     "name": "stderr",
     "output_type": "stream",
     "text": [
      "100%|████████████████████████████████████████| 307/307 [00:00<00:00, 324.27it/s]\n"
     ]
    },
    {
     "name": "stdout",
     "output_type": "stream",
     "text": [
      "Epoch:  18  Train Loss:  0.6884842875768593 Train Accuracy:  0.7149919816807344\n",
      "Epoch:  18  Val Loss:  0.6739162677874813  Val Accuracy:  0.7273928063401748\n",
      "Epoch:  18 Test Loss:  0.6695142878577452  Test Accuracy:  0.7316775244299675\n",
      "\n",
      "Validation Classification report\n",
      "               precision    recall  f1-score   support\n",
      "\n",
      "   entailment       0.70      0.80      0.75      3329\n",
      "      neutral       0.68      0.71      0.70      3235\n",
      "contradiction       0.82      0.67      0.74      3278\n",
      "\n",
      "     accuracy                           0.73      9842\n",
      "    macro avg       0.74      0.73      0.73      9842\n",
      " weighted avg       0.74      0.73      0.73      9842\n",
      "\n",
      "Test Classification report\n",
      "               precision    recall  f1-score   support\n",
      "\n",
      "   entailment       0.71      0.80      0.75      3368\n",
      "      neutral       0.69      0.72      0.70      3219\n",
      "contradiction       0.82      0.68      0.74      3237\n",
      "\n",
      "     accuracy                           0.73      9824\n",
      "    macro avg       0.74      0.73      0.73      9824\n",
      " weighted avg       0.74      0.73      0.73      9824\n",
      "\n",
      "\n",
      "\n",
      "Epoch:  19\n",
      "Training\n"
     ]
    },
    {
     "name": "stderr",
     "output_type": "stream",
     "text": [
      "100%|████████████████████████████████████| 17168/17168 [01:32<00:00, 186.39it/s]\n"
     ]
    },
    {
     "name": "stdout",
     "output_type": "stream",
     "text": [
      "Validation\n"
     ]
    },
    {
     "name": "stderr",
     "output_type": "stream",
     "text": [
      "100%|████████████████████████████████████████| 308/308 [00:00<00:00, 452.42it/s]\n"
     ]
    },
    {
     "name": "stdout",
     "output_type": "stream",
     "text": [
      "Test\n"
     ]
    },
    {
     "name": "stderr",
     "output_type": "stream",
     "text": [
      "100%|████████████████████████████████████████| 307/307 [00:00<00:00, 443.70it/s]\n"
     ]
    },
    {
     "name": "stdout",
     "output_type": "stream",
     "text": [
      "Epoch:  19  Train Loss:  0.6870004307706072 Train Accuracy:  0.7159712905944478\n",
      "Epoch:  19  Val Loss:  0.7036692807813744  Val Accuracy:  0.7152001625685837\n",
      "Epoch:  19 Test Loss:  0.7060522214791674  Test Accuracy:  0.7192589576547231\n",
      "\n",
      "Validation Classification report\n",
      "               precision    recall  f1-score   support\n",
      "\n",
      "   entailment       0.79      0.66      0.72      3329\n",
      "      neutral       0.66      0.71      0.68      3235\n",
      "contradiction       0.71      0.78      0.75      3278\n",
      "\n",
      "     accuracy                           0.72      9842\n",
      "    macro avg       0.72      0.72      0.71      9842\n",
      " weighted avg       0.72      0.72      0.72      9842\n",
      "\n",
      "Test Classification report\n",
      "               precision    recall  f1-score   support\n",
      "\n",
      "   entailment       0.79      0.66      0.72      3368\n",
      "      neutral       0.66      0.72      0.69      3219\n",
      "contradiction       0.72      0.78      0.75      3237\n",
      "\n",
      "     accuracy                           0.72      9824\n",
      "    macro avg       0.72      0.72      0.72      9824\n",
      " weighted avg       0.72      0.72      0.72      9824\n",
      "\n",
      "\n",
      "\n",
      "Epoch:  20\n",
      "Training\n"
     ]
    },
    {
     "name": "stderr",
     "output_type": "stream",
     "text": [
      "100%|████████████████████████████████████| 17168/17168 [01:34<00:00, 180.72it/s]\n"
     ]
    },
    {
     "name": "stdout",
     "output_type": "stream",
     "text": [
      "Validation\n"
     ]
    },
    {
     "name": "stderr",
     "output_type": "stream",
     "text": [
      "100%|████████████████████████████████████████| 308/308 [00:00<00:00, 375.96it/s]\n"
     ]
    },
    {
     "name": "stdout",
     "output_type": "stream",
     "text": [
      "Test\n"
     ]
    },
    {
     "name": "stderr",
     "output_type": "stream",
     "text": [
      "100%|████████████████████████████████████████| 307/307 [00:00<00:00, 379.80it/s]\n"
     ]
    },
    {
     "name": "stdout",
     "output_type": "stream",
     "text": [
      "Epoch:  20  Train Loss:  0.6856059378702176 Train Accuracy:  0.7164682261584696\n",
      "Epoch:  20  Val Loss:  0.6978121589530598  Val Accuracy:  0.7190611664295875\n",
      "Epoch:  20 Test Loss:  0.6942784250365018  Test Accuracy:  0.7184446254071661\n",
      "\n",
      "Validation Classification report\n",
      "               precision    recall  f1-score   support\n",
      "\n",
      "   entailment       0.78      0.68      0.73      3329\n",
      "      neutral       0.63      0.77      0.70      3235\n",
      "contradiction       0.78      0.70      0.74      3278\n",
      "\n",
      "     accuracy                           0.72      9842\n",
      "    macro avg       0.73      0.72      0.72      9842\n",
      " weighted avg       0.73      0.72      0.72      9842\n",
      "\n",
      "Test Classification report\n",
      "               precision    recall  f1-score   support\n",
      "\n",
      "   entailment       0.77      0.68      0.72      3368\n",
      "      neutral       0.64      0.76      0.69      3219\n",
      "contradiction       0.77      0.71      0.74      3237\n",
      "\n",
      "     accuracy                           0.72      9824\n",
      "    macro avg       0.73      0.72      0.72      9824\n",
      " weighted avg       0.73      0.72      0.72      9824\n",
      "\n",
      "\n",
      "\n",
      "Epoch:  21\n",
      "Training\n"
     ]
    },
    {
     "name": "stderr",
     "output_type": "stream",
     "text": [
      "100%|████████████████████████████████████| 17168/17168 [01:32<00:00, 186.57it/s]\n"
     ]
    },
    {
     "name": "stdout",
     "output_type": "stream",
     "text": [
      "Validation\n"
     ]
    },
    {
     "name": "stderr",
     "output_type": "stream",
     "text": [
      "100%|████████████████████████████████████████| 308/308 [00:00<00:00, 482.08it/s]\n"
     ]
    },
    {
     "name": "stdout",
     "output_type": "stream",
     "text": [
      "Test\n"
     ]
    },
    {
     "name": "stderr",
     "output_type": "stream",
     "text": [
      "100%|████████████████████████████████████████| 307/307 [00:00<00:00, 455.97it/s]\n"
     ]
    },
    {
     "name": "stdout",
     "output_type": "stream",
     "text": [
      "Epoch:  21  Train Loss:  0.6846769093470744 Train Accuracy:  0.7169451386777873\n",
      "Epoch:  21  Val Loss:  0.6708640684555103  Val Accuracy:  0.7259703312334891\n",
      "Epoch:  21 Test Loss:  0.6619591953700062  Test Accuracy:  0.7288273615635179\n",
      "\n",
      "Validation Classification report\n",
      "               precision    recall  f1-score   support\n",
      "\n",
      "   entailment       0.76      0.72      0.74      3329\n",
      "      neutral       0.68      0.70      0.69      3235\n",
      "contradiction       0.74      0.75      0.75      3278\n",
      "\n",
      "     accuracy                           0.73      9842\n",
      "    macro avg       0.73      0.73      0.73      9842\n",
      " weighted avg       0.73      0.73      0.73      9842\n",
      "\n",
      "Test Classification report\n",
      "               precision    recall  f1-score   support\n",
      "\n",
      "   entailment       0.76      0.73      0.74      3368\n",
      "      neutral       0.69      0.71      0.70      3219\n",
      "contradiction       0.75      0.75      0.75      3237\n",
      "\n",
      "     accuracy                           0.73      9824\n",
      "    macro avg       0.73      0.73      0.73      9824\n",
      " weighted avg       0.73      0.73      0.73      9824\n",
      "\n",
      "\n",
      "\n",
      "Epoch:  22\n",
      "Training\n"
     ]
    },
    {
     "name": "stderr",
     "output_type": "stream",
     "text": [
      "100%|████████████████████████████████████| 17168/17168 [01:40<00:00, 171.00it/s]\n"
     ]
    },
    {
     "name": "stdout",
     "output_type": "stream",
     "text": [
      "Validation\n"
     ]
    },
    {
     "name": "stderr",
     "output_type": "stream",
     "text": [
      "100%|████████████████████████████████████████| 308/308 [00:00<00:00, 327.78it/s]\n"
     ]
    },
    {
     "name": "stdout",
     "output_type": "stream",
     "text": [
      "Test\n"
     ]
    },
    {
     "name": "stderr",
     "output_type": "stream",
     "text": [
      "100%|████████████████████████████████████████| 307/307 [00:00<00:00, 335.82it/s]\n"
     ]
    },
    {
     "name": "stdout",
     "output_type": "stream",
     "text": [
      "Epoch:  22  Train Loss:  0.683601212383136 Train Accuracy:  0.7181774660654899\n",
      "Epoch:  22  Val Loss:  0.7440542742222934  Val Accuracy:  0.7125584230847388\n",
      "Epoch:  22 Test Loss:  0.7451346915591424  Test Accuracy:  0.7164087947882736\n",
      "\n",
      "Validation Classification report\n",
      "               precision    recall  f1-score   support\n",
      "\n",
      "   entailment       0.65      0.87      0.74      3329\n",
      "      neutral       0.69      0.68      0.68      3235\n",
      "contradiction       0.89      0.58      0.70      3278\n",
      "\n",
      "     accuracy                           0.71      9842\n",
      "    macro avg       0.74      0.71      0.71      9842\n",
      " weighted avg       0.74      0.71      0.71      9842\n",
      "\n",
      "Test Classification report\n",
      "               precision    recall  f1-score   support\n",
      "\n",
      "   entailment       0.65      0.88      0.74      3368\n",
      "      neutral       0.70      0.69      0.69      3219\n",
      "contradiction       0.90      0.58      0.70      3237\n",
      "\n",
      "     accuracy                           0.72      9824\n",
      "    macro avg       0.75      0.71      0.71      9824\n",
      " weighted avg       0.75      0.72      0.71      9824\n",
      "\n",
      "\n",
      "\n",
      "Epoch:  23\n",
      "Training\n"
     ]
    },
    {
     "name": "stderr",
     "output_type": "stream",
     "text": [
      "100%|████████████████████████████████████| 17168/17168 [01:35<00:00, 180.70it/s]\n"
     ]
    },
    {
     "name": "stdout",
     "output_type": "stream",
     "text": [
      "Validation\n"
     ]
    },
    {
     "name": "stderr",
     "output_type": "stream",
     "text": [
      "100%|████████████████████████████████████████| 308/308 [00:00<00:00, 370.26it/s]\n"
     ]
    },
    {
     "name": "stdout",
     "output_type": "stream",
     "text": [
      "Test\n"
     ]
    },
    {
     "name": "stderr",
     "output_type": "stream",
     "text": [
      "100%|████████████████████████████████████████| 307/307 [00:00<00:00, 394.70it/s]\n"
     ]
    },
    {
     "name": "stdout",
     "output_type": "stream",
     "text": [
      "Epoch:  23  Train Loss:  0.6818603198013623 Train Accuracy:  0.7190311758806044\n",
      "Epoch:  23  Val Loss:  0.6829626421843257  Val Accuracy:  0.7223125381020118\n",
      "Epoch:  23 Test Loss:  0.6783871051251694  Test Accuracy:  0.7216001628664495\n",
      "\n",
      "Validation Classification report\n",
      "               precision    recall  f1-score   support\n",
      "\n",
      "   entailment       0.68      0.85      0.76      3329\n",
      "      neutral       0.78      0.56      0.65      3235\n",
      "contradiction       0.73      0.75      0.74      3278\n",
      "\n",
      "     accuracy                           0.72      9842\n",
      "    macro avg       0.73      0.72      0.72      9842\n",
      " weighted avg       0.73      0.72      0.72      9842\n",
      "\n",
      "Test Classification report\n",
      "               precision    recall  f1-score   support\n",
      "\n",
      "   entailment       0.67      0.86      0.75      3368\n",
      "      neutral       0.78      0.55      0.65      3219\n",
      "contradiction       0.74      0.75      0.75      3237\n",
      "\n",
      "     accuracy                           0.72      9824\n",
      "    macro avg       0.73      0.72      0.72      9824\n",
      " weighted avg       0.73      0.72      0.72      9824\n",
      "\n",
      "\n",
      "\n",
      "Epoch:  24\n",
      "Training\n"
     ]
    },
    {
     "name": "stderr",
     "output_type": "stream",
     "text": [
      "100%|████████████████████████████████████| 17168/17168 [01:34<00:00, 182.61it/s]\n"
     ]
    },
    {
     "name": "stdout",
     "output_type": "stream",
     "text": [
      "Validation\n"
     ]
    },
    {
     "name": "stderr",
     "output_type": "stream",
     "text": [
      "100%|████████████████████████████████████████| 308/308 [00:00<00:00, 366.43it/s]\n"
     ]
    },
    {
     "name": "stdout",
     "output_type": "stream",
     "text": [
      "Test\n"
     ]
    },
    {
     "name": "stderr",
     "output_type": "stream",
     "text": [
      "100%|████████████████████████████████████████| 307/307 [00:00<00:00, 382.36it/s]\n"
     ]
    },
    {
     "name": "stdout",
     "output_type": "stream",
     "text": [
      "Epoch:  24  Train Loss:  0.6789260437279828 Train Accuracy:  0.7207713604930766\n",
      "Epoch:  24  Val Loss:  0.7203870573407644  Val Accuracy:  0.711440764072343\n",
      "Epoch:  24 Test Loss:  0.7184824338759196  Test Accuracy:  0.711421009771987\n",
      "\n",
      "Validation Classification report\n",
      "               precision    recall  f1-score   support\n",
      "\n",
      "   entailment       0.74      0.75      0.75      3329\n",
      "      neutral       0.61      0.81      0.69      3235\n",
      "contradiction       0.88      0.57      0.69      3278\n",
      "\n",
      "     accuracy                           0.71      9842\n",
      "    macro avg       0.74      0.71      0.71      9842\n",
      " weighted avg       0.74      0.71      0.71      9842\n",
      "\n",
      "Test Classification report\n",
      "               precision    recall  f1-score   support\n",
      "\n",
      "   entailment       0.74      0.75      0.74      3368\n",
      "      neutral       0.60      0.80      0.69      3219\n",
      "contradiction       0.88      0.58      0.70      3237\n",
      "\n",
      "     accuracy                           0.71      9824\n",
      "    macro avg       0.74      0.71      0.71      9824\n",
      " weighted avg       0.74      0.71      0.71      9824\n",
      "\n",
      "\n",
      "\n",
      "Epoch:  25\n",
      "Training\n"
     ]
    },
    {
     "name": "stderr",
     "output_type": "stream",
     "text": [
      "100%|████████████████████████████████████| 17168/17168 [01:35<00:00, 180.14it/s]\n"
     ]
    },
    {
     "name": "stdout",
     "output_type": "stream",
     "text": [
      "Validation\n"
     ]
    },
    {
     "name": "stderr",
     "output_type": "stream",
     "text": [
      "100%|████████████████████████████████████████| 308/308 [00:00<00:00, 461.43it/s]\n"
     ]
    },
    {
     "name": "stdout",
     "output_type": "stream",
     "text": [
      "Test\n"
     ]
    },
    {
     "name": "stderr",
     "output_type": "stream",
     "text": [
      "100%|████████████████████████████████████████| 307/307 [00:00<00:00, 459.70it/s]\n"
     ]
    },
    {
     "name": "stdout",
     "output_type": "stream",
     "text": [
      "Epoch:  25  Train Loss:  0.6789243235448089 Train Accuracy:  0.720440070117062\n",
      "Epoch:  25  Val Loss:  0.6707301367219393  Val Accuracy:  0.7351148140621825\n",
      "Epoch:  25 Test Loss:  0.6750525909836983  Test Accuracy:  0.7303542345276873\n",
      "\n",
      "Validation Classification report\n",
      "               precision    recall  f1-score   support\n",
      "\n",
      "   entailment       0.69      0.86      0.76      3329\n",
      "      neutral       0.72      0.68      0.70      3235\n",
      "contradiction       0.83      0.67      0.74      3278\n",
      "\n",
      "     accuracy                           0.74      9842\n",
      "    macro avg       0.74      0.73      0.73      9842\n",
      " weighted avg       0.74      0.74      0.73      9842\n",
      "\n",
      "Test Classification report\n",
      "               precision    recall  f1-score   support\n",
      "\n",
      "   entailment       0.68      0.84      0.75      3368\n",
      "      neutral       0.71      0.68      0.69      3219\n",
      "contradiction       0.83      0.67      0.74      3237\n",
      "\n",
      "     accuracy                           0.73      9824\n",
      "    macro avg       0.74      0.73      0.73      9824\n",
      " weighted avg       0.74      0.73      0.73      9824\n",
      "\n",
      "\n",
      "\n",
      "Epoch:  26\n",
      "Training\n"
     ]
    },
    {
     "name": "stderr",
     "output_type": "stream",
     "text": [
      "100%|████████████████████████████████████| 17168/17168 [01:32<00:00, 185.27it/s]\n"
     ]
    },
    {
     "name": "stdout",
     "output_type": "stream",
     "text": [
      "Validation\n"
     ]
    },
    {
     "name": "stderr",
     "output_type": "stream",
     "text": [
      "100%|████████████████████████████████████████| 308/308 [00:00<00:00, 358.17it/s]\n"
     ]
    },
    {
     "name": "stdout",
     "output_type": "stream",
     "text": [
      "Test\n"
     ]
    },
    {
     "name": "stderr",
     "output_type": "stream",
     "text": [
      "100%|████████████████████████████████████████| 307/307 [00:00<00:00, 383.91it/s]\n"
     ]
    },
    {
     "name": "stdout",
     "output_type": "stream",
     "text": [
      "Epoch:  26  Train Loss:  0.6762467468294548 Train Accuracy:  0.7213738721109932\n",
      "Epoch:  26  Val Loss:  0.7724729432881653  Val Accuracy:  0.6937614306035359\n",
      "Epoch:  26 Test Loss:  0.772441395233819  Test Accuracy:  0.6928949511400652\n",
      "\n",
      "Validation Classification report\n",
      "               precision    recall  f1-score   support\n",
      "\n",
      "   entailment       0.68      0.82      0.74      3329\n",
      "      neutral       0.84      0.42      0.56      3235\n",
      "contradiction       0.65      0.83      0.73      3278\n",
      "\n",
      "     accuracy                           0.69      9842\n",
      "    macro avg       0.72      0.69      0.68      9842\n",
      " weighted avg       0.72      0.69      0.68      9842\n",
      "\n",
      "Test Classification report\n",
      "               precision    recall  f1-score   support\n",
      "\n",
      "   entailment       0.68      0.82      0.75      3368\n",
      "      neutral       0.83      0.42      0.56      3219\n",
      "contradiction       0.65      0.83      0.73      3237\n",
      "\n",
      "     accuracy                           0.69      9824\n",
      "    macro avg       0.72      0.69      0.68      9824\n",
      " weighted avg       0.72      0.69      0.68      9824\n",
      "\n",
      "\n",
      "\n",
      "Epoch:  27\n",
      "Training\n"
     ]
    },
    {
     "name": "stderr",
     "output_type": "stream",
     "text": [
      "100%|████████████████████████████████████| 17168/17168 [01:32<00:00, 185.68it/s]\n"
     ]
    },
    {
     "name": "stdout",
     "output_type": "stream",
     "text": [
      "Validation\n"
     ]
    },
    {
     "name": "stderr",
     "output_type": "stream",
     "text": [
      "100%|████████████████████████████████████████| 308/308 [00:00<00:00, 441.96it/s]\n"
     ]
    },
    {
     "name": "stdout",
     "output_type": "stream",
     "text": [
      "Test\n"
     ]
    },
    {
     "name": "stderr",
     "output_type": "stream",
     "text": [
      "100%|████████████████████████████████████████| 307/307 [00:00<00:00, 431.85it/s]\n"
     ]
    },
    {
     "name": "stdout",
     "output_type": "stream",
     "text": [
      "Epoch:  27  Train Loss:  0.6760631127322904 Train Accuracy:  0.7225024437215923\n",
      "Epoch:  27  Val Loss:  0.6531030680839117  Val Accuracy:  0.732168258484048\n",
      "Epoch:  27 Test Loss:  0.6477794894760517  Test Accuracy:  0.7335097719869706\n",
      "\n",
      "Validation Classification report\n",
      "               precision    recall  f1-score   support\n",
      "\n",
      "   entailment       0.73      0.80      0.76      3329\n",
      "      neutral       0.69      0.70      0.69      3235\n",
      "contradiction       0.78      0.70      0.74      3278\n",
      "\n",
      "     accuracy                           0.73      9842\n",
      "    macro avg       0.73      0.73      0.73      9842\n",
      " weighted avg       0.73      0.73      0.73      9842\n",
      "\n",
      "Test Classification report\n",
      "               precision    recall  f1-score   support\n",
      "\n",
      "   entailment       0.73      0.80      0.76      3368\n",
      "      neutral       0.69      0.70      0.70      3219\n",
      "contradiction       0.79      0.70      0.74      3237\n",
      "\n",
      "     accuracy                           0.73      9824\n",
      "    macro avg       0.74      0.73      0.73      9824\n",
      " weighted avg       0.74      0.73      0.73      9824\n",
      "\n",
      "\n",
      "\n",
      "Epoch:  28\n",
      "Training\n"
     ]
    },
    {
     "name": "stderr",
     "output_type": "stream",
     "text": [
      "100%|████████████████████████████████████| 17168/17168 [01:40<00:00, 171.24it/s]\n"
     ]
    },
    {
     "name": "stdout",
     "output_type": "stream",
     "text": [
      "Validation\n"
     ]
    },
    {
     "name": "stderr",
     "output_type": "stream",
     "text": [
      "100%|████████████████████████████████████████| 308/308 [00:00<00:00, 393.68it/s]\n"
     ]
    },
    {
     "name": "stdout",
     "output_type": "stream",
     "text": [
      "Test\n"
     ]
    },
    {
     "name": "stderr",
     "output_type": "stream",
     "text": [
      "100%|████████████████████████████████████████| 307/307 [00:00<00:00, 392.65it/s]\n"
     ]
    },
    {
     "name": "stdout",
     "output_type": "stream",
     "text": [
      "Epoch:  28  Train Loss:  0.673331680830884 Train Accuracy:  0.7231704853039953\n",
      "Epoch:  28  Val Loss:  0.6860545108264143  Val Accuracy:  0.7248526722210933\n",
      "Epoch:  28 Test Loss:  0.6783484349615799  Test Accuracy:  0.7263843648208469\n",
      "\n",
      "Validation Classification report\n",
      "               precision    recall  f1-score   support\n",
      "\n",
      "   entailment       0.72      0.79      0.75      3329\n",
      "      neutral       0.75      0.60      0.67      3235\n",
      "contradiction       0.71      0.78      0.74      3278\n",
      "\n",
      "     accuracy                           0.72      9842\n",
      "    macro avg       0.73      0.72      0.72      9842\n",
      " weighted avg       0.73      0.72      0.72      9842\n",
      "\n",
      "Test Classification report\n",
      "               precision    recall  f1-score   support\n",
      "\n",
      "   entailment       0.72      0.80      0.76      3368\n",
      "      neutral       0.75      0.60      0.67      3219\n",
      "contradiction       0.71      0.78      0.74      3237\n",
      "\n",
      "     accuracy                           0.73      9824\n",
      "    macro avg       0.73      0.73      0.72      9824\n",
      " weighted avg       0.73      0.73      0.72      9824\n",
      "\n",
      "\n",
      "\n",
      "Epoch:  29\n",
      "Training\n"
     ]
    },
    {
     "name": "stderr",
     "output_type": "stream",
     "text": [
      "100%|████████████████████████████████████| 17168/17168 [01:30<00:00, 188.75it/s]\n"
     ]
    },
    {
     "name": "stdout",
     "output_type": "stream",
     "text": [
      "Validation\n"
     ]
    },
    {
     "name": "stderr",
     "output_type": "stream",
     "text": [
      "100%|████████████████████████████████████████| 308/308 [00:00<00:00, 431.45it/s]\n"
     ]
    },
    {
     "name": "stdout",
     "output_type": "stream",
     "text": [
      "Test\n"
     ]
    },
    {
     "name": "stderr",
     "output_type": "stream",
     "text": [
      "100%|████████████████████████████████████████| 307/307 [00:00<00:00, 444.38it/s]\n"
     ]
    },
    {
     "name": "stdout",
     "output_type": "stream",
     "text": [
      "Epoch:  29  Train Loss:  0.6734519656374356 Train Accuracy:  0.7228373746511895\n",
      "Epoch:  29  Val Loss:  0.66365189192357  Val Accuracy:  0.7318634423897582\n",
      "Epoch:  29 Test Loss:  0.6645120550250386  Test Accuracy:  0.7315757328990228\n",
      "\n",
      "Validation Classification report\n",
      "               precision    recall  f1-score   support\n",
      "\n",
      "   entailment       0.76      0.74      0.75      3329\n",
      "      neutral       0.68      0.69      0.69      3235\n",
      "contradiction       0.76      0.76      0.76      3278\n",
      "\n",
      "     accuracy                           0.73      9842\n",
      "    macro avg       0.73      0.73      0.73      9842\n",
      " weighted avg       0.73      0.73      0.73      9842\n",
      "\n",
      "Test Classification report\n",
      "               precision    recall  f1-score   support\n",
      "\n",
      "   entailment       0.75      0.75      0.75      3368\n",
      "      neutral       0.69      0.69      0.69      3219\n",
      "contradiction       0.75      0.75      0.75      3237\n",
      "\n",
      "     accuracy                           0.73      9824\n",
      "    macro avg       0.73      0.73      0.73      9824\n",
      " weighted avg       0.73      0.73      0.73      9824\n",
      "\n",
      "\n",
      "\n",
      "Epoch:  30\n",
      "Training\n"
     ]
    },
    {
     "name": "stderr",
     "output_type": "stream",
     "text": [
      "100%|████████████████████████████████████| 17168/17168 [01:33<00:00, 183.24it/s]\n"
     ]
    },
    {
     "name": "stdout",
     "output_type": "stream",
     "text": [
      "Validation\n"
     ]
    },
    {
     "name": "stderr",
     "output_type": "stream",
     "text": [
      "100%|████████████████████████████████████████| 308/308 [00:00<00:00, 438.90it/s]\n"
     ]
    },
    {
     "name": "stdout",
     "output_type": "stream",
     "text": [
      "Test\n"
     ]
    },
    {
     "name": "stderr",
     "output_type": "stream",
     "text": [
      "100%|████████████████████████████████████████| 307/307 [00:00<00:00, 450.84it/s]\n"
     ]
    },
    {
     "name": "stdout",
     "output_type": "stream",
     "text": [
      "Epoch:  30  Train Loss:  0.6722821749352745 Train Accuracy:  0.7239167987884237\n",
      "Epoch:  30  Val Loss:  0.669052271390116  Val Accuracy:  0.7260719365982524\n",
      "Epoch:  30 Test Loss:  0.6685523192734982  Test Accuracy:  0.7290309446254072\n",
      "\n",
      "Validation Classification report\n",
      "               precision    recall  f1-score   support\n",
      "\n",
      "   entailment       0.75      0.74      0.74      3329\n",
      "      neutral       0.68      0.68      0.68      3235\n",
      "contradiction       0.75      0.76      0.75      3278\n",
      "\n",
      "     accuracy                           0.73      9842\n",
      "    macro avg       0.73      0.73      0.73      9842\n",
      " weighted avg       0.73      0.73      0.73      9842\n",
      "\n",
      "Test Classification report\n",
      "               precision    recall  f1-score   support\n",
      "\n",
      "   entailment       0.75      0.75      0.75      3368\n",
      "      neutral       0.68      0.68      0.68      3219\n",
      "contradiction       0.75      0.75      0.75      3237\n",
      "\n",
      "     accuracy                           0.73      9824\n",
      "    macro avg       0.73      0.73      0.73      9824\n",
      " weighted avg       0.73      0.73      0.73      9824\n",
      "\n",
      "Total Train Loss 0.7306005491884081  Total Train Accuracy:  0.6889307754803862\n"
     ]
    },
    {
     "name": "stderr",
     "output_type": "stream",
     "text": [
      "100%|████████████████████████████████████████| 307/307 [00:00<00:00, 448.05it/s]\n"
     ]
    },
    {
     "name": "stdout",
     "output_type": "stream",
     "text": [
      "Test Loss:  0.6656459579638627  Test Accuracy:  0.7292345276872965\n",
      "               precision    recall  f1-score   support\n",
      "\n",
      "   entailment       0.76      0.74      0.75      3368\n",
      "      neutral       0.69      0.69      0.69      3219\n",
      "contradiction       0.75      0.76      0.75      3237\n",
      "\n",
      "     accuracy                           0.73      9824\n",
      "    macro avg       0.73      0.73      0.73      9824\n",
      " weighted avg       0.73      0.73      0.73      9824\n",
      "\n",
      "[[2481  568  319]\n",
      " [ 468 2231  520]\n",
      " [ 335  450 2452]]\n"
     ]
    }
   ],
   "source": [
    "#initialize the model with above parameters\n",
    "snli_model = NLI_LSTM(sembedding_matrix,INPUT_DIM, EMBEDDING_DIM, HIDDEN_DIM, OUTPUT_DIM, N_FC_LAYERS, DROPOUT)\n",
    "snli_model.to(device)\n",
    "#adam optimizer\n",
    "optimizer = optim.Adam(snli_model.parameters())\n",
    "#loss function\n",
    "criterion = nn.CrossEntropyLoss()\n",
    "#train\n",
    "snli_model = train(snli_model,strain_dataloader,sdev_dataloader,stest_dataloader,optimizer,criterion,datasetName,EPOCHS)\n",
    "\n",
    "#test\n",
    "test(snli_model,stest_dataloader,criterion)"
   ]
  },
  {
   "cell_type": "code",
   "execution_count": 13,
   "metadata": {},
   "outputs": [
    {
     "name": "stderr",
     "output_type": "stream",
     "text": [
      "100%|████████████████████████████████████████| 308/308 [00:01<00:00, 225.52it/s]\n"
     ]
    },
    {
     "name": "stdout",
     "output_type": "stream",
     "text": [
      "Test Loss:  1.0207105209301044  Test Accuracy:  0.47447111472742065\n",
      "               precision    recall  f1-score   support\n",
      "\n",
      "   entailment       0.54      0.24      0.33      3463\n",
      "      neutral       0.46      0.44      0.45      3129\n",
      "contradiction       0.46      0.76      0.58      3240\n",
      "\n",
      "     accuracy                           0.47      9832\n",
      "    macro avg       0.49      0.48      0.45      9832\n",
      " weighted avg       0.49      0.47      0.45      9832\n",
      "\n",
      "[[ 835 1120 1508]\n",
      " [ 433 1374 1322]\n",
      " [ 265  519 2456]]\n"
     ]
    }
   ],
   "source": [
    "INPUT_DIM = len(mword2index)\n",
    "mnli_model=NLI_LSTM(membedding_matrix,INPUT_DIM, EMBEDDING_DIM, HIDDEN_DIM, OUTPUT_DIM, N_FC_LAYERS, DROPOUT)\n",
    "mnli_model.to(device)\n",
    "mnli_model.load_state_dict(torch.load(\"../models/model_lstm_nli_mnli_ep_1.pt\"))\n",
    "\n",
    "\n",
    "#adam optimizer\n",
    "optimizer = optim.Adam(mnli_model.parameters())\n",
    "#loss function\n",
    "criterion = nn.CrossEntropyLoss()\n",
    "# #train\n",
    "# model = train(model,train_dataloader,dev_dataloader,test_dataloader,optimizer,criterion,datasetName,EPOCHS)\n",
    "\n",
    "#test\n",
    "test(mnli_model,mtest_dataloader,criterion)"
   ]
  },
  {
   "cell_type": "code",
   "execution_count": 14,
   "metadata": {},
   "outputs": [
    {
     "name": "stderr",
     "output_type": "stream",
     "text": [
      "100%|████████████████████████████████████████| 307/307 [00:00<00:00, 375.48it/s]\n"
     ]
    },
    {
     "name": "stdout",
     "output_type": "stream",
     "text": [
      "Test Loss:  0.7142397785613902  Test Accuracy:  0.7032776872964169\n",
      "               precision    recall  f1-score   support\n",
      "\n",
      "   entailment       0.68      0.81      0.74      3368\n",
      "      neutral       0.77      0.53      0.62      3219\n",
      "contradiction       0.69      0.77      0.73      3237\n",
      "\n",
      "     accuracy                           0.70      9824\n",
      "    macro avg       0.71      0.70      0.70      9824\n",
      " weighted avg       0.71      0.70      0.70      9824\n",
      "\n",
      "[[2725  255  388]\n",
      " [ 796 1693  730]\n",
      " [ 484  262 2491]]\n"
     ]
    }
   ],
   "source": [
    "INPUT_DIM = len(sword2index)\n",
    "snli_model=NLI_LSTM(sembedding_matrix,INPUT_DIM, EMBEDDING_DIM, HIDDEN_DIM, OUTPUT_DIM, N_FC_LAYERS, DROPOUT)\n",
    "snli_model.to(device)\n",
    "snli_model.load_state_dict(torch.load(\"../models/model_lstm_nli_snli_ep_10.pt\"))\n",
    "\n",
    "\n",
    "#adam optimizer\n",
    "optimizer = optim.Adam(snli_model.parameters())\n",
    "#loss function\n",
    "criterion = nn.CrossEntropyLoss()\n",
    "# #train\n",
    "# model = train(model,train_dataloader,dev_dataloader,test_dataloader,optimizer,criterion,datasetName,EPOCHS)\n",
    "\n",
    "#test\n",
    "test(snli_model,stest_dataloader,criterion)"
   ]
  }
 ],
 "metadata": {
  "kernelspec": {
   "display_name": "Python 3 (ipykernel)",
   "language": "python",
   "name": "python3"
  },
  "language_info": {
   "codemirror_mode": {
    "name": "ipython",
    "version": 3
   },
   "file_extension": ".py",
   "mimetype": "text/x-python",
   "name": "python",
   "nbconvert_exporter": "python",
   "pygments_lexer": "ipython3",
   "version": "3.10.6"
  }
 },
 "nbformat": 4,
 "nbformat_minor": 2
}
