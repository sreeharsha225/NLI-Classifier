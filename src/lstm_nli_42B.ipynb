{
  "cells": [
    {
      "cell_type": "code",
      "execution_count": 1,
      "metadata": {
        "colab": {
          "base_uri": "https://localhost:8080/"
        },
        "id": "PBS9nZ8EFtxb",
        "outputId": "15d3afad-88a4-4f2a-9f6b-4e99f827cdb2"
      },
      "outputs": [
        {
          "output_type": "stream",
          "name": "stdout",
          "text": [
            "Mounted at /content/gdrive\n"
          ]
        },
        {
          "output_type": "execute_result",
          "data": {
            "text/plain": [
              "device(type='cuda')"
            ]
          },
          "metadata": {},
          "execution_count": 1
        }
      ],
      "source": [
        "import torch\n",
        "import torch.nn as nn\n",
        "import torch.nn.functional as F\n",
        "import torch.optim as optim\n",
        "import numpy as np\n",
        "import pandas as pd\n",
        "import pickle\n",
        "from tqdm import tqdm\n",
        "import re\n",
        "import string\n",
        "import json\n",
        "import sys\n",
        "#import classificationreport\n",
        "from sklearn.metrics import classification_report, confusion_matrix\n",
        "from spacy.lang.en import English\n",
        "from google.colab import drive\n",
        "drive.mount('/content/gdrive')\n",
        "\n",
        "eng = English()\n",
        "tok = eng.tokenizer\n",
        "device = torch.device(\"cuda\" if torch.cuda.is_available() else \"cpu\")\n",
        "device"
      ]
    },
    {
      "cell_type": "code",
      "execution_count": 2,
      "metadata": {
        "id": "SwXnzc5KFtxi"
      },
      "outputs": [],
      "source": [
        "#NLI_LSTM with 3 class classification with dense layer\n",
        "class NLI_LSTM(nn.Module):\n",
        "    def __init__(self,embedding_matrix, vocab_size, embedding_dim, hidden_dim, output_dim,n_fc_layers, dropout):\n",
        "        super().__init__()\n",
        "        \n",
        "        self.embedding = nn.Embedding(vocab_size, embedding_dim)\n",
        "        self.embedding.weight.data.copy_(torch.from_numpy(embedding_matrix))\n",
        "        self.embedding.weight.requires_grad = False\n",
        "        self.lstm = nn.LSTM(embedding_dim, hidden_dim,batch_first=True)\n",
        "        self.fc=nn.ModuleList([nn.Linear(hidden_dim * 2,hidden_dim * 2) for i in range(n_fc_layers)])\n",
        "        self.linear=nn.Linear(hidden_dim * 2, output_dim)\n",
        "        self.dropout = nn.Dropout(dropout)\n",
        "        \n",
        "    \n",
        "    # forward pass\n",
        "    # NLI with 2 text inputs\n",
        "    def forward(self, text1, text2):\n",
        "        #text = [sent len, batch size]\n",
        "        embedded1 = self.dropout(self.embedding(text1))\n",
        "        embedded2 = self.dropout(self.embedding(text2))\n",
        "        #embedded = [sent len, batch size, emb dim]\n",
        "        output1, (hidden1, cell1) = self.lstm(embedded1)\n",
        "        output2, (hidden2, cell2) = self.lstm(embedded2)\n",
        "\n",
        "        hidden = torch.cat((hidden1,hidden2),dim=2)\n",
        "        hidden = torch.squeeze(hidden)\n",
        "\n",
        "        for i in range(len(self.fc)-1):\n",
        "            hidden = self.fc[i](hidden)\n",
        "            hidden = F.relu(hidden)\n",
        "            hidden = self.dropout(hidden)\n",
        "        \n",
        "        hidden = self.fc[len(self.fc)-1](hidden)\n",
        "        hidden = F.log_softmax(hidden,dim=1)\n",
        "        hidden = self.dropout(hidden)\n",
        "\n",
        "        hidden = self.linear(hidden)\n",
        "        #hidden = [batch size, output dim]\n",
        "        return hidden"
      ]
    },
    {
      "cell_type": "code",
      "execution_count": 3,
      "metadata": {
        "colab": {
          "base_uri": "https://localhost:8080/"
        },
        "id": "OI7bAIAAFtxk",
        "outputId": "a3c2fc9f-abe8-453d-dfd9-d5813a96d852"
      },
      "outputs": [
        {
          "output_type": "stream",
          "name": "stderr",
          "text": [
            "100%|██████████| 1917494/1917494 [01:48<00:00, 17672.32it/s]\n"
          ]
        }
      ],
      "source": [
        "#load glove vectors\n",
        "def load_glovevectors():\n",
        "  embeddings_index = {}\n",
        "  f = open('/content/gdrive/MyDrive/NLPProject/data/glove.42B.300d.txt', encoding=\"utf-8\")\n",
        "  lines=f.readlines()\n",
        "  # for line in f:\n",
        "  #     split = line.split()\n",
        "  #     embeddings_index[split[0]] = np.array([float(x) for x in split[1:]])\n",
        "  for line in tqdm(lines):\n",
        "      values = line.split()\n",
        "      word = values[0]\n",
        "      coefs = np.asarray(values[1:], dtype='float32')\n",
        "      embeddings_index[word] = coefs\n",
        "  f.close()\n",
        "  return embeddings_index\n",
        "\n",
        "embeddings_index=load_glovevectors()"
      ]
    },
    {
      "cell_type": "code",
      "execution_count": 4,
      "metadata": {
        "id": "XyyzzL7_Ftxk"
      },
      "outputs": [],
      "source": [
        "# tokenise input and remove punctuation and numbers using only regex\n",
        "def tokenize(text):\n",
        "    # text = re.sub(r'[^a-zA-Z ]', '', text)\n",
        "    # #convert to lowercase\n",
        "    # text = text.lower()\n",
        "    # return text.split()\n",
        "    text = re.sub(r\"[^\\x00-\\x7F]+\", \" \", text)\n",
        "    regex = re.compile('[' + re.escape(string.punctuation) + '0-9\\\\r\\\\t\\\\n]') # remove punctuation and numbers\n",
        "    nopunctext = regex.sub(\" \", text.lower())\n",
        "    return [token.text for token in tok(nopunctext)]\n",
        "\n",
        "UNK=\"<UNK>\"\n",
        "PAD=\"<PAD>\"\n",
        "\n",
        "#import data\n",
        "def getDataset(dataset_name=\"mnli\"):\n",
        "    if dataset_name==\"mnli\":\n",
        "        filepath_train=\"/content/gdrive/MyDrive/NLPProject/data/multinli_1.0/multinli_1.0/multinli_1.0_train.jsonl\"\n",
        "        filepath_dev=\"/content/gdrive/MyDrive/NLPProject/data/multinli_1.0/multinli_1.0/multinli_1.0_dev_matched.jsonl\"\n",
        "        filepath_test=\"/content/gdrive/MyDrive/NLPProject/data/multinli_1.0/multinli_1.0/multinli_1.0_dev_mismatched.jsonl\"\n",
        "    elif dataset_name==\"snli\":\n",
        "        filepath_train=\"/content/gdrive/MyDrive/NLPProject/data/snli_1.0/snli_1.0/snli_1.0_train.jsonl\"\n",
        "        filepath_dev=\"/content/gdrive/MyDrive/NLPProject/data/snli_1.0/snli_1.0/snli_1.0_dev.jsonl\"\n",
        "        filepath_test=\"/content/gdrive/MyDrive/NLPProject/data/snli_1.0/snli_1.0/snli_1.0_test.jsonl\"\n",
        "    else:\n",
        "        print(\"Invalid dataset name\")\n",
        "        return None\n",
        "    \n",
        "    #read train,dev and test data\n",
        "    labels = [\"contradiction\", \"entailment\", \"neutral\"]\n",
        "    f= open(filepath_train, \"r\")\n",
        "    data = list(f)\n",
        "    train_dataset={\"premise\":[],\"hypothesis\":[],\"label\":[]}\n",
        "    print(\"train data\")\n",
        "    for line in tqdm(data):\n",
        "        line = json.loads(line)\n",
        "        if line['gold_label'] not in labels:\n",
        "            # print(line['gold_label'])\n",
        "            continue\n",
        "        train_dataset[\"premise\"].append(line['sentence1'])\n",
        "        train_dataset[\"hypothesis\"].append(line['sentence2'])\n",
        "        train_dataset[\"label\"].append(line['gold_label'])\n",
        "    f.close()\n",
        "\n",
        "    f= open(filepath_dev, \"r\")\n",
        "    data = list(f)\n",
        "    dev_dataset={\"premise\":[],\"hypothesis\":[],\"label\":[]}\n",
        "    print(\"dev data\")\n",
        "    for line in tqdm(data):\n",
        "        line = json.loads(line)\n",
        "        if line['gold_label'] not in labels:\n",
        "            # print(line['gold_label'])\n",
        "            continue\n",
        "        dev_dataset[\"premise\"].append(line['sentence1'])\n",
        "        dev_dataset[\"hypothesis\"].append(line['sentence2'])\n",
        "        dev_dataset[\"label\"].append(line['gold_label'])\n",
        "    f.close()\n",
        "\n",
        "    f= open(filepath_test, \"r\")\n",
        "    data = list(f)\n",
        "    test_dataset={\"premise\":[],\"hypothesis\":[],\"label\":[]}\n",
        "    print(\"test data\")\n",
        "    for line in tqdm(data):\n",
        "        line = json.loads(line)\n",
        "        if line['gold_label'] not in labels:\n",
        "            # print(line['gold_label'])\n",
        "            continue\n",
        "        test_dataset[\"premise\"].append(line['sentence1'])\n",
        "        test_dataset[\"hypothesis\"].append(line['sentence2'])\n",
        "        test_dataset[\"label\"].append(line['gold_label'])\n",
        "    f.close()\n",
        "    \n",
        "    return train_dataset,dev_dataset,test_dataset\n",
        "\n",
        "def getWord2index(dataset):\n",
        "    word2index = {\"\":0,UNK:1,PAD:2}\n",
        "    for sentence in dataset[\"premise\"]:\n",
        "        for word in tokenize(sentence):\n",
        "            if word not in word2index:\n",
        "                word2index[word] = len(word2index)\n",
        "    for sentence in dataset[\"hypothesis\"]:\n",
        "        for word in tokenize(sentence):\n",
        "            if word not in word2index:\n",
        "                word2index[word] = len(word2index)\n",
        "    return word2index\n",
        "\n",
        "def getEmbeddingMatrix(word2index,emb_size=300):\n",
        "    embedding_matrix = np.zeros((len(word2index),emb_size),dtype=np.float32)\n",
        "    for word, i in word2index.items():\n",
        "        if i==0:\n",
        "            embedding_matrix[i] = np.zeros(emb_size)\n",
        "        elif word in embeddings_index:\n",
        "            embedding_matrix[i] = embeddings_index[word]\n",
        "        else:\n",
        "            embedding_matrix[i] = np.random.uniform(-0.25,0.25,emb_size)\n",
        "    return embedding_matrix\n",
        "\n",
        "def getLabel2index(dataset):\n",
        "    label2index = {\"entailment\":0,\"neutral\":1,\"contradiction\":2}\n",
        "    return label2index\n",
        "\n",
        "def getSentence2vector(sentence,word2index,padLength=32):\n",
        "    sentence = tokenize(sentence)\n",
        "    vector = []\n",
        "    for word in sentence:\n",
        "        if word in word2index:\n",
        "            vector.append(word2index[word])\n",
        "        else:\n",
        "            vector.append(word2index[UNK])\n",
        "    \n",
        "    if len(vector)>padLength:\n",
        "        vector=vector[:padLength]\n",
        "    else:\n",
        "        for i in range(padLength-len(vector)):\n",
        "            vector.append(word2index[PAD])\n",
        "    \n",
        "    if(len(vector)!=padLength):\n",
        "        print(\"Error in vector length\")\n",
        "    return np.array(vector)   "
      ]
    },
    {
      "cell_type": "code",
      "execution_count": 5,
      "metadata": {
        "id": "Kq2c1L1GFtxm"
      },
      "outputs": [],
      "source": [
        "def preprocess(dataset,word2index,label2index):\n",
        "    dataset[\"premise\"] = [getSentence2vector(sentence,word2index) for sentence in tqdm(dataset[\"premise\"])]\n",
        "    dataset[\"hypothesis\"] = [getSentence2vector(sentence,word2index) for sentence in tqdm(dataset[\"hypothesis\"])]\n",
        "    dataset[\"label\"] = [label2index[label] for label in dataset[\"label\"]]\n",
        "    return dataset\n",
        "\n",
        "def getDataloader(dataset,batch_size=32):\n",
        "    # print(len(dataset[\"premise\"]))\n",
        "    premise = torch.tensor(dataset[\"premise\"],dtype=torch.long)\n",
        "    hypothesis = torch.tensor(dataset[\"hypothesis\"],dtype=torch.long)\n",
        "    labels = torch.tensor(dataset[\"label\"],dtype=torch.long)\n",
        "    dataset = torch.utils.data.TensorDataset(premise,hypothesis,labels)\n",
        "    dataloader = torch.utils.data.DataLoader(dataset, batch_size=batch_size, shuffle=True)\n",
        "    return dataloader\n",
        "\n",
        "def prepData(dataset_name=\"mnli\"):\n",
        "    train_dataset,dev_dataset,test_dataset = getDataset(dataset_name)\n",
        "    word2index = getWord2index(train_dataset)\n",
        "    label2index = getLabel2index(train_dataset)\n",
        "    embedding_matrix = getEmbeddingMatrix(word2index)\n",
        "    #preprocess datasets\n",
        "    print(\"preprocess\")\n",
        "    train_dataset = preprocess(train_dataset,word2index,label2index)\n",
        "    dev_dataset = preprocess(dev_dataset,word2index,label2index)\n",
        "    test_dataset = preprocess(test_dataset,word2index,label2index)\n",
        "    #dataloader\n",
        "    train_dataloader = getDataloader(train_dataset)\n",
        "    dev_dataloader = getDataloader(dev_dataset)\n",
        "    test_dataloader = getDataloader(test_dataset)\n",
        "\n",
        "    return train_dataloader,dev_dataloader,test_dataloader,embedding_matrix,word2index\n"
      ]
    },
    {
      "cell_type": "code",
      "execution_count": 6,
      "metadata": {
        "id": "sqTzIXi2Ftxn"
      },
      "outputs": [],
      "source": [
        "def train(model,train_dataloader,dev_dataloader,test_dataloader,optimizer,criterion,datasetName,epochs=5):\n",
        "    \n",
        "    \n",
        "    f=open(f\"/content/gdrive/MyDrive/NLPProject/reports_and_results/report_lstm_nli_{datasetName}_foreachepoch.txt\",'w')\n",
        "    \n",
        "    total_loss=[]\n",
        "    total_acc=[]\n",
        "    for epoch in range(1,1+epochs):\n",
        "        ep_loss=0\n",
        "        ep_acc=0\n",
        "        train_total=0\n",
        "        val_total=0\n",
        "        test_total=0\n",
        "        print(\"\\n\\nEpoch: \",epoch)\n",
        "        #training\n",
        "        print(\"Training\")\n",
        "        for batch in tqdm(train_dataloader):\n",
        "            prem, hyp, label = batch\n",
        "            # print(len(prem),len(hyp),len(label))\n",
        "            optimizer.zero_grad()\n",
        "            prem, hyp, label= prem.to(device), hyp.to(device), label.to(device)\n",
        "            output = model(prem, hyp)\n",
        "            # print(len(output))\n",
        "            loss = criterion(output, label)\n",
        "            loss.backward()\n",
        "            optimizer.step()\n",
        "            ep_loss+=loss.item()\n",
        "            total_loss.append(loss.item())\n",
        "            acc = (output.argmax(1) == label).sum().item()\n",
        "            train_total+=label.size(0)\n",
        "            ep_acc+=acc\n",
        "        total_acc.append((ep_acc/train_total))\n",
        "        \n",
        "        print(\"Validation\")\n",
        "        #validation\n",
        "        val_y_true = []\n",
        "        val_y_pred = []\n",
        "        with torch.no_grad():\n",
        "            ep_val_loss=0\n",
        "            ep_val_acc=0\n",
        "            for batch in tqdm(dev_dataloader):\n",
        "                prem, hyp, label = batch\n",
        "                prem, hyp, label= prem.to(device), hyp.to(device), label.to(device)\n",
        "                output = model(prem, hyp)\n",
        "                loss = criterion(output, label)\n",
        "                val_y_true.extend(label.cpu())\n",
        "                val_y_pred.extend(output.cpu().argmax(1))\n",
        "                ep_val_loss+=loss.item()\n",
        "                acc = (output.argmax(1) == label).sum().item()\n",
        "                val_total+=label.size(0)\n",
        "                ep_val_acc+=acc\n",
        "        \n",
        "        print(\"Test\")\n",
        "        y_true = []\n",
        "        y_pred = []\n",
        "        with torch.no_grad():\n",
        "            ep_test_loss=0\n",
        "            ep_test_acc=0\n",
        "            for batch in tqdm(test_dataloader):\n",
        "                prem, hyp, label = batch\n",
        "                prem, hyp, label= prem.to(device), hyp.to(device), label.to(device)\n",
        "                output = model(prem, hyp)\n",
        "                y_true.extend(label.cpu())\n",
        "                y_pred.extend(output.cpu().argmax(1))\n",
        "                loss = criterion(output, label)\n",
        "                ep_test_loss+=loss.item()\n",
        "                acc = (output.argmax(1) == label).sum().item()\n",
        "                test_total+=label.size(0)\n",
        "                ep_test_acc+=acc\n",
        "                \n",
        "        print(\"Epoch: \",epoch,\" Train Loss: \",ep_loss/len(train_dataloader),\"Train Accuracy: \",ep_acc/train_total)\n",
        "\n",
        "        print(\"Epoch: \",epoch,\" Val Loss: \",ep_val_loss/len(dev_dataloader),\" Val Accuracy: \",ep_val_acc/val_total)\n",
        "\n",
        "        print(\"Epoch: \",epoch,\"Test Loss: \",ep_test_loss/len(test_dataloader),\" Test Accuracy: \",ep_test_acc/test_total)\n",
        "\n",
        "        print()\n",
        "        print(\"Validation Classification report\")\n",
        "\n",
        "        print(classification_report(val_y_true, val_y_pred, target_names=[\"entailment\",\"neutral\",\"contradiction\"]))\n",
        "        print(\"Test Classification report\")\n",
        "        print(classification_report(y_true, y_pred, target_names=[\"entailment\",\"neutral\",\"contradiction\"]))\n",
        "                \n",
        "        # orginal_stdout=sys.stdout\n",
        "        # sys.stdout=f \n",
        "        print(\"\\n\\nEpoch: \",epoch, file=f)\n",
        "\n",
        "        \n",
        "        print(\"Epoch: \",epoch,\" Train Loss: \",ep_loss/len(train_dataloader),\"Train Accuracy: \",ep_acc/train_total,file=f)\n",
        "\n",
        "        print(\"Epoch: \",epoch,\" Val Loss: \",ep_val_loss/len(dev_dataloader),\" Val Accuracy: \",ep_val_acc/val_total,file=f)\n",
        "\n",
        "        print(\"Epoch: \",epoch,\"Test Loss: \",ep_test_loss/len(test_dataloader),\" Test Accuracy: \",ep_test_acc/test_total,file=f)\n",
        "\n",
        "        print(file=f)\n",
        "        print(\"Validation Classification report\",file=f)\n",
        "\n",
        "        print(classification_report(val_y_true, val_y_pred, target_names=[\"entailment\",\"neutral\",\"contradiction\"]),file=f)\n",
        "        print(\"Test Classification report\",file=f)\n",
        "        print(classification_report(y_true, y_pred, target_names=[\"entailment\",\"neutral\",\"contradiction\"]),file=f)\n",
        "        #save model\n",
        "        torch.save(model.state_dict(), f\"/content/gdrive/MyDrive/NLPProject/models/model_lstm_nli_{datasetName}_ep_{epoch}.pt\")\n",
        "        # sys.stdout=orginal_stdout\n",
        "        \n",
        "    # sys.stdout=f\n",
        "    print(\"Total Train Loss\",sum(total_loss)/len(total_loss),\" Total Train Accuracy: \",sum(total_acc)/len(total_acc))\n",
        "              \n",
        "    # sys.stdout=orginal_stdout\n",
        "    print(\"Total Train Loss\",sum(total_loss)/len(total_loss),\" Total Train Accuracy: \",sum(total_acc)/len(total_acc),file=f)\n",
        "    f.close()\n",
        "    return model\n",
        "    "
      ]
    },
    {
      "cell_type": "code",
      "execution_count": 7,
      "metadata": {
        "id": "uMIw93_pFtxo"
      },
      "outputs": [],
      "source": [
        "def test(model,test_dataloader,criterion):\n",
        "#test\n",
        "    y_true = []\n",
        "    y_pred = []\n",
        "    test_total=0\n",
        "    with torch.no_grad():\n",
        "        ep_test_loss=0\n",
        "        ep_test_acc=0\n",
        "        for batch in tqdm(test_dataloader):\n",
        "            prem, hyp, label = batch\n",
        "            prem, hyp, label= prem.to(device), hyp.to(device), label.to(device)\n",
        "            output = model(prem, hyp)\n",
        "            y_true.extend(label.cpu())\n",
        "            y_pred.extend(output.cpu().argmax(1))\n",
        "            loss = criterion(output, label)\n",
        "            ep_test_loss+=loss.item()\n",
        "            acc = (output.argmax(1) == label).sum().item()\n",
        "            ep_test_acc+=acc\n",
        "            test_total+=label.size(0)\n",
        "\n",
        "        print(\"Test Loss: \",ep_test_loss/len(test_dataloader),\" Test Accuracy: \",ep_test_acc/test_total)\n",
        "        print(classification_report(y_true, y_pred, target_names=[\"entailment\",\"neutral\",\"contradiction\"]))\n",
        "        print(confusion_matrix(y_true, y_pred))\n",
        "        \n"
      ]
    },
    {
      "cell_type": "code",
      "execution_count": 8,
      "metadata": {
        "id": "k3mslojjFtxp"
      },
      "outputs": [],
      "source": [
        "EMBEDDING_DIM = 300\n",
        "HIDDEN_DIM = 100\n",
        "OUTPUT_DIM = 3\n",
        "N_FC_LAYERS = 2\n",
        "DROPOUT = 0.3\n",
        "EPOCHS = 30\n",
        "lr=0.001"
      ]
    },
    {
      "cell_type": "code",
      "execution_count": 9,
      "metadata": {
        "colab": {
          "base_uri": "https://localhost:8080/"
        },
        "id": "rRo9A0iWFtxp",
        "outputId": "027f4c60-0361-42dd-fda8-3b4e33437b83"
      },
      "outputs": [
        {
          "output_type": "stream",
          "name": "stdout",
          "text": [
            "train data\n"
          ]
        },
        {
          "output_type": "stream",
          "name": "stderr",
          "text": [
            "100%|██████████| 392702/392702 [00:02<00:00, 133877.92it/s]\n"
          ]
        },
        {
          "output_type": "stream",
          "name": "stdout",
          "text": [
            "dev data\n"
          ]
        },
        {
          "output_type": "stream",
          "name": "stderr",
          "text": [
            "100%|██████████| 10000/10000 [00:00<00:00, 131521.64it/s]\n"
          ]
        },
        {
          "output_type": "stream",
          "name": "stdout",
          "text": [
            "test data\n"
          ]
        },
        {
          "output_type": "stream",
          "name": "stderr",
          "text": [
            "100%|██████████| 10000/10000 [00:00<00:00, 127812.38it/s]\n"
          ]
        },
        {
          "output_type": "stream",
          "name": "stdout",
          "text": [
            "preprocess\n"
          ]
        },
        {
          "output_type": "stream",
          "name": "stderr",
          "text": [
            "100%|██████████| 392702/392702 [00:30<00:00, 13030.34it/s]\n",
            "100%|██████████| 392702/392702 [00:18<00:00, 21090.42it/s]\n",
            "100%|██████████| 9815/9815 [00:00<00:00, 13947.42it/s]\n",
            "100%|██████████| 9815/9815 [00:00<00:00, 23576.51it/s]\n",
            "100%|██████████| 9832/9832 [00:00<00:00, 12975.99it/s]\n",
            "100%|██████████| 9832/9832 [00:00<00:00, 22929.62it/s]\n",
            "<ipython-input-5-9b84d0d07f69>:9: UserWarning: Creating a tensor from a list of numpy.ndarrays is extremely slow. Please consider converting the list to a single numpy.ndarray with numpy.array() before converting to a tensor. (Triggered internally at ../torch/csrc/utils/tensor_new.cpp:245.)\n",
            "  premise = torch.tensor(dataset[\"premise\"],dtype=torch.long)\n"
          ]
        }
      ],
      "source": [
        "datasetName=\"mnli\"\n",
        "\n",
        "mtrain_dataloader,mdev_dataloader,mtest_dataloader,membedding_matrix,mword2index = prepData(datasetName)\n",
        "\n",
        "INPUT_DIM = len(mword2index)"
      ]
    },
    {
      "cell_type": "code",
      "execution_count": 10,
      "metadata": {
        "colab": {
          "base_uri": "https://localhost:8080/"
        },
        "id": "gzYpSpMAFtxq",
        "outputId": "2e98dc1e-b1b6-4087-adb0-05f8626daa25"
      },
      "outputs": [
        {
          "output_type": "stream",
          "name": "stdout",
          "text": [
            "\n",
            "\n",
            "Epoch:  1\n",
            "Training\n"
          ]
        },
        {
          "output_type": "stream",
          "name": "stderr",
          "text": [
            "100%|██████████| 12272/12272 [00:47<00:00, 256.90it/s]\n"
          ]
        },
        {
          "output_type": "stream",
          "name": "stdout",
          "text": [
            "Validation\n"
          ]
        },
        {
          "output_type": "stream",
          "name": "stderr",
          "text": [
            "100%|██████████| 307/307 [00:00<00:00, 568.50it/s]\n"
          ]
        },
        {
          "output_type": "stream",
          "name": "stdout",
          "text": [
            "Test\n"
          ]
        },
        {
          "output_type": "stream",
          "name": "stderr",
          "text": [
            "100%|██████████| 308/308 [00:00<00:00, 532.67it/s]\n"
          ]
        },
        {
          "output_type": "stream",
          "name": "stdout",
          "text": [
            "Epoch:  1  Train Loss:  1.1339195525902657 Train Accuracy:  0.38280171733273577\n",
            "Epoch:  1  Val Loss:  0.9871561915556072  Val Accuracy:  0.5001528273051452\n",
            "Epoch:  1 Test Loss:  0.9650772415198289  Test Accuracy:  0.5075264442636289\n",
            "\n",
            "Validation Classification report\n",
            "               precision    recall  f1-score   support\n",
            "\n",
            "   entailment       0.48      0.56      0.52      3479\n",
            "      neutral       0.44      0.45      0.44      3123\n",
            "contradiction       0.61      0.48      0.54      3213\n",
            "\n",
            "     accuracy                           0.50      9815\n",
            "    macro avg       0.51      0.50      0.50      9815\n",
            " weighted avg       0.51      0.50      0.50      9815\n",
            "\n",
            "Test Classification report\n",
            "               precision    recall  f1-score   support\n",
            "\n",
            "   entailment       0.49      0.53      0.51      3463\n",
            "      neutral       0.43      0.49      0.46      3129\n",
            "contradiction       0.65      0.50      0.56      3240\n",
            "\n",
            "     accuracy                           0.51      9832\n",
            "    macro avg       0.52      0.51      0.51      9832\n",
            " weighted avg       0.52      0.51      0.51      9832\n",
            "\n",
            "\n",
            "\n",
            "Epoch:  2\n",
            "Training\n"
          ]
        },
        {
          "output_type": "stream",
          "name": "stderr",
          "text": [
            "100%|██████████| 12272/12272 [00:48<00:00, 254.00it/s]\n"
          ]
        },
        {
          "output_type": "stream",
          "name": "stdout",
          "text": [
            "Validation\n"
          ]
        },
        {
          "output_type": "stream",
          "name": "stderr",
          "text": [
            "100%|██████████| 307/307 [00:00<00:00, 476.33it/s]\n"
          ]
        },
        {
          "output_type": "stream",
          "name": "stdout",
          "text": [
            "Test\n"
          ]
        },
        {
          "output_type": "stream",
          "name": "stderr",
          "text": [
            "100%|██████████| 308/308 [00:00<00:00, 389.95it/s]\n"
          ]
        },
        {
          "output_type": "stream",
          "name": "stdout",
          "text": [
            "Epoch:  2  Train Loss:  0.9939353745892119 Train Accuracy:  0.5131244556941396\n",
            "Epoch:  2  Val Loss:  0.9949678136005464  Val Accuracy:  0.5303107488537953\n",
            "Epoch:  2 Test Loss:  0.9953602877530184  Test Accuracy:  0.5309194467046379\n",
            "\n",
            "Validation Classification report\n",
            "               precision    recall  f1-score   support\n",
            "\n",
            "   entailment       0.45      0.91      0.61      3479\n",
            "      neutral       0.62      0.20      0.30      3123\n",
            "contradiction       0.78      0.44      0.56      3213\n",
            "\n",
            "     accuracy                           0.53      9815\n",
            "    macro avg       0.61      0.52      0.49      9815\n",
            " weighted avg       0.61      0.53      0.49      9815\n",
            "\n",
            "Test Classification report\n",
            "               precision    recall  f1-score   support\n",
            "\n",
            "   entailment       0.45      0.92      0.61      3463\n",
            "      neutral       0.60      0.19      0.29      3129\n",
            "contradiction       0.80      0.45      0.58      3240\n",
            "\n",
            "     accuracy                           0.53      9832\n",
            "    macro avg       0.62      0.52      0.49      9832\n",
            " weighted avg       0.61      0.53      0.49      9832\n",
            "\n",
            "\n",
            "\n",
            "Epoch:  3\n",
            "Training\n"
          ]
        },
        {
          "output_type": "stream",
          "name": "stderr",
          "text": [
            "100%|██████████| 12272/12272 [00:48<00:00, 253.76it/s]\n"
          ]
        },
        {
          "output_type": "stream",
          "name": "stdout",
          "text": [
            "Validation\n"
          ]
        },
        {
          "output_type": "stream",
          "name": "stderr",
          "text": [
            "100%|██████████| 307/307 [00:00<00:00, 554.69it/s]\n"
          ]
        },
        {
          "output_type": "stream",
          "name": "stdout",
          "text": [
            "Test\n"
          ]
        },
        {
          "output_type": "stream",
          "name": "stderr",
          "text": [
            "100%|██████████| 308/308 [00:00<00:00, 390.90it/s]\n"
          ]
        },
        {
          "output_type": "stream",
          "name": "stdout",
          "text": [
            "Epoch:  3  Train Loss:  0.955123092804342 Train Accuracy:  0.5448508028988902\n",
            "Epoch:  3  Val Loss:  0.9843822036193326  Val Accuracy:  0.5352012226184412\n",
            "Epoch:  3 Test Loss:  0.9571623554477444  Test Accuracy:  0.536106590724166\n",
            "\n",
            "Validation Classification report\n",
            "               precision    recall  f1-score   support\n",
            "\n",
            "   entailment       0.64      0.35      0.45      3479\n",
            "      neutral       0.48      0.53      0.50      3123\n",
            "contradiction       0.54      0.74      0.62      3213\n",
            "\n",
            "     accuracy                           0.54      9815\n",
            "    macro avg       0.55      0.54      0.53      9815\n",
            " weighted avg       0.55      0.54      0.52      9815\n",
            "\n",
            "Test Classification report\n",
            "               precision    recall  f1-score   support\n",
            "\n",
            "   entailment       0.63      0.34      0.45      3463\n",
            "      neutral       0.46      0.55      0.50      3129\n",
            "contradiction       0.56      0.73      0.63      3240\n",
            "\n",
            "     accuracy                           0.54      9832\n",
            "    macro avg       0.55      0.54      0.53      9832\n",
            " weighted avg       0.55      0.54      0.53      9832\n",
            "\n",
            "\n",
            "\n",
            "Epoch:  4\n",
            "Training\n"
          ]
        },
        {
          "output_type": "stream",
          "name": "stderr",
          "text": [
            "100%|██████████| 12272/12272 [00:48<00:00, 252.94it/s]\n"
          ]
        },
        {
          "output_type": "stream",
          "name": "stdout",
          "text": [
            "Validation\n"
          ]
        },
        {
          "output_type": "stream",
          "name": "stderr",
          "text": [
            "100%|██████████| 307/307 [00:00<00:00, 556.91it/s]\n"
          ]
        },
        {
          "output_type": "stream",
          "name": "stdout",
          "text": [
            "Test\n"
          ]
        },
        {
          "output_type": "stream",
          "name": "stderr",
          "text": [
            "100%|██████████| 308/308 [00:00<00:00, 388.47it/s]\n"
          ]
        },
        {
          "output_type": "stream",
          "name": "stdout",
          "text": [
            "Epoch:  4  Train Loss:  0.9359817954686117 Train Accuracy:  0.5592714068173832\n",
            "Epoch:  4  Val Loss:  0.8927540680096282  Val Accuracy:  0.5917473255221599\n",
            "Epoch:  4 Test Loss:  0.885173562285188  Test Accuracy:  0.5914361269324654\n",
            "\n",
            "Validation Classification report\n",
            "               precision    recall  f1-score   support\n",
            "\n",
            "   entailment       0.56      0.69      0.62      3479\n",
            "      neutral       0.55      0.47      0.51      3123\n",
            "contradiction       0.68      0.60      0.64      3213\n",
            "\n",
            "     accuracy                           0.59      9815\n",
            "    macro avg       0.60      0.59      0.59      9815\n",
            " weighted avg       0.60      0.59      0.59      9815\n",
            "\n",
            "Test Classification report\n",
            "               precision    recall  f1-score   support\n",
            "\n",
            "   entailment       0.55      0.70      0.62      3463\n",
            "      neutral       0.54      0.47      0.50      3129\n",
            "contradiction       0.71      0.60      0.65      3240\n",
            "\n",
            "     accuracy                           0.59      9832\n",
            "    macro avg       0.60      0.59      0.59      9832\n",
            " weighted avg       0.60      0.59      0.59      9832\n",
            "\n",
            "\n",
            "\n",
            "Epoch:  5\n",
            "Training\n"
          ]
        },
        {
          "output_type": "stream",
          "name": "stderr",
          "text": [
            "100%|██████████| 12272/12272 [00:49<00:00, 250.39it/s]\n"
          ]
        },
        {
          "output_type": "stream",
          "name": "stdout",
          "text": [
            "Validation\n"
          ]
        },
        {
          "output_type": "stream",
          "name": "stderr",
          "text": [
            "100%|██████████| 307/307 [00:00<00:00, 419.19it/s]\n"
          ]
        },
        {
          "output_type": "stream",
          "name": "stdout",
          "text": [
            "Test\n"
          ]
        },
        {
          "output_type": "stream",
          "name": "stderr",
          "text": [
            "100%|██████████| 308/308 [00:00<00:00, 382.28it/s]\n"
          ]
        },
        {
          "output_type": "stream",
          "name": "stdout",
          "text": [
            "Epoch:  5  Train Loss:  0.921299452348242 Train Accuracy:  0.5690039775707788\n",
            "Epoch:  5  Val Loss:  0.9964945828875812  Val Accuracy:  0.5242995415180846\n",
            "Epoch:  5 Test Loss:  0.979661915789951  Test Accuracy:  0.5203417412530512\n",
            "\n",
            "Validation Classification report\n",
            "               precision    recall  f1-score   support\n",
            "\n",
            "   entailment       0.64      0.41      0.50      3479\n",
            "      neutral       0.60      0.31      0.41      3123\n",
            "contradiction       0.46      0.86      0.60      3213\n",
            "\n",
            "     accuracy                           0.52      9815\n",
            "    macro avg       0.57      0.53      0.50      9815\n",
            " weighted avg       0.57      0.52      0.50      9815\n",
            "\n",
            "Test Classification report\n",
            "               precision    recall  f1-score   support\n",
            "\n",
            "   entailment       0.62      0.40      0.49      3463\n",
            "      neutral       0.56      0.30      0.39      3129\n",
            "contradiction       0.47      0.86      0.61      3240\n",
            "\n",
            "     accuracy                           0.52      9832\n",
            "    macro avg       0.55      0.52      0.50      9832\n",
            " weighted avg       0.55      0.52      0.50      9832\n",
            "\n",
            "\n",
            "\n",
            "Epoch:  6\n",
            "Training\n"
          ]
        },
        {
          "output_type": "stream",
          "name": "stderr",
          "text": [
            "100%|██████████| 12272/12272 [00:48<00:00, 251.82it/s]\n"
          ]
        },
        {
          "output_type": "stream",
          "name": "stdout",
          "text": [
            "Validation\n"
          ]
        },
        {
          "output_type": "stream",
          "name": "stderr",
          "text": [
            "100%|██████████| 307/307 [00:00<00:00, 452.96it/s]\n"
          ]
        },
        {
          "output_type": "stream",
          "name": "stdout",
          "text": [
            "Test\n"
          ]
        },
        {
          "output_type": "stream",
          "name": "stderr",
          "text": [
            "100%|██████████| 308/308 [00:01<00:00, 286.73it/s]\n"
          ]
        },
        {
          "output_type": "stream",
          "name": "stdout",
          "text": [
            "Epoch:  6  Train Loss:  0.91221976779751 Train Accuracy:  0.5760653116103305\n",
            "Epoch:  6  Val Loss:  0.8821630868150667  Val Accuracy:  0.6015282730514518\n",
            "Epoch:  6 Test Loss:  0.8750765414594056  Test Accuracy:  0.605166802278275\n",
            "\n",
            "Validation Classification report\n",
            "               precision    recall  f1-score   support\n",
            "\n",
            "   entailment       0.56      0.76      0.64      3479\n",
            "      neutral       0.56      0.46      0.50      3123\n",
            "contradiction       0.72      0.57      0.64      3213\n",
            "\n",
            "     accuracy                           0.60      9815\n",
            "    macro avg       0.61      0.60      0.60      9815\n",
            " weighted avg       0.61      0.60      0.60      9815\n",
            "\n",
            "Test Classification report\n",
            "               precision    recall  f1-score   support\n",
            "\n",
            "   entailment       0.56      0.76      0.64      3463\n",
            "      neutral       0.56      0.47      0.51      3129\n",
            "contradiction       0.74      0.57      0.65      3240\n",
            "\n",
            "     accuracy                           0.61      9832\n",
            "    macro avg       0.62      0.60      0.60      9832\n",
            " weighted avg       0.62      0.61      0.60      9832\n",
            "\n",
            "\n",
            "\n",
            "Epoch:  7\n",
            "Training\n"
          ]
        },
        {
          "output_type": "stream",
          "name": "stderr",
          "text": [
            "100%|██████████| 12272/12272 [00:53<00:00, 227.71it/s]\n"
          ]
        },
        {
          "output_type": "stream",
          "name": "stdout",
          "text": [
            "Validation\n"
          ]
        },
        {
          "output_type": "stream",
          "name": "stderr",
          "text": [
            "100%|██████████| 307/307 [00:00<00:00, 379.62it/s]\n"
          ]
        },
        {
          "output_type": "stream",
          "name": "stdout",
          "text": [
            "Test\n"
          ]
        },
        {
          "output_type": "stream",
          "name": "stderr",
          "text": [
            "100%|██████████| 308/308 [00:00<00:00, 565.07it/s]\n"
          ]
        },
        {
          "output_type": "stream",
          "name": "stdout",
          "text": [
            "Epoch:  7  Train Loss:  0.9060540228810118 Train Accuracy:  0.5804630483165352\n",
            "Epoch:  7  Val Loss:  0.8875146482977107  Val Accuracy:  0.5939887926642894\n",
            "Epoch:  7 Test Loss:  0.8751668974563673  Test Accuracy:  0.5944873881204231\n",
            "\n",
            "Validation Classification report\n",
            "               precision    recall  f1-score   support\n",
            "\n",
            "   entailment       0.57      0.69      0.62      3479\n",
            "      neutral       0.58      0.42      0.49      3123\n",
            "contradiction       0.64      0.66      0.65      3213\n",
            "\n",
            "     accuracy                           0.59      9815\n",
            "    macro avg       0.59      0.59      0.59      9815\n",
            " weighted avg       0.59      0.59      0.59      9815\n",
            "\n",
            "Test Classification report\n",
            "               precision    recall  f1-score   support\n",
            "\n",
            "   entailment       0.56      0.70      0.62      3463\n",
            "      neutral       0.57      0.41      0.48      3129\n",
            "contradiction       0.66      0.66      0.66      3240\n",
            "\n",
            "     accuracy                           0.59      9832\n",
            "    macro avg       0.60      0.59      0.59      9832\n",
            " weighted avg       0.60      0.59      0.59      9832\n",
            "\n",
            "\n",
            "\n",
            "Epoch:  8\n",
            "Training\n"
          ]
        },
        {
          "output_type": "stream",
          "name": "stderr",
          "text": [
            "100%|██████████| 12272/12272 [00:49<00:00, 246.81it/s]\n"
          ]
        },
        {
          "output_type": "stream",
          "name": "stdout",
          "text": [
            "Validation\n"
          ]
        },
        {
          "output_type": "stream",
          "name": "stderr",
          "text": [
            "100%|██████████| 307/307 [00:00<00:00, 381.43it/s]\n"
          ]
        },
        {
          "output_type": "stream",
          "name": "stdout",
          "text": [
            "Test\n"
          ]
        },
        {
          "output_type": "stream",
          "name": "stderr",
          "text": [
            "100%|██████████| 308/308 [00:00<00:00, 552.60it/s]\n"
          ]
        },
        {
          "output_type": "stream",
          "name": "stdout",
          "text": [
            "Epoch:  8  Train Loss:  0.8956930224177813 Train Accuracy:  0.5872289929768628\n",
            "Epoch:  8  Val Loss:  0.8725680763247735  Val Accuracy:  0.6012226184411615\n",
            "Epoch:  8 Test Loss:  0.8703588063453699  Test Accuracy:  0.5961147274206672\n",
            "\n",
            "Validation Classification report\n",
            "               precision    recall  f1-score   support\n",
            "\n",
            "   entailment       0.58      0.64      0.61      3479\n",
            "      neutral       0.55      0.54      0.55      3123\n",
            "contradiction       0.69      0.61      0.65      3213\n",
            "\n",
            "     accuracy                           0.60      9815\n",
            "    macro avg       0.60      0.60      0.60      9815\n",
            " weighted avg       0.60      0.60      0.60      9815\n",
            "\n",
            "Test Classification report\n",
            "               precision    recall  f1-score   support\n",
            "\n",
            "   entailment       0.57      0.64      0.60      3463\n",
            "      neutral       0.52      0.54      0.53      3129\n",
            "contradiction       0.72      0.61      0.66      3240\n",
            "\n",
            "     accuracy                           0.60      9832\n",
            "    macro avg       0.60      0.59      0.60      9832\n",
            " weighted avg       0.60      0.60      0.60      9832\n",
            "\n",
            "\n",
            "\n",
            "Epoch:  9\n",
            "Training\n"
          ]
        },
        {
          "output_type": "stream",
          "name": "stderr",
          "text": [
            "100%|██████████| 12272/12272 [00:49<00:00, 247.22it/s]\n"
          ]
        },
        {
          "output_type": "stream",
          "name": "stdout",
          "text": [
            "Validation\n"
          ]
        },
        {
          "output_type": "stream",
          "name": "stderr",
          "text": [
            "100%|██████████| 307/307 [00:00<00:00, 560.25it/s]\n"
          ]
        },
        {
          "output_type": "stream",
          "name": "stdout",
          "text": [
            "Test\n"
          ]
        },
        {
          "output_type": "stream",
          "name": "stderr",
          "text": [
            "100%|██████████| 308/308 [00:00<00:00, 547.59it/s]\n"
          ]
        },
        {
          "output_type": "stream",
          "name": "stdout",
          "text": [
            "Epoch:  9  Train Loss:  0.8909064949607911 Train Accuracy:  0.5909340925179908\n",
            "Epoch:  9  Val Loss:  0.8667466397782491  Val Accuracy:  0.6124299541518085\n",
            "Epoch:  9 Test Loss:  0.8597485552747528  Test Accuracy:  0.6041497152156224\n",
            "\n",
            "Validation Classification report\n",
            "               precision    recall  f1-score   support\n",
            "\n",
            "   entailment       0.56      0.77      0.65      3479\n",
            "      neutral       0.58      0.47      0.52      3123\n",
            "contradiction       0.74      0.58      0.65      3213\n",
            "\n",
            "     accuracy                           0.61      9815\n",
            "    macro avg       0.63      0.61      0.61      9815\n",
            " weighted avg       0.63      0.61      0.61      9815\n",
            "\n",
            "Test Classification report\n",
            "               precision    recall  f1-score   support\n",
            "\n",
            "   entailment       0.55      0.75      0.64      3463\n",
            "      neutral       0.55      0.48      0.51      3129\n",
            "contradiction       0.76      0.57      0.65      3240\n",
            "\n",
            "     accuracy                           0.60      9832\n",
            "    macro avg       0.62      0.60      0.60      9832\n",
            " weighted avg       0.62      0.60      0.60      9832\n",
            "\n",
            "\n",
            "\n",
            "Epoch:  10\n",
            "Training\n"
          ]
        },
        {
          "output_type": "stream",
          "name": "stderr",
          "text": [
            "100%|██████████| 12272/12272 [00:49<00:00, 246.13it/s]\n"
          ]
        },
        {
          "output_type": "stream",
          "name": "stdout",
          "text": [
            "Validation\n"
          ]
        },
        {
          "output_type": "stream",
          "name": "stderr",
          "text": [
            "100%|██████████| 307/307 [00:00<00:00, 545.46it/s]\n"
          ]
        },
        {
          "output_type": "stream",
          "name": "stdout",
          "text": [
            "Test\n"
          ]
        },
        {
          "output_type": "stream",
          "name": "stderr",
          "text": [
            "100%|██████████| 308/308 [00:00<00:00, 508.60it/s]\n"
          ]
        },
        {
          "output_type": "stream",
          "name": "stdout",
          "text": [
            "Epoch:  10  Train Loss:  0.8859390498805583 Train Accuracy:  0.5942826876359173\n",
            "Epoch:  10  Val Loss:  0.9174848884247025  Val Accuracy:  0.5981660723382578\n",
            "Epoch:  10 Test Loss:  0.914926820567676  Test Accuracy:  0.5958096013018714\n",
            "\n",
            "Validation Classification report\n",
            "               precision    recall  f1-score   support\n",
            "\n",
            "   entailment       0.53      0.86      0.66      3479\n",
            "      neutral       0.69      0.28      0.40      3123\n",
            "contradiction       0.69      0.62      0.65      3213\n",
            "\n",
            "     accuracy                           0.60      9815\n",
            "    macro avg       0.64      0.59      0.57      9815\n",
            " weighted avg       0.63      0.60      0.57      9815\n",
            "\n",
            "Test Classification report\n",
            "               precision    recall  f1-score   support\n",
            "\n",
            "   entailment       0.52      0.86      0.65      3463\n",
            "      neutral       0.66      0.27      0.39      3129\n",
            "contradiction       0.71      0.62      0.66      3240\n",
            "\n",
            "     accuracy                           0.60      9832\n",
            "    macro avg       0.63      0.59      0.57      9832\n",
            " weighted avg       0.63      0.60      0.57      9832\n",
            "\n",
            "\n",
            "\n",
            "Epoch:  11\n",
            "Training\n"
          ]
        },
        {
          "output_type": "stream",
          "name": "stderr",
          "text": [
            "100%|██████████| 12272/12272 [00:50<00:00, 243.75it/s]\n"
          ]
        },
        {
          "output_type": "stream",
          "name": "stdout",
          "text": [
            "Validation\n"
          ]
        },
        {
          "output_type": "stream",
          "name": "stderr",
          "text": [
            "100%|██████████| 307/307 [00:00<00:00, 549.57it/s]\n"
          ]
        },
        {
          "output_type": "stream",
          "name": "stdout",
          "text": [
            "Test\n"
          ]
        },
        {
          "output_type": "stream",
          "name": "stderr",
          "text": [
            "100%|██████████| 308/308 [00:00<00:00, 544.47it/s]\n"
          ]
        },
        {
          "output_type": "stream",
          "name": "stdout",
          "text": [
            "Epoch:  11  Train Loss:  0.8806241412696852 Train Accuracy:  0.59656176948424\n",
            "Epoch:  11  Val Loss:  0.9099871780274357  Val Accuracy:  0.5736118186449313\n",
            "Epoch:  11 Test Loss:  0.9102115344691586  Test Accuracy:  0.5725183075671277\n",
            "\n",
            "Validation Classification report\n",
            "               precision    recall  f1-score   support\n",
            "\n",
            "   entailment       0.65      0.42      0.51      3479\n",
            "      neutral       0.49      0.62      0.55      3123\n",
            "contradiction       0.61      0.70      0.65      3213\n",
            "\n",
            "     accuracy                           0.57      9815\n",
            "    macro avg       0.58      0.58      0.57      9815\n",
            " weighted avg       0.59      0.57      0.57      9815\n",
            "\n",
            "Test Classification report\n",
            "               precision    recall  f1-score   support\n",
            "\n",
            "   entailment       0.63      0.43      0.51      3463\n",
            "      neutral       0.48      0.60      0.54      3129\n",
            "contradiction       0.64      0.70      0.66      3240\n",
            "\n",
            "     accuracy                           0.57      9832\n",
            "    macro avg       0.58      0.58      0.57      9832\n",
            " weighted avg       0.58      0.57      0.57      9832\n",
            "\n",
            "\n",
            "\n",
            "Epoch:  12\n",
            "Training\n"
          ]
        },
        {
          "output_type": "stream",
          "name": "stderr",
          "text": [
            "100%|██████████| 12272/12272 [00:49<00:00, 249.62it/s]\n"
          ]
        },
        {
          "output_type": "stream",
          "name": "stdout",
          "text": [
            "Validation\n"
          ]
        },
        {
          "output_type": "stream",
          "name": "stderr",
          "text": [
            "100%|██████████| 307/307 [00:00<00:00, 575.44it/s]\n"
          ]
        },
        {
          "output_type": "stream",
          "name": "stdout",
          "text": [
            "Test\n"
          ]
        },
        {
          "output_type": "stream",
          "name": "stderr",
          "text": [
            "100%|██████████| 308/308 [00:00<00:00, 551.87it/s]\n"
          ]
        },
        {
          "output_type": "stream",
          "name": "stdout",
          "text": [
            "Epoch:  12  Train Loss:  0.8829293975720699 Train Accuracy:  0.5975447031082093\n",
            "Epoch:  12  Val Loss:  0.8864622888813578  Val Accuracy:  0.6041772796739684\n",
            "Epoch:  12 Test Loss:  0.8808493918025648  Test Accuracy:  0.5992676973148902\n",
            "\n",
            "Validation Classification report\n",
            "               precision    recall  f1-score   support\n",
            "\n",
            "   entailment       0.60      0.64      0.62      3479\n",
            "      neutral       0.64      0.41      0.50      3123\n",
            "contradiction       0.59      0.75      0.66      3213\n",
            "\n",
            "     accuracy                           0.60      9815\n",
            "    macro avg       0.61      0.60      0.59      9815\n",
            " weighted avg       0.61      0.60      0.60      9815\n",
            "\n",
            "Test Classification report\n",
            "               precision    recall  f1-score   support\n",
            "\n",
            "   entailment       0.60      0.66      0.63      3463\n",
            "      neutral       0.62      0.40      0.48      3129\n",
            "contradiction       0.59      0.73      0.66      3240\n",
            "\n",
            "     accuracy                           0.60      9832\n",
            "    macro avg       0.60      0.60      0.59      9832\n",
            " weighted avg       0.60      0.60      0.59      9832\n",
            "\n",
            "\n",
            "\n",
            "Epoch:  13\n",
            "Training\n"
          ]
        },
        {
          "output_type": "stream",
          "name": "stderr",
          "text": [
            "100%|██████████| 12272/12272 [00:49<00:00, 249.44it/s]\n"
          ]
        },
        {
          "output_type": "stream",
          "name": "stdout",
          "text": [
            "Validation\n"
          ]
        },
        {
          "output_type": "stream",
          "name": "stderr",
          "text": [
            "100%|██████████| 307/307 [00:00<00:00, 576.08it/s]\n"
          ]
        },
        {
          "output_type": "stream",
          "name": "stdout",
          "text": [
            "Test\n"
          ]
        },
        {
          "output_type": "stream",
          "name": "stderr",
          "text": [
            "100%|██████████| 308/308 [00:00<00:00, 554.57it/s]\n"
          ]
        },
        {
          "output_type": "stream",
          "name": "stdout",
          "text": [
            "Epoch:  13  Train Loss:  0.873731958756352 Train Accuracy:  0.6013593004364632\n",
            "Epoch:  13  Val Loss:  0.859783525381492  Val Accuracy:  0.612633723892002\n",
            "Epoch:  13 Test Loss:  0.858691183100273  Test Accuracy:  0.6119812855980472\n",
            "\n",
            "Validation Classification report\n",
            "               precision    recall  f1-score   support\n",
            "\n",
            "   entailment       0.55      0.79      0.65      3479\n",
            "      neutral       0.62      0.42      0.50      3123\n",
            "contradiction       0.72      0.61      0.66      3213\n",
            "\n",
            "     accuracy                           0.61      9815\n",
            "    macro avg       0.63      0.61      0.60      9815\n",
            " weighted avg       0.63      0.61      0.61      9815\n",
            "\n",
            "Test Classification report\n",
            "               precision    recall  f1-score   support\n",
            "\n",
            "   entailment       0.55      0.80      0.65      3463\n",
            "      neutral       0.61      0.42      0.49      3129\n",
            "contradiction       0.74      0.60      0.66      3240\n",
            "\n",
            "     accuracy                           0.61      9832\n",
            "    macro avg       0.63      0.61      0.60      9832\n",
            " weighted avg       0.63      0.61      0.60      9832\n",
            "\n",
            "\n",
            "\n",
            "Epoch:  14\n",
            "Training\n"
          ]
        },
        {
          "output_type": "stream",
          "name": "stderr",
          "text": [
            "100%|██████████| 12272/12272 [00:49<00:00, 249.26it/s]\n"
          ]
        },
        {
          "output_type": "stream",
          "name": "stdout",
          "text": [
            "Validation\n"
          ]
        },
        {
          "output_type": "stream",
          "name": "stderr",
          "text": [
            "100%|██████████| 307/307 [00:00<00:00, 539.56it/s]\n"
          ]
        },
        {
          "output_type": "stream",
          "name": "stdout",
          "text": [
            "Test\n"
          ]
        },
        {
          "output_type": "stream",
          "name": "stderr",
          "text": [
            "100%|██████████| 308/308 [00:00<00:00, 557.98it/s]\n"
          ]
        },
        {
          "output_type": "stream",
          "name": "stdout",
          "text": [
            "Epoch:  14  Train Loss:  0.8705957472892636 Train Accuracy:  0.6045245504224578\n",
            "Epoch:  14  Val Loss:  0.9950636530155468  Val Accuracy:  0.580030565461029\n",
            "Epoch:  14 Test Loss:  0.9675192703287323  Test Accuracy:  0.5899104963384866\n",
            "\n",
            "Validation Classification report\n",
            "               precision    recall  f1-score   support\n",
            "\n",
            "   entailment       0.56      0.74      0.63      3479\n",
            "      neutral       0.73      0.23      0.34      3123\n",
            "contradiction       0.57      0.75      0.65      3213\n",
            "\n",
            "     accuracy                           0.58      9815\n",
            "    macro avg       0.62      0.57      0.54      9815\n",
            " weighted avg       0.62      0.58      0.55      9815\n",
            "\n",
            "Test Classification report\n",
            "               precision    recall  f1-score   support\n",
            "\n",
            "   entailment       0.56      0.77      0.65      3463\n",
            "      neutral       0.72      0.22      0.34      3129\n",
            "contradiction       0.59      0.75      0.66      3240\n",
            "\n",
            "     accuracy                           0.59      9832\n",
            "    macro avg       0.63      0.58      0.55      9832\n",
            " weighted avg       0.62      0.59      0.55      9832\n",
            "\n",
            "\n",
            "\n",
            "Epoch:  15\n",
            "Training\n"
          ]
        },
        {
          "output_type": "stream",
          "name": "stderr",
          "text": [
            "100%|██████████| 12272/12272 [00:48<00:00, 250.75it/s]\n"
          ]
        },
        {
          "output_type": "stream",
          "name": "stdout",
          "text": [
            "Validation\n"
          ]
        },
        {
          "output_type": "stream",
          "name": "stderr",
          "text": [
            "100%|██████████| 307/307 [00:00<00:00, 561.17it/s]\n"
          ]
        },
        {
          "output_type": "stream",
          "name": "stdout",
          "text": [
            "Test\n"
          ]
        },
        {
          "output_type": "stream",
          "name": "stderr",
          "text": [
            "100%|██████████| 308/308 [00:00<00:00, 549.77it/s]\n"
          ]
        },
        {
          "output_type": "stream",
          "name": "stdout",
          "text": [
            "Epoch:  15  Train Loss:  0.8699438528144414 Train Accuracy:  0.6065515327143738\n",
            "Epoch:  15  Val Loss:  0.8895130881657429  Val Accuracy:  0.6009169638308711\n",
            "Epoch:  15 Test Loss:  0.8879072542314406  Test Accuracy:  0.5990642799023597\n",
            "\n",
            "Validation Classification report\n",
            "               precision    recall  f1-score   support\n",
            "\n",
            "   entailment       0.54      0.83      0.65      3479\n",
            "      neutral       0.65      0.35      0.46      3123\n",
            "contradiction       0.69      0.59      0.64      3213\n",
            "\n",
            "     accuracy                           0.60      9815\n",
            "    macro avg       0.63      0.59      0.58      9815\n",
            " weighted avg       0.62      0.60      0.59      9815\n",
            "\n",
            "Test Classification report\n",
            "               precision    recall  f1-score   support\n",
            "\n",
            "   entailment       0.53      0.83      0.65      3463\n",
            "      neutral       0.64      0.34      0.44      3129\n",
            "contradiction       0.71      0.60      0.65      3240\n",
            "\n",
            "     accuracy                           0.60      9832\n",
            "    macro avg       0.63      0.59      0.58      9832\n",
            " weighted avg       0.62      0.60      0.58      9832\n",
            "\n",
            "\n",
            "\n",
            "Epoch:  16\n",
            "Training\n"
          ]
        },
        {
          "output_type": "stream",
          "name": "stderr",
          "text": [
            "100%|██████████| 12272/12272 [00:49<00:00, 247.59it/s]\n"
          ]
        },
        {
          "output_type": "stream",
          "name": "stdout",
          "text": [
            "Validation\n"
          ]
        },
        {
          "output_type": "stream",
          "name": "stderr",
          "text": [
            "100%|██████████| 307/307 [00:00<00:00, 544.12it/s]\n"
          ]
        },
        {
          "output_type": "stream",
          "name": "stdout",
          "text": [
            "Test\n"
          ]
        },
        {
          "output_type": "stream",
          "name": "stderr",
          "text": [
            "100%|██████████| 308/308 [00:00<00:00, 553.67it/s]\n"
          ]
        },
        {
          "output_type": "stream",
          "name": "stdout",
          "text": [
            "Epoch:  16  Train Loss:  0.8681552492645527 Train Accuracy:  0.606439488467082\n",
            "Epoch:  16  Val Loss:  0.8645022587201494  Val Accuracy:  0.615078960774325\n",
            "Epoch:  16 Test Loss:  0.8646043844811329  Test Accuracy:  0.6139137510170871\n",
            "\n",
            "Validation Classification report\n",
            "               precision    recall  f1-score   support\n",
            "\n",
            "   entailment       0.59      0.67      0.63      3479\n",
            "      neutral       0.55      0.58      0.56      3123\n",
            "contradiction       0.73      0.59      0.66      3213\n",
            "\n",
            "     accuracy                           0.62      9815\n",
            "    macro avg       0.62      0.61      0.62      9815\n",
            " weighted avg       0.62      0.62      0.62      9815\n",
            "\n",
            "Test Classification report\n",
            "               precision    recall  f1-score   support\n",
            "\n",
            "   entailment       0.59      0.67      0.63      3463\n",
            "      neutral       0.54      0.58      0.56      3129\n",
            "contradiction       0.74      0.59      0.66      3240\n",
            "\n",
            "     accuracy                           0.61      9832\n",
            "    macro avg       0.63      0.61      0.61      9832\n",
            " weighted avg       0.63      0.61      0.62      9832\n",
            "\n",
            "\n",
            "\n",
            "Epoch:  17\n",
            "Training\n"
          ]
        },
        {
          "output_type": "stream",
          "name": "stderr",
          "text": [
            "100%|██████████| 12272/12272 [00:49<00:00, 249.50it/s]\n"
          ]
        },
        {
          "output_type": "stream",
          "name": "stdout",
          "text": [
            "Validation\n"
          ]
        },
        {
          "output_type": "stream",
          "name": "stderr",
          "text": [
            "100%|██████████| 307/307 [00:00<00:00, 527.00it/s]\n"
          ]
        },
        {
          "output_type": "stream",
          "name": "stdout",
          "text": [
            "Test\n"
          ]
        },
        {
          "output_type": "stream",
          "name": "stderr",
          "text": [
            "100%|██████████| 308/308 [00:00<00:00, 574.93it/s]\n"
          ]
        },
        {
          "output_type": "stream",
          "name": "stdout",
          "text": [
            "Epoch:  17  Train Loss:  0.8627858251804362 Train Accuracy:  0.6101369486277126\n",
            "Epoch:  17  Val Loss:  0.9293595719415124  Val Accuracy:  0.5771777890983188\n",
            "Epoch:  17 Test Loss:  0.9160511333059955  Test Accuracy:  0.580553295362083\n",
            "\n",
            "Validation Classification report\n",
            "               precision    recall  f1-score   support\n",
            "\n",
            "   entailment       0.66      0.44      0.53      3479\n",
            "      neutral       0.55      0.53      0.54      3123\n",
            "contradiction       0.55      0.77      0.64      3213\n",
            "\n",
            "     accuracy                           0.58      9815\n",
            "    macro avg       0.59      0.58      0.57      9815\n",
            " weighted avg       0.59      0.58      0.57      9815\n",
            "\n",
            "Test Classification report\n",
            "               precision    recall  f1-score   support\n",
            "\n",
            "   entailment       0.65      0.45      0.53      3463\n",
            "      neutral       0.55      0.54      0.54      3129\n",
            "contradiction       0.57      0.76      0.65      3240\n",
            "\n",
            "     accuracy                           0.58      9832\n",
            "    macro avg       0.59      0.58      0.57      9832\n",
            " weighted avg       0.59      0.58      0.57      9832\n",
            "\n",
            "\n",
            "\n",
            "Epoch:  18\n",
            "Training\n"
          ]
        },
        {
          "output_type": "stream",
          "name": "stderr",
          "text": [
            "100%|██████████| 12272/12272 [00:49<00:00, 248.24it/s]\n"
          ]
        },
        {
          "output_type": "stream",
          "name": "stdout",
          "text": [
            "Validation\n"
          ]
        },
        {
          "output_type": "stream",
          "name": "stderr",
          "text": [
            "100%|██████████| 307/307 [00:00<00:00, 553.50it/s]\n"
          ]
        },
        {
          "output_type": "stream",
          "name": "stdout",
          "text": [
            "Test\n"
          ]
        },
        {
          "output_type": "stream",
          "name": "stderr",
          "text": [
            "100%|██████████| 308/308 [00:00<00:00, 379.69it/s]\n"
          ]
        },
        {
          "output_type": "stream",
          "name": "stdout",
          "text": [
            "Epoch:  18  Train Loss:  0.8623975596112603 Train Accuracy:  0.6098721167704774\n",
            "Epoch:  18  Val Loss:  0.915097862190843  Val Accuracy:  0.596128374936322\n",
            "Epoch:  18 Test Loss:  0.8962891634021487  Test Accuracy:  0.6049633848657445\n",
            "\n",
            "Validation Classification report\n",
            "               precision    recall  f1-score   support\n",
            "\n",
            "   entailment       0.55      0.81      0.66      3479\n",
            "      neutral       0.69      0.27      0.39      3123\n",
            "contradiction       0.63      0.68      0.65      3213\n",
            "\n",
            "     accuracy                           0.60      9815\n",
            "    macro avg       0.62      0.59      0.57      9815\n",
            " weighted avg       0.62      0.60      0.57      9815\n",
            "\n",
            "Test Classification report\n",
            "               precision    recall  f1-score   support\n",
            "\n",
            "   entailment       0.55      0.83      0.66      3463\n",
            "      neutral       0.68      0.28      0.40      3129\n",
            "contradiction       0.66      0.68      0.67      3240\n",
            "\n",
            "     accuracy                           0.60      9832\n",
            "    macro avg       0.63      0.60      0.58      9832\n",
            " weighted avg       0.63      0.60      0.58      9832\n",
            "\n",
            "\n",
            "\n",
            "Epoch:  19\n",
            "Training\n"
          ]
        },
        {
          "output_type": "stream",
          "name": "stderr",
          "text": [
            "100%|██████████| 12272/12272 [00:49<00:00, 246.21it/s]\n"
          ]
        },
        {
          "output_type": "stream",
          "name": "stdout",
          "text": [
            "Validation\n"
          ]
        },
        {
          "output_type": "stream",
          "name": "stderr",
          "text": [
            "100%|██████████| 307/307 [00:00<00:00, 370.78it/s]\n"
          ]
        },
        {
          "output_type": "stream",
          "name": "stdout",
          "text": [
            "Test\n"
          ]
        },
        {
          "output_type": "stream",
          "name": "stderr",
          "text": [
            "100%|██████████| 308/308 [00:00<00:00, 548.78it/s]\n"
          ]
        },
        {
          "output_type": "stream",
          "name": "stdout",
          "text": [
            "Epoch:  19  Train Loss:  0.860902876438964 Train Accuracy:  0.6105723933160514\n",
            "Epoch:  19  Val Loss:  0.8645170593106397  Val Accuracy:  0.6173204279164544\n",
            "Epoch:  19 Test Loss:  0.8597949400737688  Test Accuracy:  0.6176769731489016\n",
            "\n",
            "Validation Classification report\n",
            "               precision    recall  f1-score   support\n",
            "\n",
            "   entailment       0.61      0.63      0.62      3479\n",
            "      neutral       0.55      0.58      0.57      3123\n",
            "contradiction       0.69      0.64      0.66      3213\n",
            "\n",
            "     accuracy                           0.62      9815\n",
            "    macro avg       0.62      0.62      0.62      9815\n",
            " weighted avg       0.62      0.62      0.62      9815\n",
            "\n",
            "Test Classification report\n",
            "               precision    recall  f1-score   support\n",
            "\n",
            "   entailment       0.61      0.65      0.63      3463\n",
            "      neutral       0.55      0.59      0.57      3129\n",
            "contradiction       0.71      0.61      0.66      3240\n",
            "\n",
            "     accuracy                           0.62      9832\n",
            "    macro avg       0.62      0.62      0.62      9832\n",
            " weighted avg       0.62      0.62      0.62      9832\n",
            "\n",
            "\n",
            "\n",
            "Epoch:  20\n",
            "Training\n"
          ]
        },
        {
          "output_type": "stream",
          "name": "stderr",
          "text": [
            "100%|██████████| 12272/12272 [00:49<00:00, 247.81it/s]\n"
          ]
        },
        {
          "output_type": "stream",
          "name": "stdout",
          "text": [
            "Validation\n"
          ]
        },
        {
          "output_type": "stream",
          "name": "stderr",
          "text": [
            "100%|██████████| 307/307 [00:00<00:00, 551.70it/s]\n"
          ]
        },
        {
          "output_type": "stream",
          "name": "stdout",
          "text": [
            "Test\n"
          ]
        },
        {
          "output_type": "stream",
          "name": "stderr",
          "text": [
            "100%|██████████| 308/308 [00:00<00:00, 555.56it/s]\n"
          ]
        },
        {
          "output_type": "stream",
          "name": "stdout",
          "text": [
            "Epoch:  20  Train Loss:  0.858694066275324 Train Accuracy:  0.6123090791490748\n",
            "Epoch:  20  Val Loss:  0.8617330313893794  Val Accuracy:  0.6109016811003566\n",
            "Epoch:  20 Test Loss:  0.8586033729763775  Test Accuracy:  0.6098454027664768\n",
            "\n",
            "Validation Classification report\n",
            "               precision    recall  f1-score   support\n",
            "\n",
            "   entailment       0.61      0.64      0.62      3479\n",
            "      neutral       0.57      0.52      0.55      3123\n",
            "contradiction       0.65      0.67      0.66      3213\n",
            "\n",
            "     accuracy                           0.61      9815\n",
            "    macro avg       0.61      0.61      0.61      9815\n",
            " weighted avg       0.61      0.61      0.61      9815\n",
            "\n",
            "Test Classification report\n",
            "               precision    recall  f1-score   support\n",
            "\n",
            "   entailment       0.60      0.65      0.62      3463\n",
            "      neutral       0.55      0.51      0.53      3129\n",
            "contradiction       0.68      0.66      0.67      3240\n",
            "\n",
            "     accuracy                           0.61      9832\n",
            "    macro avg       0.61      0.61      0.61      9832\n",
            " weighted avg       0.61      0.61      0.61      9832\n",
            "\n",
            "\n",
            "\n",
            "Epoch:  21\n",
            "Training\n"
          ]
        },
        {
          "output_type": "stream",
          "name": "stderr",
          "text": [
            "100%|██████████| 12272/12272 [00:48<00:00, 252.12it/s]\n"
          ]
        },
        {
          "output_type": "stream",
          "name": "stdout",
          "text": [
            "Validation\n"
          ]
        },
        {
          "output_type": "stream",
          "name": "stderr",
          "text": [
            "100%|██████████| 307/307 [00:00<00:00, 561.02it/s]\n"
          ]
        },
        {
          "output_type": "stream",
          "name": "stdout",
          "text": [
            "Test\n"
          ]
        },
        {
          "output_type": "stream",
          "name": "stderr",
          "text": [
            "100%|██████████| 308/308 [00:00<00:00, 562.35it/s]\n"
          ]
        },
        {
          "output_type": "stream",
          "name": "stdout",
          "text": [
            "Epoch:  21  Train Loss:  0.8590463239413041 Train Accuracy:  0.6131519574639294\n",
            "Epoch:  21  Val Loss:  0.9491038180717816  Val Accuracy:  0.6018339276617423\n",
            "Epoch:  21 Test Loss:  0.9577938624984258  Test Accuracy:  0.5950976403580146\n",
            "\n",
            "Validation Classification report\n",
            "               precision    recall  f1-score   support\n",
            "\n",
            "   entailment       0.52      0.88      0.65      3479\n",
            "      neutral       0.70      0.31      0.43      3123\n",
            "contradiction       0.75      0.58      0.65      3213\n",
            "\n",
            "     accuracy                           0.60      9815\n",
            "    macro avg       0.65      0.59      0.58      9815\n",
            " weighted avg       0.65      0.60      0.58      9815\n",
            "\n",
            "Test Classification report\n",
            "               precision    recall  f1-score   support\n",
            "\n",
            "   entailment       0.51      0.89      0.65      3463\n",
            "      neutral       0.68      0.29      0.41      3129\n",
            "contradiction       0.76      0.57      0.65      3240\n",
            "\n",
            "     accuracy                           0.60      9832\n",
            "    macro avg       0.65      0.58      0.57      9832\n",
            " weighted avg       0.65      0.60      0.57      9832\n",
            "\n",
            "\n",
            "\n",
            "Epoch:  22\n",
            "Training\n"
          ]
        },
        {
          "output_type": "stream",
          "name": "stderr",
          "text": [
            "100%|██████████| 12272/12272 [00:48<00:00, 251.37it/s]\n"
          ]
        },
        {
          "output_type": "stream",
          "name": "stdout",
          "text": [
            "Validation\n"
          ]
        },
        {
          "output_type": "stream",
          "name": "stderr",
          "text": [
            "100%|██████████| 307/307 [00:00<00:00, 559.06it/s]\n"
          ]
        },
        {
          "output_type": "stream",
          "name": "stdout",
          "text": [
            "Test\n"
          ]
        },
        {
          "output_type": "stream",
          "name": "stderr",
          "text": [
            "100%|██████████| 308/308 [00:00<00:00, 546.36it/s]\n"
          ]
        },
        {
          "output_type": "stream",
          "name": "stdout",
          "text": [
            "Epoch:  22  Train Loss:  0.8558580754021233 Train Accuracy:  0.6147613202886667\n",
            "Epoch:  22  Val Loss:  0.8665680767853019  Val Accuracy:  0.6197656647987774\n",
            "Epoch:  22 Test Loss:  0.8521216298852649  Test Accuracy:  0.6222538649308381\n",
            "\n",
            "Validation Classification report\n",
            "               precision    recall  f1-score   support\n",
            "\n",
            "   entailment       0.59      0.71      0.64      3479\n",
            "      neutral       0.58      0.52      0.55      3123\n",
            "contradiction       0.71      0.62      0.66      3213\n",
            "\n",
            "     accuracy                           0.62      9815\n",
            "    macro avg       0.63      0.62      0.62      9815\n",
            " weighted avg       0.62      0.62      0.62      9815\n",
            "\n",
            "Test Classification report\n",
            "               precision    recall  f1-score   support\n",
            "\n",
            "   entailment       0.59      0.72      0.65      3463\n",
            "      neutral       0.57      0.52      0.55      3129\n",
            "contradiction       0.73      0.62      0.67      3240\n",
            "\n",
            "     accuracy                           0.62      9832\n",
            "    macro avg       0.63      0.62      0.62      9832\n",
            " weighted avg       0.63      0.62      0.62      9832\n",
            "\n",
            "\n",
            "\n",
            "Epoch:  23\n",
            "Training\n"
          ]
        },
        {
          "output_type": "stream",
          "name": "stderr",
          "text": [
            "100%|██████████| 12272/12272 [00:48<00:00, 252.31it/s]\n"
          ]
        },
        {
          "output_type": "stream",
          "name": "stdout",
          "text": [
            "Validation\n"
          ]
        },
        {
          "output_type": "stream",
          "name": "stderr",
          "text": [
            "100%|██████████| 307/307 [00:00<00:00, 551.60it/s]\n"
          ]
        },
        {
          "output_type": "stream",
          "name": "stdout",
          "text": [
            "Test\n"
          ]
        },
        {
          "output_type": "stream",
          "name": "stderr",
          "text": [
            "100%|██████████| 308/308 [00:00<00:00, 527.82it/s]\n"
          ]
        },
        {
          "output_type": "stream",
          "name": "stdout",
          "text": [
            "Epoch:  23  Train Loss:  0.8549515115026739 Train Accuracy:  0.6154692362147379\n",
            "Epoch:  23  Val Loss:  0.9203246346514078  Val Accuracy:  0.5904228222109017\n",
            "Epoch:  23 Test Loss:  0.9062424605930006  Test Accuracy:  0.5859438567941416\n",
            "\n",
            "Validation Classification report\n",
            "               precision    recall  f1-score   support\n",
            "\n",
            "   entailment       0.65      0.50      0.57      3479\n",
            "      neutral       0.57      0.52      0.54      3123\n",
            "contradiction       0.57      0.75      0.65      3213\n",
            "\n",
            "     accuracy                           0.59      9815\n",
            "    macro avg       0.60      0.59      0.59      9815\n",
            " weighted avg       0.60      0.59      0.59      9815\n",
            "\n",
            "Test Classification report\n",
            "               precision    recall  f1-score   support\n",
            "\n",
            "   entailment       0.63      0.50      0.56      3463\n",
            "      neutral       0.56      0.53      0.55      3129\n",
            "contradiction       0.57      0.73      0.64      3240\n",
            "\n",
            "     accuracy                           0.59      9832\n",
            "    macro avg       0.59      0.59      0.58      9832\n",
            " weighted avg       0.59      0.59      0.58      9832\n",
            "\n",
            "\n",
            "\n",
            "Epoch:  24\n",
            "Training\n"
          ]
        },
        {
          "output_type": "stream",
          "name": "stderr",
          "text": [
            "100%|██████████| 12272/12272 [00:48<00:00, 251.93it/s]\n"
          ]
        },
        {
          "output_type": "stream",
          "name": "stdout",
          "text": [
            "Validation\n"
          ]
        },
        {
          "output_type": "stream",
          "name": "stderr",
          "text": [
            "100%|██████████| 307/307 [00:00<00:00, 552.28it/s]\n"
          ]
        },
        {
          "output_type": "stream",
          "name": "stdout",
          "text": [
            "Test\n"
          ]
        },
        {
          "output_type": "stream",
          "name": "stderr",
          "text": [
            "100%|██████████| 308/308 [00:00<00:00, 547.14it/s]\n"
          ]
        },
        {
          "output_type": "stream",
          "name": "stdout",
          "text": [
            "Epoch:  24  Train Loss:  0.8529767571976397 Train Accuracy:  0.6161287693976603\n",
            "Epoch:  24  Val Loss:  0.8938137153072544  Val Accuracy:  0.6123280692817117\n",
            "Epoch:  24 Test Loss:  0.9002456533444392  Test Accuracy:  0.6094385679414158\n",
            "\n",
            "Validation Classification report\n",
            "               precision    recall  f1-score   support\n",
            "\n",
            "   entailment       0.54      0.83      0.66      3479\n",
            "      neutral       0.62      0.42      0.50      3123\n",
            "contradiction       0.77      0.56      0.65      3213\n",
            "\n",
            "     accuracy                           0.61      9815\n",
            "    macro avg       0.64      0.60      0.60      9815\n",
            " weighted avg       0.64      0.61      0.60      9815\n",
            "\n",
            "Test Classification report\n",
            "               precision    recall  f1-score   support\n",
            "\n",
            "   entailment       0.54      0.84      0.66      3463\n",
            "      neutral       0.61      0.43      0.50      3129\n",
            "contradiction       0.79      0.54      0.64      3240\n",
            "\n",
            "     accuracy                           0.61      9832\n",
            "    macro avg       0.65      0.60      0.60      9832\n",
            " weighted avg       0.64      0.61      0.60      9832\n",
            "\n",
            "\n",
            "\n",
            "Epoch:  25\n",
            "Training\n"
          ]
        },
        {
          "output_type": "stream",
          "name": "stderr",
          "text": [
            "100%|██████████| 12272/12272 [00:48<00:00, 253.93it/s]\n"
          ]
        },
        {
          "output_type": "stream",
          "name": "stdout",
          "text": [
            "Validation\n"
          ]
        },
        {
          "output_type": "stream",
          "name": "stderr",
          "text": [
            "100%|██████████| 307/307 [00:00<00:00, 563.53it/s]\n"
          ]
        },
        {
          "output_type": "stream",
          "name": "stdout",
          "text": [
            "Test\n"
          ]
        },
        {
          "output_type": "stream",
          "name": "stderr",
          "text": [
            "100%|██████████| 308/308 [00:00<00:00, 544.50it/s]\n"
          ]
        },
        {
          "output_type": "stream",
          "name": "stdout",
          "text": [
            "Epoch:  25  Train Loss:  0.8525959626957288 Train Accuracy:  0.616767930899257\n",
            "Epoch:  25  Val Loss:  0.916709728660335  Val Accuracy:  0.5801324503311258\n",
            "Epoch:  25 Test Loss:  0.9056701356327379  Test Accuracy:  0.5783157038242474\n",
            "\n",
            "Validation Classification report\n",
            "               precision    recall  f1-score   support\n",
            "\n",
            "   entailment       0.68      0.41      0.51      3479\n",
            "      neutral       0.55      0.58      0.56      3123\n",
            "contradiction       0.56      0.77      0.65      3213\n",
            "\n",
            "     accuracy                           0.58      9815\n",
            "    macro avg       0.59      0.58      0.57      9815\n",
            " weighted avg       0.60      0.58      0.57      9815\n",
            "\n",
            "Test Classification report\n",
            "               precision    recall  f1-score   support\n",
            "\n",
            "   entailment       0.66      0.42      0.51      3463\n",
            "      neutral       0.52      0.58      0.55      3129\n",
            "contradiction       0.58      0.75      0.65      3240\n",
            "\n",
            "     accuracy                           0.58      9832\n",
            "    macro avg       0.59      0.58      0.57      9832\n",
            " weighted avg       0.59      0.58      0.57      9832\n",
            "\n",
            "\n",
            "\n",
            "Epoch:  26\n",
            "Training\n"
          ]
        },
        {
          "output_type": "stream",
          "name": "stderr",
          "text": [
            "100%|██████████| 12272/12272 [00:48<00:00, 253.68it/s]\n"
          ]
        },
        {
          "output_type": "stream",
          "name": "stdout",
          "text": [
            "Validation\n"
          ]
        },
        {
          "output_type": "stream",
          "name": "stderr",
          "text": [
            "100%|██████████| 307/307 [00:00<00:00, 541.04it/s]\n"
          ]
        },
        {
          "output_type": "stream",
          "name": "stdout",
          "text": [
            "Test\n"
          ]
        },
        {
          "output_type": "stream",
          "name": "stderr",
          "text": [
            "100%|██████████| 308/308 [00:00<00:00, 377.66it/s]\n"
          ]
        },
        {
          "output_type": "stream",
          "name": "stdout",
          "text": [
            "Epoch:  26  Train Loss:  0.8519464958910836 Train Accuracy:  0.6184027583256515\n",
            "Epoch:  26  Val Loss:  0.9179715605434455  Val Accuracy:  0.6055017829852267\n",
            "Epoch:  26 Test Loss:  0.9251190527499497  Test Accuracy:  0.6043531326281529\n",
            "\n",
            "Validation Classification report\n",
            "               precision    recall  f1-score   support\n",
            "\n",
            "   entailment       0.52      0.87      0.65      3479\n",
            "      neutral       0.65      0.39      0.49      3123\n",
            "contradiction       0.81      0.52      0.63      3213\n",
            "\n",
            "     accuracy                           0.61      9815\n",
            "    macro avg       0.66      0.60      0.59      9815\n",
            " weighted avg       0.65      0.61      0.59      9815\n",
            "\n",
            "Test Classification report\n",
            "               precision    recall  f1-score   support\n",
            "\n",
            "   entailment       0.52      0.88      0.65      3463\n",
            "      neutral       0.64      0.38      0.48      3129\n",
            "contradiction       0.82      0.53      0.64      3240\n",
            "\n",
            "     accuracy                           0.60      9832\n",
            "    macro avg       0.66      0.60      0.59      9832\n",
            " weighted avg       0.65      0.60      0.59      9832\n",
            "\n",
            "\n",
            "\n",
            "Epoch:  27\n",
            "Training\n"
          ]
        },
        {
          "output_type": "stream",
          "name": "stderr",
          "text": [
            "100%|██████████| 12272/12272 [00:48<00:00, 254.04it/s]\n"
          ]
        },
        {
          "output_type": "stream",
          "name": "stdout",
          "text": [
            "Validation\n"
          ]
        },
        {
          "output_type": "stream",
          "name": "stderr",
          "text": [
            "100%|██████████| 307/307 [00:00<00:00, 562.81it/s]\n"
          ]
        },
        {
          "output_type": "stream",
          "name": "stdout",
          "text": [
            "Test\n"
          ]
        },
        {
          "output_type": "stream",
          "name": "stderr",
          "text": [
            "100%|██████████| 308/308 [00:00<00:00, 536.93it/s]\n"
          ]
        },
        {
          "output_type": "stream",
          "name": "stdout",
          "text": [
            "Epoch:  27  Train Loss:  0.851361037874315 Train Accuracy:  0.6173077804543904\n",
            "Epoch:  27  Val Loss:  0.9362718565844558  Val Accuracy:  0.6012226184411615\n",
            "Epoch:  27 Test Loss:  0.9498773010133149  Test Accuracy:  0.596826688364524\n",
            "\n",
            "Validation Classification report\n",
            "               precision    recall  f1-score   support\n",
            "\n",
            "   entailment       0.56      0.79      0.66      3479\n",
            "      neutral       0.53      0.56      0.55      3123\n",
            "contradiction       0.85      0.44      0.58      3213\n",
            "\n",
            "     accuracy                           0.60      9815\n",
            "    macro avg       0.65      0.60      0.59      9815\n",
            " weighted avg       0.65      0.60      0.60      9815\n",
            "\n",
            "Test Classification report\n",
            "               precision    recall  f1-score   support\n",
            "\n",
            "   entailment       0.56      0.79      0.65      3463\n",
            "      neutral       0.52      0.55      0.54      3129\n",
            "contradiction       0.86      0.44      0.58      3240\n",
            "\n",
            "     accuracy                           0.60      9832\n",
            "    macro avg       0.65      0.59      0.59      9832\n",
            " weighted avg       0.65      0.60      0.59      9832\n",
            "\n",
            "\n",
            "\n",
            "Epoch:  28\n",
            "Training\n"
          ]
        },
        {
          "output_type": "stream",
          "name": "stderr",
          "text": [
            "100%|██████████| 12272/12272 [00:48<00:00, 251.76it/s]\n"
          ]
        },
        {
          "output_type": "stream",
          "name": "stdout",
          "text": [
            "Validation\n"
          ]
        },
        {
          "output_type": "stream",
          "name": "stderr",
          "text": [
            "100%|██████████| 307/307 [00:00<00:00, 563.04it/s]\n"
          ]
        },
        {
          "output_type": "stream",
          "name": "stdout",
          "text": [
            "Test\n"
          ]
        },
        {
          "output_type": "stream",
          "name": "stderr",
          "text": [
            "100%|██████████| 308/308 [00:00<00:00, 554.93it/s]\n"
          ]
        },
        {
          "output_type": "stream",
          "name": "stdout",
          "text": [
            "Epoch:  28  Train Loss:  0.8495493013304907 Train Accuracy:  0.6193347627463064\n",
            "Epoch:  28  Val Loss:  1.0464669720357715  Val Accuracy:  0.5224656138563424\n",
            "Epoch:  28 Test Loss:  1.0456511322167013  Test Accuracy:  0.5159682668836453\n",
            "\n",
            "Validation Classification report\n",
            "               precision    recall  f1-score   support\n",
            "\n",
            "   entailment       0.72      0.21      0.32      3479\n",
            "      neutral       0.41      0.86      0.56      3123\n",
            "contradiction       0.74      0.53      0.62      3213\n",
            "\n",
            "     accuracy                           0.52      9815\n",
            "    macro avg       0.63      0.53      0.50      9815\n",
            " weighted avg       0.63      0.52      0.50      9815\n",
            "\n",
            "Test Classification report\n",
            "               precision    recall  f1-score   support\n",
            "\n",
            "   entailment       0.72      0.20      0.31      3463\n",
            "      neutral       0.40      0.87      0.55      3129\n",
            "contradiction       0.77      0.51      0.62      3240\n",
            "\n",
            "     accuracy                           0.52      9832\n",
            "    macro avg       0.63      0.53      0.49      9832\n",
            " weighted avg       0.64      0.52      0.49      9832\n",
            "\n",
            "\n",
            "\n",
            "Epoch:  29\n",
            "Training\n"
          ]
        },
        {
          "output_type": "stream",
          "name": "stderr",
          "text": [
            "100%|██████████| 12272/12272 [00:48<00:00, 251.43it/s]\n"
          ]
        },
        {
          "output_type": "stream",
          "name": "stdout",
          "text": [
            "Validation\n"
          ]
        },
        {
          "output_type": "stream",
          "name": "stderr",
          "text": [
            "100%|██████████| 307/307 [00:00<00:00, 541.66it/s]\n"
          ]
        },
        {
          "output_type": "stream",
          "name": "stdout",
          "text": [
            "Test\n"
          ]
        },
        {
          "output_type": "stream",
          "name": "stderr",
          "text": [
            "100%|██████████| 308/308 [00:00<00:00, 561.68it/s]\n"
          ]
        },
        {
          "output_type": "stream",
          "name": "stdout",
          "text": [
            "Epoch:  29  Train Loss:  0.8476797116524509 Train Accuracy:  0.6201954662823209\n",
            "Epoch:  29  Val Loss:  0.855889134570131  Val Accuracy:  0.6156902699949057\n",
            "Epoch:  29 Test Loss:  0.85329698239054  Test Accuracy:  0.6192026037428804\n",
            "\n",
            "Validation Classification report\n",
            "               precision    recall  f1-score   support\n",
            "\n",
            "   entailment       0.57      0.73      0.64      3479\n",
            "      neutral       0.57      0.54      0.56      3123\n",
            "contradiction       0.75      0.56      0.64      3213\n",
            "\n",
            "     accuracy                           0.62      9815\n",
            "    macro avg       0.63      0.61      0.61      9815\n",
            " weighted avg       0.63      0.62      0.61      9815\n",
            "\n",
            "Test Classification report\n",
            "               precision    recall  f1-score   support\n",
            "\n",
            "   entailment       0.57      0.75      0.65      3463\n",
            "      neutral       0.56      0.54      0.55      3129\n",
            "contradiction       0.78      0.56      0.65      3240\n",
            "\n",
            "     accuracy                           0.62      9832\n",
            "    macro avg       0.64      0.62      0.62      9832\n",
            " weighted avg       0.64      0.62      0.62      9832\n",
            "\n",
            "\n",
            "\n",
            "Epoch:  30\n",
            "Training\n"
          ]
        },
        {
          "output_type": "stream",
          "name": "stderr",
          "text": [
            "100%|██████████| 12272/12272 [00:49<00:00, 248.73it/s]\n"
          ]
        },
        {
          "output_type": "stream",
          "name": "stdout",
          "text": [
            "Validation\n"
          ]
        },
        {
          "output_type": "stream",
          "name": "stderr",
          "text": [
            "100%|██████████| 307/307 [00:00<00:00, 549.33it/s]\n"
          ]
        },
        {
          "output_type": "stream",
          "name": "stdout",
          "text": [
            "Test\n"
          ]
        },
        {
          "output_type": "stream",
          "name": "stderr",
          "text": [
            "100%|██████████| 308/308 [00:00<00:00, 540.64it/s]\n"
          ]
        },
        {
          "output_type": "stream",
          "name": "stdout",
          "text": [
            "Epoch:  30  Train Loss:  0.8484391510350607 Train Accuracy:  0.6196097804442046\n",
            "Epoch:  30  Val Loss:  0.8859996085058206  Val Accuracy:  0.6202750891492613\n",
            "Epoch:  30 Test Loss:  0.8852921820112637  Test Accuracy:  0.6137103336045565\n",
            "\n",
            "Validation Classification report\n",
            "               precision    recall  f1-score   support\n",
            "\n",
            "   entailment       0.57      0.76      0.65      3479\n",
            "      neutral       0.57      0.57      0.57      3123\n",
            "contradiction       0.80      0.52      0.63      3213\n",
            "\n",
            "     accuracy                           0.62      9815\n",
            "    macro avg       0.65      0.62      0.62      9815\n",
            " weighted avg       0.65      0.62      0.62      9815\n",
            "\n",
            "Test Classification report\n",
            "               precision    recall  f1-score   support\n",
            "\n",
            "   entailment       0.56      0.76      0.65      3463\n",
            "      neutral       0.55      0.56      0.56      3129\n",
            "contradiction       0.83      0.51      0.63      3240\n",
            "\n",
            "     accuracy                           0.61      9832\n",
            "    macro avg       0.65      0.61      0.61      9832\n",
            " weighted avg       0.65      0.61      0.61      9832\n",
            "\n",
            "Total Train Loss 0.8882078876244516  Total Train Accuracy:  0.5908342712794943\n"
          ]
        },
        {
          "output_type": "stream",
          "name": "stderr",
          "text": [
            "100%|██████████| 308/308 [00:00<00:00, 472.54it/s]\n"
          ]
        },
        {
          "output_type": "stream",
          "name": "stdout",
          "text": [
            "Test Loss:  0.8868703764754456  Test Accuracy:  0.6141171684296176\n",
            "               precision    recall  f1-score   support\n",
            "\n",
            "   entailment       0.56      0.75      0.64      3463\n",
            "      neutral       0.56      0.57      0.56      3129\n",
            "contradiction       0.83      0.51      0.63      3240\n",
            "\n",
            "     accuracy                           0.61      9832\n",
            "    macro avg       0.65      0.61      0.61      9832\n",
            " weighted avg       0.65      0.61      0.61      9832\n",
            "\n",
            "[[2612  729  122]\n",
            " [1130 1771  228]\n",
            " [ 897  688 1655]]\n"
          ]
        }
      ],
      "source": [
        "# %%capture captured_output\n",
        "\n",
        "\n",
        "#initialize the model with above parameters\n",
        "\n",
        "mnli_model = NLI_LSTM(membedding_matrix,INPUT_DIM, EMBEDDING_DIM, HIDDEN_DIM, OUTPUT_DIM, N_FC_LAYERS, DROPOUT)\n",
        "#adam optimizer\n",
        "mnli_model.to(device)\n",
        "optimizer = optim.Adam(mnli_model.parameters())\n",
        "#loss function\n",
        "criterion = nn.CrossEntropyLoss()\n",
        "#train\n",
        "mnli_model = train(mnli_model,mtrain_dataloader,mdev_dataloader,mtest_dataloader,optimizer,criterion,datasetName,EPOCHS)\n",
        "\n",
        "#test\n",
        "test(mnli_model,mtest_dataloader,criterion)\n",
        "\n",
        "# with open(f\"/content/gdrive/MyDrive/NLPProject/reports_and_results/report_lstm_nli_mnli_foreachepoch.txt\",'w') as f:\n",
        "#     f.write(captured_output.stdout)\n"
      ]
    },
    {
      "cell_type": "code",
      "execution_count": 11,
      "metadata": {
        "colab": {
          "base_uri": "https://localhost:8080/"
        },
        "id": "uUixQKz4Ftxq",
        "outputId": "eb0a1bf7-41da-41a3-d7e5-fc2e1c9a93d2"
      },
      "outputs": [
        {
          "output_type": "stream",
          "name": "stdout",
          "text": [
            "train data\n"
          ]
        },
        {
          "output_type": "stream",
          "name": "stderr",
          "text": [
            "100%|██████████| 550152/550152 [00:04<00:00, 123920.91it/s]\n"
          ]
        },
        {
          "output_type": "stream",
          "name": "stdout",
          "text": [
            "dev data\n"
          ]
        },
        {
          "output_type": "stream",
          "name": "stderr",
          "text": [
            "100%|██████████| 10000/10000 [00:00<00:00, 86322.09it/s]\n"
          ]
        },
        {
          "output_type": "stream",
          "name": "stdout",
          "text": [
            "test data\n"
          ]
        },
        {
          "output_type": "stream",
          "name": "stderr",
          "text": [
            "100%|██████████| 10000/10000 [00:00<00:00, 95045.36it/s]\n"
          ]
        },
        {
          "output_type": "stream",
          "name": "stdout",
          "text": [
            "preprocess\n"
          ]
        },
        {
          "output_type": "stream",
          "name": "stderr",
          "text": [
            "100%|██████████| 549367/549367 [00:22<00:00, 24501.34it/s]\n",
            "100%|██████████| 549367/549367 [00:19<00:00, 28672.33it/s]\n",
            "100%|██████████| 9842/9842 [00:00<00:00, 23686.03it/s]\n",
            "100%|██████████| 9842/9842 [00:00<00:00, 31595.81it/s]\n",
            "100%|██████████| 9824/9824 [00:00<00:00, 23695.50it/s]\n",
            "100%|██████████| 9824/9824 [00:00<00:00, 31308.32it/s]\n"
          ]
        }
      ],
      "source": [
        "datasetName=\"snli\"\n",
        "\n",
        "strain_dataloader,sdev_dataloader,stest_dataloader,sembedding_matrix,sword2index = prepData(datasetName)\n",
        "#intialize the model\n",
        "INPUT_DIM = len(sword2index)"
      ]
    },
    {
      "cell_type": "code",
      "execution_count": 12,
      "metadata": {
        "colab": {
          "base_uri": "https://localhost:8080/"
        },
        "id": "v_UGFpQNFtxq",
        "outputId": "c217df89-892b-493a-d418-d2f16f1de15e"
      },
      "outputs": [
        {
          "output_type": "stream",
          "name": "stdout",
          "text": [
            "\n",
            "\n",
            "Epoch:  1\n",
            "Training\n"
          ]
        },
        {
          "output_type": "stream",
          "name": "stderr",
          "text": [
            "100%|██████████| 17168/17168 [01:07<00:00, 253.00it/s]\n"
          ]
        },
        {
          "output_type": "stream",
          "name": "stdout",
          "text": [
            "Validation\n"
          ]
        },
        {
          "output_type": "stream",
          "name": "stderr",
          "text": [
            "100%|██████████| 308/308 [00:00<00:00, 526.12it/s]\n"
          ]
        },
        {
          "output_type": "stream",
          "name": "stdout",
          "text": [
            "Test\n"
          ]
        },
        {
          "output_type": "stream",
          "name": "stderr",
          "text": [
            "100%|██████████| 307/307 [00:01<00:00, 269.80it/s]\n"
          ]
        },
        {
          "output_type": "stream",
          "name": "stdout",
          "text": [
            "Epoch:  1  Train Loss:  1.1699728949858224 Train Accuracy:  0.3331598002792305\n",
            "Epoch:  1  Val Loss:  1.1507832916913094  Val Accuracy:  0.33275756959967484\n",
            "Epoch:  1 Test Loss:  1.1521396712682146  Test Accuracy:  0.33377442996742673\n",
            "\n",
            "Validation Classification report\n",
            "               precision    recall  f1-score   support\n",
            "\n",
            "   entailment       0.33      0.04      0.08      3329\n",
            "      neutral       0.32      0.10      0.15      3235\n",
            "contradiction       0.33      0.86      0.48      3278\n",
            "\n",
            "     accuracy                           0.33      9842\n",
            "    macro avg       0.33      0.33      0.24      9842\n",
            " weighted avg       0.33      0.33      0.24      9842\n",
            "\n",
            "Test Classification report\n",
            "               precision    recall  f1-score   support\n",
            "\n",
            "   entailment       0.37      0.05      0.08      3368\n",
            "      neutral       0.34      0.10      0.16      3219\n",
            "contradiction       0.33      0.86      0.48      3237\n",
            "\n",
            "     accuracy                           0.33      9824\n",
            "    macro avg       0.35      0.34      0.24      9824\n",
            " weighted avg       0.35      0.33      0.24      9824\n",
            "\n",
            "\n",
            "\n",
            "Epoch:  2\n",
            "Training\n"
          ]
        },
        {
          "output_type": "stream",
          "name": "stderr",
          "text": [
            "100%|██████████| 17168/17168 [01:10<00:00, 243.29it/s]\n"
          ]
        },
        {
          "output_type": "stream",
          "name": "stdout",
          "text": [
            "Validation\n"
          ]
        },
        {
          "output_type": "stream",
          "name": "stderr",
          "text": [
            "100%|██████████| 308/308 [00:00<00:00, 534.34it/s]\n"
          ]
        },
        {
          "output_type": "stream",
          "name": "stdout",
          "text": [
            "Test\n"
          ]
        },
        {
          "output_type": "stream",
          "name": "stderr",
          "text": [
            "100%|██████████| 307/307 [00:00<00:00, 536.09it/s]\n"
          ]
        },
        {
          "output_type": "stream",
          "name": "stdout",
          "text": [
            "Epoch:  2  Train Loss:  1.162398468175311 Train Accuracy:  0.33435572213110726\n",
            "Epoch:  2  Val Loss:  1.1176165768078394  Val Accuracy:  0.33722820564925826\n",
            "Epoch:  2 Test Loss:  1.1232075095176697  Test Accuracy:  0.3277687296416938\n",
            "\n",
            "Validation Classification report\n",
            "               precision    recall  f1-score   support\n",
            "\n",
            "   entailment       0.34      0.17      0.23      3329\n",
            "      neutral       0.33      0.18      0.24      3235\n",
            "contradiction       0.34      0.66      0.45      3278\n",
            "\n",
            "     accuracy                           0.34      9842\n",
            "    macro avg       0.34      0.34      0.30      9842\n",
            " weighted avg       0.34      0.34      0.30      9842\n",
            "\n",
            "Test Classification report\n",
            "               precision    recall  f1-score   support\n",
            "\n",
            "   entailment       0.32      0.17      0.22      3368\n",
            "      neutral       0.34      0.19      0.24      3219\n",
            "contradiction       0.33      0.63      0.43      3237\n",
            "\n",
            "     accuracy                           0.33      9824\n",
            "    macro avg       0.33      0.33      0.30      9824\n",
            " weighted avg       0.33      0.33      0.30      9824\n",
            "\n",
            "\n",
            "\n",
            "Epoch:  3\n",
            "Training\n"
          ]
        },
        {
          "output_type": "stream",
          "name": "stderr",
          "text": [
            "100%|██████████| 17168/17168 [01:09<00:00, 247.09it/s]\n"
          ]
        },
        {
          "output_type": "stream",
          "name": "stdout",
          "text": [
            "Validation\n"
          ]
        },
        {
          "output_type": "stream",
          "name": "stderr",
          "text": [
            "100%|██████████| 308/308 [00:00<00:00, 550.22it/s]\n"
          ]
        },
        {
          "output_type": "stream",
          "name": "stdout",
          "text": [
            "Test\n"
          ]
        },
        {
          "output_type": "stream",
          "name": "stderr",
          "text": [
            "100%|██████████| 307/307 [00:00<00:00, 549.16it/s]\n"
          ]
        },
        {
          "output_type": "stream",
          "name": "stdout",
          "text": [
            "Epoch:  3  Train Loss:  1.1616942390577325 Train Accuracy:  0.3335129339767405\n",
            "Epoch:  3  Val Loss:  1.1331661242943305  Val Accuracy:  0.3386506807559439\n",
            "Epoch:  3 Test Loss:  1.1348194582842848  Test Accuracy:  0.33418159609120524\n",
            "\n",
            "Validation Classification report\n",
            "               precision    recall  f1-score   support\n",
            "\n",
            "   entailment       0.37      0.09      0.14      3329\n",
            "      neutral       0.34      0.76      0.47      3235\n",
            "contradiction       0.33      0.18      0.23      3278\n",
            "\n",
            "     accuracy                           0.34      9842\n",
            "    macro avg       0.35      0.34      0.28      9842\n",
            " weighted avg       0.35      0.34      0.28      9842\n",
            "\n",
            "Test Classification report\n",
            "               precision    recall  f1-score   support\n",
            "\n",
            "   entailment       0.37      0.08      0.14      3368\n",
            "      neutral       0.33      0.75      0.46      3219\n",
            "contradiction       0.34      0.18      0.24      3237\n",
            "\n",
            "     accuracy                           0.33      9824\n",
            "    macro avg       0.35      0.34      0.28      9824\n",
            " weighted avg       0.35      0.33      0.27      9824\n",
            "\n",
            "\n",
            "\n",
            "Epoch:  4\n",
            "Training\n"
          ]
        },
        {
          "output_type": "stream",
          "name": "stderr",
          "text": [
            "100%|██████████| 17168/17168 [01:08<00:00, 250.89it/s]\n"
          ]
        },
        {
          "output_type": "stream",
          "name": "stdout",
          "text": [
            "Validation\n"
          ]
        },
        {
          "output_type": "stream",
          "name": "stderr",
          "text": [
            "100%|██████████| 308/308 [00:00<00:00, 555.14it/s]\n"
          ]
        },
        {
          "output_type": "stream",
          "name": "stdout",
          "text": [
            "Test\n"
          ]
        },
        {
          "output_type": "stream",
          "name": "stderr",
          "text": [
            "100%|██████████| 307/307 [00:00<00:00, 448.10it/s]\n"
          ]
        },
        {
          "output_type": "stream",
          "name": "stdout",
          "text": [
            "Epoch:  4  Train Loss:  1.1619245509329736 Train Accuracy:  0.33357118283406173\n",
            "Epoch:  4  Val Loss:  1.152089176433427  Val Accuracy:  0.32625482625482627\n",
            "Epoch:  4 Test Loss:  1.1459083522181557  Test Accuracy:  0.33112785016286644\n",
            "\n",
            "Validation Classification report\n",
            "               precision    recall  f1-score   support\n",
            "\n",
            "   entailment       0.32      0.02      0.04      3329\n",
            "      neutral       0.32      0.25      0.28      3235\n",
            "contradiction       0.33      0.71      0.45      3278\n",
            "\n",
            "     accuracy                           0.33      9842\n",
            "    macro avg       0.32      0.33      0.26      9842\n",
            " weighted avg       0.32      0.33      0.26      9842\n",
            "\n",
            "Test Classification report\n",
            "               precision    recall  f1-score   support\n",
            "\n",
            "   entailment       0.40      0.02      0.04      3368\n",
            "      neutral       0.33      0.25      0.29      3219\n",
            "contradiction       0.33      0.73      0.46      3237\n",
            "\n",
            "     accuracy                           0.33      9824\n",
            "    macro avg       0.35      0.34      0.26      9824\n",
            " weighted avg       0.35      0.33      0.26      9824\n",
            "\n",
            "\n",
            "\n",
            "Epoch:  5\n",
            "Training\n"
          ]
        },
        {
          "output_type": "stream",
          "name": "stderr",
          "text": [
            "100%|██████████| 17168/17168 [01:08<00:00, 249.65it/s]\n"
          ]
        },
        {
          "output_type": "stream",
          "name": "stdout",
          "text": [
            "Validation\n"
          ]
        },
        {
          "output_type": "stream",
          "name": "stderr",
          "text": [
            "100%|██████████| 308/308 [00:00<00:00, 555.70it/s]\n"
          ]
        },
        {
          "output_type": "stream",
          "name": "stdout",
          "text": [
            "Test\n"
          ]
        },
        {
          "output_type": "stream",
          "name": "stderr",
          "text": [
            "100%|██████████| 307/307 [00:00<00:00, 532.03it/s]\n"
          ]
        },
        {
          "output_type": "stream",
          "name": "stdout",
          "text": [
            "Epoch:  5  Train Loss:  1.161086866317902 Train Accuracy:  0.3342173810949693\n",
            "Epoch:  5  Val Loss:  1.142228619812371  Val Accuracy:  0.4266409266409266\n",
            "Epoch:  5 Test Loss:  1.1331287486545427  Test Accuracy:  0.43699104234527686\n",
            "\n",
            "Validation Classification report\n",
            "               precision    recall  f1-score   support\n",
            "\n",
            "   entailment       0.40      0.83      0.54      3329\n",
            "      neutral       0.49      0.45      0.47      3235\n",
            "contradiction       0.28      0.00      0.00      3278\n",
            "\n",
            "     accuracy                           0.43      9842\n",
            "    macro avg       0.39      0.42      0.34      9842\n",
            " weighted avg       0.39      0.43      0.34      9842\n",
            "\n",
            "Test Classification report\n",
            "               precision    recall  f1-score   support\n",
            "\n",
            "   entailment       0.41      0.84      0.55      3368\n",
            "      neutral       0.51      0.45      0.48      3219\n",
            "contradiction       0.38      0.00      0.00      3237\n",
            "\n",
            "     accuracy                           0.44      9824\n",
            "    macro avg       0.43      0.43      0.34      9824\n",
            " weighted avg       0.43      0.44      0.35      9824\n",
            "\n",
            "\n",
            "\n",
            "Epoch:  6\n",
            "Training\n"
          ]
        },
        {
          "output_type": "stream",
          "name": "stderr",
          "text": [
            "100%|██████████| 17168/17168 [01:09<00:00, 245.89it/s]\n"
          ]
        },
        {
          "output_type": "stream",
          "name": "stdout",
          "text": [
            "Validation\n"
          ]
        },
        {
          "output_type": "stream",
          "name": "stderr",
          "text": [
            "100%|██████████| 308/308 [00:00<00:00, 527.59it/s]\n"
          ]
        },
        {
          "output_type": "stream",
          "name": "stdout",
          "text": [
            "Test\n"
          ]
        },
        {
          "output_type": "stream",
          "name": "stderr",
          "text": [
            "100%|██████████| 307/307 [00:00<00:00, 554.13it/s]\n"
          ]
        },
        {
          "output_type": "stream",
          "name": "stdout",
          "text": [
            "Epoch:  6  Train Loss:  0.997449380717998 Train Accuracy:  0.5208631024433575\n",
            "Epoch:  6  Val Loss:  0.8899080757196848  Val Accuracy:  0.5948994106888844\n",
            "Epoch:  6 Test Loss:  0.8754816894034221  Test Accuracy:  0.6039291530944625\n",
            "\n",
            "Validation Classification report\n",
            "               precision    recall  f1-score   support\n",
            "\n",
            "   entailment       0.61      0.61      0.61      3329\n",
            "      neutral       0.58      0.63      0.60      3235\n",
            "contradiction       0.60      0.54      0.57      3278\n",
            "\n",
            "     accuracy                           0.59      9842\n",
            "    macro avg       0.60      0.59      0.59      9842\n",
            " weighted avg       0.60      0.59      0.59      9842\n",
            "\n",
            "Test Classification report\n",
            "               precision    recall  f1-score   support\n",
            "\n",
            "   entailment       0.63      0.65      0.64      3368\n",
            "      neutral       0.58      0.64      0.61      3219\n",
            "contradiction       0.61      0.53      0.57      3237\n",
            "\n",
            "     accuracy                           0.60      9824\n",
            "    macro avg       0.60      0.60      0.60      9824\n",
            " weighted avg       0.60      0.60      0.60      9824\n",
            "\n",
            "\n",
            "\n",
            "Epoch:  7\n",
            "Training\n"
          ]
        },
        {
          "output_type": "stream",
          "name": "stderr",
          "text": [
            "100%|██████████| 17168/17168 [01:09<00:00, 248.08it/s]\n"
          ]
        },
        {
          "output_type": "stream",
          "name": "stdout",
          "text": [
            "Validation\n"
          ]
        },
        {
          "output_type": "stream",
          "name": "stderr",
          "text": [
            "100%|██████████| 308/308 [00:00<00:00, 480.97it/s]\n"
          ]
        },
        {
          "output_type": "stream",
          "name": "stdout",
          "text": [
            "Test\n"
          ]
        },
        {
          "output_type": "stream",
          "name": "stderr",
          "text": [
            "100%|██████████| 307/307 [00:00<00:00, 525.48it/s]\n"
          ]
        },
        {
          "output_type": "stream",
          "name": "stdout",
          "text": [
            "Epoch:  7  Train Loss:  0.8970327290644712 Train Accuracy:  0.5943149115254466\n",
            "Epoch:  7  Val Loss:  0.8775813736311802  Val Accuracy:  0.6008941272099166\n",
            "Epoch:  7 Test Loss:  0.8687125907464602  Test Accuracy:  0.6050488599348535\n",
            "\n",
            "Validation Classification report\n",
            "               precision    recall  f1-score   support\n",
            "\n",
            "   entailment       0.56      0.80      0.66      3329\n",
            "      neutral       0.75      0.40      0.52      3235\n",
            "contradiction       0.58      0.60      0.59      3278\n",
            "\n",
            "     accuracy                           0.60      9842\n",
            "    macro avg       0.63      0.60      0.59      9842\n",
            " weighted avg       0.63      0.60      0.59      9842\n",
            "\n",
            "Test Classification report\n",
            "               precision    recall  f1-score   support\n",
            "\n",
            "   entailment       0.57      0.81      0.67      3368\n",
            "      neutral       0.76      0.40      0.53      3219\n",
            "contradiction       0.58      0.59      0.59      3237\n",
            "\n",
            "     accuracy                           0.61      9824\n",
            "    macro avg       0.64      0.60      0.59      9824\n",
            " weighted avg       0.63      0.61      0.59      9824\n",
            "\n",
            "\n",
            "\n",
            "Epoch:  8\n",
            "Training\n"
          ]
        },
        {
          "output_type": "stream",
          "name": "stderr",
          "text": [
            "100%|██████████| 17168/17168 [01:08<00:00, 248.89it/s]\n"
          ]
        },
        {
          "output_type": "stream",
          "name": "stdout",
          "text": [
            "Validation\n"
          ]
        },
        {
          "output_type": "stream",
          "name": "stderr",
          "text": [
            "100%|██████████| 308/308 [00:00<00:00, 546.34it/s]\n"
          ]
        },
        {
          "output_type": "stream",
          "name": "stdout",
          "text": [
            "Test\n"
          ]
        },
        {
          "output_type": "stream",
          "name": "stderr",
          "text": [
            "100%|██████████| 307/307 [00:00<00:00, 489.22it/s]\n"
          ]
        },
        {
          "output_type": "stream",
          "name": "stdout",
          "text": [
            "Epoch:  8  Train Loss:  0.8578639078732556 Train Accuracy:  0.6182206066254434\n",
            "Epoch:  8  Val Loss:  0.8459704946000854  Val Accuracy:  0.6088193456614509\n",
            "Epoch:  8 Test Loss:  0.8386265080215877  Test Accuracy:  0.620928338762215\n",
            "\n",
            "Validation Classification report\n",
            "               precision    recall  f1-score   support\n",
            "\n",
            "   entailment       0.67      0.57      0.62      3329\n",
            "      neutral       0.68      0.50      0.58      3235\n",
            "contradiction       0.53      0.76      0.63      3278\n",
            "\n",
            "     accuracy                           0.61      9842\n",
            "    macro avg       0.63      0.61      0.61      9842\n",
            " weighted avg       0.63      0.61      0.61      9842\n",
            "\n",
            "Test Classification report\n",
            "               precision    recall  f1-score   support\n",
            "\n",
            "   entailment       0.69      0.59      0.64      3368\n",
            "      neutral       0.69      0.52      0.59      3219\n",
            "contradiction       0.54      0.75      0.63      3237\n",
            "\n",
            "     accuracy                           0.62      9824\n",
            "    macro avg       0.64      0.62      0.62      9824\n",
            " weighted avg       0.64      0.62      0.62      9824\n",
            "\n",
            "\n",
            "\n",
            "Epoch:  9\n",
            "Training\n"
          ]
        },
        {
          "output_type": "stream",
          "name": "stderr",
          "text": [
            "100%|██████████| 17168/17168 [01:09<00:00, 248.37it/s]\n"
          ]
        },
        {
          "output_type": "stream",
          "name": "stdout",
          "text": [
            "Validation\n"
          ]
        },
        {
          "output_type": "stream",
          "name": "stderr",
          "text": [
            "100%|██████████| 308/308 [00:00<00:00, 541.73it/s]\n"
          ]
        },
        {
          "output_type": "stream",
          "name": "stdout",
          "text": [
            "Test\n"
          ]
        },
        {
          "output_type": "stream",
          "name": "stderr",
          "text": [
            "100%|██████████| 307/307 [00:00<00:00, 536.70it/s]\n"
          ]
        },
        {
          "output_type": "stream",
          "name": "stdout",
          "text": [
            "Epoch:  9  Train Loss:  0.8351178014701283 Train Accuracy:  0.6332124062784987\n",
            "Epoch:  9  Val Loss:  0.8113451876810619  Val Accuracy:  0.6510871774029668\n",
            "Epoch:  9 Test Loss:  0.7982748262462864  Test Accuracy:  0.6553338762214984\n",
            "\n",
            "Validation Classification report\n",
            "               precision    recall  f1-score   support\n",
            "\n",
            "   entailment       0.62      0.78      0.69      3329\n",
            "      neutral       0.74      0.51      0.60      3235\n",
            "contradiction       0.63      0.66      0.65      3278\n",
            "\n",
            "     accuracy                           0.65      9842\n",
            "    macro avg       0.66      0.65      0.65      9842\n",
            " weighted avg       0.66      0.65      0.65      9842\n",
            "\n",
            "Test Classification report\n",
            "               precision    recall  f1-score   support\n",
            "\n",
            "   entailment       0.63      0.79      0.70      3368\n",
            "      neutral       0.74      0.52      0.61      3219\n",
            "contradiction       0.63      0.66      0.64      3237\n",
            "\n",
            "     accuracy                           0.66      9824\n",
            "    macro avg       0.67      0.65      0.65      9824\n",
            " weighted avg       0.67      0.66      0.65      9824\n",
            "\n",
            "\n",
            "\n",
            "Epoch:  10\n",
            "Training\n"
          ]
        },
        {
          "output_type": "stream",
          "name": "stderr",
          "text": [
            "100%|██████████| 17168/17168 [01:11<00:00, 241.50it/s]\n"
          ]
        },
        {
          "output_type": "stream",
          "name": "stdout",
          "text": [
            "Validation\n"
          ]
        },
        {
          "output_type": "stream",
          "name": "stderr",
          "text": [
            "100%|██████████| 308/308 [00:00<00:00, 532.12it/s]\n"
          ]
        },
        {
          "output_type": "stream",
          "name": "stdout",
          "text": [
            "Test\n"
          ]
        },
        {
          "output_type": "stream",
          "name": "stderr",
          "text": [
            "100%|██████████| 307/307 [00:00<00:00, 534.95it/s]\n"
          ]
        },
        {
          "output_type": "stream",
          "name": "stdout",
          "text": [
            "Epoch:  10  Train Loss:  0.8196105385652265 Train Accuracy:  0.642754297218435\n",
            "Epoch:  10  Val Loss:  0.7743290106390978  Val Accuracy:  0.6611461085145296\n",
            "Epoch:  10 Test Loss:  0.767527274569005  Test Accuracy:  0.662764657980456\n",
            "\n",
            "Validation Classification report\n",
            "               precision    recall  f1-score   support\n",
            "\n",
            "   entailment       0.66      0.70      0.68      3329\n",
            "      neutral       0.67      0.63      0.65      3235\n",
            "contradiction       0.65      0.65      0.65      3278\n",
            "\n",
            "     accuracy                           0.66      9842\n",
            "    macro avg       0.66      0.66      0.66      9842\n",
            " weighted avg       0.66      0.66      0.66      9842\n",
            "\n",
            "Test Classification report\n",
            "               precision    recall  f1-score   support\n",
            "\n",
            "   entailment       0.67      0.71      0.69      3368\n",
            "      neutral       0.68      0.62      0.65      3219\n",
            "contradiction       0.65      0.65      0.65      3237\n",
            "\n",
            "     accuracy                           0.66      9824\n",
            "    macro avg       0.66      0.66      0.66      9824\n",
            " weighted avg       0.66      0.66      0.66      9824\n",
            "\n",
            "\n",
            "\n",
            "Epoch:  11\n",
            "Training\n"
          ]
        },
        {
          "output_type": "stream",
          "name": "stderr",
          "text": [
            "100%|██████████| 17168/17168 [01:10<00:00, 244.35it/s]\n"
          ]
        },
        {
          "output_type": "stream",
          "name": "stdout",
          "text": [
            "Validation\n"
          ]
        },
        {
          "output_type": "stream",
          "name": "stderr",
          "text": [
            "100%|██████████| 308/308 [00:00<00:00, 537.40it/s]\n"
          ]
        },
        {
          "output_type": "stream",
          "name": "stdout",
          "text": [
            "Test\n"
          ]
        },
        {
          "output_type": "stream",
          "name": "stderr",
          "text": [
            "100%|██████████| 307/307 [00:00<00:00, 373.32it/s]\n"
          ]
        },
        {
          "output_type": "stream",
          "name": "stdout",
          "text": [
            "Epoch:  11  Train Loss:  0.8058844716457402 Train Accuracy:  0.651493446093413\n",
            "Epoch:  11  Val Loss:  0.7687037342361042  Val Accuracy:  0.6705954074375127\n",
            "Epoch:  11 Test Loss:  0.7706192893003407  Test Accuracy:  0.6725366449511401\n",
            "\n",
            "Validation Classification report\n",
            "               precision    recall  f1-score   support\n",
            "\n",
            "   entailment       0.66      0.76      0.70      3329\n",
            "      neutral       0.62      0.73      0.67      3235\n",
            "contradiction       0.78      0.53      0.63      3278\n",
            "\n",
            "     accuracy                           0.67      9842\n",
            "    macro avg       0.69      0.67      0.67      9842\n",
            " weighted avg       0.69      0.67      0.67      9842\n",
            "\n",
            "Test Classification report\n",
            "               precision    recall  f1-score   support\n",
            "\n",
            "   entailment       0.66      0.76      0.71      3368\n",
            "      neutral       0.62      0.73      0.67      3219\n",
            "contradiction       0.78      0.53      0.63      3237\n",
            "\n",
            "     accuracy                           0.67      9824\n",
            "    macro avg       0.69      0.67      0.67      9824\n",
            " weighted avg       0.69      0.67      0.67      9824\n",
            "\n",
            "\n",
            "\n",
            "Epoch:  12\n",
            "Training\n"
          ]
        },
        {
          "output_type": "stream",
          "name": "stderr",
          "text": [
            "100%|██████████| 17168/17168 [01:09<00:00, 246.14it/s]\n"
          ]
        },
        {
          "output_type": "stream",
          "name": "stdout",
          "text": [
            "Validation\n"
          ]
        },
        {
          "output_type": "stream",
          "name": "stderr",
          "text": [
            "100%|██████████| 308/308 [00:00<00:00, 314.55it/s]\n"
          ]
        },
        {
          "output_type": "stream",
          "name": "stdout",
          "text": [
            "Test\n"
          ]
        },
        {
          "output_type": "stream",
          "name": "stderr",
          "text": [
            "100%|██████████| 307/307 [00:00<00:00, 498.29it/s]\n"
          ]
        },
        {
          "output_type": "stream",
          "name": "stdout",
          "text": [
            "Epoch:  12  Train Loss:  0.7974897143374591 Train Accuracy:  0.6565428939124484\n",
            "Epoch:  12  Val Loss:  0.7834705367877886  Val Accuracy:  0.6567770778297094\n",
            "Epoch:  12 Test Loss:  0.7776324348069169  Test Accuracy:  0.6628664495114006\n",
            "\n",
            "Validation Classification report\n",
            "               precision    recall  f1-score   support\n",
            "\n",
            "   entailment       0.68      0.72      0.70      3329\n",
            "      neutral       0.76      0.50      0.60      3235\n",
            "contradiction       0.59      0.75      0.66      3278\n",
            "\n",
            "     accuracy                           0.66      9842\n",
            "    macro avg       0.68      0.66      0.65      9842\n",
            " weighted avg       0.68      0.66      0.65      9842\n",
            "\n",
            "Test Classification report\n",
            "               precision    recall  f1-score   support\n",
            "\n",
            "   entailment       0.68      0.73      0.70      3368\n",
            "      neutral       0.77      0.50      0.61      3219\n",
            "contradiction       0.59      0.76      0.67      3237\n",
            "\n",
            "     accuracy                           0.66      9824\n",
            "    macro avg       0.68      0.66      0.66      9824\n",
            " weighted avg       0.68      0.66      0.66      9824\n",
            "\n",
            "\n",
            "\n",
            "Epoch:  13\n",
            "Training\n"
          ]
        },
        {
          "output_type": "stream",
          "name": "stderr",
          "text": [
            "100%|██████████| 17168/17168 [01:09<00:00, 248.24it/s]\n"
          ]
        },
        {
          "output_type": "stream",
          "name": "stdout",
          "text": [
            "Validation\n"
          ]
        },
        {
          "output_type": "stream",
          "name": "stderr",
          "text": [
            "100%|██████████| 308/308 [00:00<00:00, 391.43it/s]\n"
          ]
        },
        {
          "output_type": "stream",
          "name": "stdout",
          "text": [
            "Test\n"
          ]
        },
        {
          "output_type": "stream",
          "name": "stderr",
          "text": [
            "100%|██████████| 307/307 [00:00<00:00, 387.49it/s]\n"
          ]
        },
        {
          "output_type": "stream",
          "name": "stdout",
          "text": [
            "Epoch:  13  Train Loss:  0.7877276213188679 Train Accuracy:  0.661878125187716\n",
            "Epoch:  13  Val Loss:  0.7784232569785862  Val Accuracy:  0.6781142044299939\n",
            "Epoch:  13 Test Loss:  0.7712444425211668  Test Accuracy:  0.6767100977198697\n",
            "\n",
            "Validation Classification report\n",
            "               precision    recall  f1-score   support\n",
            "\n",
            "   entailment       0.62      0.85      0.71      3329\n",
            "      neutral       0.68      0.65      0.67      3235\n",
            "contradiction       0.81      0.53      0.64      3278\n",
            "\n",
            "     accuracy                           0.68      9842\n",
            "    macro avg       0.70      0.68      0.67      9842\n",
            " weighted avg       0.70      0.68      0.67      9842\n",
            "\n",
            "Test Classification report\n",
            "               precision    recall  f1-score   support\n",
            "\n",
            "   entailment       0.61      0.84      0.71      3368\n",
            "      neutral       0.68      0.65      0.66      3219\n",
            "contradiction       0.82      0.53      0.65      3237\n",
            "\n",
            "     accuracy                           0.68      9824\n",
            "    macro avg       0.70      0.67      0.67      9824\n",
            " weighted avg       0.70      0.68      0.67      9824\n",
            "\n",
            "\n",
            "\n",
            "Epoch:  14\n",
            "Training\n"
          ]
        },
        {
          "output_type": "stream",
          "name": "stderr",
          "text": [
            "100%|██████████| 17168/17168 [01:10<00:00, 242.72it/s]\n"
          ]
        },
        {
          "output_type": "stream",
          "name": "stdout",
          "text": [
            "Validation\n"
          ]
        },
        {
          "output_type": "stream",
          "name": "stderr",
          "text": [
            "100%|██████████| 308/308 [00:00<00:00, 503.17it/s]\n"
          ]
        },
        {
          "output_type": "stream",
          "name": "stdout",
          "text": [
            "Test\n"
          ]
        },
        {
          "output_type": "stream",
          "name": "stderr",
          "text": [
            "100%|██████████| 307/307 [00:00<00:00, 511.03it/s]\n"
          ]
        },
        {
          "output_type": "stream",
          "name": "stdout",
          "text": [
            "Epoch:  14  Train Loss:  0.7742509291735578 Train Accuracy:  0.670957665822665\n",
            "Epoch:  14  Val Loss:  0.7516938116062771  Val Accuracy:  0.6834992887624467\n",
            "Epoch:  14 Test Loss:  0.7382401493939204  Test Accuracy:  0.6936074918566775\n",
            "\n",
            "Validation Classification report\n",
            "               precision    recall  f1-score   support\n",
            "\n",
            "   entailment       0.73      0.67      0.70      3329\n",
            "      neutral       0.64      0.69      0.67      3235\n",
            "contradiction       0.69      0.69      0.69      3278\n",
            "\n",
            "     accuracy                           0.68      9842\n",
            "    macro avg       0.69      0.68      0.68      9842\n",
            " weighted avg       0.69      0.68      0.68      9842\n",
            "\n",
            "Test Classification report\n",
            "               precision    recall  f1-score   support\n",
            "\n",
            "   entailment       0.74      0.68      0.71      3368\n",
            "      neutral       0.65      0.71      0.68      3219\n",
            "contradiction       0.70      0.69      0.70      3237\n",
            "\n",
            "     accuracy                           0.69      9824\n",
            "    macro avg       0.70      0.69      0.69      9824\n",
            " weighted avg       0.70      0.69      0.69      9824\n",
            "\n",
            "\n",
            "\n",
            "Epoch:  15\n",
            "Training\n"
          ]
        },
        {
          "output_type": "stream",
          "name": "stderr",
          "text": [
            "100%|██████████| 17168/17168 [01:09<00:00, 247.28it/s]\n"
          ]
        },
        {
          "output_type": "stream",
          "name": "stdout",
          "text": [
            "Validation\n"
          ]
        },
        {
          "output_type": "stream",
          "name": "stderr",
          "text": [
            "100%|██████████| 308/308 [00:00<00:00, 544.73it/s]\n"
          ]
        },
        {
          "output_type": "stream",
          "name": "stdout",
          "text": [
            "Test\n"
          ]
        },
        {
          "output_type": "stream",
          "name": "stderr",
          "text": [
            "100%|██████████| 307/307 [00:00<00:00, 537.63it/s]\n"
          ]
        },
        {
          "output_type": "stream",
          "name": "stdout",
          "text": [
            "Epoch:  15  Train Loss:  0.7585036697687246 Train Accuracy:  0.6795311695096357\n",
            "Epoch:  15  Val Loss:  0.7734397313037475  Val Accuracy:  0.668360089412721\n",
            "Epoch:  15 Test Loss:  0.7742933427083765  Test Accuracy:  0.6699918566775245\n",
            "\n",
            "Validation Classification report\n",
            "               precision    recall  f1-score   support\n",
            "\n",
            "   entailment       0.63      0.85      0.72      3329\n",
            "      neutral       0.82      0.42      0.55      3235\n",
            "contradiction       0.65      0.74      0.69      3278\n",
            "\n",
            "     accuracy                           0.67      9842\n",
            "    macro avg       0.70      0.67      0.65      9842\n",
            " weighted avg       0.70      0.67      0.66      9842\n",
            "\n",
            "Test Classification report\n",
            "               precision    recall  f1-score   support\n",
            "\n",
            "   entailment       0.62      0.84      0.72      3368\n",
            "      neutral       0.82      0.42      0.55      3219\n",
            "contradiction       0.66      0.74      0.70      3237\n",
            "\n",
            "     accuracy                           0.67      9824\n",
            "    macro avg       0.70      0.67      0.66      9824\n",
            " weighted avg       0.70      0.67      0.66      9824\n",
            "\n",
            "\n",
            "\n",
            "Epoch:  16\n",
            "Training\n"
          ]
        },
        {
          "output_type": "stream",
          "name": "stderr",
          "text": [
            "100%|██████████| 17168/17168 [01:09<00:00, 245.94it/s]\n"
          ]
        },
        {
          "output_type": "stream",
          "name": "stdout",
          "text": [
            "Validation\n"
          ]
        },
        {
          "output_type": "stream",
          "name": "stderr",
          "text": [
            "100%|██████████| 308/308 [00:00<00:00, 530.12it/s]\n"
          ]
        },
        {
          "output_type": "stream",
          "name": "stdout",
          "text": [
            "Test\n"
          ]
        },
        {
          "output_type": "stream",
          "name": "stderr",
          "text": [
            "100%|██████████| 307/307 [00:00<00:00, 547.51it/s]\n"
          ]
        },
        {
          "output_type": "stream",
          "name": "stdout",
          "text": [
            "Epoch:  16  Train Loss:  0.7480729942011255 Train Accuracy:  0.6844277140782027\n",
            "Epoch:  16  Val Loss:  0.7523268656684207  Val Accuracy:  0.6934566145092461\n",
            "Epoch:  16 Test Loss:  0.7390511681474381  Test Accuracy:  0.7029723127035831\n",
            "\n",
            "Validation Classification report\n",
            "               precision    recall  f1-score   support\n",
            "\n",
            "   entailment       0.66      0.81      0.73      3329\n",
            "      neutral       0.76      0.54      0.63      3235\n",
            "contradiction       0.68      0.73      0.70      3278\n",
            "\n",
            "     accuracy                           0.69      9842\n",
            "    macro avg       0.70      0.69      0.69      9842\n",
            " weighted avg       0.70      0.69      0.69      9842\n",
            "\n",
            "Test Classification report\n",
            "               precision    recall  f1-score   support\n",
            "\n",
            "   entailment       0.68      0.82      0.74      3368\n",
            "      neutral       0.76      0.55      0.64      3219\n",
            "contradiction       0.70      0.73      0.71      3237\n",
            "\n",
            "     accuracy                           0.70      9824\n",
            "    macro avg       0.71      0.70      0.70      9824\n",
            " weighted avg       0.71      0.70      0.70      9824\n",
            "\n",
            "\n",
            "\n",
            "Epoch:  17\n",
            "Training\n"
          ]
        },
        {
          "output_type": "stream",
          "name": "stderr",
          "text": [
            "100%|██████████| 17168/17168 [01:09<00:00, 245.59it/s]\n"
          ]
        },
        {
          "output_type": "stream",
          "name": "stdout",
          "text": [
            "Validation\n"
          ]
        },
        {
          "output_type": "stream",
          "name": "stderr",
          "text": [
            "100%|██████████| 308/308 [00:00<00:00, 535.28it/s]\n"
          ]
        },
        {
          "output_type": "stream",
          "name": "stdout",
          "text": [
            "Test\n"
          ]
        },
        {
          "output_type": "stream",
          "name": "stderr",
          "text": [
            "100%|██████████| 307/307 [00:00<00:00, 543.05it/s]\n"
          ]
        },
        {
          "output_type": "stream",
          "name": "stdout",
          "text": [
            "Epoch:  17  Train Loss:  0.740153727643296 Train Accuracy:  0.6890439360209113\n",
            "Epoch:  17  Val Loss:  0.7652201892493607  Val Accuracy:  0.6890875838244259\n",
            "Epoch:  17 Test Loss:  0.7665928703177636  Test Accuracy:  0.6867874592833876\n",
            "\n",
            "Validation Classification report\n",
            "               precision    recall  f1-score   support\n",
            "\n",
            "   entailment       0.68      0.79      0.73      3329\n",
            "      neutral       0.79      0.49      0.61      3235\n",
            "contradiction       0.65      0.78      0.71      3278\n",
            "\n",
            "     accuracy                           0.69      9842\n",
            "    macro avg       0.71      0.69      0.68      9842\n",
            " weighted avg       0.71      0.69      0.68      9842\n",
            "\n",
            "Test Classification report\n",
            "               precision    recall  f1-score   support\n",
            "\n",
            "   entailment       0.67      0.79      0.73      3368\n",
            "      neutral       0.78      0.48      0.60      3219\n",
            "contradiction       0.65      0.78      0.71      3237\n",
            "\n",
            "     accuracy                           0.69      9824\n",
            "    macro avg       0.70      0.68      0.68      9824\n",
            " weighted avg       0.70      0.69      0.68      9824\n",
            "\n",
            "\n",
            "\n",
            "Epoch:  18\n",
            "Training\n"
          ]
        },
        {
          "output_type": "stream",
          "name": "stderr",
          "text": [
            "100%|██████████| 17168/17168 [01:09<00:00, 247.10it/s]\n"
          ]
        },
        {
          "output_type": "stream",
          "name": "stdout",
          "text": [
            "Validation\n"
          ]
        },
        {
          "output_type": "stream",
          "name": "stderr",
          "text": [
            "100%|██████████| 308/308 [00:00<00:00, 380.75it/s]\n"
          ]
        },
        {
          "output_type": "stream",
          "name": "stdout",
          "text": [
            "Test\n"
          ]
        },
        {
          "output_type": "stream",
          "name": "stderr",
          "text": [
            "100%|██████████| 307/307 [00:00<00:00, 390.52it/s]\n"
          ]
        },
        {
          "output_type": "stream",
          "name": "stdout",
          "text": [
            "Epoch:  18  Train Loss:  0.7325785213392245 Train Accuracy:  0.6938385450891662\n",
            "Epoch:  18  Val Loss:  0.70621854589357  Val Accuracy:  0.7054460475513107\n",
            "Epoch:  18 Test Loss:  0.7044012447521819  Test Accuracy:  0.7060260586319218\n",
            "\n",
            "Validation Classification report\n",
            "               precision    recall  f1-score   support\n",
            "\n",
            "   entailment       0.69      0.78      0.73      3329\n",
            "      neutral       0.66      0.69      0.67      3235\n",
            "contradiction       0.79      0.64      0.71      3278\n",
            "\n",
            "     accuracy                           0.71      9842\n",
            "    macro avg       0.71      0.70      0.70      9842\n",
            " weighted avg       0.71      0.71      0.71      9842\n",
            "\n",
            "Test Classification report\n",
            "               precision    recall  f1-score   support\n",
            "\n",
            "   entailment       0.68      0.80      0.74      3368\n",
            "      neutral       0.66      0.68      0.67      3219\n",
            "contradiction       0.79      0.64      0.71      3237\n",
            "\n",
            "     accuracy                           0.71      9824\n",
            "    macro avg       0.71      0.70      0.70      9824\n",
            " weighted avg       0.71      0.71      0.71      9824\n",
            "\n",
            "\n",
            "\n",
            "Epoch:  19\n",
            "Training\n"
          ]
        },
        {
          "output_type": "stream",
          "name": "stderr",
          "text": [
            "100%|██████████| 17168/17168 [01:08<00:00, 248.84it/s]\n"
          ]
        },
        {
          "output_type": "stream",
          "name": "stdout",
          "text": [
            "Validation\n"
          ]
        },
        {
          "output_type": "stream",
          "name": "stderr",
          "text": [
            "100%|██████████| 308/308 [00:00<00:00, 537.65it/s]\n"
          ]
        },
        {
          "output_type": "stream",
          "name": "stdout",
          "text": [
            "Test\n"
          ]
        },
        {
          "output_type": "stream",
          "name": "stderr",
          "text": [
            "100%|██████████| 307/307 [00:00<00:00, 534.97it/s]\n"
          ]
        },
        {
          "output_type": "stream",
          "name": "stdout",
          "text": [
            "Epoch:  19  Train Loss:  0.7269228081542648 Train Accuracy:  0.6967054810354463\n",
            "Epoch:  19  Val Loss:  0.8948443304602202  Val Accuracy:  0.6657183499288762\n",
            "Epoch:  19 Test Loss:  0.8952326709556269  Test Accuracy:  0.6632736156351792\n",
            "\n",
            "Validation Classification report\n",
            "               precision    recall  f1-score   support\n",
            "\n",
            "   entailment       0.56      0.94      0.70      3329\n",
            "      neutral       0.78      0.47      0.59      3235\n",
            "contradiction       0.84      0.58      0.68      3278\n",
            "\n",
            "     accuracy                           0.67      9842\n",
            "    macro avg       0.73      0.66      0.66      9842\n",
            " weighted avg       0.72      0.67      0.66      9842\n",
            "\n",
            "Test Classification report\n",
            "               precision    recall  f1-score   support\n",
            "\n",
            "   entailment       0.56      0.94      0.70      3368\n",
            "      neutral       0.77      0.46      0.58      3219\n",
            "contradiction       0.84      0.57      0.68      3237\n",
            "\n",
            "     accuracy                           0.66      9824\n",
            "    macro avg       0.72      0.66      0.65      9824\n",
            " weighted avg       0.72      0.66      0.65      9824\n",
            "\n",
            "\n",
            "\n",
            "Epoch:  20\n",
            "Training\n"
          ]
        },
        {
          "output_type": "stream",
          "name": "stderr",
          "text": [
            "100%|██████████| 17168/17168 [01:08<00:00, 248.84it/s]\n"
          ]
        },
        {
          "output_type": "stream",
          "name": "stdout",
          "text": [
            "Validation\n"
          ]
        },
        {
          "output_type": "stream",
          "name": "stderr",
          "text": [
            "100%|██████████| 308/308 [00:00<00:00, 530.89it/s]\n"
          ]
        },
        {
          "output_type": "stream",
          "name": "stdout",
          "text": [
            "Test\n"
          ]
        },
        {
          "output_type": "stream",
          "name": "stderr",
          "text": [
            "100%|██████████| 307/307 [00:00<00:00, 560.28it/s]\n"
          ]
        },
        {
          "output_type": "stream",
          "name": "stdout",
          "text": [
            "Epoch:  20  Train Loss:  0.7221880797913015 Train Accuracy:  0.6982927623974502\n",
            "Epoch:  20  Val Loss:  0.7066784426569939  Val Accuracy:  0.7098150782361309\n",
            "Epoch:  20 Test Loss:  0.7015439559271747  Test Accuracy:  0.7166123778501629\n",
            "\n",
            "Validation Classification report\n",
            "               precision    recall  f1-score   support\n",
            "\n",
            "   entailment       0.68      0.81      0.74      3329\n",
            "      neutral       0.72      0.60      0.66      3235\n",
            "contradiction       0.73      0.71      0.72      3278\n",
            "\n",
            "     accuracy                           0.71      9842\n",
            "    macro avg       0.71      0.71      0.71      9842\n",
            " weighted avg       0.71      0.71      0.71      9842\n",
            "\n",
            "Test Classification report\n",
            "               precision    recall  f1-score   support\n",
            "\n",
            "   entailment       0.68      0.81      0.74      3368\n",
            "      neutral       0.73      0.62      0.67      3219\n",
            "contradiction       0.75      0.72      0.73      3237\n",
            "\n",
            "     accuracy                           0.72      9824\n",
            "    macro avg       0.72      0.72      0.71      9824\n",
            " weighted avg       0.72      0.72      0.71      9824\n",
            "\n",
            "\n",
            "\n",
            "Epoch:  21\n",
            "Training\n"
          ]
        },
        {
          "output_type": "stream",
          "name": "stderr",
          "text": [
            "100%|██████████| 17168/17168 [01:09<00:00, 246.49it/s]\n"
          ]
        },
        {
          "output_type": "stream",
          "name": "stdout",
          "text": [
            "Validation\n"
          ]
        },
        {
          "output_type": "stream",
          "name": "stderr",
          "text": [
            "100%|██████████| 308/308 [00:00<00:00, 536.69it/s]\n"
          ]
        },
        {
          "output_type": "stream",
          "name": "stdout",
          "text": [
            "Test\n"
          ]
        },
        {
          "output_type": "stream",
          "name": "stderr",
          "text": [
            "100%|██████████| 307/307 [00:00<00:00, 367.65it/s]\n"
          ]
        },
        {
          "output_type": "stream",
          "name": "stdout",
          "text": [
            "Epoch:  21  Train Loss:  0.7185404002041541 Train Accuracy:  0.7013617490675632\n",
            "Epoch:  21  Val Loss:  0.7901805541538572  Val Accuracy:  0.6594188173135541\n",
            "Epoch:  21 Test Loss:  0.7866152877333886  Test Accuracy:  0.66439332247557\n",
            "\n",
            "Validation Classification report\n",
            "               precision    recall  f1-score   support\n",
            "\n",
            "   entailment       0.80      0.55      0.65      3329\n",
            "      neutral       0.71      0.59      0.65      3235\n",
            "contradiction       0.57      0.83      0.67      3278\n",
            "\n",
            "     accuracy                           0.66      9842\n",
            "    macro avg       0.69      0.66      0.66      9842\n",
            " weighted avg       0.69      0.66      0.66      9842\n",
            "\n",
            "Test Classification report\n",
            "               precision    recall  f1-score   support\n",
            "\n",
            "   entailment       0.80      0.56      0.66      3368\n",
            "      neutral       0.72      0.59      0.65      3219\n",
            "contradiction       0.57      0.85      0.68      3237\n",
            "\n",
            "     accuracy                           0.66      9824\n",
            "    macro avg       0.70      0.67      0.66      9824\n",
            " weighted avg       0.70      0.66      0.66      9824\n",
            "\n",
            "\n",
            "\n",
            "Epoch:  22\n",
            "Training\n"
          ]
        },
        {
          "output_type": "stream",
          "name": "stderr",
          "text": [
            "100%|██████████| 17168/17168 [01:10<00:00, 245.23it/s]\n"
          ]
        },
        {
          "output_type": "stream",
          "name": "stdout",
          "text": [
            "Validation\n"
          ]
        },
        {
          "output_type": "stream",
          "name": "stderr",
          "text": [
            "100%|██████████| 308/308 [00:00<00:00, 371.16it/s]\n"
          ]
        },
        {
          "output_type": "stream",
          "name": "stdout",
          "text": [
            "Test\n"
          ]
        },
        {
          "output_type": "stream",
          "name": "stderr",
          "text": [
            "100%|██████████| 307/307 [00:00<00:00, 531.08it/s]\n"
          ]
        },
        {
          "output_type": "stream",
          "name": "stdout",
          "text": [
            "Epoch:  22  Train Loss:  0.7161783827104209 Train Accuracy:  0.7022700671864164\n",
            "Epoch:  22  Val Loss:  0.7873486439128975  Val Accuracy:  0.6731355415565942\n",
            "Epoch:  22 Test Loss:  0.7799667465570307  Test Accuracy:  0.683428338762215\n",
            "\n",
            "Validation Classification report\n",
            "               precision    recall  f1-score   support\n",
            "\n",
            "   entailment       0.81      0.54      0.65      3329\n",
            "      neutral       0.62      0.69      0.65      3235\n",
            "contradiction       0.64      0.79      0.71      3278\n",
            "\n",
            "     accuracy                           0.67      9842\n",
            "    macro avg       0.69      0.67      0.67      9842\n",
            " weighted avg       0.69      0.67      0.67      9842\n",
            "\n",
            "Test Classification report\n",
            "               precision    recall  f1-score   support\n",
            "\n",
            "   entailment       0.81      0.56      0.66      3368\n",
            "      neutral       0.63      0.70      0.67      3219\n",
            "contradiction       0.65      0.80      0.72      3237\n",
            "\n",
            "     accuracy                           0.68      9824\n",
            "    macro avg       0.70      0.69      0.68      9824\n",
            " weighted avg       0.70      0.68      0.68      9824\n",
            "\n",
            "\n",
            "\n",
            "Epoch:  23\n",
            "Training\n"
          ]
        },
        {
          "output_type": "stream",
          "name": "stderr",
          "text": [
            "100%|██████████| 17168/17168 [01:09<00:00, 246.56it/s]\n"
          ]
        },
        {
          "output_type": "stream",
          "name": "stdout",
          "text": [
            "Validation\n"
          ]
        },
        {
          "output_type": "stream",
          "name": "stderr",
          "text": [
            "100%|██████████| 308/308 [00:00<00:00, 376.50it/s]\n"
          ]
        },
        {
          "output_type": "stream",
          "name": "stdout",
          "text": [
            "Test\n"
          ]
        },
        {
          "output_type": "stream",
          "name": "stderr",
          "text": [
            "100%|██████████| 307/307 [00:00<00:00, 511.27it/s]\n"
          ]
        },
        {
          "output_type": "stream",
          "name": "stdout",
          "text": [
            "Epoch:  23  Train Loss:  0.7114411041718619 Train Accuracy:  0.7048093533102644\n",
            "Epoch:  23  Val Loss:  0.8598735736949104  Val Accuracy:  0.6672424304003252\n",
            "Epoch:  23 Test Loss:  0.8667517509250765  Test Accuracy:  0.6608306188925082\n",
            "\n",
            "Validation Classification report\n",
            "               precision    recall  f1-score   support\n",
            "\n",
            "   entailment       0.56      0.94      0.70      3329\n",
            "      neutral       0.72      0.54      0.62      3235\n",
            "contradiction       0.90      0.52      0.66      3278\n",
            "\n",
            "     accuracy                           0.67      9842\n",
            "    macro avg       0.73      0.67      0.66      9842\n",
            " weighted avg       0.73      0.67      0.66      9842\n",
            "\n",
            "Test Classification report\n",
            "               precision    recall  f1-score   support\n",
            "\n",
            "   entailment       0.56      0.94      0.70      3368\n",
            "      neutral       0.72      0.53      0.61      3219\n",
            "contradiction       0.90      0.51      0.65      3237\n",
            "\n",
            "     accuracy                           0.66      9824\n",
            "    macro avg       0.73      0.66      0.65      9824\n",
            " weighted avg       0.72      0.66      0.65      9824\n",
            "\n",
            "\n",
            "\n",
            "Epoch:  24\n",
            "Training\n"
          ]
        },
        {
          "output_type": "stream",
          "name": "stderr",
          "text": [
            "100%|██████████| 17168/17168 [01:09<00:00, 247.80it/s]\n"
          ]
        },
        {
          "output_type": "stream",
          "name": "stdout",
          "text": [
            "Validation\n"
          ]
        },
        {
          "output_type": "stream",
          "name": "stderr",
          "text": [
            "100%|██████████| 308/308 [00:00<00:00, 552.30it/s]\n"
          ]
        },
        {
          "output_type": "stream",
          "name": "stdout",
          "text": [
            "Test\n"
          ]
        },
        {
          "output_type": "stream",
          "name": "stderr",
          "text": [
            "100%|██████████| 307/307 [00:00<00:00, 474.97it/s]\n"
          ]
        },
        {
          "output_type": "stream",
          "name": "stdout",
          "text": [
            "Epoch:  24  Train Loss:  0.7083005223280897 Train Accuracy:  0.7064730862975024\n",
            "Epoch:  24  Val Loss:  0.7122614349831234  Val Accuracy:  0.7092054460475513\n",
            "Epoch:  24 Test Loss:  0.7063358816339449  Test Accuracy:  0.7085708469055375\n",
            "\n",
            "Validation Classification report\n",
            "               precision    recall  f1-score   support\n",
            "\n",
            "   entailment       0.70      0.80      0.75      3329\n",
            "      neutral       0.64      0.75      0.69      3235\n",
            "contradiction       0.84      0.58      0.69      3278\n",
            "\n",
            "     accuracy                           0.71      9842\n",
            "    macro avg       0.73      0.71      0.71      9842\n",
            " weighted avg       0.73      0.71      0.71      9842\n",
            "\n",
            "Test Classification report\n",
            "               precision    recall  f1-score   support\n",
            "\n",
            "   entailment       0.70      0.79      0.74      3368\n",
            "      neutral       0.63      0.74      0.68      3219\n",
            "contradiction       0.85      0.59      0.70      3237\n",
            "\n",
            "     accuracy                           0.71      9824\n",
            "    macro avg       0.73      0.71      0.71      9824\n",
            " weighted avg       0.73      0.71      0.71      9824\n",
            "\n",
            "\n",
            "\n",
            "Epoch:  25\n",
            "Training\n"
          ]
        },
        {
          "output_type": "stream",
          "name": "stderr",
          "text": [
            "100%|██████████| 17168/17168 [01:08<00:00, 248.88it/s]\n"
          ]
        },
        {
          "output_type": "stream",
          "name": "stdout",
          "text": [
            "Validation\n"
          ]
        },
        {
          "output_type": "stream",
          "name": "stderr",
          "text": [
            "100%|██████████| 308/308 [00:00<00:00, 540.29it/s]\n"
          ]
        },
        {
          "output_type": "stream",
          "name": "stdout",
          "text": [
            "Test\n"
          ]
        },
        {
          "output_type": "stream",
          "name": "stderr",
          "text": [
            "100%|██████████| 307/307 [00:00<00:00, 537.15it/s]\n"
          ]
        },
        {
          "output_type": "stream",
          "name": "stdout",
          "text": [
            "Epoch:  25  Train Loss:  0.7063158527042679 Train Accuracy:  0.7081349990079492\n",
            "Epoch:  25  Val Loss:  0.7297546367173071  Val Accuracy:  0.6997561471245681\n",
            "Epoch:  25 Test Loss:  0.7288241966927868  Test Accuracy:  0.7082654723127035\n",
            "\n",
            "Validation Classification report\n",
            "               precision    recall  f1-score   support\n",
            "\n",
            "   entailment       0.74      0.73      0.73      3329\n",
            "      neutral       0.60      0.80      0.68      3235\n",
            "contradiction       0.84      0.58      0.69      3278\n",
            "\n",
            "     accuracy                           0.70      9842\n",
            "    macro avg       0.73      0.70      0.70      9842\n",
            " weighted avg       0.73      0.70      0.70      9842\n",
            "\n",
            "Test Classification report\n",
            "               precision    recall  f1-score   support\n",
            "\n",
            "   entailment       0.74      0.74      0.74      3368\n",
            "      neutral       0.61      0.79      0.69      3219\n",
            "contradiction       0.85      0.60      0.70      3237\n",
            "\n",
            "     accuracy                           0.71      9824\n",
            "    macro avg       0.73      0.71      0.71      9824\n",
            " weighted avg       0.73      0.71      0.71      9824\n",
            "\n",
            "\n",
            "\n",
            "Epoch:  26\n",
            "Training\n"
          ]
        },
        {
          "output_type": "stream",
          "name": "stderr",
          "text": [
            "100%|██████████| 17168/17168 [01:10<00:00, 243.76it/s]\n"
          ]
        },
        {
          "output_type": "stream",
          "name": "stdout",
          "text": [
            "Validation\n"
          ]
        },
        {
          "output_type": "stream",
          "name": "stderr",
          "text": [
            "100%|██████████| 308/308 [00:00<00:00, 525.98it/s]\n"
          ]
        },
        {
          "output_type": "stream",
          "name": "stdout",
          "text": [
            "Test\n"
          ]
        },
        {
          "output_type": "stream",
          "name": "stderr",
          "text": [
            "100%|██████████| 307/307 [00:00<00:00, 528.89it/s]\n"
          ]
        },
        {
          "output_type": "stream",
          "name": "stdout",
          "text": [
            "Epoch:  26  Train Loss:  0.7031131324341793 Train Accuracy:  0.709696796494875\n",
            "Epoch:  26  Val Loss:  0.7176796230789902  Val Accuracy:  0.7081893923999187\n",
            "Epoch:  26 Test Loss:  0.7163637563926001  Test Accuracy:  0.7088762214983714\n",
            "\n",
            "Validation Classification report\n",
            "               precision    recall  f1-score   support\n",
            "\n",
            "   entailment       0.69      0.81      0.75      3329\n",
            "      neutral       0.64      0.74      0.68      3235\n",
            "contradiction       0.86      0.57      0.69      3278\n",
            "\n",
            "     accuracy                           0.71      9842\n",
            "    macro avg       0.73      0.71      0.71      9842\n",
            " weighted avg       0.73      0.71      0.71      9842\n",
            "\n",
            "Test Classification report\n",
            "               precision    recall  f1-score   support\n",
            "\n",
            "   entailment       0.69      0.81      0.75      3368\n",
            "      neutral       0.64      0.74      0.68      3219\n",
            "contradiction       0.87      0.58      0.69      3237\n",
            "\n",
            "     accuracy                           0.71      9824\n",
            "    macro avg       0.73      0.71      0.71      9824\n",
            " weighted avg       0.73      0.71      0.71      9824\n",
            "\n",
            "\n",
            "\n",
            "Epoch:  27\n",
            "Training\n"
          ]
        },
        {
          "output_type": "stream",
          "name": "stderr",
          "text": [
            "100%|██████████| 17168/17168 [01:09<00:00, 245.81it/s]\n"
          ]
        },
        {
          "output_type": "stream",
          "name": "stdout",
          "text": [
            "Validation\n"
          ]
        },
        {
          "output_type": "stream",
          "name": "stderr",
          "text": [
            "100%|██████████| 308/308 [00:00<00:00, 552.67it/s]\n"
          ]
        },
        {
          "output_type": "stream",
          "name": "stdout",
          "text": [
            "Test\n"
          ]
        },
        {
          "output_type": "stream",
          "name": "stderr",
          "text": [
            "100%|██████████| 307/307 [00:00<00:00, 524.48it/s]\n"
          ]
        },
        {
          "output_type": "stream",
          "name": "stdout",
          "text": [
            "Epoch:  27  Train Loss:  0.7014766431492575 Train Accuracy:  0.7110492621508027\n",
            "Epoch:  27  Val Loss:  0.7509362906604619  Val Accuracy:  0.6732371469213575\n",
            "Epoch:  27 Test Loss:  0.7551865891253132  Test Accuracy:  0.6735545602605864\n",
            "\n",
            "Validation Classification report\n",
            "               precision    recall  f1-score   support\n",
            "\n",
            "   entailment       0.81      0.52      0.63      3329\n",
            "      neutral       0.56      0.80      0.66      3235\n",
            "contradiction       0.76      0.70      0.73      3278\n",
            "\n",
            "     accuracy                           0.67      9842\n",
            "    macro avg       0.71      0.67      0.67      9842\n",
            " weighted avg       0.71      0.67      0.67      9842\n",
            "\n",
            "Test Classification report\n",
            "               precision    recall  f1-score   support\n",
            "\n",
            "   entailment       0.81      0.53      0.64      3368\n",
            "      neutral       0.56      0.80      0.66      3219\n",
            "contradiction       0.76      0.70      0.73      3237\n",
            "\n",
            "     accuracy                           0.67      9824\n",
            "    macro avg       0.71      0.68      0.67      9824\n",
            " weighted avg       0.71      0.67      0.67      9824\n",
            "\n",
            "\n",
            "\n",
            "Epoch:  28\n",
            "Training\n"
          ]
        },
        {
          "output_type": "stream",
          "name": "stderr",
          "text": [
            "100%|██████████| 17168/17168 [01:09<00:00, 247.73it/s]\n"
          ]
        },
        {
          "output_type": "stream",
          "name": "stdout",
          "text": [
            "Validation\n"
          ]
        },
        {
          "output_type": "stream",
          "name": "stderr",
          "text": [
            "100%|██████████| 308/308 [00:00<00:00, 386.68it/s]\n"
          ]
        },
        {
          "output_type": "stream",
          "name": "stdout",
          "text": [
            "Test\n"
          ]
        },
        {
          "output_type": "stream",
          "name": "stderr",
          "text": [
            "100%|██████████| 307/307 [00:00<00:00, 380.30it/s]\n"
          ]
        },
        {
          "output_type": "stream",
          "name": "stdout",
          "text": [
            "Epoch:  28  Train Loss:  0.6987412295322466 Train Accuracy:  0.7119885249751077\n",
            "Epoch:  28  Val Loss:  0.7317728392489544  Val Accuracy:  0.6991465149359887\n",
            "Epoch:  28 Test Loss:  0.7242776974792977  Test Accuracy:  0.7011400651465798\n",
            "\n",
            "Validation Classification report\n",
            "               precision    recall  f1-score   support\n",
            "\n",
            "   entailment       0.79      0.64      0.71      3329\n",
            "      neutral       0.65      0.69      0.67      3235\n",
            "contradiction       0.68      0.77      0.72      3278\n",
            "\n",
            "     accuracy                           0.70      9842\n",
            "    macro avg       0.71      0.70      0.70      9842\n",
            " weighted avg       0.71      0.70      0.70      9842\n",
            "\n",
            "Test Classification report\n",
            "               precision    recall  f1-score   support\n",
            "\n",
            "   entailment       0.78      0.64      0.70      3368\n",
            "      neutral       0.64      0.69      0.67      3219\n",
            "contradiction       0.69      0.78      0.73      3237\n",
            "\n",
            "     accuracy                           0.70      9824\n",
            "    macro avg       0.71      0.70      0.70      9824\n",
            " weighted avg       0.71      0.70      0.70      9824\n",
            "\n",
            "\n",
            "\n",
            "Epoch:  29\n",
            "Training\n"
          ]
        },
        {
          "output_type": "stream",
          "name": "stderr",
          "text": [
            "100%|██████████| 17168/17168 [01:09<00:00, 248.26it/s]\n"
          ]
        },
        {
          "output_type": "stream",
          "name": "stdout",
          "text": [
            "Validation\n"
          ]
        },
        {
          "output_type": "stream",
          "name": "stderr",
          "text": [
            "100%|██████████| 308/308 [00:00<00:00, 543.06it/s]\n"
          ]
        },
        {
          "output_type": "stream",
          "name": "stdout",
          "text": [
            "Test\n"
          ]
        },
        {
          "output_type": "stream",
          "name": "stderr",
          "text": [
            "100%|██████████| 307/307 [00:00<00:00, 516.48it/s]\n"
          ]
        },
        {
          "output_type": "stream",
          "name": "stdout",
          "text": [
            "Epoch:  29  Train Loss:  0.6968420819923601 Train Accuracy:  0.7134975344350862\n",
            "Epoch:  29  Val Loss:  0.7024740637703375  Val Accuracy:  0.7207884576305629\n",
            "Epoch:  29 Test Loss:  0.7012636713950564  Test Accuracy:  0.716307003257329\n",
            "\n",
            "Validation Classification report\n",
            "               precision    recall  f1-score   support\n",
            "\n",
            "   entailment       0.69      0.82      0.75      3329\n",
            "      neutral       0.67      0.71      0.69      3235\n",
            "contradiction       0.84      0.63      0.72      3278\n",
            "\n",
            "     accuracy                           0.72      9842\n",
            "    macro avg       0.73      0.72      0.72      9842\n",
            " weighted avg       0.73      0.72      0.72      9842\n",
            "\n",
            "Test Classification report\n",
            "               precision    recall  f1-score   support\n",
            "\n",
            "   entailment       0.68      0.82      0.74      3368\n",
            "      neutral       0.67      0.70      0.68      3219\n",
            "contradiction       0.84      0.62      0.72      3237\n",
            "\n",
            "     accuracy                           0.72      9824\n",
            "    macro avg       0.73      0.71      0.72      9824\n",
            " weighted avg       0.73      0.72      0.72      9824\n",
            "\n",
            "\n",
            "\n",
            "Epoch:  30\n",
            "Training\n"
          ]
        },
        {
          "output_type": "stream",
          "name": "stderr",
          "text": [
            "100%|██████████| 17168/17168 [01:09<00:00, 248.20it/s]\n"
          ]
        },
        {
          "output_type": "stream",
          "name": "stdout",
          "text": [
            "Validation\n"
          ]
        },
        {
          "output_type": "stream",
          "name": "stderr",
          "text": [
            "100%|██████████| 308/308 [00:00<00:00, 531.22it/s]\n"
          ]
        },
        {
          "output_type": "stream",
          "name": "stdout",
          "text": [
            "Test\n"
          ]
        },
        {
          "output_type": "stream",
          "name": "stderr",
          "text": [
            "100%|██████████| 307/307 [00:00<00:00, 541.85it/s]\n"
          ]
        },
        {
          "output_type": "stream",
          "name": "stdout",
          "text": [
            "Epoch:  30  Train Loss:  0.6943787157210936 Train Accuracy:  0.7137414515251189\n",
            "Epoch:  30  Val Loss:  0.6856795443923442  Val Accuracy:  0.7249542775858565\n",
            "Epoch:  30 Test Loss:  0.6898439505201209  Test Accuracy:  0.7182410423452769\n",
            "\n",
            "Validation Classification report\n",
            "               precision    recall  f1-score   support\n",
            "\n",
            "   entailment       0.72      0.79      0.75      3329\n",
            "      neutral       0.66      0.73      0.69      3235\n",
            "contradiction       0.82      0.65      0.73      3278\n",
            "\n",
            "     accuracy                           0.72      9842\n",
            "    macro avg       0.73      0.72      0.72      9842\n",
            " weighted avg       0.73      0.72      0.73      9842\n",
            "\n",
            "Test Classification report\n",
            "               precision    recall  f1-score   support\n",
            "\n",
            "   entailment       0.72      0.78      0.75      3368\n",
            "      neutral       0.65      0.72      0.68      3219\n",
            "contradiction       0.81      0.65      0.72      3237\n",
            "\n",
            "     accuracy                           0.72      9824\n",
            "    macro avg       0.73      0.72      0.72      9824\n",
            " weighted avg       0.73      0.72      0.72      9824\n",
            "\n",
            "Total Train Loss 0.8291083993160772  Total Train Accuracy:  0.6181305636001677\n"
          ]
        },
        {
          "output_type": "stream",
          "name": "stderr",
          "text": [
            "100%|██████████| 307/307 [00:00<00:00, 457.23it/s]\n"
          ]
        },
        {
          "output_type": "stream",
          "name": "stdout",
          "text": [
            "Test Loss:  0.6841637003887748  Test Accuracy:  0.7250610749185668\n",
            "               precision    recall  f1-score   support\n",
            "\n",
            "   entailment       0.72      0.77      0.74      3368\n",
            "      neutral       0.66      0.75      0.70      3219\n",
            "contradiction       0.82      0.66      0.73      3237\n",
            "\n",
            "     accuracy                           0.73      9824\n",
            "    macro avg       0.73      0.72      0.73      9824\n",
            " weighted avg       0.73      0.73      0.73      9824\n",
            "\n",
            "[[2600  584  184]\n",
            " [ 542 2400  277]\n",
            " [ 479  635 2123]]\n"
          ]
        }
      ],
      "source": [
        "#initialize the model with above parameters\n",
        "snli_model = NLI_LSTM(sembedding_matrix,INPUT_DIM, EMBEDDING_DIM, HIDDEN_DIM, OUTPUT_DIM, N_FC_LAYERS, DROPOUT)\n",
        "snli_model.to(device)\n",
        "#adam optimizer\n",
        "optimizer = optim.Adam(snli_model.parameters())\n",
        "#loss function\n",
        "criterion = nn.CrossEntropyLoss()\n",
        "#train\n",
        "snli_model = train(snli_model,strain_dataloader,sdev_dataloader,stest_dataloader,optimizer,criterion,datasetName,EPOCHS)\n",
        "\n",
        "#test\n",
        "test(snli_model,stest_dataloader,criterion)"
      ]
    },
    {
      "cell_type": "code",
      "execution_count": 13,
      "metadata": {
        "colab": {
          "base_uri": "https://localhost:8080/"
        },
        "id": "FjWZ-k_fFtxr",
        "outputId": "025fa08a-d6e6-4e33-da32-e5e8b756f106"
      },
      "outputs": [
        {
          "output_type": "stream",
          "name": "stderr",
          "text": [
            "100%|██████████| 308/308 [00:00<00:00, 387.76it/s]\n"
          ]
        },
        {
          "output_type": "stream",
          "name": "stdout",
          "text": [
            "Test Loss:  0.9635263044725765  Test Accuracy:  0.504373474369406\n",
            "               precision    recall  f1-score   support\n",
            "\n",
            "   entailment       0.49      0.53      0.51      3463\n",
            "      neutral       0.42      0.48      0.45      3129\n",
            "contradiction       0.64      0.51      0.57      3240\n",
            "\n",
            "     accuracy                           0.50      9832\n",
            "    macro avg       0.52      0.50      0.51      9832\n",
            " weighted avg       0.52      0.50      0.51      9832\n",
            "\n",
            "[[1821 1248  394]\n",
            " [1123 1490  516]\n",
            " [ 794  798 1648]]\n"
          ]
        }
      ],
      "source": [
        "INPUT_DIM = len(mword2index)\n",
        "mnli_model=NLI_LSTM(membedding_matrix,INPUT_DIM, EMBEDDING_DIM, HIDDEN_DIM, OUTPUT_DIM, N_FC_LAYERS, DROPOUT)\n",
        "mnli_model.to(device)\n",
        "mnli_model.load_state_dict(torch.load(\"/content/gdrive/MyDrive/NLPProject/models/model_lstm_nli_mnli_ep_1.pt\"))\n",
        "\n",
        "\n",
        "#adam optimizer\n",
        "optimizer = optim.Adam(mnli_model.parameters())\n",
        "#loss function\n",
        "criterion = nn.CrossEntropyLoss()\n",
        "# #train\n",
        "# model = train(model,train_dataloader,dev_dataloader,test_dataloader,optimizer,criterion,datasetName,EPOCHS)\n",
        "\n",
        "#test\n",
        "test(mnli_model,mtest_dataloader,criterion)"
      ]
    },
    {
      "cell_type": "code",
      "execution_count": 14,
      "metadata": {
        "colab": {
          "base_uri": "https://localhost:8080/"
        },
        "id": "rt5A1sl2Ftxr",
        "outputId": "88afecdf-0835-42ef-dad7-882d2c9fe57b"
      },
      "outputs": [
        {
          "output_type": "stream",
          "name": "stderr",
          "text": [
            "100%|██████████| 307/307 [00:00<00:00, 360.04it/s]\n"
          ]
        },
        {
          "output_type": "stream",
          "name": "stdout",
          "text": [
            "Test Loss:  0.7772045640293084  Test Accuracy:  0.6585912052117264\n",
            "               precision    recall  f1-score   support\n",
            "\n",
            "   entailment       0.67      0.70      0.68      3368\n",
            "      neutral       0.66      0.63      0.65      3219\n",
            "contradiction       0.64      0.64      0.64      3237\n",
            "\n",
            "     accuracy                           0.66      9824\n",
            "    macro avg       0.66      0.66      0.66      9824\n",
            " weighted avg       0.66      0.66      0.66      9824\n",
            "\n",
            "[[2360  462  546]\n",
            " [ 567 2044  608]\n",
            " [ 603  568 2066]]\n"
          ]
        }
      ],
      "source": [
        "INPUT_DIM = len(sword2index)\n",
        "snli_model=NLI_LSTM(sembedding_matrix,INPUT_DIM, EMBEDDING_DIM, HIDDEN_DIM, OUTPUT_DIM, N_FC_LAYERS, DROPOUT)\n",
        "snli_model.to(device)\n",
        "snli_model.load_state_dict(torch.load(\"/content/gdrive/MyDrive/NLPProject/models/model_lstm_nli_snli_ep_10.pt\"))\n",
        "\n",
        "\n",
        "#adam optimizer\n",
        "optimizer = optim.Adam(snli_model.parameters())\n",
        "#loss function\n",
        "criterion = nn.CrossEntropyLoss()\n",
        "# #train\n",
        "# model = train(model,train_dataloader,dev_dataloader,test_dataloader,optimizer,criterion,datasetName,EPOCHS)\n",
        "\n",
        "#test\n",
        "test(snli_model,stest_dataloader,criterion)"
      ]
    },
    {
      "cell_type": "code",
      "source": [],
      "metadata": {
        "id": "HnHZTY2INFbj"
      },
      "execution_count": 14,
      "outputs": []
    }
  ],
  "metadata": {
    "kernelspec": {
      "display_name": "Python 3 (ipykernel)",
      "language": "python",
      "name": "python3"
    },
    "language_info": {
      "codemirror_mode": {
        "name": "ipython",
        "version": 3
      },
      "file_extension": ".py",
      "mimetype": "text/x-python",
      "name": "python",
      "nbconvert_exporter": "python",
      "pygments_lexer": "ipython3",
      "version": "3.10.6"
    },
    "colab": {
      "provenance": []
    },
    "accelerator": "GPU",
    "gpuClass": "standard"
  },
  "nbformat": 4,
  "nbformat_minor": 0
}