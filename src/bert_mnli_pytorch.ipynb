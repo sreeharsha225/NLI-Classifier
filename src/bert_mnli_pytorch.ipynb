{
  "nbformat": 4,
  "nbformat_minor": 0,
  "metadata": {
    "kernelspec": {
      "language": "python",
      "display_name": "Python 3",
      "name": "python3"
    },
    "language_info": {
      "name": "python",
      "version": "3.7.10",
      "mimetype": "text/x-python",
      "codemirror_mode": {
        "name": "ipython",
        "version": 3
      },
      "pygments_lexer": "ipython3",
      "nbconvert_exporter": "python",
      "file_extension": ".py"
    },
    "colab": {
      "provenance": [],
      "collapsed_sections": [
        "BHqpAXipTH-B",
        "x9_msVLYTH-C"
      ],
      "gpuType": "T4"
    },
    "accelerator": "GPU",
    "gpuClass": "standard"
  },
  "cells": [
    {
      "cell_type": "markdown",
      "metadata": {
        "id": "e0xlmN_2TH95"
      },
      "source": [
        "# Setting Environment"
      ]
    },
    {
      "cell_type": "code",
      "metadata": {
        "id": "S6eOgkbETM4r",
        "colab": {
          "base_uri": "https://localhost:8080/"
        },
        "outputId": "7c1377a1-6048-465e-a48b-467db530d134"
      },
      "source": [
        "!pip install transformers"
      ],
      "execution_count": 1,
      "outputs": [
        {
          "output_type": "stream",
          "name": "stdout",
          "text": [
            "Looking in indexes: https://pypi.org/simple, https://us-python.pkg.dev/colab-wheels/public/simple/\n",
            "Requirement already satisfied: transformers in /usr/local/lib/python3.10/dist-packages (4.29.1)\n",
            "Requirement already satisfied: filelock in /usr/local/lib/python3.10/dist-packages (from transformers) (3.12.0)\n",
            "Requirement already satisfied: huggingface-hub<1.0,>=0.14.1 in /usr/local/lib/python3.10/dist-packages (from transformers) (0.14.1)\n",
            "Requirement already satisfied: numpy>=1.17 in /usr/local/lib/python3.10/dist-packages (from transformers) (1.22.4)\n",
            "Requirement already satisfied: packaging>=20.0 in /usr/local/lib/python3.10/dist-packages (from transformers) (23.1)\n",
            "Requirement already satisfied: pyyaml>=5.1 in /usr/local/lib/python3.10/dist-packages (from transformers) (6.0)\n",
            "Requirement already satisfied: regex!=2019.12.17 in /usr/local/lib/python3.10/dist-packages (from transformers) (2022.10.31)\n",
            "Requirement already satisfied: requests in /usr/local/lib/python3.10/dist-packages (from transformers) (2.27.1)\n",
            "Requirement already satisfied: tokenizers!=0.11.3,<0.14,>=0.11.1 in /usr/local/lib/python3.10/dist-packages (from transformers) (0.13.3)\n",
            "Requirement already satisfied: tqdm>=4.27 in /usr/local/lib/python3.10/dist-packages (from transformers) (4.65.0)\n",
            "Requirement already satisfied: fsspec in /usr/local/lib/python3.10/dist-packages (from huggingface-hub<1.0,>=0.14.1->transformers) (2023.4.0)\n",
            "Requirement already satisfied: typing-extensions>=3.7.4.3 in /usr/local/lib/python3.10/dist-packages (from huggingface-hub<1.0,>=0.14.1->transformers) (4.5.0)\n",
            "Requirement already satisfied: urllib3<1.27,>=1.21.1 in /usr/local/lib/python3.10/dist-packages (from requests->transformers) (1.26.15)\n",
            "Requirement already satisfied: certifi>=2017.4.17 in /usr/local/lib/python3.10/dist-packages (from requests->transformers) (2022.12.7)\n",
            "Requirement already satisfied: charset-normalizer~=2.0.0 in /usr/local/lib/python3.10/dist-packages (from requests->transformers) (2.0.12)\n",
            "Requirement already satisfied: idna<4,>=2.5 in /usr/local/lib/python3.10/dist-packages (from requests->transformers) (3.4)\n"
          ]
        }
      ]
    },
    {
      "cell_type": "code",
      "metadata": {
        "execution": {
          "iopub.status.busy": "2021-05-22T18:22:36.396454Z",
          "iopub.execute_input": "2021-05-22T18:22:36.396768Z",
          "iopub.status.idle": "2021-05-22T18:22:36.412405Z",
          "shell.execute_reply.started": "2021-05-22T18:22:36.396741Z",
          "shell.execute_reply": "2021-05-22T18:22:36.411362Z"
        },
        "trusted": true,
        "id": "ZYRlkywfTH98",
        "colab": {
          "base_uri": "https://localhost:8080/"
        },
        "outputId": "0086d8d3-5dfb-4d37-b09b-96e8f181f281"
      },
      "source": [
        "import sys\n",
        "\n",
        "from google.colab import drive\n",
        "drive.mount('/content/gdrive')"
      ],
      "execution_count": 2,
      "outputs": [
        {
          "output_type": "stream",
          "name": "stdout",
          "text": [
            "Drive already mounted at /content/gdrive; to attempt to forcibly remount, call drive.mount(\"/content/gdrive\", force_remount=True).\n"
          ]
        }
      ]
    },
    {
      "cell_type": "markdown",
      "metadata": {
        "id": "dyqsMcL6TH98"
      },
      "source": [
        "# Utils Functions"
      ]
    },
    {
      "cell_type": "code",
      "metadata": {
        "execution": {
          "iopub.status.busy": "2021-05-22T18:22:36.413926Z",
          "iopub.execute_input": "2021-05-22T18:22:36.414320Z",
          "iopub.status.idle": "2021-05-22T18:22:36.738700Z",
          "shell.execute_reply.started": "2021-05-22T18:22:36.414279Z",
          "shell.execute_reply": "2021-05-22T18:22:36.737913Z"
        },
        "trusted": true,
        "id": "jUiwn5QfTH99"
      },
      "source": [
        "import torch\n",
        "\n",
        "SEED = 1111\n",
        "torch.manual_seed(SEED)\n",
        "torch.backends.cudnn.deterministic = True"
      ],
      "execution_count": 3,
      "outputs": []
    },
    {
      "cell_type": "code",
      "metadata": {
        "execution": {
          "iopub.status.busy": "2021-05-22T18:22:36.741101Z",
          "iopub.execute_input": "2021-05-22T18:22:36.741342Z",
          "iopub.status.idle": "2021-05-22T18:22:39.816045Z",
          "shell.execute_reply.started": "2021-05-22T18:22:36.741317Z",
          "shell.execute_reply": "2021-05-22T18:22:39.815184Z"
        },
        "trusted": true,
        "id": "A6fmllOKTH99"
      },
      "source": [
        "from transformers import BertTokenizer\n",
        "\n",
        "tokenizer = BertTokenizer.from_pretrained('bert-base-uncased')"
      ],
      "execution_count": 4,
      "outputs": []
    },
    {
      "cell_type": "code",
      "metadata": {
        "execution": {
          "iopub.status.busy": "2021-05-22T18:22:39.847826Z",
          "iopub.execute_input": "2021-05-22T18:22:39.848458Z",
          "iopub.status.idle": "2021-05-22T18:22:39.856324Z",
          "shell.execute_reply.started": "2021-05-22T18:22:39.848417Z",
          "shell.execute_reply": "2021-05-22T18:22:39.855337Z"
        },
        "trusted": true,
        "id": "dmwYflD8TH9-",
        "outputId": "a798cc70-b105-49b5-98a8-c03a0d00be43",
        "colab": {
          "base_uri": "https://localhost:8080/"
        }
      },
      "source": [
        "init_token = tokenizer.cls_token\n",
        "eos_token = tokenizer.sep_token\n",
        "pad_token = tokenizer.pad_token\n",
        "unk_token = tokenizer.unk_token\n",
        "\n",
        "print(init_token, eos_token, pad_token, unk_token)"
      ],
      "execution_count": 5,
      "outputs": [
        {
          "output_type": "stream",
          "name": "stdout",
          "text": [
            "[CLS] [SEP] [PAD] [UNK]\n"
          ]
        }
      ]
    },
    {
      "cell_type": "code",
      "metadata": {
        "execution": {
          "iopub.status.busy": "2021-05-22T18:22:39.857905Z",
          "iopub.execute_input": "2021-05-22T18:22:39.858605Z",
          "iopub.status.idle": "2021-05-22T18:22:39.865416Z",
          "shell.execute_reply.started": "2021-05-22T18:22:39.858568Z",
          "shell.execute_reply": "2021-05-22T18:22:39.864368Z"
        },
        "trusted": true,
        "id": "qUcbVwr2TH9_",
        "outputId": "f85059bf-30fb-43a0-ff63-dcbfe4032879",
        "colab": {
          "base_uri": "https://localhost:8080/"
        }
      },
      "source": [
        "init_token_idx = tokenizer.cls_token_id\n",
        "eos_token_idx = tokenizer.sep_token_id\n",
        "pad_token_idx = tokenizer.pad_token_id\n",
        "unk_token_idx = tokenizer.unk_token_id\n",
        "\n",
        "print(init_token_idx, eos_token_idx, pad_token_idx, unk_token_idx)"
      ],
      "execution_count": 6,
      "outputs": [
        {
          "output_type": "stream",
          "name": "stdout",
          "text": [
            "101 102 0 100\n"
          ]
        }
      ]
    },
    {
      "cell_type": "code",
      "metadata": {
        "execution": {
          "iopub.status.busy": "2021-05-22T18:22:39.866788Z",
          "iopub.execute_input": "2021-05-22T18:22:39.867411Z",
          "iopub.status.idle": "2021-05-22T18:22:39.875804Z",
          "shell.execute_reply.started": "2021-05-22T18:22:39.867372Z",
          "shell.execute_reply": "2021-05-22T18:22:39.874848Z"
        },
        "trusted": true,
        "id": "fHo--jhxTH9_",
        "outputId": "98f6460b-bf45-41c2-a9c3-b28155f1ee59",
        "colab": {
          "base_uri": "https://localhost:8080/"
        }
      },
      "source": [
        "max_input_length = tokenizer.max_model_input_sizes['bert-base-uncased']\n",
        "\n",
        "print(max_input_length)\n",
        "\n",
        "max_input_length = 255"
      ],
      "execution_count": 7,
      "outputs": [
        {
          "output_type": "stream",
          "name": "stdout",
          "text": [
            "512\n"
          ]
        }
      ]
    },
    {
      "cell_type": "code",
      "metadata": {
        "execution": {
          "iopub.status.busy": "2021-05-22T18:22:39.877189Z",
          "iopub.execute_input": "2021-05-22T18:22:39.877717Z",
          "iopub.status.idle": "2021-05-22T18:22:39.884514Z",
          "shell.execute_reply.started": "2021-05-22T18:22:39.877674Z",
          "shell.execute_reply": "2021-05-22T18:22:39.883641Z"
        },
        "trusted": true,
        "id": "83VWXLVLTH-A"
      },
      "source": [
        "def tokenize_bert(sentence):\n",
        "    tokens = tokenizer.tokenize(sentence) \n",
        "    return tokens"
      ],
      "execution_count": 8,
      "outputs": []
    },
    {
      "cell_type": "code",
      "metadata": {
        "execution": {
          "iopub.status.busy": "2021-05-22T18:22:39.885989Z",
          "iopub.execute_input": "2021-05-22T18:22:39.886398Z",
          "iopub.status.idle": "2021-05-22T18:22:39.894256Z",
          "shell.execute_reply.started": "2021-05-22T18:22:39.886361Z",
          "shell.execute_reply": "2021-05-22T18:22:39.893338Z"
        },
        "trusted": true,
        "id": "DYvGYvORTH-A"
      },
      "source": [
        "def split_and_cut(sentence):\n",
        "    tokens = sentence.strip().split(\" \")\n",
        "    tokens = tokens[:max_input_length-1]\n",
        "    return tokens"
      ],
      "execution_count": 9,
      "outputs": []
    },
    {
      "cell_type": "code",
      "metadata": {
        "execution": {
          "iopub.status.busy": "2021-05-22T18:22:39.895637Z",
          "iopub.execute_input": "2021-05-22T18:22:39.896302Z",
          "iopub.status.idle": "2021-05-22T18:22:39.904166Z",
          "shell.execute_reply.started": "2021-05-22T18:22:39.896263Z",
          "shell.execute_reply": "2021-05-22T18:22:39.903403Z"
        },
        "trusted": true,
        "id": "6K4QtCsQTH-A"
      },
      "source": [
        "def trim_sentence(sent):\n",
        "    try:\n",
        "        sent = sent.split()\n",
        "        sent = sent[:128]\n",
        "        return \" \".join(sent)\n",
        "    except:\n",
        "        return sent"
      ],
      "execution_count": 10,
      "outputs": []
    },
    {
      "cell_type": "markdown",
      "metadata": {
        "id": "BHqpAXipTH-B"
      },
      "source": [
        "# Download Dataset"
      ]
    },
    {
      "cell_type": "code",
      "metadata": {
        "execution": {
          "iopub.status.busy": "2021-05-22T18:22:39.905621Z",
          "iopub.execute_input": "2021-05-22T18:22:39.906075Z",
          "iopub.status.idle": "2021-05-22T18:22:51.266832Z",
          "shell.execute_reply.started": "2021-05-22T18:22:39.906039Z",
          "shell.execute_reply": "2021-05-22T18:22:51.265794Z"
        },
        "trusted": true,
        "id": "GI2wzJciTH-B",
        "outputId": "40431ea8-aa0a-4702-9630-18ce7c0afe18",
        "colab": {
          "base_uri": "https://localhost:8080/"
        }
      },
      "source": [
        "!wget  https://cims.nyu.edu/~sbowman/multinli/multinli_1.0.zip"
      ],
      "execution_count": 11,
      "outputs": [
        {
          "output_type": "stream",
          "name": "stdout",
          "text": [
            "--2023-05-13 05:26:20--  https://cims.nyu.edu/~sbowman/multinli/multinli_1.0.zip\n",
            "Resolving cims.nyu.edu (cims.nyu.edu)... 216.165.22.202\n",
            "Connecting to cims.nyu.edu (cims.nyu.edu)|216.165.22.202|:443... connected.\n",
            "HTTP request sent, awaiting response... 200 OK\n",
            "Length: 226850426 (216M) [application/zip]\n",
            "Saving to: ‘multinli_1.0.zip.2’\n",
            "\n",
            "multinli_1.0.zip.2  100%[===================>] 216.34M  13.3MB/s    in 11s     \n",
            "\n",
            "2023-05-13 05:26:31 (19.9 MB/s) - ‘multinli_1.0.zip.2’ saved [226850426/226850426]\n",
            "\n"
          ]
        }
      ]
    },
    {
      "cell_type": "code",
      "metadata": {
        "execution": {
          "iopub.status.busy": "2021-05-22T18:22:51.269742Z",
          "iopub.execute_input": "2021-05-22T18:22:51.270159Z",
          "iopub.status.idle": "2021-05-22T18:22:54.896800Z",
          "shell.execute_reply.started": "2021-05-22T18:22:51.270112Z",
          "shell.execute_reply": "2021-05-22T18:22:54.895335Z"
        },
        "trusted": true,
        "id": "hclFoPKmTH-B",
        "outputId": "8567b399-39b4-4965-9d7a-0278b9210dd4",
        "colab": {
          "base_uri": "https://localhost:8080/"
        }
      },
      "source": [
        "from zipfile import ZipFile\n",
        "  \n",
        "# specifying the zip file name\n",
        "file_name = \"multinli_1.0.zip\"\n",
        "  \n",
        "# opening the zip file in READ mode\n",
        "with ZipFile(file_name, 'r') as zip:\n",
        "    # printing all the contents of the zip file\n",
        "    zip.printdir()\n",
        "  \n",
        "    # extracting all the files\n",
        "    print('Extracting all the files now...')\n",
        "    zip.extractall()\n",
        "    print('Done!')"
      ],
      "execution_count": 12,
      "outputs": [
        {
          "output_type": "stream",
          "name": "stdout",
          "text": [
            "File Name                                             Modified             Size\n",
            "multinli_1.0/                                  2018-04-15 22:06:08            0\n",
            "multinli_1.0/multinli_1.0_dev_mismatched.jsonl 2017-09-03 17:34:52     13460535\n",
            "multinli_1.0/paper.pdf                         2018-04-15 22:02:54       196418\n",
            "__MACOSX/                                      2018-04-15 22:06:32            0\n",
            "__MACOSX/multinli_1.0/                         2018-04-15 22:06:32            0\n",
            "__MACOSX/multinli_1.0/._paper.pdf              2018-04-15 22:02:54         1128\n",
            "multinli_1.0/.DS_Store                         2018-04-15 22:06:04         6148\n",
            "__MACOSX/multinli_1.0/._.DS_Store              2018-04-15 22:06:04          120\n",
            "multinli_1.0/multinli_1.0_train.jsonl          2017-09-03 17:35:46    492421641\n",
            "multinli_1.0/multinli_1.0_dev_mismatched.txt   2017-09-03 17:34:52     11170082\n",
            "multinli_1.0/Icon\r                             2018-02-16 16:46:20            0\n",
            "__MACOSX/multinli_1.0/._Icon\r                  2018-02-16 16:46:20       384959\n",
            "multinli_1.0/multinli_1.0_dev_matched.txt      2017-09-03 17:34:50     10634146\n",
            "multinli_1.0/multinli_1.0_dev_matched.jsonl    2017-09-03 17:34:50     12925073\n",
            "multinli_1.0/multinli_1.0_train.txt            2017-09-03 17:35:54    408734216\n",
            "multinli_1.0/README.txt                        2018-04-15 22:05:32         1160\n",
            "__MACOSX/multinli_1.0/._README.txt             2018-04-15 22:05:32          384\n",
            "__MACOSX/._multinli_1.0                        2018-04-15 22:06:08          120\n",
            "Extracting all the files now...\n",
            "Done!\n"
          ]
        }
      ]
    },
    {
      "cell_type": "markdown",
      "metadata": {
        "id": "x9_msVLYTH-C"
      },
      "source": [
        "# Prepare Dataset"
      ]
    },
    {
      "cell_type": "code",
      "metadata": {
        "execution": {
          "iopub.status.busy": "2021-05-22T18:22:54.898199Z",
          "iopub.execute_input": "2021-05-22T18:22:54.898549Z",
          "iopub.status.idle": "2021-05-22T18:22:54.904679Z",
          "shell.execute_reply.started": "2021-05-22T18:22:54.898514Z",
          "shell.execute_reply": "2021-05-22T18:22:54.903657Z"
        },
        "trusted": true,
        "id": "J1lTSBY2TH-C"
      },
      "source": [
        "def get_sent1_token_type(sent):\n",
        "    try:\n",
        "        return [0]* len(sent)\n",
        "    except:\n",
        "        return []\n",
        "\n",
        "def get_sent2_token_type(sent):\n",
        "    try:\n",
        "        return [1]* len(sent)\n",
        "    except:\n",
        "        return []\n",
        "    \n",
        "def combine_seq(seq):\n",
        "    return \" \".join(seq)\n",
        "\n",
        "def combine_mask(mask):\n",
        "    mask = [str(m) for m in mask]\n",
        "    return \" \".join(mask)"
      ],
      "execution_count": 13,
      "outputs": []
    },
    {
      "cell_type": "code",
      "source": [
        "import json\n",
        "from tqdm import tqdm\n",
        "def getDataset(dataset_name=\"mnli\"):\n",
        "    if dataset_name==\"mnli\":\n",
        "        filepath_train=\"multinli_1.0/multinli_1.0_train.jsonl\"\n",
        "        filepath_dev=\"multinli_1.0/multinli_1.0_dev_matched.jsonl\"\n",
        "        filepath_test=\"multinli_1.0/multinli_1.0_dev_mismatched.jsonl\"\n",
        "    elif dataset_name==\"snli\":\n",
        "        filepath_train=\"../data/snli_1.0/snli_1.0/snli_1.0_train.jsonl\"\n",
        "        filepath_dev=\"../data/snli_1.0/snli_1.0/snli_1.0_dev.jsonl\"\n",
        "        filepath_test=\"../data/snli_1.0/snli_1.0/snli_1.0_test.jsonl\"\n",
        "    else:\n",
        "        print(\"Invalid dataset name\")\n",
        "        return None\n",
        "    \n",
        "    #read train,dev and test data\n",
        "    labels = [\"contradiction\", \"entailment\", \"neutral\"]\n",
        "    f= open(filepath_train, \"r\")\n",
        "    data = list(f)\n",
        "    train_dataset={\"sentence1\":[],\"sentence2\":[],\"gold_label\":[]}\n",
        "    print(\"train data\")\n",
        "    for line in tqdm(data):\n",
        "        line = json.loads(line)\n",
        "        if line['gold_label'] not in labels:\n",
        "            # print(line['gold_label'])\n",
        "            continue\n",
        "        train_dataset[\"sentence1\"].append(line['sentence1'])\n",
        "        train_dataset[\"sentence2\"].append(line['sentence2'])\n",
        "        train_dataset[\"gold_label\"].append(line['gold_label'])\n",
        "    f.close()\n",
        "\n",
        "    f= open(filepath_dev, \"r\")\n",
        "    data = list(f)\n",
        "    dev_dataset={\"sentence1\":[],\"sentence2\":[],\"gold_label\":[]}\n",
        "    print(\"dev data\")\n",
        "    for line in tqdm(data):\n",
        "        line = json.loads(line)\n",
        "        if line['gold_label'] not in labels:\n",
        "            # print(line['gold_label'])\n",
        "            continue\n",
        "        dev_dataset[\"sentence1\"].append(line['sentence1'])\n",
        "        dev_dataset[\"sentence2\"].append(line['sentence2'])\n",
        "        dev_dataset[\"gold_label\"].append(line['gold_label'])\n",
        "    f.close()\n",
        "\n",
        "    f= open(filepath_test, \"r\")\n",
        "    data = list(f)\n",
        "    test_dataset={\"sentence1\":[],\"sentence2\":[],\"gold_label\":[]}\n",
        "    print(\"test data\")\n",
        "    for line in tqdm(data):\n",
        "        line = json.loads(line)\n",
        "        if line['gold_label'] not in labels:\n",
        "            # print(line['gold_label'])\n",
        "            continue\n",
        "        test_dataset[\"sentence1\"].append(line['sentence1'])\n",
        "        test_dataset[\"sentence2\"].append(line['sentence2'])\n",
        "        test_dataset[\"gold_label\"].append(line['gold_label'])\n",
        "    f.close()\n",
        "    \n",
        "    return train_dataset,dev_dataset,test_dataset\n",
        "\n",
        "train_dataset,dev_dataset,test_dataset=getDataset()"
      ],
      "metadata": {
        "colab": {
          "base_uri": "https://localhost:8080/"
        },
        "id": "55gVp_LYgueS",
        "outputId": "95dfb383-d051-492f-cb00-1f90be16e91d"
      },
      "execution_count": 14,
      "outputs": [
        {
          "output_type": "stream",
          "name": "stdout",
          "text": [
            "train data\n"
          ]
        },
        {
          "output_type": "stream",
          "name": "stderr",
          "text": [
            "100%|██████████| 392702/392702 [00:04<00:00, 86700.79it/s]\n"
          ]
        },
        {
          "output_type": "stream",
          "name": "stdout",
          "text": [
            "dev data\n"
          ]
        },
        {
          "output_type": "stream",
          "name": "stderr",
          "text": [
            "100%|██████████| 10000/10000 [00:00<00:00, 57262.00it/s]\n"
          ]
        },
        {
          "output_type": "stream",
          "name": "stdout",
          "text": [
            "test data\n"
          ]
        },
        {
          "output_type": "stream",
          "name": "stderr",
          "text": [
            "100%|██████████| 10000/10000 [00:00<00:00, 62593.24it/s]\n"
          ]
        }
      ]
    },
    {
      "cell_type": "code",
      "metadata": {
        "id": "-o_OB1lsTowj",
        "colab": {
          "base_uri": "https://localhost:8080/"
        },
        "outputId": "b975eeaf-cca9-4526-aebd-d0ffd8bc6000"
      },
      "source": [
        "import pandas as pd\n",
        "\n",
        "df_train = pd.DataFrame.from_dict(train_dataset)\n",
        "df_dev = pd.DataFrame.from_dict(dev_dataset)\n",
        "df_test = pd.DataFrame.from_dict(test_dataset)\n",
        "\n",
        "df_train = df_train[['gold_label','sentence1','sentence2']]\n",
        "df_dev = df_dev[['gold_label','sentence1','sentence2']]\n",
        "df_test = df_test[['gold_label','sentence1','sentence2']]\n",
        "\n",
        "df_train = df_train[:40000]\n",
        "df_dev = df_train[:4000]\n",
        "df_test = df_train[:4000]\n",
        "\n",
        "\n",
        "df_train['sentence1'] = df_train['sentence1'].apply(trim_sentence)\n",
        "df_train['sentence2'] = df_train['sentence2'].apply(trim_sentence)\n",
        "df_dev['sentence1'] = df_dev['sentence1'].apply(trim_sentence)\n",
        "df_dev['sentence2'] = df_dev['sentence2'].apply(trim_sentence)\n",
        "df_test['sentence1'] = df_test['sentence1'].apply(trim_sentence)\n",
        "df_test['sentence2'] = df_test['sentence2'].apply(trim_sentence)\n",
        "\n",
        "df_train['sent1'] = '[CLS] ' + df_train['sentence1'] + ' [SEP] '\n",
        "df_train['sent2'] = df_train['sentence2'] + ' [SEP]'\n",
        "df_dev['sent1'] = '[CLS] ' + df_dev['sentence1'] + ' [SEP] '\n",
        "df_dev['sent2'] = df_dev['sentence2'] + ' [SEP]'\n",
        "df_test['sent1'] = '[CLS] ' + df_test['sentence1'] + ' [SEP] '\n",
        "df_test['sent2'] = df_test['sentence2'] + ' [SEP]'\n",
        "\n",
        "df_train['sent1_t'] = df_train['sent1'].apply(tokenize_bert)\n",
        "df_train['sent2_t'] = df_train['sent2'].apply(tokenize_bert)\n",
        "df_dev['sent1_t'] = df_dev['sent1'].apply(tokenize_bert)\n",
        "df_dev['sent2_t'] = df_dev['sent2'].apply(tokenize_bert)\n",
        "df_test['sent1_t'] = df_test['sent1'].apply(tokenize_bert)\n",
        "df_test['sent2_t'] = df_test['sent2'].apply(tokenize_bert)\n",
        "\n",
        "df_train['sent1_token_type'] = df_train['sent1_t'].apply(get_sent1_token_type)\n",
        "df_train['sent2_token_type'] = df_train['sent2_t'].apply(get_sent2_token_type)\n",
        "df_dev['sent1_token_type'] = df_dev['sent1_t'].apply(get_sent1_token_type)\n",
        "df_dev['sent2_token_type'] = df_dev['sent2_t'].apply(get_sent2_token_type)\n",
        "df_test['sent1_token_type'] = df_test['sent1_t'].apply(get_sent1_token_type)\n",
        "df_test['sent2_token_type'] = df_test['sent2_t'].apply(get_sent2_token_type)\n",
        "\n",
        "df_train['sequence'] = df_train['sent1_t'] + df_train['sent2_t']\n",
        "df_dev['sequence'] = df_dev['sent1_t'] + df_dev['sent2_t']\n",
        "df_test['sequence'] = df_test['sent1_t'] + df_test['sent2_t']\n",
        "\n",
        "\n",
        "df_train['attention_mask'] = df_train['sequence'].apply(get_sent2_token_type)\n",
        "df_dev['attention_mask'] = df_dev['sequence'].apply(get_sent2_token_type)\n",
        "df_test['attention_mask'] = df_test['sequence'].apply(get_sent2_token_type)\n",
        "\n",
        "df_train['token_type'] = df_train['sent1_token_type'] + df_train['sent2_token_type']\n",
        "df_dev['token_type'] = df_dev['sent1_token_type'] + df_dev['sent2_token_type']\n",
        "df_test['token_type'] = df_test['sent1_token_type'] + df_test['sent2_token_type']\n",
        "\n",
        "df_train['sequence'] = df_train['sequence'].apply(combine_seq)\n",
        "df_dev['sequence'] = df_dev['sequence'].apply(combine_seq)\n",
        "df_test['sequence'] = df_test['sequence'].apply(combine_seq)\n",
        "\n",
        "df_train['attention_mask'] = df_train['attention_mask'].apply(combine_mask)\n",
        "df_dev['attention_mask'] = df_dev['attention_mask'].apply(combine_mask)\n",
        "df_test['attention_mask'] = df_test['attention_mask'].apply(combine_mask)\n",
        "\n",
        "df_train['token_type'] = df_train['token_type'].apply(combine_mask)\n",
        "df_dev['token_type'] = df_dev['token_type'].apply(combine_mask)\n",
        "df_test['token_type'] = df_test['token_type'].apply(combine_mask)\n",
        "\n",
        "df_train = df_train[['gold_label', 'sequence', 'attention_mask', 'token_type']]\n",
        "df_dev = df_dev[['gold_label', 'sequence', 'attention_mask', 'token_type']]\n",
        "df_test = df_test[['gold_label', 'sequence', 'attention_mask', 'token_type']]\n",
        "\n",
        "\n",
        "\n",
        "df_train = df_train.loc[df_train['gold_label'].isin(['entailment','contradiction','neutral'])]\n",
        "df_dev = df_dev.loc[df_dev['gold_label'].isin(['entailment','contradiction','neutral'])]\n",
        "df_test = df_test.loc[df_test['gold_label'].isin(['entailment','contradiction','neutral'])]\n",
        "\n",
        "\n",
        "\n",
        "df_train.to_csv('multinli_1.0/multinli_1.0_train.csv', index=False)\n",
        "df_dev.to_csv('multinli_1.0/multinli_1.0_dev.csv', index=False)\n",
        "df_test.to_csv('multinli_1.0/multinli_1.0_test.csv', index=False)"
      ],
      "execution_count": 15,
      "outputs": [
        {
          "output_type": "stream",
          "name": "stderr",
          "text": [
            "<ipython-input-15-d18e8ae804c7>:18: SettingWithCopyWarning: \n",
            "A value is trying to be set on a copy of a slice from a DataFrame.\n",
            "Try using .loc[row_indexer,col_indexer] = value instead\n",
            "\n",
            "See the caveats in the documentation: https://pandas.pydata.org/pandas-docs/stable/user_guide/indexing.html#returning-a-view-versus-a-copy\n",
            "  df_dev['sentence1'] = df_dev['sentence1'].apply(trim_sentence)\n",
            "<ipython-input-15-d18e8ae804c7>:19: SettingWithCopyWarning: \n",
            "A value is trying to be set on a copy of a slice from a DataFrame.\n",
            "Try using .loc[row_indexer,col_indexer] = value instead\n",
            "\n",
            "See the caveats in the documentation: https://pandas.pydata.org/pandas-docs/stable/user_guide/indexing.html#returning-a-view-versus-a-copy\n",
            "  df_dev['sentence2'] = df_dev['sentence2'].apply(trim_sentence)\n",
            "<ipython-input-15-d18e8ae804c7>:20: SettingWithCopyWarning: \n",
            "A value is trying to be set on a copy of a slice from a DataFrame.\n",
            "Try using .loc[row_indexer,col_indexer] = value instead\n",
            "\n",
            "See the caveats in the documentation: https://pandas.pydata.org/pandas-docs/stable/user_guide/indexing.html#returning-a-view-versus-a-copy\n",
            "  df_test['sentence1'] = df_test['sentence1'].apply(trim_sentence)\n",
            "<ipython-input-15-d18e8ae804c7>:21: SettingWithCopyWarning: \n",
            "A value is trying to be set on a copy of a slice from a DataFrame.\n",
            "Try using .loc[row_indexer,col_indexer] = value instead\n",
            "\n",
            "See the caveats in the documentation: https://pandas.pydata.org/pandas-docs/stable/user_guide/indexing.html#returning-a-view-versus-a-copy\n",
            "  df_test['sentence2'] = df_test['sentence2'].apply(trim_sentence)\n",
            "<ipython-input-15-d18e8ae804c7>:25: SettingWithCopyWarning: \n",
            "A value is trying to be set on a copy of a slice from a DataFrame.\n",
            "Try using .loc[row_indexer,col_indexer] = value instead\n",
            "\n",
            "See the caveats in the documentation: https://pandas.pydata.org/pandas-docs/stable/user_guide/indexing.html#returning-a-view-versus-a-copy\n",
            "  df_dev['sent1'] = '[CLS] ' + df_dev['sentence1'] + ' [SEP] '\n",
            "<ipython-input-15-d18e8ae804c7>:26: SettingWithCopyWarning: \n",
            "A value is trying to be set on a copy of a slice from a DataFrame.\n",
            "Try using .loc[row_indexer,col_indexer] = value instead\n",
            "\n",
            "See the caveats in the documentation: https://pandas.pydata.org/pandas-docs/stable/user_guide/indexing.html#returning-a-view-versus-a-copy\n",
            "  df_dev['sent2'] = df_dev['sentence2'] + ' [SEP]'\n",
            "<ipython-input-15-d18e8ae804c7>:27: SettingWithCopyWarning: \n",
            "A value is trying to be set on a copy of a slice from a DataFrame.\n",
            "Try using .loc[row_indexer,col_indexer] = value instead\n",
            "\n",
            "See the caveats in the documentation: https://pandas.pydata.org/pandas-docs/stable/user_guide/indexing.html#returning-a-view-versus-a-copy\n",
            "  df_test['sent1'] = '[CLS] ' + df_test['sentence1'] + ' [SEP] '\n",
            "<ipython-input-15-d18e8ae804c7>:28: SettingWithCopyWarning: \n",
            "A value is trying to be set on a copy of a slice from a DataFrame.\n",
            "Try using .loc[row_indexer,col_indexer] = value instead\n",
            "\n",
            "See the caveats in the documentation: https://pandas.pydata.org/pandas-docs/stable/user_guide/indexing.html#returning-a-view-versus-a-copy\n",
            "  df_test['sent2'] = df_test['sentence2'] + ' [SEP]'\n",
            "<ipython-input-15-d18e8ae804c7>:32: SettingWithCopyWarning: \n",
            "A value is trying to be set on a copy of a slice from a DataFrame.\n",
            "Try using .loc[row_indexer,col_indexer] = value instead\n",
            "\n",
            "See the caveats in the documentation: https://pandas.pydata.org/pandas-docs/stable/user_guide/indexing.html#returning-a-view-versus-a-copy\n",
            "  df_dev['sent1_t'] = df_dev['sent1'].apply(tokenize_bert)\n",
            "<ipython-input-15-d18e8ae804c7>:33: SettingWithCopyWarning: \n",
            "A value is trying to be set on a copy of a slice from a DataFrame.\n",
            "Try using .loc[row_indexer,col_indexer] = value instead\n",
            "\n",
            "See the caveats in the documentation: https://pandas.pydata.org/pandas-docs/stable/user_guide/indexing.html#returning-a-view-versus-a-copy\n",
            "  df_dev['sent2_t'] = df_dev['sent2'].apply(tokenize_bert)\n",
            "<ipython-input-15-d18e8ae804c7>:34: SettingWithCopyWarning: \n",
            "A value is trying to be set on a copy of a slice from a DataFrame.\n",
            "Try using .loc[row_indexer,col_indexer] = value instead\n",
            "\n",
            "See the caveats in the documentation: https://pandas.pydata.org/pandas-docs/stable/user_guide/indexing.html#returning-a-view-versus-a-copy\n",
            "  df_test['sent1_t'] = df_test['sent1'].apply(tokenize_bert)\n",
            "<ipython-input-15-d18e8ae804c7>:35: SettingWithCopyWarning: \n",
            "A value is trying to be set on a copy of a slice from a DataFrame.\n",
            "Try using .loc[row_indexer,col_indexer] = value instead\n",
            "\n",
            "See the caveats in the documentation: https://pandas.pydata.org/pandas-docs/stable/user_guide/indexing.html#returning-a-view-versus-a-copy\n",
            "  df_test['sent2_t'] = df_test['sent2'].apply(tokenize_bert)\n",
            "<ipython-input-15-d18e8ae804c7>:39: SettingWithCopyWarning: \n",
            "A value is trying to be set on a copy of a slice from a DataFrame.\n",
            "Try using .loc[row_indexer,col_indexer] = value instead\n",
            "\n",
            "See the caveats in the documentation: https://pandas.pydata.org/pandas-docs/stable/user_guide/indexing.html#returning-a-view-versus-a-copy\n",
            "  df_dev['sent1_token_type'] = df_dev['sent1_t'].apply(get_sent1_token_type)\n",
            "<ipython-input-15-d18e8ae804c7>:40: SettingWithCopyWarning: \n",
            "A value is trying to be set on a copy of a slice from a DataFrame.\n",
            "Try using .loc[row_indexer,col_indexer] = value instead\n",
            "\n",
            "See the caveats in the documentation: https://pandas.pydata.org/pandas-docs/stable/user_guide/indexing.html#returning-a-view-versus-a-copy\n",
            "  df_dev['sent2_token_type'] = df_dev['sent2_t'].apply(get_sent2_token_type)\n",
            "<ipython-input-15-d18e8ae804c7>:41: SettingWithCopyWarning: \n",
            "A value is trying to be set on a copy of a slice from a DataFrame.\n",
            "Try using .loc[row_indexer,col_indexer] = value instead\n",
            "\n",
            "See the caveats in the documentation: https://pandas.pydata.org/pandas-docs/stable/user_guide/indexing.html#returning-a-view-versus-a-copy\n",
            "  df_test['sent1_token_type'] = df_test['sent1_t'].apply(get_sent1_token_type)\n",
            "<ipython-input-15-d18e8ae804c7>:42: SettingWithCopyWarning: \n",
            "A value is trying to be set on a copy of a slice from a DataFrame.\n",
            "Try using .loc[row_indexer,col_indexer] = value instead\n",
            "\n",
            "See the caveats in the documentation: https://pandas.pydata.org/pandas-docs/stable/user_guide/indexing.html#returning-a-view-versus-a-copy\n",
            "  df_test['sent2_token_type'] = df_test['sent2_t'].apply(get_sent2_token_type)\n",
            "<ipython-input-15-d18e8ae804c7>:45: SettingWithCopyWarning: \n",
            "A value is trying to be set on a copy of a slice from a DataFrame.\n",
            "Try using .loc[row_indexer,col_indexer] = value instead\n",
            "\n",
            "See the caveats in the documentation: https://pandas.pydata.org/pandas-docs/stable/user_guide/indexing.html#returning-a-view-versus-a-copy\n",
            "  df_dev['sequence'] = df_dev['sent1_t'] + df_dev['sent2_t']\n",
            "<ipython-input-15-d18e8ae804c7>:46: SettingWithCopyWarning: \n",
            "A value is trying to be set on a copy of a slice from a DataFrame.\n",
            "Try using .loc[row_indexer,col_indexer] = value instead\n",
            "\n",
            "See the caveats in the documentation: https://pandas.pydata.org/pandas-docs/stable/user_guide/indexing.html#returning-a-view-versus-a-copy\n",
            "  df_test['sequence'] = df_test['sent1_t'] + df_test['sent2_t']\n",
            "<ipython-input-15-d18e8ae804c7>:50: SettingWithCopyWarning: \n",
            "A value is trying to be set on a copy of a slice from a DataFrame.\n",
            "Try using .loc[row_indexer,col_indexer] = value instead\n",
            "\n",
            "See the caveats in the documentation: https://pandas.pydata.org/pandas-docs/stable/user_guide/indexing.html#returning-a-view-versus-a-copy\n",
            "  df_dev['attention_mask'] = df_dev['sequence'].apply(get_sent2_token_type)\n",
            "<ipython-input-15-d18e8ae804c7>:51: SettingWithCopyWarning: \n",
            "A value is trying to be set on a copy of a slice from a DataFrame.\n",
            "Try using .loc[row_indexer,col_indexer] = value instead\n",
            "\n",
            "See the caveats in the documentation: https://pandas.pydata.org/pandas-docs/stable/user_guide/indexing.html#returning-a-view-versus-a-copy\n",
            "  df_test['attention_mask'] = df_test['sequence'].apply(get_sent2_token_type)\n",
            "<ipython-input-15-d18e8ae804c7>:54: SettingWithCopyWarning: \n",
            "A value is trying to be set on a copy of a slice from a DataFrame.\n",
            "Try using .loc[row_indexer,col_indexer] = value instead\n",
            "\n",
            "See the caveats in the documentation: https://pandas.pydata.org/pandas-docs/stable/user_guide/indexing.html#returning-a-view-versus-a-copy\n",
            "  df_dev['token_type'] = df_dev['sent1_token_type'] + df_dev['sent2_token_type']\n",
            "<ipython-input-15-d18e8ae804c7>:55: SettingWithCopyWarning: \n",
            "A value is trying to be set on a copy of a slice from a DataFrame.\n",
            "Try using .loc[row_indexer,col_indexer] = value instead\n",
            "\n",
            "See the caveats in the documentation: https://pandas.pydata.org/pandas-docs/stable/user_guide/indexing.html#returning-a-view-versus-a-copy\n",
            "  df_test['token_type'] = df_test['sent1_token_type'] + df_test['sent2_token_type']\n",
            "<ipython-input-15-d18e8ae804c7>:58: SettingWithCopyWarning: \n",
            "A value is trying to be set on a copy of a slice from a DataFrame.\n",
            "Try using .loc[row_indexer,col_indexer] = value instead\n",
            "\n",
            "See the caveats in the documentation: https://pandas.pydata.org/pandas-docs/stable/user_guide/indexing.html#returning-a-view-versus-a-copy\n",
            "  df_dev['sequence'] = df_dev['sequence'].apply(combine_seq)\n",
            "<ipython-input-15-d18e8ae804c7>:59: SettingWithCopyWarning: \n",
            "A value is trying to be set on a copy of a slice from a DataFrame.\n",
            "Try using .loc[row_indexer,col_indexer] = value instead\n",
            "\n",
            "See the caveats in the documentation: https://pandas.pydata.org/pandas-docs/stable/user_guide/indexing.html#returning-a-view-versus-a-copy\n",
            "  df_test['sequence'] = df_test['sequence'].apply(combine_seq)\n",
            "<ipython-input-15-d18e8ae804c7>:62: SettingWithCopyWarning: \n",
            "A value is trying to be set on a copy of a slice from a DataFrame.\n",
            "Try using .loc[row_indexer,col_indexer] = value instead\n",
            "\n",
            "See the caveats in the documentation: https://pandas.pydata.org/pandas-docs/stable/user_guide/indexing.html#returning-a-view-versus-a-copy\n",
            "  df_dev['attention_mask'] = df_dev['attention_mask'].apply(combine_mask)\n",
            "<ipython-input-15-d18e8ae804c7>:63: SettingWithCopyWarning: \n",
            "A value is trying to be set on a copy of a slice from a DataFrame.\n",
            "Try using .loc[row_indexer,col_indexer] = value instead\n",
            "\n",
            "See the caveats in the documentation: https://pandas.pydata.org/pandas-docs/stable/user_guide/indexing.html#returning-a-view-versus-a-copy\n",
            "  df_test['attention_mask'] = df_test['attention_mask'].apply(combine_mask)\n",
            "<ipython-input-15-d18e8ae804c7>:66: SettingWithCopyWarning: \n",
            "A value is trying to be set on a copy of a slice from a DataFrame.\n",
            "Try using .loc[row_indexer,col_indexer] = value instead\n",
            "\n",
            "See the caveats in the documentation: https://pandas.pydata.org/pandas-docs/stable/user_guide/indexing.html#returning-a-view-versus-a-copy\n",
            "  df_dev['token_type'] = df_dev['token_type'].apply(combine_mask)\n",
            "<ipython-input-15-d18e8ae804c7>:67: SettingWithCopyWarning: \n",
            "A value is trying to be set on a copy of a slice from a DataFrame.\n",
            "Try using .loc[row_indexer,col_indexer] = value instead\n",
            "\n",
            "See the caveats in the documentation: https://pandas.pydata.org/pandas-docs/stable/user_guide/indexing.html#returning-a-view-versus-a-copy\n",
            "  df_test['token_type'] = df_test['token_type'].apply(combine_mask)\n"
          ]
        }
      ]
    },
    {
      "cell_type": "code",
      "metadata": {
        "execution": {
          "iopub.status.busy": "2021-05-22T18:24:05.516834Z",
          "iopub.execute_input": "2021-05-22T18:24:05.517130Z",
          "iopub.status.idle": "2021-05-22T18:24:05.523940Z",
          "shell.execute_reply.started": "2021-05-22T18:24:05.517103Z",
          "shell.execute_reply": "2021-05-22T18:24:05.523027Z"
        },
        "trusted": true,
        "id": "Lmiw-NSBTH-F",
        "outputId": "b6698829-569c-42eb-e330-8a7e1e6bbd3b",
        "colab": {
          "base_uri": "https://localhost:8080/"
        }
      },
      "source": [
        "print(df_train.iloc[0]['sequence'])\n",
        "print(df_train.iloc[0]['attention_mask'])\n",
        "print(df_train.iloc[0]['token_type'])"
      ],
      "execution_count": 16,
      "outputs": [
        {
          "output_type": "stream",
          "name": "stdout",
          "text": [
            "[CLS] conceptual ##ly cream ski ##mming has two basic dimensions - product and geography . [SEP] product and geography are what make cream ski ##mming work . [SEP]\n",
            "1 1 1 1 1 1 1 1 1 1 1 1 1 1 1 1 1 1 1 1 1 1 1 1 1 1 1 1\n",
            "0 0 0 0 0 0 0 0 0 0 0 0 0 0 0 0 1 1 1 1 1 1 1 1 1 1 1 1\n"
          ]
        }
      ]
    },
    {
      "cell_type": "code",
      "metadata": {
        "execution": {
          "iopub.status.busy": "2021-05-22T18:24:05.547967Z",
          "iopub.execute_input": "2021-05-22T18:24:05.548321Z",
          "iopub.status.idle": "2021-05-22T18:24:05.553413Z",
          "shell.execute_reply.started": "2021-05-22T18:24:05.548287Z",
          "shell.execute_reply": "2021-05-22T18:24:05.552328Z"
        },
        "trusted": true,
        "id": "LoERk9gXTH-G"
      },
      "source": [
        "pd.set_option('display.max_colwidth', None)"
      ],
      "execution_count": 17,
      "outputs": []
    },
    {
      "cell_type": "code",
      "metadata": {
        "execution": {
          "iopub.status.busy": "2021-05-22T18:24:05.571467Z",
          "iopub.execute_input": "2021-05-22T18:24:05.572040Z",
          "iopub.status.idle": "2021-05-22T18:24:05.582200Z",
          "shell.execute_reply.started": "2021-05-22T18:24:05.571999Z",
          "shell.execute_reply": "2021-05-22T18:24:05.581378Z"
        },
        "trusted": true,
        "id": "jRapwGZtTH-H"
      },
      "source": [
        "def convert_to_int(tok_ids):\n",
        "    tok_ids = [int(x) for x in tok_ids]\n",
        "    return tok_ids"
      ],
      "execution_count": 18,
      "outputs": []
    },
    {
      "cell_type": "code",
      "metadata": {
        "execution": {
          "iopub.status.busy": "2021-05-22T18:24:05.584732Z",
          "iopub.execute_input": "2021-05-22T18:24:05.585410Z",
          "iopub.status.idle": "2021-05-22T18:24:05.643159Z",
          "shell.execute_reply.started": "2021-05-22T18:24:05.585369Z",
          "shell.execute_reply": "2021-05-22T18:24:05.642310Z"
        },
        "trusted": true,
        "id": "g77BTYgcTH-H"
      },
      "source": [
        "def padding_tokens(tokens,pd_tkn):\n",
        "    if(len(tokens)<max_input_length-1):\n",
        "        for i in range(max_input_length-1 -len(tokens)):\n",
        "            tokens.append(pd_tkn)\n",
        "    return tokens\n",
        "\n",
        "label2index = {\"entailment\":0,\"neutral\":1,\"contradiction\":2}\n",
        "\n",
        "train_data = {}\n",
        "train_data['sequence'] = []\n",
        "train_data['attention_mask']=[]\n",
        "train_data['token_type']=[]\n",
        "train_data['gold_label']=[]\n",
        "\n",
        "for data_t in df_train['sequence']:\n",
        "  tokens = split_and_cut(data_t)\n",
        "  token_ids = tokenizer.convert_tokens_to_ids(tokens)\n",
        "#   print(len(token_ids),end=\" \")\n",
        "  pd_tokens = padding_tokens(token_ids,pad_token_idx)\n",
        "#   print(len(pd_tokens),end=\" /\")\n",
        "  train_data['sequence'].append(pd_tokens)\n",
        "\n",
        "for data_t in df_train['attention_mask']:\n",
        "  tokens = split_and_cut(data_t)\n",
        "  token_ids = convert_to_int(tokens)\n",
        "  pd_tokens = padding_tokens(token_ids,pad_token_idx)\n",
        "  train_data['attention_mask'].append(pd_tokens)\n",
        "\n",
        "for data_t in df_train['token_type']:\n",
        "  tokens = split_and_cut(data_t)\n",
        "  token_ids = convert_to_int(tokens)\n",
        "  pd_tokens = padding_tokens(token_ids,1)\n",
        "  train_data['token_type'].append(pd_tokens)\n",
        "\n",
        "for t in df_train['gold_label']:\n",
        "    train_data['gold_label'].append(label2index[t])\n",
        "\n",
        "#valid data\n",
        "valid_data = {}\n",
        "valid_data['sequence'] = []\n",
        "valid_data['attention_mask']=[]\n",
        "valid_data['token_type']=[]\n",
        "valid_data['gold_label']=[]\n",
        "\n",
        "for data_t in df_dev['sequence']:\n",
        "  tokens = split_and_cut(data_t)\n",
        "  token_ids = tokenizer.convert_tokens_to_ids(tokens)\n",
        "  pd_tokens = padding_tokens(token_ids,pad_token_idx)\n",
        "  valid_data['sequence'].append(pd_tokens)\n",
        "\n",
        "for data_t in df_dev['attention_mask']:\n",
        "  tokens = split_and_cut(data_t)\n",
        "  token_ids = convert_to_int(tokens)\n",
        "  pd_tokens = padding_tokens(token_ids,pad_token_idx)\n",
        "  valid_data['attention_mask'].append(pd_tokens)\n",
        "\n",
        "for data_t in df_dev['token_type']:\n",
        "  tokens = split_and_cut(data_t)\n",
        "  token_ids = convert_to_int(tokens)\n",
        "  pd_tokens = padding_tokens(token_ids,1)\n",
        "  valid_data['token_type'].append(pd_tokens)\n",
        "\n",
        "for t in df_dev['gold_label']:\n",
        "    valid_data['gold_label'].append(label2index[t])\n",
        "\n",
        "test_data = {}\n",
        "test_data['sequence'] = []\n",
        "test_data['attention_mask']=[]\n",
        "test_data['token_type']=[]\n",
        "test_data['gold_label']=[]\n",
        "\n",
        "for data_t in df_test['sequence']:\n",
        "  tokens = split_and_cut(data_t)\n",
        "  token_ids = tokenizer.convert_tokens_to_ids(tokens)\n",
        "  pd_tokens = padding_tokens(token_ids,pad_token_idx)\n",
        "  test_data['sequence'].append(pd_tokens)\n",
        "\n",
        "for data_t in df_test['attention_mask']:\n",
        "  tokens = split_and_cut(data_t)\n",
        "  token_ids = convert_to_int(tokens)\n",
        "  pd_tokens = padding_tokens(token_ids,pad_token_idx)\n",
        "  test_data['attention_mask'].append(pd_tokens)\n",
        "\n",
        "for data_t in df_test['token_type']:\n",
        "  tokens = split_and_cut(data_t)\n",
        "  token_ids = convert_to_int(tokens)\n",
        "  pd_tokens = padding_tokens(token_ids,1)\n",
        "  test_data['token_type'].append(pd_tokens)\n",
        "\n",
        "for t in df_test['gold_label']:\n",
        "    test_data['gold_label'].append(label2index[t])\n",
        "\n",
        "\n",
        "\n",
        "\n"
      ],
      "execution_count": 19,
      "outputs": []
    },
    {
      "cell_type": "code",
      "metadata": {
        "execution": {
          "iopub.status.busy": "2021-05-22T18:24:11.701745Z",
          "iopub.execute_input": "2021-05-22T18:24:11.702103Z",
          "iopub.status.idle": "2021-05-22T18:24:11.731022Z",
          "shell.execute_reply.started": "2021-05-22T18:24:11.702072Z",
          "shell.execute_reply": "2021-05-22T18:24:11.730049Z"
        },
        "trusted": true,
        "id": "V25Nf2FZTH-M"
      },
      "source": [
        "BATCH_SIZE = 16\n",
        "\n",
        "device = torch.device('cuda' if torch.cuda.is_available() else 'cpu')\n",
        "\n",
        "def getDataloader(dataset):\n",
        "    # print(len(dataset[\"premise\"]))\n",
        "    # for i in dataset[\"sequence\"][:100]:\n",
        "    #     print(len(i),end=\" \")\n",
        "    sequence = torch.tensor(dataset[\"sequence\"],dtype=torch.long)\n",
        "    attention_mask = torch.tensor(dataset[\"attention_mask\"],dtype=torch.long)\n",
        "    token_type = torch.tensor(dataset[\"token_type\"],dtype=torch.long)\n",
        "    labels = torch.tensor(dataset[\"gold_label\"],dtype=torch.long)\n",
        "    dataset = torch.utils.data.TensorDataset(sequence,attention_mask,token_type,labels)\n",
        "    dataloader = torch.utils.data.DataLoader(dataset, batch_size=BATCH_SIZE, shuffle=True)\n",
        "    return dataloader\n",
        "  \n",
        "train_dataloader = getDataloader(train_data)\n",
        "valid_dataloader = getDataloader(valid_data)\n",
        "test_dataloader = getDataloader(test_data)"
      ],
      "execution_count": 20,
      "outputs": []
    },
    {
      "cell_type": "code",
      "metadata": {
        "execution": {
          "iopub.status.busy": "2021-05-22T18:24:11.732527Z",
          "iopub.execute_input": "2021-05-22T18:24:11.733192Z",
          "iopub.status.idle": "2021-05-22T18:24:36.845015Z",
          "shell.execute_reply.started": "2021-05-22T18:24:11.733148Z",
          "shell.execute_reply": "2021-05-22T18:24:36.844145Z"
        },
        "trusted": true,
        "id": "EssWp8iUTH-N",
        "colab": {
          "base_uri": "https://localhost:8080/"
        },
        "outputId": "f512b14c-240f-4641-c5c3-6227e99b4352"
      },
      "source": [
        "from transformers import BertModel\n",
        "\n",
        "bert_model = BertModel.from_pretrained('bert-base-uncased')"
      ],
      "execution_count": 21,
      "outputs": [
        {
          "output_type": "stream",
          "name": "stderr",
          "text": [
            "Some weights of the model checkpoint at bert-base-uncased were not used when initializing BertModel: ['cls.predictions.transform.dense.weight', 'cls.predictions.transform.LayerNorm.bias', 'cls.predictions.bias', 'cls.seq_relationship.weight', 'cls.predictions.transform.dense.bias', 'cls.predictions.decoder.weight', 'cls.predictions.transform.LayerNorm.weight', 'cls.seq_relationship.bias']\n",
            "- This IS expected if you are initializing BertModel from the checkpoint of a model trained on another task or with another architecture (e.g. initializing a BertForSequenceClassification model from a BertForPreTraining model).\n",
            "- This IS NOT expected if you are initializing BertModel from the checkpoint of a model that you expect to be exactly identical (initializing a BertForSequenceClassification model from a BertForSequenceClassification model).\n"
          ]
        }
      ]
    },
    {
      "cell_type": "code",
      "metadata": {
        "execution": {
          "iopub.status.busy": "2021-05-22T18:24:36.855932Z",
          "iopub.execute_input": "2021-05-22T18:24:36.856437Z",
          "iopub.status.idle": "2021-05-22T18:24:36.866563Z",
          "shell.execute_reply.started": "2021-05-22T18:24:36.856399Z",
          "shell.execute_reply": "2021-05-22T18:24:36.865841Z"
        },
        "trusted": true,
        "id": "VDo0_WcrTH-N"
      },
      "source": [
        "import torch.nn as nn\n",
        "\n",
        "class BERTNLIModel(nn.Module):\n",
        "    def __init__(self,\n",
        "                 bert_model,\n",
        "                 hidden_dim,\n",
        "                 output_dim,\n",
        "                ):\n",
        "        \n",
        "        super().__init__()\n",
        "        \n",
        "        self.bert = bert_model\n",
        "        \n",
        "        embedding_dim = bert_model.config.to_dict()['hidden_size']\n",
        "        self.out = nn.Linear(embedding_dim, output_dim)\n",
        "        \n",
        "    def forward(self, sequence, attn_mask, token_type):\n",
        "        embedded = self.bert(input_ids = sequence, attention_mask = attn_mask, token_type_ids= token_type)[1]\n",
        "        output = self.out(embedded)\n",
        "\n",
        "        return output"
      ],
      "execution_count": 22,
      "outputs": []
    },
    {
      "cell_type": "code",
      "metadata": {
        "execution": {
          "iopub.status.busy": "2021-05-22T18:24:36.867698Z",
          "iopub.execute_input": "2021-05-22T18:24:36.868235Z",
          "iopub.status.idle": "2021-05-22T18:24:41.276060Z",
          "shell.execute_reply.started": "2021-05-22T18:24:36.868195Z",
          "shell.execute_reply": "2021-05-22T18:24:41.275145Z"
        },
        "trusted": true,
        "id": "jaloK1rXTH-O"
      },
      "source": [
        "HIDDEN_DIM = 512\n",
        "OUTPUT_DIM = len(label2index)\n",
        "\n",
        "model = BERTNLIModel(bert_model,HIDDEN_DIM,OUTPUT_DIM,).to(device)"
      ],
      "execution_count": 23,
      "outputs": []
    },
    {
      "cell_type": "code",
      "metadata": {
        "execution": {
          "iopub.status.busy": "2021-05-22T18:24:41.312320Z",
          "iopub.execute_input": "2021-05-22T18:24:41.312761Z",
          "iopub.status.idle": "2021-05-22T18:24:48.156690Z",
          "shell.execute_reply.started": "2021-05-22T18:24:41.312719Z",
          "shell.execute_reply": "2021-05-22T18:24:48.154976Z"
        },
        "trusted": true,
        "id": "xWHcwbEuTH-P",
        "colab": {
          "base_uri": "https://localhost:8080/"
        },
        "outputId": "30d31f97-db96-4ed3-9b93-264f5849c706"
      },
      "source": [
        "from transformers import *"
      ],
      "execution_count": 24,
      "outputs": [
        {
          "output_type": "stream",
          "name": "stderr",
          "text": [
            "/usr/local/lib/python3.10/dist-packages/transformers/generation_utils.py:24: FutureWarning: Importing `GenerationMixin` from `src/transformers/generation_utils.py` is deprecated and will be removed in Transformers v5. Import as `from transformers import GenerationMixin` instead.\n",
            "  warnings.warn(\n",
            "/usr/local/lib/python3.10/dist-packages/transformers/generation_tf_utils.py:24: FutureWarning: Importing `TFGenerationMixin` from `src/transformers/generation_tf_utils.py` is deprecated and will be removed in Transformers v5. Import as `from transformers import TFGenerationMixin` instead.\n",
            "  warnings.warn(\n",
            "/usr/local/lib/python3.10/dist-packages/transformers/generation_flax_utils.py:24: FutureWarning: Importing `FlaxGenerationMixin` from `src/transformers/generation_flax_utils.py` is deprecated and will be removed in Transformers v5. Import as `from transformers import FlaxGenerationMixin` instead.\n",
            "  warnings.warn(\n",
            "Xformers is not installed correctly. If you want to use memorry_efficient_attention to accelerate training use the following command to install Xformers\n",
            "pip install xformers.\n"
          ]
        }
      ]
    },
    {
      "cell_type": "code",
      "metadata": {
        "execution": {
          "iopub.status.busy": "2021-05-22T18:24:48.158473Z",
          "iopub.execute_input": "2021-05-22T18:24:48.158884Z",
          "iopub.status.idle": "2021-05-22T18:24:48.170838Z",
          "shell.execute_reply.started": "2021-05-22T18:24:48.158822Z",
          "shell.execute_reply": "2021-05-22T18:24:48.167735Z"
        },
        "trusted": true,
        "id": "zcpOWOTdTH-P",
        "colab": {
          "base_uri": "https://localhost:8080/"
        },
        "outputId": "06587034-3d55-496d-f393-17af99df2027"
      },
      "source": [
        "import torch.optim as optim\n",
        "\n",
        "#optimizer = optim.Adam(model.parameters())\n",
        "optimizer = AdamW(model.parameters(),lr=2e-5,eps=1e-6,correct_bias=False)\n",
        "\n",
        "def get_scheduler(optimizer, warmup_steps):\n",
        "    scheduler = get_constant_schedule_with_warmup(optimizer, num_warmup_steps=warmup_steps)\n",
        "    return scheduler"
      ],
      "execution_count": 25,
      "outputs": [
        {
          "output_type": "stream",
          "name": "stderr",
          "text": [
            "/usr/local/lib/python3.10/dist-packages/transformers/optimization.py:407: FutureWarning: This implementation of AdamW is deprecated and will be removed in a future version. Use the PyTorch implementation torch.optim.AdamW instead, or set `no_deprecation_warning=True` to disable this warning\n",
            "  warnings.warn(\n"
          ]
        }
      ]
    },
    {
      "cell_type": "code",
      "metadata": {
        "execution": {
          "iopub.status.busy": "2021-05-22T18:24:48.172358Z",
          "iopub.execute_input": "2021-05-22T18:24:48.172752Z",
          "iopub.status.idle": "2021-05-22T18:24:49.688801Z",
          "shell.execute_reply.started": "2021-05-22T18:24:48.172711Z",
          "shell.execute_reply": "2021-05-22T18:24:49.687709Z"
        },
        "trusted": true,
        "id": "o1oS_9oNTH-Q"
      },
      "source": [
        "criterion = nn.CrossEntropyLoss().to(device)\n",
        "from tqdm import tqdm"
      ],
      "execution_count": 26,
      "outputs": []
    },
    {
      "cell_type": "code",
      "metadata": {
        "execution": {
          "iopub.status.busy": "2021-05-22T18:24:49.690480Z",
          "iopub.execute_input": "2021-05-22T18:24:49.691979Z",
          "iopub.status.idle": "2021-05-22T18:24:49.700224Z",
          "shell.execute_reply.started": "2021-05-22T18:24:49.691928Z",
          "shell.execute_reply": "2021-05-22T18:24:49.699269Z"
        },
        "trusted": true,
        "id": "oWYJmI66TH-Q"
      },
      "source": [
        "def categorical_accuracy(preds, y):\n",
        "    max_preds = preds.argmax(dim = 1, keepdim = True) # get the index of the max probability\n",
        "    correct = (max_preds.squeeze(1)==y).float()\n",
        "    return correct.sum() / len(y)"
      ],
      "execution_count": 27,
      "outputs": []
    },
    {
      "cell_type": "code",
      "metadata": {
        "execution": {
          "iopub.status.busy": "2021-05-22T18:24:51.141635Z",
          "iopub.execute_input": "2021-05-22T18:24:51.141968Z",
          "iopub.status.idle": "2021-05-22T18:24:51.152037Z",
          "shell.execute_reply.started": "2021-05-22T18:24:51.141934Z",
          "shell.execute_reply": "2021-05-22T18:24:51.151084Z"
        },
        "trusted": true,
        "id": "LGxOjwjkTH-Q"
      },
      "source": [
        "max_grad_norm = 1\n",
        "\n",
        "def train(model, iterator, optimizer, criterion, scheduler):\n",
        "    #print(iterator)\n",
        "    \n",
        "    epoch_loss = 0\n",
        "    epoch_acc = 0\n",
        "    \n",
        "    model.train()\n",
        "    \n",
        "    for sequence,attn_mask,token_type,label in tqdm(iterator):\n",
        "\n",
        "        optimizer.zero_grad() # clear gradients first\n",
        "        torch.cuda.empty_cache() # releases all unoccupied cached memory \n",
        "        \n",
        "        sequence,attn_mask,token_type,label = sequence.to(device),attn_mask.to(device),token_type.to(device),label.to(device)\n",
        "        \n",
        "        predictions = model(sequence, attn_mask, token_type)\n",
        "        \n",
        "        loss = criterion(predictions, label)\n",
        "        \n",
        "        acc = categorical_accuracy(predictions, label)\n",
        "        loss.backward()\n",
        "        \n",
        "        optimizer.step()\n",
        "        scheduler.step()\n",
        "        \n",
        "        epoch_loss += loss.item()\n",
        "        epoch_acc += acc.item()\n",
        "        \n",
        "    return epoch_loss / len(iterator), epoch_acc / len(iterator)"
      ],
      "execution_count": 28,
      "outputs": []
    },
    {
      "cell_type": "code",
      "metadata": {
        "execution": {
          "iopub.status.busy": "2021-05-22T18:24:51.153318Z",
          "iopub.execute_input": "2021-05-22T18:24:51.153732Z",
          "iopub.status.idle": "2021-05-22T18:24:51.166942Z",
          "shell.execute_reply.started": "2021-05-22T18:24:51.153685Z",
          "shell.execute_reply": "2021-05-22T18:24:51.166060Z"
        },
        "trusted": true,
        "id": "PjPxruc3TH-R"
      },
      "source": [
        "from sklearn.metrics import classification_report, confusion_matrix\n",
        "import numpy as np\n",
        "import seaborn as sn\n",
        "import matplotlib.pyplot as plt\n",
        "\n",
        "def evaluate(model, iterator, criterion):\n",
        "    #print(iterator)\n",
        "    epoch_loss = 0\n",
        "    epoch_acc = 0\n",
        "    y_true = []\n",
        "    y_pred = []\n",
        "    model.eval()\n",
        "    \n",
        "    with torch.no_grad():\n",
        "    \n",
        "        for sequence,attn_mask,token_type,labels in tqdm(iterator):\n",
        "\n",
        "            sequence,attn_mask,token_type,labels = sequence.to(device),attn_mask.to(device),token_type.to(device),labels.to(device)\n",
        "            predictions = model(sequence, attn_mask, token_type)\n",
        "            y_true.extend(labels.cpu())\n",
        "            y_pred.extend(predictions.cpu().argmax(1))\n",
        "            loss = criterion(predictions, labels)\n",
        "                \n",
        "            acc = categorical_accuracy(predictions, labels)\n",
        "            \n",
        "            epoch_loss += loss.item()\n",
        "            epoch_acc += acc.item()\n",
        "        print(\"Test Classification report\")\n",
        "        print(classification_report(y_true, y_pred, target_names=[\"entailment\",\"neutral\",\"contradiction\"]))\n",
        "        cf_matrix = confusion_matrix(y_true, y_pred)\n",
        "        df_cm = pd.DataFrame(cf_matrix / np.sum(cf_matrix, axis=1)[:, None], index = [i for i in [\"entailment\",\"neutral\",\"contradiction\"]],columns = [i for i in [\"entailment\",\"neutral\",\"contradiction\"]])\n",
        "        # plt.figure(figsize = (12,7))\n",
        "        plt.title(\"Confusion Matrix\")\n",
        "        sn.heatmap(df_cm, annot=True)\n",
        "        plt.savefig('output.png')\n",
        "        \n",
        "    return epoch_loss / len(iterator), epoch_acc / len(iterator)"
      ],
      "execution_count": 47,
      "outputs": []
    },
    {
      "cell_type": "code",
      "metadata": {
        "execution": {
          "iopub.status.busy": "2021-05-22T18:24:51.169166Z",
          "iopub.execute_input": "2021-05-22T18:24:51.170246Z",
          "iopub.status.idle": "2021-05-22T18:24:51.181751Z",
          "shell.execute_reply.started": "2021-05-22T18:24:51.170216Z",
          "shell.execute_reply": "2021-05-22T18:24:51.181031Z"
        },
        "trusted": true,
        "id": "xIoYct0uTH-R"
      },
      "source": [
        "import time\n",
        "\n",
        "def epoch_time(start_time, end_time):\n",
        "    elapsed_time = end_time - start_time\n",
        "    elapsed_mins = int(elapsed_time / 60)\n",
        "    elapsed_secs = int(elapsed_time - (elapsed_mins * 60))\n",
        "    return elapsed_mins, elapsed_secs"
      ],
      "execution_count": 30,
      "outputs": []
    },
    {
      "cell_type": "code",
      "metadata": {
        "execution": {
          "iopub.status.busy": "2021-05-22T18:24:51.183111Z",
          "iopub.execute_input": "2021-05-22T18:24:51.183483Z",
          "iopub.status.idle": "2021-05-22T19:43:27.258977Z",
          "shell.execute_reply.started": "2021-05-22T18:24:51.183445Z",
          "shell.execute_reply": "2021-05-22T19:43:27.257798Z"
        },
        "trusted": true,
        "id": "36KbCzW2TH-S",
        "colab": {
          "base_uri": "https://localhost:8080/"
        },
        "outputId": "31c2c01b-0e72-4765-89fe-5ca69cc90af9"
      },
      "source": [
        "import math\n",
        "N_EPOCHS = 6\n",
        "\n",
        "warmup_percent = 0.2\n",
        "total_steps = math.ceil(N_EPOCHS*len(train_data)*1./BATCH_SIZE)\n",
        "warmup_steps = int(total_steps*warmup_percent)\n",
        "scheduler = get_scheduler(optimizer, warmup_steps)\n",
        "\n",
        "best_valid_loss = float('inf')\n",
        "best_epoch=0\n",
        "\n",
        "for epoch in range(N_EPOCHS):\n",
        "\n",
        "    start_time = time.time()\n",
        "    \n",
        "    train_loss, train_acc = train(model, train_dataloader, optimizer, criterion, scheduler)\n",
        "    valid_loss, valid_acc = evaluate(model, valid_dataloader, criterion)\n",
        "    \n",
        "    end_time = time.time()\n",
        "\n",
        "    epoch_mins, epoch_secs = epoch_time(start_time, end_time)\n",
        "    \n",
        "    if valid_loss < best_valid_loss:\n",
        "        best_valid_loss = valid_loss\n",
        "        best_epoch=epoch\n",
        "    torch.save(model.state_dict(), f'/content/gdrive/MyDrive/NLPProject/models/bert-mnli_{epoch}.pt')\n",
        "    \n",
        "    print(f'Epoch: {epoch+1:02} | Epoch Time: {epoch_mins}m {epoch_secs}s')\n",
        "    print(f'\\tTrain Loss: {train_loss:.3f} | Train Acc: {train_acc*100:.2f}%')\n",
        "    print(f'\\t Val. Loss: {valid_loss:.3f} |  Val. Acc: {valid_acc*100:.2f}%')"
      ],
      "execution_count": 33,
      "outputs": [
        {
          "output_type": "stream",
          "name": "stderr",
          "text": [
            "100%|██████████| 2500/2500 [31:07<00:00,  1.34it/s]\n",
            "100%|██████████| 250/250 [00:56<00:00,  4.42it/s]\n"
          ]
        },
        {
          "output_type": "stream",
          "name": "stdout",
          "text": [
            "Epoch: 01 | Epoch Time: 32m 4s\n",
            "\tTrain Loss: 0.756 | Train Acc: 65.67%\n",
            "\t Val. Loss: 0.447 |  Val. Acc: 84.35%\n"
          ]
        },
        {
          "output_type": "stream",
          "name": "stderr",
          "text": [
            "100%|██████████| 2500/2500 [31:09<00:00,  1.34it/s]\n",
            "100%|██████████| 250/250 [00:56<00:00,  4.42it/s]\n"
          ]
        },
        {
          "output_type": "stream",
          "name": "stdout",
          "text": [
            "Epoch: 02 | Epoch Time: 32m 5s\n",
            "\tTrain Loss: 0.436 | Train Acc: 83.45%\n",
            "\t Val. Loss: 0.200 |  Val. Acc: 93.77%\n"
          ]
        },
        {
          "output_type": "stream",
          "name": "stderr",
          "text": [
            "100%|██████████| 2500/2500 [31:12<00:00,  1.34it/s]\n",
            "100%|██████████| 250/250 [00:56<00:00,  4.41it/s]\n"
          ]
        },
        {
          "output_type": "stream",
          "name": "stdout",
          "text": [
            "Epoch: 03 | Epoch Time: 32m 8s\n",
            "\tTrain Loss: 0.235 | Train Acc: 91.90%\n",
            "\t Val. Loss: 0.083 |  Val. Acc: 97.80%\n"
          ]
        },
        {
          "output_type": "stream",
          "name": "stderr",
          "text": [
            "100%|██████████| 2500/2500 [31:09<00:00,  1.34it/s]\n",
            "100%|██████████| 250/250 [00:56<00:00,  4.42it/s]\n"
          ]
        },
        {
          "output_type": "stream",
          "name": "stdout",
          "text": [
            "Epoch: 04 | Epoch Time: 32m 5s\n",
            "\tTrain Loss: 0.125 | Train Acc: 95.75%\n",
            "\t Val. Loss: 0.038 |  Val. Acc: 99.17%\n"
          ]
        },
        {
          "output_type": "stream",
          "name": "stderr",
          "text": [
            "100%|██████████| 2500/2500 [31:08<00:00,  1.34it/s]\n",
            "100%|██████████| 250/250 [00:56<00:00,  4.42it/s]\n"
          ]
        },
        {
          "output_type": "stream",
          "name": "stdout",
          "text": [
            "Epoch: 05 | Epoch Time: 32m 4s\n",
            "\tTrain Loss: 0.078 | Train Acc: 97.43%\n",
            "\t Val. Loss: 0.022 |  Val. Acc: 99.60%\n"
          ]
        },
        {
          "output_type": "stream",
          "name": "stderr",
          "text": [
            "100%|██████████| 2500/2500 [31:09<00:00,  1.34it/s]\n",
            "100%|██████████| 250/250 [00:56<00:00,  4.41it/s]\n"
          ]
        },
        {
          "output_type": "stream",
          "name": "stdout",
          "text": [
            "Epoch: 06 | Epoch Time: 32m 6s\n",
            "\tTrain Loss: 0.060 | Train Acc: 98.01%\n",
            "\t Val. Loss: 0.013 |  Val. Acc: 99.62%\n"
          ]
        }
      ]
    },
    {
      "cell_type": "code",
      "metadata": {
        "execution": {
          "iopub.status.busy": "2021-05-22T19:43:27.263388Z",
          "iopub.execute_input": "2021-05-22T19:43:27.265736Z",
          "iopub.status.idle": "2021-05-22T19:43:39.283837Z",
          "shell.execute_reply.started": "2021-05-22T19:43:27.265691Z",
          "shell.execute_reply": "2021-05-22T19:43:39.282313Z"
        },
        "trusted": true,
        "id": "-pTN9d9BTH-S",
        "colab": {
          "base_uri": "https://localhost:8080/",
          "height": 692
        },
        "outputId": "c961b889-1441-4f90-87c8-68b10de3fcb3"
      },
      "source": [
        "model.load_state_dict(torch.load(f'/content/gdrive/MyDrive/NLPProject/models/bert-mnli_{best_epoch}.pt'))\n",
        "\n",
        "test_loss, test_acc = evaluate(model, test_dataloader, criterion)\n",
        "\n",
        "print(f'Test Loss: {test_loss:.3f} |  Test Acc: {test_acc*100:.2f}%')"
      ],
      "execution_count": 48,
      "outputs": [
        {
          "output_type": "stream",
          "name": "stderr",
          "text": [
            "100%|██████████| 250/250 [00:57<00:00,  4.35it/s]\n"
          ]
        },
        {
          "output_type": "stream",
          "name": "stdout",
          "text": [
            "Test Classification report\n",
            "               precision    recall  f1-score   support\n",
            "\n",
            "   entailment       1.00      1.00      1.00      1371\n",
            "      neutral       1.00      0.99      0.99      1160\n",
            "contradiction       0.99      1.00      1.00      1469\n",
            "\n",
            "     accuracy                           1.00      4000\n",
            "    macro avg       1.00      1.00      1.00      4000\n",
            " weighted avg       1.00      1.00      1.00      4000\n",
            "\n",
            "Test Loss: 0.013 |  Test Acc: 99.62%\n"
          ]
        },
        {
          "output_type": "display_data",
          "data": {
            "text/plain": [
              "<Figure size 640x480 with 2 Axes>"
            ],
            "image/png": "[encoded data removed]"
          },
          "metadata": {}
        }
      ]
    },
    {
      "cell_type": "code",
      "metadata": {
        "execution": {
          "iopub.status.busy": "2021-05-22T19:43:39.285211Z",
          "iopub.execute_input": "2021-05-22T19:43:39.285573Z",
          "iopub.status.idle": "2021-05-22T19:43:39.293377Z",
          "shell.execute_reply.started": "2021-05-22T19:43:39.285534Z",
          "shell.execute_reply": "2021-05-22T19:43:39.292238Z"
        },
        "trusted": true,
        "id": "clPjVrsVTH-S"
      },
      "source": [
        "index2label={0:\"entailment\",1:\"neutral\",2:\"contradiction\"}\n",
        "def predict_inference(premise, hypothesis, model, device):\n",
        "    \n",
        "    model.eval()\n",
        "    \n",
        "    premise = '[CLS] ' + premise + ' [SEP]'\n",
        "    hypothesis = hypothesis + ' [SEP]'\n",
        "    \n",
        "    prem_t = tokenize_bert(premise)\n",
        "    hypo_t = tokenize_bert(hypothesis)\n",
        "    \n",
        "    #print(len(prem_t), len(hypo_t))\n",
        "    \n",
        "    prem_type = get_sent1_token_type(prem_t)\n",
        "    hypo_type = get_sent2_token_type(hypo_t)\n",
        "    \n",
        "    #print(len(prem_type), len(hypo_type))\n",
        "    \n",
        "    indexes = prem_t + hypo_t\n",
        "    \n",
        "    indexes = tokenizer.convert_tokens_to_ids(indexes)\n",
        "    #print(indexes)\n",
        "    indexes_type = prem_type + hypo_type\n",
        "    #print(indexes_type)\n",
        "    \n",
        "    attn_mask = get_sent2_token_type(indexes)\n",
        "    #print(attn_mask)\n",
        "    \n",
        "    #print(len(indexes))\n",
        "    #print(len(indexes_type))\n",
        "    #print(len(attn_mask))\n",
        "\n",
        "    #seq = '[CLS] '+ premise + ' [SEP] '+ hypothesis \n",
        "\n",
        "    #tokens = tokenizer.tokenize(seq)\n",
        "\n",
        "    #indexes = tokenizer.convert_tokens_to_ids(tokens)\n",
        "    \n",
        "    indexes = torch.LongTensor(indexes).unsqueeze(0).to(device)\n",
        "    indexes_type = torch.LongTensor(indexes_type).unsqueeze(0).to(device)\n",
        "    attn_mask = torch.LongTensor(attn_mask).unsqueeze(0).to(device)\n",
        "    \n",
        "    #print(indexes.size())\n",
        "    \n",
        "    prediction = model(indexes, attn_mask, indexes_type)\n",
        "    \n",
        "    prediction = prediction.argmax(dim=-1).item()\n",
        "    \n",
        "    return index2label[prediction]"
      ],
      "execution_count": 35,
      "outputs": []
    },
    {
      "cell_type": "code",
      "metadata": {
        "execution": {
          "iopub.status.busy": "2021-05-22T19:43:39.294655Z",
          "iopub.execute_input": "2021-05-22T19:43:39.295190Z",
          "iopub.status.idle": "2021-05-22T19:43:39.345334Z",
          "shell.execute_reply.started": "2021-05-22T19:43:39.295145Z",
          "shell.execute_reply": "2021-05-22T19:43:39.344616Z"
        },
        "trusted": true,
        "id": "Hxb5rikYTH-T",
        "colab": {
          "base_uri": "https://localhost:8080/",
          "height": 36
        },
        "outputId": "5c784a9c-4b49-4134-ac51-9adf657328c4"
      },
      "source": [
        "premise = 'a man sitting on a green bench.'\n",
        "hypothesis = 'a woman sitting on a green bench.'\n",
        "\n",
        "predict_inference(premise, hypothesis, model, device)"
      ],
      "execution_count": 36,
      "outputs": [
        {
          "output_type": "execute_result",
          "data": {
            "text/plain": [
              "'contradiction'"
            ],
            "application/vnd.google.colaboratory.intrinsic+json": {
              "type": "string"
            }
          },
          "metadata": {},
          "execution_count": 36
        }
      ]
    },
    {
      "cell_type": "code",
      "metadata": {
        "execution": {
          "iopub.status.busy": "2021-05-22T19:43:39.346465Z",
          "iopub.execute_input": "2021-05-22T19:43:39.346775Z",
          "iopub.status.idle": "2021-05-22T19:43:39.382134Z",
          "shell.execute_reply.started": "2021-05-22T19:43:39.346742Z",
          "shell.execute_reply": "2021-05-22T19:43:39.381216Z"
        },
        "trusted": true,
        "id": "2I-cDRfXTH-T",
        "colab": {
          "base_uri": "https://localhost:8080/",
          "height": 36
        },
        "outputId": "323c2743-1d65-4f74-df6b-cd7b4b1639b6"
      },
      "source": [
        "premise = 'a man sitting on a green bench.'\n",
        "hypothesis = 'a man sitting on a blue bench.'\n",
        "\n",
        "predict_inference(premise, hypothesis, model, device)"
      ],
      "execution_count": 37,
      "outputs": [
        {
          "output_type": "execute_result",
          "data": {
            "text/plain": [
              "'contradiction'"
            ],
            "application/vnd.google.colaboratory.intrinsic+json": {
              "type": "string"
            }
          },
          "metadata": {},
          "execution_count": 37
        }
      ]
    },
    {
      "cell_type": "code",
      "metadata": {
        "execution": {
          "iopub.status.busy": "2021-05-22T19:43:39.383222Z",
          "iopub.execute_input": "2021-05-22T19:43:39.383665Z",
          "iopub.status.idle": "2021-05-22T19:43:39.421339Z",
          "shell.execute_reply.started": "2021-05-22T19:43:39.383628Z",
          "shell.execute_reply": "2021-05-22T19:43:39.420435Z"
        },
        "trusted": true,
        "id": "blZecUUDTH-U",
        "colab": {
          "base_uri": "https://localhost:8080/",
          "height": 36
        },
        "outputId": "d67077ab-d44b-4934-caa8-736b55678919"
      },
      "source": [
        "premise = 'I am lying down on bed.'\n",
        "hypothesis = 'I am resting on bed.'\n",
        "\n",
        "predict_inference(premise, hypothesis, model, device)"
      ],
      "execution_count": 38,
      "outputs": [
        {
          "output_type": "execute_result",
          "data": {
            "text/plain": [
              "'entailment'"
            ],
            "application/vnd.google.colaboratory.intrinsic+json": {
              "type": "string"
            }
          },
          "metadata": {},
          "execution_count": 38
        }
      ]
    },
    {
      "cell_type": "code",
      "metadata": {
        "execution": {
          "iopub.status.busy": "2021-05-22T19:43:39.422429Z",
          "iopub.execute_input": "2021-05-22T19:43:39.422755Z",
          "iopub.status.idle": "2021-05-22T19:43:39.458545Z",
          "shell.execute_reply.started": "2021-05-22T19:43:39.422722Z",
          "shell.execute_reply": "2021-05-22T19:43:39.457617Z"
        },
        "trusted": true,
        "id": "Ra1Ex97jTH-U",
        "colab": {
          "base_uri": "https://localhost:8080/",
          "height": 36
        },
        "outputId": "d6fbc567-f5a6-45f5-df28-fe2623a3c6f4"
      },
      "source": [
        "premise = 'I go to office on my personal car.'\n",
        "hypothesis = 'I have to share office cab for reaching office.'\n",
        "\n",
        "predict_inference(premise, hypothesis, model, device)"
      ],
      "execution_count": 39,
      "outputs": [
        {
          "output_type": "execute_result",
          "data": {
            "text/plain": [
              "'contradiction'"
            ],
            "application/vnd.google.colaboratory.intrinsic+json": {
              "type": "string"
            }
          },
          "metadata": {},
          "execution_count": 39
        }
      ]
    },
    {
      "cell_type": "code",
      "metadata": {
        "execution": {
          "iopub.status.busy": "2021-05-22T19:43:39.459640Z",
          "iopub.execute_input": "2021-05-22T19:43:39.459985Z",
          "iopub.status.idle": "2021-05-22T19:43:39.498287Z",
          "shell.execute_reply.started": "2021-05-22T19:43:39.459951Z",
          "shell.execute_reply": "2021-05-22T19:43:39.497356Z"
        },
        "trusted": true,
        "id": "j9Y0i_1xTH-U",
        "colab": {
          "base_uri": "https://localhost:8080/",
          "height": 36
        },
        "outputId": "3e859d0b-c17f-41fb-b350-681f75d21cd5"
      },
      "source": [
        "premise = 'I love to play cricket.'\n",
        "hypothesis = 'I enjoy playing football.'\n",
        "\n",
        "predict_inference(premise, hypothesis, model, device)"
      ],
      "execution_count": 40,
      "outputs": [
        {
          "output_type": "execute_result",
          "data": {
            "text/plain": [
              "'contradiction'"
            ],
            "application/vnd.google.colaboratory.intrinsic+json": {
              "type": "string"
            }
          },
          "metadata": {},
          "execution_count": 40
        }
      ]
    },
    {
      "cell_type": "code",
      "metadata": {
        "execution": {
          "iopub.status.busy": "2021-05-22T19:43:39.499376Z",
          "iopub.execute_input": "2021-05-22T19:43:39.499708Z",
          "iopub.status.idle": "2021-05-22T19:43:39.537532Z",
          "shell.execute_reply.started": "2021-05-22T19:43:39.499675Z",
          "shell.execute_reply": "2021-05-22T19:43:39.536636Z"
        },
        "trusted": true,
        "id": "K8_YE-R5TH-V",
        "colab": {
          "base_uri": "https://localhost:8080/",
          "height": 36
        },
        "outputId": "3d65fc21-c677-4b87-ac70-be0192780a3c"
      },
      "source": [
        "premise = 'He is techy.'\n",
        "hypothesis = 'He has no idea of tech.'\n",
        "\n",
        "predict_inference(premise, hypothesis, model, device)"
      ],
      "execution_count": 41,
      "outputs": [
        {
          "output_type": "execute_result",
          "data": {
            "text/plain": [
              "'contradiction'"
            ],
            "application/vnd.google.colaboratory.intrinsic+json": {
              "type": "string"
            }
          },
          "metadata": {},
          "execution_count": 41
        }
      ]
    },
    {
      "cell_type": "code",
      "metadata": {
        "execution": {
          "iopub.status.busy": "2021-05-22T19:43:39.538597Z",
          "iopub.execute_input": "2021-05-22T19:43:39.539065Z",
          "iopub.status.idle": "2021-05-22T19:43:39.585624Z",
          "shell.execute_reply.started": "2021-05-22T19:43:39.539029Z",
          "shell.execute_reply": "2021-05-22T19:43:39.584727Z"
        },
        "trusted": true,
        "id": "lhFq0CRcTH-V",
        "colab": {
          "base_uri": "https://localhost:8080/",
          "height": 36
        },
        "outputId": "570105ae-23bb-4b0e-e08d-6379d172c9f7"
      },
      "source": [
        "premise = 'I am using mobile phone.'\n",
        "hypothesis = 'I have mobile in my hand.'\n",
        "\n",
        "predict_inference(premise, hypothesis, model, device)"
      ],
      "execution_count": 42,
      "outputs": [
        {
          "output_type": "execute_result",
          "data": {
            "text/plain": [
              "'entailment'"
            ],
            "application/vnd.google.colaboratory.intrinsic+json": {
              "type": "string"
            }
          },
          "metadata": {},
          "execution_count": 42
        }
      ]
    },
    {
      "cell_type": "code",
      "metadata": {
        "id": "xQ1wOHoITH-V"
      },
      "source": [],
      "execution_count": 42,
      "outputs": []
    }
  ]
}