{
  "nbformat": 4,
  "nbformat_minor": 0,
  "metadata": {
    "kernelspec": {
      "language": "python",
      "display_name": "Python 3",
      "name": "python3"
    },
    "language_info": {
      "name": "python",
      "version": "3.7.10",
      "mimetype": "text/x-python",
      "codemirror_mode": {
        "name": "ipython",
        "version": 3
      },
      "pygments_lexer": "ipython3",
      "nbconvert_exporter": "python",
      "file_extension": ".py"
    },
    "colab": {
      "provenance": [],
      "gpuType": "T4"
    },
    "accelerator": "GPU",
    "gpuClass": "standard",
    "widgets": {
      "application/vnd.jupyter.widget-state+json": {
        "b286e888fc7041daba482115b3b9f34a": {
          "model_module": "@jupyter-widgets/controls",
          "model_name": "HBoxModel",
          "model_module_version": "1.5.0",
          "state": {
            "_dom_classes": [],
            "_model_module": "@jupyter-widgets/controls",
            "_model_module_version": "1.5.0",
            "_model_name": "HBoxModel",
            "_view_count": null,
            "_view_module": "@jupyter-widgets/controls",
            "_view_module_version": "1.5.0",
            "_view_name": "HBoxView",
            "box_style": "",
            "children": [
              "IPY_MODEL_820dd5923e624ed6b3d3d3c7982a0054",
              "IPY_MODEL_31bcb929abbf4b74967f2cd4641eee2e",
              "IPY_MODEL_dea8fd554c4c4f6cacb65fadeaaa7467"
            ],
            "layout": "IPY_MODEL_9215dc9f07ba4014bcb4f820a9f82e4e"
          }
        },
        "820dd5923e624ed6b3d3d3c7982a0054": {
          "model_module": "@jupyter-widgets/controls",
          "model_name": "HTMLModel",
          "model_module_version": "1.5.0",
          "state": {
            "_dom_classes": [],
            "_model_module": "@jupyter-widgets/controls",
            "_model_module_version": "1.5.0",
            "_model_name": "HTMLModel",
            "_view_count": null,
            "_view_module": "@jupyter-widgets/controls",
            "_view_module_version": "1.5.0",
            "_view_name": "HTMLView",
            "description": "",
            "description_tooltip": null,
            "layout": "IPY_MODEL_9c1d0a4e07ba40a1a3ba17246e459111",
            "placeholder": "​",
            "style": "IPY_MODEL_df5b8b68d6fd48e3aa38876d1f8bbbd0",
            "value": "Downloading (…)solve/main/vocab.txt: 100%"
          }
        },
        "31bcb929abbf4b74967f2cd4641eee2e": {
          "model_module": "@jupyter-widgets/controls",
          "model_name": "FloatProgressModel",
          "model_module_version": "1.5.0",
          "state": {
            "_dom_classes": [],
            "_model_module": "@jupyter-widgets/controls",
            "_model_module_version": "1.5.0",
            "_model_name": "FloatProgressModel",
            "_view_count": null,
            "_view_module": "@jupyter-widgets/controls",
            "_view_module_version": "1.5.0",
            "_view_name": "ProgressView",
            "bar_style": "success",
            "description": "",
            "description_tooltip": null,
            "layout": "IPY_MODEL_30eff2ca79924aa481a2d434f2923a37",
            "max": 231508,
            "min": 0,
            "orientation": "horizontal",
            "style": "IPY_MODEL_429d5bd048ff4eedbf130936afc537a7",
            "value": 231508
          }
        },
        "dea8fd554c4c4f6cacb65fadeaaa7467": {
          "model_module": "@jupyter-widgets/controls",
          "model_name": "HTMLModel",
          "model_module_version": "1.5.0",
          "state": {
            "_dom_classes": [],
            "_model_module": "@jupyter-widgets/controls",
            "_model_module_version": "1.5.0",
            "_model_name": "HTMLModel",
            "_view_count": null,
            "_view_module": "@jupyter-widgets/controls",
            "_view_module_version": "1.5.0",
            "_view_name": "HTMLView",
            "description": "",
            "description_tooltip": null,
            "layout": "IPY_MODEL_c30e12a15e134618b6595d7da2238d9c",
            "placeholder": "​",
            "style": "IPY_MODEL_3095d0ea1c284f06b1e2f352ff5c6c9a",
            "value": " 232k/232k [00:00&lt;00:00, 2.08MB/s]"
          }
        },
        "9215dc9f07ba4014bcb4f820a9f82e4e": {
          "model_module": "@jupyter-widgets/base",
          "model_name": "LayoutModel",
          "model_module_version": "1.2.0",
          "state": {
            "_model_module": "@jupyter-widgets/base",
            "_model_module_version": "1.2.0",
            "_model_name": "LayoutModel",
            "_view_count": null,
            "_view_module": "@jupyter-widgets/base",
            "_view_module_version": "1.2.0",
            "_view_name": "LayoutView",
            "align_content": null,
            "align_items": null,
            "align_self": null,
            "border": null,
            "bottom": null,
            "display": null,
            "flex": null,
            "flex_flow": null,
            "grid_area": null,
            "grid_auto_columns": null,
            "grid_auto_flow": null,
            "grid_auto_rows": null,
            "grid_column": null,
            "grid_gap": null,
            "grid_row": null,
            "grid_template_areas": null,
            "grid_template_columns": null,
            "grid_template_rows": null,
            "height": null,
            "justify_content": null,
            "justify_items": null,
            "left": null,
            "margin": null,
            "max_height": null,
            "max_width": null,
            "min_height": null,
            "min_width": null,
            "object_fit": null,
            "object_position": null,
            "order": null,
            "overflow": null,
            "overflow_x": null,
            "overflow_y": null,
            "padding": null,
            "right": null,
            "top": null,
            "visibility": null,
            "width": null
          }
        },
        "9c1d0a4e07ba40a1a3ba17246e459111": {
          "model_module": "@jupyter-widgets/base",
          "model_name": "LayoutModel",
          "model_module_version": "1.2.0",
          "state": {
            "_model_module": "@jupyter-widgets/base",
            "_model_module_version": "1.2.0",
            "_model_name": "LayoutModel",
            "_view_count": null,
            "_view_module": "@jupyter-widgets/base",
            "_view_module_version": "1.2.0",
            "_view_name": "LayoutView",
            "align_content": null,
            "align_items": null,
            "align_self": null,
            "border": null,
            "bottom": null,
            "display": null,
            "flex": null,
            "flex_flow": null,
            "grid_area": null,
            "grid_auto_columns": null,
            "grid_auto_flow": null,
            "grid_auto_rows": null,
            "grid_column": null,
            "grid_gap": null,
            "grid_row": null,
            "grid_template_areas": null,
            "grid_template_columns": null,
            "grid_template_rows": null,
            "height": null,
            "justify_content": null,
            "justify_items": null,
            "left": null,
            "margin": null,
            "max_height": null,
            "max_width": null,
            "min_height": null,
            "min_width": null,
            "object_fit": null,
            "object_position": null,
            "order": null,
            "overflow": null,
            "overflow_x": null,
            "overflow_y": null,
            "padding": null,
            "right": null,
            "top": null,
            "visibility": null,
            "width": null
          }
        },
        "df5b8b68d6fd48e3aa38876d1f8bbbd0": {
          "model_module": "@jupyter-widgets/controls",
          "model_name": "DescriptionStyleModel",
          "model_module_version": "1.5.0",
          "state": {
            "_model_module": "@jupyter-widgets/controls",
            "_model_module_version": "1.5.0",
            "_model_name": "DescriptionStyleModel",
            "_view_count": null,
            "_view_module": "@jupyter-widgets/base",
            "_view_module_version": "1.2.0",
            "_view_name": "StyleView",
            "description_width": ""
          }
        },
        "30eff2ca79924aa481a2d434f2923a37": {
          "model_module": "@jupyter-widgets/base",
          "model_name": "LayoutModel",
          "model_module_version": "1.2.0",
          "state": {
            "_model_module": "@jupyter-widgets/base",
            "_model_module_version": "1.2.0",
            "_model_name": "LayoutModel",
            "_view_count": null,
            "_view_module": "@jupyter-widgets/base",
            "_view_module_version": "1.2.0",
            "_view_name": "LayoutView",
            "align_content": null,
            "align_items": null,
            "align_self": null,
            "border": null,
            "bottom": null,
            "display": null,
            "flex": null,
            "flex_flow": null,
            "grid_area": null,
            "grid_auto_columns": null,
            "grid_auto_flow": null,
            "grid_auto_rows": null,
            "grid_column": null,
            "grid_gap": null,
            "grid_row": null,
            "grid_template_areas": null,
            "grid_template_columns": null,
            "grid_template_rows": null,
            "height": null,
            "justify_content": null,
            "justify_items": null,
            "left": null,
            "margin": null,
            "max_height": null,
            "max_width": null,
            "min_height": null,
            "min_width": null,
            "object_fit": null,
            "object_position": null,
            "order": null,
            "overflow": null,
            "overflow_x": null,
            "overflow_y": null,
            "padding": null,
            "right": null,
            "top": null,
            "visibility": null,
            "width": null
          }
        },
        "429d5bd048ff4eedbf130936afc537a7": {
          "model_module": "@jupyter-widgets/controls",
          "model_name": "ProgressStyleModel",
          "model_module_version": "1.5.0",
          "state": {
            "_model_module": "@jupyter-widgets/controls",
            "_model_module_version": "1.5.0",
            "_model_name": "ProgressStyleModel",
            "_view_count": null,
            "_view_module": "@jupyter-widgets/base",
            "_view_module_version": "1.2.0",
            "_view_name": "StyleView",
            "bar_color": null,
            "description_width": ""
          }
        },
        "c30e12a15e134618b6595d7da2238d9c": {
          "model_module": "@jupyter-widgets/base",
          "model_name": "LayoutModel",
          "model_module_version": "1.2.0",
          "state": {
            "_model_module": "@jupyter-widgets/base",
            "_model_module_version": "1.2.0",
            "_model_name": "LayoutModel",
            "_view_count": null,
            "_view_module": "@jupyter-widgets/base",
            "_view_module_version": "1.2.0",
            "_view_name": "LayoutView",
            "align_content": null,
            "align_items": null,
            "align_self": null,
            "border": null,
            "bottom": null,
            "display": null,
            "flex": null,
            "flex_flow": null,
            "grid_area": null,
            "grid_auto_columns": null,
            "grid_auto_flow": null,
            "grid_auto_rows": null,
            "grid_column": null,
            "grid_gap": null,
            "grid_row": null,
            "grid_template_areas": null,
            "grid_template_columns": null,
            "grid_template_rows": null,
            "height": null,
            "justify_content": null,
            "justify_items": null,
            "left": null,
            "margin": null,
            "max_height": null,
            "max_width": null,
            "min_height": null,
            "min_width": null,
            "object_fit": null,
            "object_position": null,
            "order": null,
            "overflow": null,
            "overflow_x": null,
            "overflow_y": null,
            "padding": null,
            "right": null,
            "top": null,
            "visibility": null,
            "width": null
          }
        },
        "3095d0ea1c284f06b1e2f352ff5c6c9a": {
          "model_module": "@jupyter-widgets/controls",
          "model_name": "DescriptionStyleModel",
          "model_module_version": "1.5.0",
          "state": {
            "_model_module": "@jupyter-widgets/controls",
            "_model_module_version": "1.5.0",
            "_model_name": "DescriptionStyleModel",
            "_view_count": null,
            "_view_module": "@jupyter-widgets/base",
            "_view_module_version": "1.2.0",
            "_view_name": "StyleView",
            "description_width": ""
          }
        },
        "c0e7e8b2a80145a89a5ce443e9ff3ccd": {
          "model_module": "@jupyter-widgets/controls",
          "model_name": "HBoxModel",
          "model_module_version": "1.5.0",
          "state": {
            "_dom_classes": [],
            "_model_module": "@jupyter-widgets/controls",
            "_model_module_version": "1.5.0",
            "_model_name": "HBoxModel",
            "_view_count": null,
            "_view_module": "@jupyter-widgets/controls",
            "_view_module_version": "1.5.0",
            "_view_name": "HBoxView",
            "box_style": "",
            "children": [
              "IPY_MODEL_8f5c36fa5b2c4b54b623dc3ae305bd80",
              "IPY_MODEL_d11e81f84af9429da144e47190e9ec5a",
              "IPY_MODEL_626a5c6d81cf4428afa2b1a722486c30"
            ],
            "layout": "IPY_MODEL_bc41dbf9319b45ba95fd96907ae490a3"
          }
        },
        "8f5c36fa5b2c4b54b623dc3ae305bd80": {
          "model_module": "@jupyter-widgets/controls",
          "model_name": "HTMLModel",
          "model_module_version": "1.5.0",
          "state": {
            "_dom_classes": [],
            "_model_module": "@jupyter-widgets/controls",
            "_model_module_version": "1.5.0",
            "_model_name": "HTMLModel",
            "_view_count": null,
            "_view_module": "@jupyter-widgets/controls",
            "_view_module_version": "1.5.0",
            "_view_name": "HTMLView",
            "description": "",
            "description_tooltip": null,
            "layout": "IPY_MODEL_db9a2dd89b0a4f469377f2edbeef705b",
            "placeholder": "​",
            "style": "IPY_MODEL_33f37d602d9e47bca02816f64af6d005",
            "value": "Downloading (…)okenizer_config.json: 100%"
          }
        },
        "d11e81f84af9429da144e47190e9ec5a": {
          "model_module": "@jupyter-widgets/controls",
          "model_name": "FloatProgressModel",
          "model_module_version": "1.5.0",
          "state": {
            "_dom_classes": [],
            "_model_module": "@jupyter-widgets/controls",
            "_model_module_version": "1.5.0",
            "_model_name": "FloatProgressModel",
            "_view_count": null,
            "_view_module": "@jupyter-widgets/controls",
            "_view_module_version": "1.5.0",
            "_view_name": "ProgressView",
            "bar_style": "success",
            "description": "",
            "description_tooltip": null,
            "layout": "IPY_MODEL_1ca15bff94504ef1b185894c0fda79c3",
            "max": 28,
            "min": 0,
            "orientation": "horizontal",
            "style": "IPY_MODEL_9f436697805247d386596aec66bc565d",
            "value": 28
          }
        },
        "626a5c6d81cf4428afa2b1a722486c30": {
          "model_module": "@jupyter-widgets/controls",
          "model_name": "HTMLModel",
          "model_module_version": "1.5.0",
          "state": {
            "_dom_classes": [],
            "_model_module": "@jupyter-widgets/controls",
            "_model_module_version": "1.5.0",
            "_model_name": "HTMLModel",
            "_view_count": null,
            "_view_module": "@jupyter-widgets/controls",
            "_view_module_version": "1.5.0",
            "_view_name": "HTMLView",
            "description": "",
            "description_tooltip": null,
            "layout": "IPY_MODEL_0c5368213a7f403e90f72051ca9b8147",
            "placeholder": "​",
            "style": "IPY_MODEL_d8493d9016394a69ae2e2e9732721211",
            "value": " 28.0/28.0 [00:00&lt;00:00, 366B/s]"
          }
        },
        "bc41dbf9319b45ba95fd96907ae490a3": {
          "model_module": "@jupyter-widgets/base",
          "model_name": "LayoutModel",
          "model_module_version": "1.2.0",
          "state": {
            "_model_module": "@jupyter-widgets/base",
            "_model_module_version": "1.2.0",
            "_model_name": "LayoutModel",
            "_view_count": null,
            "_view_module": "@jupyter-widgets/base",
            "_view_module_version": "1.2.0",
            "_view_name": "LayoutView",
            "align_content": null,
            "align_items": null,
            "align_self": null,
            "border": null,
            "bottom": null,
            "display": null,
            "flex": null,
            "flex_flow": null,
            "grid_area": null,
            "grid_auto_columns": null,
            "grid_auto_flow": null,
            "grid_auto_rows": null,
            "grid_column": null,
            "grid_gap": null,
            "grid_row": null,
            "grid_template_areas": null,
            "grid_template_columns": null,
            "grid_template_rows": null,
            "height": null,
            "justify_content": null,
            "justify_items": null,
            "left": null,
            "margin": null,
            "max_height": null,
            "max_width": null,
            "min_height": null,
            "min_width": null,
            "object_fit": null,
            "object_position": null,
            "order": null,
            "overflow": null,
            "overflow_x": null,
            "overflow_y": null,
            "padding": null,
            "right": null,
            "top": null,
            "visibility": null,
            "width": null
          }
        },
        "db9a2dd89b0a4f469377f2edbeef705b": {
          "model_module": "@jupyter-widgets/base",
          "model_name": "LayoutModel",
          "model_module_version": "1.2.0",
          "state": {
            "_model_module": "@jupyter-widgets/base",
            "_model_module_version": "1.2.0",
            "_model_name": "LayoutModel",
            "_view_count": null,
            "_view_module": "@jupyter-widgets/base",
            "_view_module_version": "1.2.0",
            "_view_name": "LayoutView",
            "align_content": null,
            "align_items": null,
            "align_self": null,
            "border": null,
            "bottom": null,
            "display": null,
            "flex": null,
            "flex_flow": null,
            "grid_area": null,
            "grid_auto_columns": null,
            "grid_auto_flow": null,
            "grid_auto_rows": null,
            "grid_column": null,
            "grid_gap": null,
            "grid_row": null,
            "grid_template_areas": null,
            "grid_template_columns": null,
            "grid_template_rows": null,
            "height": null,
            "justify_content": null,
            "justify_items": null,
            "left": null,
            "margin": null,
            "max_height": null,
            "max_width": null,
            "min_height": null,
            "min_width": null,
            "object_fit": null,
            "object_position": null,
            "order": null,
            "overflow": null,
            "overflow_x": null,
            "overflow_y": null,
            "padding": null,
            "right": null,
            "top": null,
            "visibility": null,
            "width": null
          }
        },
        "33f37d602d9e47bca02816f64af6d005": {
          "model_module": "@jupyter-widgets/controls",
          "model_name": "DescriptionStyleModel",
          "model_module_version": "1.5.0",
          "state": {
            "_model_module": "@jupyter-widgets/controls",
            "_model_module_version": "1.5.0",
            "_model_name": "DescriptionStyleModel",
            "_view_count": null,
            "_view_module": "@jupyter-widgets/base",
            "_view_module_version": "1.2.0",
            "_view_name": "StyleView",
            "description_width": ""
          }
        },
        "1ca15bff94504ef1b185894c0fda79c3": {
          "model_module": "@jupyter-widgets/base",
          "model_name": "LayoutModel",
          "model_module_version": "1.2.0",
          "state": {
            "_model_module": "@jupyter-widgets/base",
            "_model_module_version": "1.2.0",
            "_model_name": "LayoutModel",
            "_view_count": null,
            "_view_module": "@jupyter-widgets/base",
            "_view_module_version": "1.2.0",
            "_view_name": "LayoutView",
            "align_content": null,
            "align_items": null,
            "align_self": null,
            "border": null,
            "bottom": null,
            "display": null,
            "flex": null,
            "flex_flow": null,
            "grid_area": null,
            "grid_auto_columns": null,
            "grid_auto_flow": null,
            "grid_auto_rows": null,
            "grid_column": null,
            "grid_gap": null,
            "grid_row": null,
            "grid_template_areas": null,
            "grid_template_columns": null,
            "grid_template_rows": null,
            "height": null,
            "justify_content": null,
            "justify_items": null,
            "left": null,
            "margin": null,
            "max_height": null,
            "max_width": null,
            "min_height": null,
            "min_width": null,
            "object_fit": null,
            "object_position": null,
            "order": null,
            "overflow": null,
            "overflow_x": null,
            "overflow_y": null,
            "padding": null,
            "right": null,
            "top": null,
            "visibility": null,
            "width": null
          }
        },
        "9f436697805247d386596aec66bc565d": {
          "model_module": "@jupyter-widgets/controls",
          "model_name": "ProgressStyleModel",
          "model_module_version": "1.5.0",
          "state": {
            "_model_module": "@jupyter-widgets/controls",
            "_model_module_version": "1.5.0",
            "_model_name": "ProgressStyleModel",
            "_view_count": null,
            "_view_module": "@jupyter-widgets/base",
            "_view_module_version": "1.2.0",
            "_view_name": "StyleView",
            "bar_color": null,
            "description_width": ""
          }
        },
        "0c5368213a7f403e90f72051ca9b8147": {
          "model_module": "@jupyter-widgets/base",
          "model_name": "LayoutModel",
          "model_module_version": "1.2.0",
          "state": {
            "_model_module": "@jupyter-widgets/base",
            "_model_module_version": "1.2.0",
            "_model_name": "LayoutModel",
            "_view_count": null,
            "_view_module": "@jupyter-widgets/base",
            "_view_module_version": "1.2.0",
            "_view_name": "LayoutView",
            "align_content": null,
            "align_items": null,
            "align_self": null,
            "border": null,
            "bottom": null,
            "display": null,
            "flex": null,
            "flex_flow": null,
            "grid_area": null,
            "grid_auto_columns": null,
            "grid_auto_flow": null,
            "grid_auto_rows": null,
            "grid_column": null,
            "grid_gap": null,
            "grid_row": null,
            "grid_template_areas": null,
            "grid_template_columns": null,
            "grid_template_rows": null,
            "height": null,
            "justify_content": null,
            "justify_items": null,
            "left": null,
            "margin": null,
            "max_height": null,
            "max_width": null,
            "min_height": null,
            "min_width": null,
            "object_fit": null,
            "object_position": null,
            "order": null,
            "overflow": null,
            "overflow_x": null,
            "overflow_y": null,
            "padding": null,
            "right": null,
            "top": null,
            "visibility": null,
            "width": null
          }
        },
        "d8493d9016394a69ae2e2e9732721211": {
          "model_module": "@jupyter-widgets/controls",
          "model_name": "DescriptionStyleModel",
          "model_module_version": "1.5.0",
          "state": {
            "_model_module": "@jupyter-widgets/controls",
            "_model_module_version": "1.5.0",
            "_model_name": "DescriptionStyleModel",
            "_view_count": null,
            "_view_module": "@jupyter-widgets/base",
            "_view_module_version": "1.2.0",
            "_view_name": "StyleView",
            "description_width": ""
          }
        },
        "48c09d6beed34eb5b781624967e43e16": {
          "model_module": "@jupyter-widgets/controls",
          "model_name": "HBoxModel",
          "model_module_version": "1.5.0",
          "state": {
            "_dom_classes": [],
            "_model_module": "@jupyter-widgets/controls",
            "_model_module_version": "1.5.0",
            "_model_name": "HBoxModel",
            "_view_count": null,
            "_view_module": "@jupyter-widgets/controls",
            "_view_module_version": "1.5.0",
            "_view_name": "HBoxView",
            "box_style": "",
            "children": [
              "IPY_MODEL_eafc262c83c74b0cb862ca9af6af6439",
              "IPY_MODEL_de8ed1bac237496fa1cd998b4b5f3440",
              "IPY_MODEL_06d8be7826014bcc85764fee89745ff4"
            ],
            "layout": "IPY_MODEL_855c14e3398942c7abc2a6bfa9ab19e3"
          }
        },
        "eafc262c83c74b0cb862ca9af6af6439": {
          "model_module": "@jupyter-widgets/controls",
          "model_name": "HTMLModel",
          "model_module_version": "1.5.0",
          "state": {
            "_dom_classes": [],
            "_model_module": "@jupyter-widgets/controls",
            "_model_module_version": "1.5.0",
            "_model_name": "HTMLModel",
            "_view_count": null,
            "_view_module": "@jupyter-widgets/controls",
            "_view_module_version": "1.5.0",
            "_view_name": "HTMLView",
            "description": "",
            "description_tooltip": null,
            "layout": "IPY_MODEL_fab5b4b804d5402f9f89619888297baf",
            "placeholder": "​",
            "style": "IPY_MODEL_43b18c717fb745f5b73e583c0b1f631d",
            "value": "Downloading (…)lve/main/config.json: 100%"
          }
        },
        "de8ed1bac237496fa1cd998b4b5f3440": {
          "model_module": "@jupyter-widgets/controls",
          "model_name": "FloatProgressModel",
          "model_module_version": "1.5.0",
          "state": {
            "_dom_classes": [],
            "_model_module": "@jupyter-widgets/controls",
            "_model_module_version": "1.5.0",
            "_model_name": "FloatProgressModel",
            "_view_count": null,
            "_view_module": "@jupyter-widgets/controls",
            "_view_module_version": "1.5.0",
            "_view_name": "ProgressView",
            "bar_style": "success",
            "description": "",
            "description_tooltip": null,
            "layout": "IPY_MODEL_b967be001b00452ca27a61f13e0dda9f",
            "max": 570,
            "min": 0,
            "orientation": "horizontal",
            "style": "IPY_MODEL_b25dc17dee2d4d7382c1899d5c4f0c39",
            "value": 570
          }
        },
        "06d8be7826014bcc85764fee89745ff4": {
          "model_module": "@jupyter-widgets/controls",
          "model_name": "HTMLModel",
          "model_module_version": "1.5.0",
          "state": {
            "_dom_classes": [],
            "_model_module": "@jupyter-widgets/controls",
            "_model_module_version": "1.5.0",
            "_model_name": "HTMLModel",
            "_view_count": null,
            "_view_module": "@jupyter-widgets/controls",
            "_view_module_version": "1.5.0",
            "_view_name": "HTMLView",
            "description": "",
            "description_tooltip": null,
            "layout": "IPY_MODEL_7d8d46a699c94187a7e0b2a30fce6854",
            "placeholder": "​",
            "style": "IPY_MODEL_40e182e2765a457ca8261180fb312448",
            "value": " 570/570 [00:00&lt;00:00, 9.63kB/s]"
          }
        },
        "855c14e3398942c7abc2a6bfa9ab19e3": {
          "model_module": "@jupyter-widgets/base",
          "model_name": "LayoutModel",
          "model_module_version": "1.2.0",
          "state": {
            "_model_module": "@jupyter-widgets/base",
            "_model_module_version": "1.2.0",
            "_model_name": "LayoutModel",
            "_view_count": null,
            "_view_module": "@jupyter-widgets/base",
            "_view_module_version": "1.2.0",
            "_view_name": "LayoutView",
            "align_content": null,
            "align_items": null,
            "align_self": null,
            "border": null,
            "bottom": null,
            "display": null,
            "flex": null,
            "flex_flow": null,
            "grid_area": null,
            "grid_auto_columns": null,
            "grid_auto_flow": null,
            "grid_auto_rows": null,
            "grid_column": null,
            "grid_gap": null,
            "grid_row": null,
            "grid_template_areas": null,
            "grid_template_columns": null,
            "grid_template_rows": null,
            "height": null,
            "justify_content": null,
            "justify_items": null,
            "left": null,
            "margin": null,
            "max_height": null,
            "max_width": null,
            "min_height": null,
            "min_width": null,
            "object_fit": null,
            "object_position": null,
            "order": null,
            "overflow": null,
            "overflow_x": null,
            "overflow_y": null,
            "padding": null,
            "right": null,
            "top": null,
            "visibility": null,
            "width": null
          }
        },
        "fab5b4b804d5402f9f89619888297baf": {
          "model_module": "@jupyter-widgets/base",
          "model_name": "LayoutModel",
          "model_module_version": "1.2.0",
          "state": {
            "_model_module": "@jupyter-widgets/base",
            "_model_module_version": "1.2.0",
            "_model_name": "LayoutModel",
            "_view_count": null,
            "_view_module": "@jupyter-widgets/base",
            "_view_module_version": "1.2.0",
            "_view_name": "LayoutView",
            "align_content": null,
            "align_items": null,
            "align_self": null,
            "border": null,
            "bottom": null,
            "display": null,
            "flex": null,
            "flex_flow": null,
            "grid_area": null,
            "grid_auto_columns": null,
            "grid_auto_flow": null,
            "grid_auto_rows": null,
            "grid_column": null,
            "grid_gap": null,
            "grid_row": null,
            "grid_template_areas": null,
            "grid_template_columns": null,
            "grid_template_rows": null,
            "height": null,
            "justify_content": null,
            "justify_items": null,
            "left": null,
            "margin": null,
            "max_height": null,
            "max_width": null,
            "min_height": null,
            "min_width": null,
            "object_fit": null,
            "object_position": null,
            "order": null,
            "overflow": null,
            "overflow_x": null,
            "overflow_y": null,
            "padding": null,
            "right": null,
            "top": null,
            "visibility": null,
            "width": null
          }
        },
        "43b18c717fb745f5b73e583c0b1f631d": {
          "model_module": "@jupyter-widgets/controls",
          "model_name": "DescriptionStyleModel",
          "model_module_version": "1.5.0",
          "state": {
            "_model_module": "@jupyter-widgets/controls",
            "_model_module_version": "1.5.0",
            "_model_name": "DescriptionStyleModel",
            "_view_count": null,
            "_view_module": "@jupyter-widgets/base",
            "_view_module_version": "1.2.0",
            "_view_name": "StyleView",
            "description_width": ""
          }
        },
        "b967be001b00452ca27a61f13e0dda9f": {
          "model_module": "@jupyter-widgets/base",
          "model_name": "LayoutModel",
          "model_module_version": "1.2.0",
          "state": {
            "_model_module": "@jupyter-widgets/base",
            "_model_module_version": "1.2.0",
            "_model_name": "LayoutModel",
            "_view_count": null,
            "_view_module": "@jupyter-widgets/base",
            "_view_module_version": "1.2.0",
            "_view_name": "LayoutView",
            "align_content": null,
            "align_items": null,
            "align_self": null,
            "border": null,
            "bottom": null,
            "display": null,
            "flex": null,
            "flex_flow": null,
            "grid_area": null,
            "grid_auto_columns": null,
            "grid_auto_flow": null,
            "grid_auto_rows": null,
            "grid_column": null,
            "grid_gap": null,
            "grid_row": null,
            "grid_template_areas": null,
            "grid_template_columns": null,
            "grid_template_rows": null,
            "height": null,
            "justify_content": null,
            "justify_items": null,
            "left": null,
            "margin": null,
            "max_height": null,
            "max_width": null,
            "min_height": null,
            "min_width": null,
            "object_fit": null,
            "object_position": null,
            "order": null,
            "overflow": null,
            "overflow_x": null,
            "overflow_y": null,
            "padding": null,
            "right": null,
            "top": null,
            "visibility": null,
            "width": null
          }
        },
        "b25dc17dee2d4d7382c1899d5c4f0c39": {
          "model_module": "@jupyter-widgets/controls",
          "model_name": "ProgressStyleModel",
          "model_module_version": "1.5.0",
          "state": {
            "_model_module": "@jupyter-widgets/controls",
            "_model_module_version": "1.5.0",
            "_model_name": "ProgressStyleModel",
            "_view_count": null,
            "_view_module": "@jupyter-widgets/base",
            "_view_module_version": "1.2.0",
            "_view_name": "StyleView",
            "bar_color": null,
            "description_width": ""
          }
        },
        "7d8d46a699c94187a7e0b2a30fce6854": {
          "model_module": "@jupyter-widgets/base",
          "model_name": "LayoutModel",
          "model_module_version": "1.2.0",
          "state": {
            "_model_module": "@jupyter-widgets/base",
            "_model_module_version": "1.2.0",
            "_model_name": "LayoutModel",
            "_view_count": null,
            "_view_module": "@jupyter-widgets/base",
            "_view_module_version": "1.2.0",
            "_view_name": "LayoutView",
            "align_content": null,
            "align_items": null,
            "align_self": null,
            "border": null,
            "bottom": null,
            "display": null,
            "flex": null,
            "flex_flow": null,
            "grid_area": null,
            "grid_auto_columns": null,
            "grid_auto_flow": null,
            "grid_auto_rows": null,
            "grid_column": null,
            "grid_gap": null,
            "grid_row": null,
            "grid_template_areas": null,
            "grid_template_columns": null,
            "grid_template_rows": null,
            "height": null,
            "justify_content": null,
            "justify_items": null,
            "left": null,
            "margin": null,
            "max_height": null,
            "max_width": null,
            "min_height": null,
            "min_width": null,
            "object_fit": null,
            "object_position": null,
            "order": null,
            "overflow": null,
            "overflow_x": null,
            "overflow_y": null,
            "padding": null,
            "right": null,
            "top": null,
            "visibility": null,
            "width": null
          }
        },
        "40e182e2765a457ca8261180fb312448": {
          "model_module": "@jupyter-widgets/controls",
          "model_name": "DescriptionStyleModel",
          "model_module_version": "1.5.0",
          "state": {
            "_model_module": "@jupyter-widgets/controls",
            "_model_module_version": "1.5.0",
            "_model_name": "DescriptionStyleModel",
            "_view_count": null,
            "_view_module": "@jupyter-widgets/base",
            "_view_module_version": "1.2.0",
            "_view_name": "StyleView",
            "description_width": ""
          }
        },
        "d2db086e2a734754a13ec02207aa00bb": {
          "model_module": "@jupyter-widgets/controls",
          "model_name": "HBoxModel",
          "model_module_version": "1.5.0",
          "state": {
            "_dom_classes": [],
            "_model_module": "@jupyter-widgets/controls",
            "_model_module_version": "1.5.0",
            "_model_name": "HBoxModel",
            "_view_count": null,
            "_view_module": "@jupyter-widgets/controls",
            "_view_module_version": "1.5.0",
            "_view_name": "HBoxView",
            "box_style": "",
            "children": [
              "IPY_MODEL_49f7bb20e20544439c55604205397778",
              "IPY_MODEL_a89bf15e12144640a02211e3fe64fc84",
              "IPY_MODEL_9e352dc47a28433bbdd5766baa8de7e3"
            ],
            "layout": "IPY_MODEL_625910a147e743bf9e083983d3173509"
          }
        },
        "49f7bb20e20544439c55604205397778": {
          "model_module": "@jupyter-widgets/controls",
          "model_name": "HTMLModel",
          "model_module_version": "1.5.0",
          "state": {
            "_dom_classes": [],
            "_model_module": "@jupyter-widgets/controls",
            "_model_module_version": "1.5.0",
            "_model_name": "HTMLModel",
            "_view_count": null,
            "_view_module": "@jupyter-widgets/controls",
            "_view_module_version": "1.5.0",
            "_view_name": "HTMLView",
            "description": "",
            "description_tooltip": null,
            "layout": "IPY_MODEL_ac6cff1de3284b2e97fc3e1c78e17808",
            "placeholder": "​",
            "style": "IPY_MODEL_697cbad2a33d4606b8fef2ad4c804d17",
            "value": "Downloading pytorch_model.bin: 100%"
          }
        },
        "a89bf15e12144640a02211e3fe64fc84": {
          "model_module": "@jupyter-widgets/controls",
          "model_name": "FloatProgressModel",
          "model_module_version": "1.5.0",
          "state": {
            "_dom_classes": [],
            "_model_module": "@jupyter-widgets/controls",
            "_model_module_version": "1.5.0",
            "_model_name": "FloatProgressModel",
            "_view_count": null,
            "_view_module": "@jupyter-widgets/controls",
            "_view_module_version": "1.5.0",
            "_view_name": "ProgressView",
            "bar_style": "success",
            "description": "",
            "description_tooltip": null,
            "layout": "IPY_MODEL_99574a811f09421dadd22718344cd0d9",
            "max": 440473133,
            "min": 0,
            "orientation": "horizontal",
            "style": "IPY_MODEL_9ca37989e5d6461693b6f675e850428d",
            "value": 440473133
          }
        },
        "9e352dc47a28433bbdd5766baa8de7e3": {
          "model_module": "@jupyter-widgets/controls",
          "model_name": "HTMLModel",
          "model_module_version": "1.5.0",
          "state": {
            "_dom_classes": [],
            "_model_module": "@jupyter-widgets/controls",
            "_model_module_version": "1.5.0",
            "_model_name": "HTMLModel",
            "_view_count": null,
            "_view_module": "@jupyter-widgets/controls",
            "_view_module_version": "1.5.0",
            "_view_name": "HTMLView",
            "description": "",
            "description_tooltip": null,
            "layout": "IPY_MODEL_1ae3f862f18d4ed8a780b368db08744c",
            "placeholder": "​",
            "style": "IPY_MODEL_43984a359d8a441793972522ad44ca32",
            "value": " 440M/440M [00:02&lt;00:00, 246MB/s]"
          }
        },
        "625910a147e743bf9e083983d3173509": {
          "model_module": "@jupyter-widgets/base",
          "model_name": "LayoutModel",
          "model_module_version": "1.2.0",
          "state": {
            "_model_module": "@jupyter-widgets/base",
            "_model_module_version": "1.2.0",
            "_model_name": "LayoutModel",
            "_view_count": null,
            "_view_module": "@jupyter-widgets/base",
            "_view_module_version": "1.2.0",
            "_view_name": "LayoutView",
            "align_content": null,
            "align_items": null,
            "align_self": null,
            "border": null,
            "bottom": null,
            "display": null,
            "flex": null,
            "flex_flow": null,
            "grid_area": null,
            "grid_auto_columns": null,
            "grid_auto_flow": null,
            "grid_auto_rows": null,
            "grid_column": null,
            "grid_gap": null,
            "grid_row": null,
            "grid_template_areas": null,
            "grid_template_columns": null,
            "grid_template_rows": null,
            "height": null,
            "justify_content": null,
            "justify_items": null,
            "left": null,
            "margin": null,
            "max_height": null,
            "max_width": null,
            "min_height": null,
            "min_width": null,
            "object_fit": null,
            "object_position": null,
            "order": null,
            "overflow": null,
            "overflow_x": null,
            "overflow_y": null,
            "padding": null,
            "right": null,
            "top": null,
            "visibility": null,
            "width": null
          }
        },
        "ac6cff1de3284b2e97fc3e1c78e17808": {
          "model_module": "@jupyter-widgets/base",
          "model_name": "LayoutModel",
          "model_module_version": "1.2.0",
          "state": {
            "_model_module": "@jupyter-widgets/base",
            "_model_module_version": "1.2.0",
            "_model_name": "LayoutModel",
            "_view_count": null,
            "_view_module": "@jupyter-widgets/base",
            "_view_module_version": "1.2.0",
            "_view_name": "LayoutView",
            "align_content": null,
            "align_items": null,
            "align_self": null,
            "border": null,
            "bottom": null,
            "display": null,
            "flex": null,
            "flex_flow": null,
            "grid_area": null,
            "grid_auto_columns": null,
            "grid_auto_flow": null,
            "grid_auto_rows": null,
            "grid_column": null,
            "grid_gap": null,
            "grid_row": null,
            "grid_template_areas": null,
            "grid_template_columns": null,
            "grid_template_rows": null,
            "height": null,
            "justify_content": null,
            "justify_items": null,
            "left": null,
            "margin": null,
            "max_height": null,
            "max_width": null,
            "min_height": null,
            "min_width": null,
            "object_fit": null,
            "object_position": null,
            "order": null,
            "overflow": null,
            "overflow_x": null,
            "overflow_y": null,
            "padding": null,
            "right": null,
            "top": null,
            "visibility": null,
            "width": null
          }
        },
        "697cbad2a33d4606b8fef2ad4c804d17": {
          "model_module": "@jupyter-widgets/controls",
          "model_name": "DescriptionStyleModel",
          "model_module_version": "1.5.0",
          "state": {
            "_model_module": "@jupyter-widgets/controls",
            "_model_module_version": "1.5.0",
            "_model_name": "DescriptionStyleModel",
            "_view_count": null,
            "_view_module": "@jupyter-widgets/base",
            "_view_module_version": "1.2.0",
            "_view_name": "StyleView",
            "description_width": ""
          }
        },
        "99574a811f09421dadd22718344cd0d9": {
          "model_module": "@jupyter-widgets/base",
          "model_name": "LayoutModel",
          "model_module_version": "1.2.0",
          "state": {
            "_model_module": "@jupyter-widgets/base",
            "_model_module_version": "1.2.0",
            "_model_name": "LayoutModel",
            "_view_count": null,
            "_view_module": "@jupyter-widgets/base",
            "_view_module_version": "1.2.0",
            "_view_name": "LayoutView",
            "align_content": null,
            "align_items": null,
            "align_self": null,
            "border": null,
            "bottom": null,
            "display": null,
            "flex": null,
            "flex_flow": null,
            "grid_area": null,
            "grid_auto_columns": null,
            "grid_auto_flow": null,
            "grid_auto_rows": null,
            "grid_column": null,
            "grid_gap": null,
            "grid_row": null,
            "grid_template_areas": null,
            "grid_template_columns": null,
            "grid_template_rows": null,
            "height": null,
            "justify_content": null,
            "justify_items": null,
            "left": null,
            "margin": null,
            "max_height": null,
            "max_width": null,
            "min_height": null,
            "min_width": null,
            "object_fit": null,
            "object_position": null,
            "order": null,
            "overflow": null,
            "overflow_x": null,
            "overflow_y": null,
            "padding": null,
            "right": null,
            "top": null,
            "visibility": null,
            "width": null
          }
        },
        "9ca37989e5d6461693b6f675e850428d": {
          "model_module": "@jupyter-widgets/controls",
          "model_name": "ProgressStyleModel",
          "model_module_version": "1.5.0",
          "state": {
            "_model_module": "@jupyter-widgets/controls",
            "_model_module_version": "1.5.0",
            "_model_name": "ProgressStyleModel",
            "_view_count": null,
            "_view_module": "@jupyter-widgets/base",
            "_view_module_version": "1.2.0",
            "_view_name": "StyleView",
            "bar_color": null,
            "description_width": ""
          }
        },
        "1ae3f862f18d4ed8a780b368db08744c": {
          "model_module": "@jupyter-widgets/base",
          "model_name": "LayoutModel",
          "model_module_version": "1.2.0",
          "state": {
            "_model_module": "@jupyter-widgets/base",
            "_model_module_version": "1.2.0",
            "_model_name": "LayoutModel",
            "_view_count": null,
            "_view_module": "@jupyter-widgets/base",
            "_view_module_version": "1.2.0",
            "_view_name": "LayoutView",
            "align_content": null,
            "align_items": null,
            "align_self": null,
            "border": null,
            "bottom": null,
            "display": null,
            "flex": null,
            "flex_flow": null,
            "grid_area": null,
            "grid_auto_columns": null,
            "grid_auto_flow": null,
            "grid_auto_rows": null,
            "grid_column": null,
            "grid_gap": null,
            "grid_row": null,
            "grid_template_areas": null,
            "grid_template_columns": null,
            "grid_template_rows": null,
            "height": null,
            "justify_content": null,
            "justify_items": null,
            "left": null,
            "margin": null,
            "max_height": null,
            "max_width": null,
            "min_height": null,
            "min_width": null,
            "object_fit": null,
            "object_position": null,
            "order": null,
            "overflow": null,
            "overflow_x": null,
            "overflow_y": null,
            "padding": null,
            "right": null,
            "top": null,
            "visibility": null,
            "width": null
          }
        },
        "43984a359d8a441793972522ad44ca32": {
          "model_module": "@jupyter-widgets/controls",
          "model_name": "DescriptionStyleModel",
          "model_module_version": "1.5.0",
          "state": {
            "_model_module": "@jupyter-widgets/controls",
            "_model_module_version": "1.5.0",
            "_model_name": "DescriptionStyleModel",
            "_view_count": null,
            "_view_module": "@jupyter-widgets/base",
            "_view_module_version": "1.2.0",
            "_view_name": "StyleView",
            "description_width": ""
          }
        }
      }
    }
  },
  "cells": [
    {
      "cell_type": "markdown",
      "metadata": {
        "id": "e0xlmN_2TH95"
      },
      "source": [
        "# Setting Environment"
      ]
    },
    {
      "cell_type": "code",
      "metadata": {
        "id": "S6eOgkbETM4r",
        "colab": {
          "base_uri": "https://localhost:8080/"
        },
        "outputId": "acc2cff9-2d8f-4a3d-8aad-251c78666d22"
      },
      "source": [
        "!pip install transformers"
      ],
      "execution_count": null,
      "outputs": [
        {
          "output_type": "stream",
          "name": "stdout",
          "text": [
            "Looking in indexes: https://pypi.org/simple, https://us-python.pkg.dev/colab-wheels/public/simple/\n",
            "Collecting transformers\n",
            "  Downloading transformers-4.29.1-py3-none-any.whl (7.1 MB)\n",
            "\u001b[2K     \u001b[90m━━━━━━━━━━━━━━━━━━━━━━━━━━━━━━━━━━━━━━━━\u001b[0m \u001b[32m7.1/7.1 MB\u001b[0m \u001b[31m60.6 MB/s\u001b[0m eta \u001b[36m0:00:00\u001b[0m\n",
            "\u001b[?25hRequirement already satisfied: filelock in /usr/local/lib/python3.10/dist-packages (from transformers) (3.12.0)\n",
            "Collecting huggingface-hub<1.0,>=0.14.1 (from transformers)\n",
            "  Downloading huggingface_hub-0.14.1-py3-none-any.whl (224 kB)\n",
            "\u001b[2K     \u001b[90m━━━━━━━━━━━━━━━━━━━━━━━━━━━━━━━━━━━━━━\u001b[0m \u001b[32m224.5/224.5 kB\u001b[0m \u001b[31m18.5 MB/s\u001b[0m eta \u001b[36m0:00:00\u001b[0m\n",
            "\u001b[?25hRequirement already satisfied: numpy>=1.17 in /usr/local/lib/python3.10/dist-packages (from transformers) (1.22.4)\n",
            "Requirement already satisfied: packaging>=20.0 in /usr/local/lib/python3.10/dist-packages (from transformers) (23.1)\n",
            "Requirement already satisfied: pyyaml>=5.1 in /usr/local/lib/python3.10/dist-packages (from transformers) (6.0)\n",
            "Requirement already satisfied: regex!=2019.12.17 in /usr/local/lib/python3.10/dist-packages (from transformers) (2022.10.31)\n",
            "Requirement already satisfied: requests in /usr/local/lib/python3.10/dist-packages (from transformers) (2.27.1)\n",
            "Collecting tokenizers!=0.11.3,<0.14,>=0.11.1 (from transformers)\n",
            "  Downloading tokenizers-0.13.3-cp310-cp310-manylinux_2_17_x86_64.manylinux2014_x86_64.whl (7.8 MB)\n",
            "\u001b[2K     \u001b[90m━━━━━━━━━━━━━━━━━━━━━━━━━━━━━━━━━━━━━━━━\u001b[0m \u001b[32m7.8/7.8 MB\u001b[0m \u001b[31m74.3 MB/s\u001b[0m eta \u001b[36m0:00:00\u001b[0m\n",
            "\u001b[?25hRequirement already satisfied: tqdm>=4.27 in /usr/local/lib/python3.10/dist-packages (from transformers) (4.65.0)\n",
            "Requirement already satisfied: fsspec in /usr/local/lib/python3.10/dist-packages (from huggingface-hub<1.0,>=0.14.1->transformers) (2023.4.0)\n",
            "Requirement already satisfied: typing-extensions>=3.7.4.3 in /usr/local/lib/python3.10/dist-packages (from huggingface-hub<1.0,>=0.14.1->transformers) (4.5.0)\n",
            "Requirement already satisfied: urllib3<1.27,>=1.21.1 in /usr/local/lib/python3.10/dist-packages (from requests->transformers) (1.26.15)\n",
            "Requirement already satisfied: certifi>=2017.4.17 in /usr/local/lib/python3.10/dist-packages (from requests->transformers) (2022.12.7)\n",
            "Requirement already satisfied: charset-normalizer~=2.0.0 in /usr/local/lib/python3.10/dist-packages (from requests->transformers) (2.0.12)\n",
            "Requirement already satisfied: idna<4,>=2.5 in /usr/local/lib/python3.10/dist-packages (from requests->transformers) (3.4)\n",
            "Installing collected packages: tokenizers, huggingface-hub, transformers\n",
            "Successfully installed huggingface-hub-0.14.1 tokenizers-0.13.3 transformers-4.29.1\n"
          ]
        }
      ]
    },
    {
      "cell_type": "code",
      "metadata": {
        "execution": {
          "iopub.status.busy": "2021-05-22T18:22:36.396454Z",
          "iopub.execute_input": "2021-05-22T18:22:36.396768Z",
          "iopub.status.idle": "2021-05-22T18:22:36.412405Z",
          "shell.execute_reply.started": "2021-05-22T18:22:36.396741Z",
          "shell.execute_reply": "2021-05-22T18:22:36.411362Z"
        },
        "trusted": true,
        "id": "ZYRlkywfTH98",
        "colab": {
          "base_uri": "https://localhost:8080/"
        },
        "outputId": "6103ccd3-3586-411e-8e26-22ebaa1073bd"
      },
      "source": [
        "import sys\n",
        "\n",
        "from google.colab import drive\n",
        "drive.mount('/content/gdrive')"
      ],
      "execution_count": null,
      "outputs": [
        {
          "output_type": "stream",
          "name": "stdout",
          "text": [
            "Mounted at /content/gdrive\n"
          ]
        }
      ]
    },
    {
      "cell_type": "markdown",
      "metadata": {
        "id": "dyqsMcL6TH98"
      },
      "source": [
        "# Utils Functions"
      ]
    },
    {
      "cell_type": "code",
      "metadata": {
        "execution": {
          "iopub.status.busy": "2021-05-22T18:22:36.413926Z",
          "iopub.execute_input": "2021-05-22T18:22:36.414320Z",
          "iopub.status.idle": "2021-05-22T18:22:36.738700Z",
          "shell.execute_reply.started": "2021-05-22T18:22:36.414279Z",
          "shell.execute_reply": "2021-05-22T18:22:36.737913Z"
        },
        "trusted": true,
        "id": "jUiwn5QfTH99"
      },
      "source": [
        "import torch\n",
        "\n",
        "SEED = 1111\n",
        "torch.manual_seed(SEED)\n",
        "torch.backends.cudnn.deterministic = True"
      ],
      "execution_count": null,
      "outputs": []
    },
    {
      "cell_type": "code",
      "metadata": {
        "execution": {
          "iopub.status.busy": "2021-05-22T18:22:36.741101Z",
          "iopub.execute_input": "2021-05-22T18:22:36.741342Z",
          "iopub.status.idle": "2021-05-22T18:22:39.816045Z",
          "shell.execute_reply.started": "2021-05-22T18:22:36.741317Z",
          "shell.execute_reply": "2021-05-22T18:22:39.815184Z"
        },
        "trusted": true,
        "id": "A6fmllOKTH99",
        "colab": {
          "base_uri": "https://localhost:8080/",
          "height": 113,
          "referenced_widgets": [
            "b286e888fc7041daba482115b3b9f34a",
            "820dd5923e624ed6b3d3d3c7982a0054",
            "31bcb929abbf4b74967f2cd4641eee2e",
            "dea8fd554c4c4f6cacb65fadeaaa7467",
            "9215dc9f07ba4014bcb4f820a9f82e4e",
            "9c1d0a4e07ba40a1a3ba17246e459111",
            "df5b8b68d6fd48e3aa38876d1f8bbbd0",
            "30eff2ca79924aa481a2d434f2923a37",
            "429d5bd048ff4eedbf130936afc537a7",
            "c30e12a15e134618b6595d7da2238d9c",
            "3095d0ea1c284f06b1e2f352ff5c6c9a",
            "c0e7e8b2a80145a89a5ce443e9ff3ccd",
            "8f5c36fa5b2c4b54b623dc3ae305bd80",
            "d11e81f84af9429da144e47190e9ec5a",
            "626a5c6d81cf4428afa2b1a722486c30",
            "bc41dbf9319b45ba95fd96907ae490a3",
            "db9a2dd89b0a4f469377f2edbeef705b",
            "33f37d602d9e47bca02816f64af6d005",
            "1ca15bff94504ef1b185894c0fda79c3",
            "9f436697805247d386596aec66bc565d",
            "0c5368213a7f403e90f72051ca9b8147",
            "d8493d9016394a69ae2e2e9732721211",
            "48c09d6beed34eb5b781624967e43e16",
            "eafc262c83c74b0cb862ca9af6af6439",
            "de8ed1bac237496fa1cd998b4b5f3440",
            "06d8be7826014bcc85764fee89745ff4",
            "855c14e3398942c7abc2a6bfa9ab19e3",
            "fab5b4b804d5402f9f89619888297baf",
            "43b18c717fb745f5b73e583c0b1f631d",
            "b967be001b00452ca27a61f13e0dda9f",
            "b25dc17dee2d4d7382c1899d5c4f0c39",
            "7d8d46a699c94187a7e0b2a30fce6854",
            "40e182e2765a457ca8261180fb312448"
          ]
        },
        "outputId": "a5eb71ba-3719-4561-f8b9-3a850fc04e91"
      },
      "source": [
        "from transformers import BertTokenizer\n",
        "\n",
        "tokenizer = BertTokenizer.from_pretrained('bert-base-uncased')"
      ],
      "execution_count": null,
      "outputs": [
        {
          "output_type": "display_data",
          "data": {
            "text/plain": [
              "Downloading (…)solve/main/vocab.txt:   0%|          | 0.00/232k [00:00<?, ?B/s]"
            ],
            "application/vnd.jupyter.widget-view+json": {
              "version_major": 2,
              "version_minor": 0,
              "model_id": "b286e888fc7041daba482115b3b9f34a"
            }
          },
          "metadata": {}
        },
        {
          "output_type": "display_data",
          "data": {
            "text/plain": [
              "Downloading (…)okenizer_config.json:   0%|          | 0.00/28.0 [00:00<?, ?B/s]"
            ],
            "application/vnd.jupyter.widget-view+json": {
              "version_major": 2,
              "version_minor": 0,
              "model_id": "c0e7e8b2a80145a89a5ce443e9ff3ccd"
            }
          },
          "metadata": {}
        },
        {
          "output_type": "display_data",
          "data": {
            "text/plain": [
              "Downloading (…)lve/main/config.json:   0%|          | 0.00/570 [00:00<?, ?B/s]"
            ],
            "application/vnd.jupyter.widget-view+json": {
              "version_major": 2,
              "version_minor": 0,
              "model_id": "48c09d6beed34eb5b781624967e43e16"
            }
          },
          "metadata": {}
        }
      ]
    },
    {
      "cell_type": "code",
      "metadata": {
        "execution": {
          "iopub.status.busy": "2021-05-22T18:22:39.847826Z",
          "iopub.execute_input": "2021-05-22T18:22:39.848458Z",
          "iopub.status.idle": "2021-05-22T18:22:39.856324Z",
          "shell.execute_reply.started": "2021-05-22T18:22:39.848417Z",
          "shell.execute_reply": "2021-05-22T18:22:39.855337Z"
        },
        "trusted": true,
        "id": "dmwYflD8TH9-",
        "outputId": "2d44d8d3-1f87-4f65-b49c-87950be0fe6a",
        "colab": {
          "base_uri": "https://localhost:8080/"
        }
      },
      "source": [
        "init_token = tokenizer.cls_token\n",
        "eos_token = tokenizer.sep_token\n",
        "pad_token = tokenizer.pad_token\n",
        "unk_token = tokenizer.unk_token\n",
        "\n",
        "print(init_token, eos_token, pad_token, unk_token)"
      ],
      "execution_count": null,
      "outputs": [
        {
          "output_type": "stream",
          "name": "stdout",
          "text": [
            "[CLS] [SEP] [PAD] [UNK]\n"
          ]
        }
      ]
    },
    {
      "cell_type": "code",
      "metadata": {
        "execution": {
          "iopub.status.busy": "2021-05-22T18:22:39.857905Z",
          "iopub.execute_input": "2021-05-22T18:22:39.858605Z",
          "iopub.status.idle": "2021-05-22T18:22:39.865416Z",
          "shell.execute_reply.started": "2021-05-22T18:22:39.858568Z",
          "shell.execute_reply": "2021-05-22T18:22:39.864368Z"
        },
        "trusted": true,
        "id": "qUcbVwr2TH9_",
        "outputId": "b69512f3-bd15-4895-e3c8-1a4810fc53c2",
        "colab": {
          "base_uri": "https://localhost:8080/"
        }
      },
      "source": [
        "init_token_idx = tokenizer.cls_token_id\n",
        "eos_token_idx = tokenizer.sep_token_id\n",
        "pad_token_idx = tokenizer.pad_token_id\n",
        "unk_token_idx = tokenizer.unk_token_id\n",
        "\n",
        "print(init_token_idx, eos_token_idx, pad_token_idx, unk_token_idx)"
      ],
      "execution_count": null,
      "outputs": [
        {
          "output_type": "stream",
          "name": "stdout",
          "text": [
            "101 102 0 100\n"
          ]
        }
      ]
    },
    {
      "cell_type": "code",
      "metadata": {
        "execution": {
          "iopub.status.busy": "2021-05-22T18:22:39.866788Z",
          "iopub.execute_input": "2021-05-22T18:22:39.867411Z",
          "iopub.status.idle": "2021-05-22T18:22:39.875804Z",
          "shell.execute_reply.started": "2021-05-22T18:22:39.867372Z",
          "shell.execute_reply": "2021-05-22T18:22:39.874848Z"
        },
        "trusted": true,
        "id": "fHo--jhxTH9_",
        "outputId": "88851021-1902-4123-d920-519e0caa24b5",
        "colab": {
          "base_uri": "https://localhost:8080/"
        }
      },
      "source": [
        "max_input_length = tokenizer.max_model_input_sizes['bert-base-uncased']\n",
        "\n",
        "print(max_input_length)\n",
        "\n",
        "max_input_length = 180"
      ],
      "execution_count": null,
      "outputs": [
        {
          "output_type": "stream",
          "name": "stdout",
          "text": [
            "512\n"
          ]
        }
      ]
    },
    {
      "cell_type": "code",
      "metadata": {
        "execution": {
          "iopub.status.busy": "2021-05-22T18:22:39.877189Z",
          "iopub.execute_input": "2021-05-22T18:22:39.877717Z",
          "iopub.status.idle": "2021-05-22T18:22:39.884514Z",
          "shell.execute_reply.started": "2021-05-22T18:22:39.877674Z",
          "shell.execute_reply": "2021-05-22T18:22:39.883641Z"
        },
        "trusted": true,
        "id": "83VWXLVLTH-A"
      },
      "source": [
        "def tokenize_bert(sentence):\n",
        "    tokens = tokenizer.tokenize(sentence) \n",
        "    return tokens"
      ],
      "execution_count": null,
      "outputs": []
    },
    {
      "cell_type": "code",
      "metadata": {
        "execution": {
          "iopub.status.busy": "2021-05-22T18:22:39.885989Z",
          "iopub.execute_input": "2021-05-22T18:22:39.886398Z",
          "iopub.status.idle": "2021-05-22T18:22:39.894256Z",
          "shell.execute_reply.started": "2021-05-22T18:22:39.886361Z",
          "shell.execute_reply": "2021-05-22T18:22:39.893338Z"
        },
        "trusted": true,
        "id": "DYvGYvORTH-A"
      },
      "source": [
        "def split_and_cut(sentence):\n",
        "    tokens = sentence.strip().split(\" \")\n",
        "    tokens = tokens[:max_input_length-1]\n",
        "    return tokens"
      ],
      "execution_count": null,
      "outputs": []
    },
    {
      "cell_type": "code",
      "metadata": {
        "execution": {
          "iopub.status.busy": "2021-05-22T18:22:39.895637Z",
          "iopub.execute_input": "2021-05-22T18:22:39.896302Z",
          "iopub.status.idle": "2021-05-22T18:22:39.904166Z",
          "shell.execute_reply.started": "2021-05-22T18:22:39.896263Z",
          "shell.execute_reply": "2021-05-22T18:22:39.903403Z"
        },
        "trusted": true,
        "id": "6K4QtCsQTH-A"
      },
      "source": [
        "def trim_sentence(sent):\n",
        "    try:\n",
        "        sent = sent.split()\n",
        "        sent = sent[:90]\n",
        "        return \" \".join(sent)\n",
        "    except:\n",
        "        return sent"
      ],
      "execution_count": null,
      "outputs": []
    },
    {
      "cell_type": "markdown",
      "metadata": {
        "id": "BHqpAXipTH-B"
      },
      "source": [
        "# Download Dataset"
      ]
    },
    {
      "cell_type": "code",
      "metadata": {
        "execution": {
          "iopub.status.busy": "2021-05-22T18:22:39.905621Z",
          "iopub.execute_input": "2021-05-22T18:22:39.906075Z",
          "iopub.status.idle": "2021-05-22T18:22:51.266832Z",
          "shell.execute_reply.started": "2021-05-22T18:22:39.906039Z",
          "shell.execute_reply": "2021-05-22T18:22:51.265794Z"
        },
        "trusted": true,
        "id": "GI2wzJciTH-B",
        "outputId": "7dc2f5c1-3330-4c77-a054-553ec666275b",
        "colab": {
          "base_uri": "https://localhost:8080/"
        }
      },
      "source": [
        "!wget  https://cims.nyu.edu/~sbowman/multinli/multinli_1.0.zip"
      ],
      "execution_count": null,
      "outputs": [
        {
          "output_type": "stream",
          "name": "stdout",
          "text": [
            "--2023-05-13 13:03:11--  https://cims.nyu.edu/~sbowman/multinli/multinli_1.0.zip\n",
            "Resolving cims.nyu.edu (cims.nyu.edu)... 216.165.22.202\n",
            "Connecting to cims.nyu.edu (cims.nyu.edu)|216.165.22.202|:443... connected.\n",
            "HTTP request sent, awaiting response... 200 OK\n",
            "Length: 226850426 (216M) [application/zip]\n",
            "Saving to: ‘multinli_1.0.zip’\n",
            "\n",
            "multinli_1.0.zip    100%[===================>] 216.34M  31.0MB/s    in 7.4s    \n",
            "\n",
            "2023-05-13 13:03:19 (29.4 MB/s) - ‘multinli_1.0.zip’ saved [226850426/226850426]\n",
            "\n"
          ]
        }
      ]
    },
    {
      "cell_type": "code",
      "metadata": {
        "execution": {
          "iopub.status.busy": "2021-05-22T18:22:51.269742Z",
          "iopub.execute_input": "2021-05-22T18:22:51.270159Z",
          "iopub.status.idle": "2021-05-22T18:22:54.896800Z",
          "shell.execute_reply.started": "2021-05-22T18:22:51.270112Z",
          "shell.execute_reply": "2021-05-22T18:22:54.895335Z"
        },
        "trusted": true,
        "id": "hclFoPKmTH-B",
        "outputId": "fe266b53-d526-4d28-d858-e96b973f6656",
        "colab": {
          "base_uri": "https://localhost:8080/"
        }
      },
      "source": [
        "from zipfile import ZipFile\n",
        "  \n",
        "# specifying the zip file name\n",
        "file_name = \"multinli_1.0.zip\"\n",
        "  \n",
        "# opening the zip file in READ mode\n",
        "with ZipFile(file_name, 'r') as zip:\n",
        "    # printing all the contents of the zip file\n",
        "    zip.printdir()\n",
        "  \n",
        "    # extracting all the files\n",
        "    print('Extracting all the files now...')\n",
        "    zip.extractall()\n",
        "    print('Done!')"
      ],
      "execution_count": null,
      "outputs": [
        {
          "output_type": "stream",
          "name": "stdout",
          "text": [
            "File Name                                             Modified             Size\n",
            "multinli_1.0/                                  2018-04-15 22:06:08            0\n",
            "multinli_1.0/multinli_1.0_dev_mismatched.jsonl 2017-09-03 17:34:52     13460535\n",
            "multinli_1.0/paper.pdf                         2018-04-15 22:02:54       196418\n",
            "__MACOSX/                                      2018-04-15 22:06:32            0\n",
            "__MACOSX/multinli_1.0/                         2018-04-15 22:06:32            0\n",
            "__MACOSX/multinli_1.0/._paper.pdf              2018-04-15 22:02:54         1128\n",
            "multinli_1.0/.DS_Store                         2018-04-15 22:06:04         6148\n",
            "__MACOSX/multinli_1.0/._.DS_Store              2018-04-15 22:06:04          120\n",
            "multinli_1.0/multinli_1.0_train.jsonl          2017-09-03 17:35:46    492421641\n",
            "multinli_1.0/multinli_1.0_dev_mismatched.txt   2017-09-03 17:34:52     11170082\n",
            "multinli_1.0/Icon\r                             2018-02-16 16:46:20            0\n",
            "__MACOSX/multinli_1.0/._Icon\r                  2018-02-16 16:46:20       384959\n",
            "multinli_1.0/multinli_1.0_dev_matched.txt      2017-09-03 17:34:50     10634146\n",
            "multinli_1.0/multinli_1.0_dev_matched.jsonl    2017-09-03 17:34:50     12925073\n",
            "multinli_1.0/multinli_1.0_train.txt            2017-09-03 17:35:54    408734216\n",
            "multinli_1.0/README.txt                        2018-04-15 22:05:32         1160\n",
            "__MACOSX/multinli_1.0/._README.txt             2018-04-15 22:05:32          384\n",
            "__MACOSX/._multinli_1.0                        2018-04-15 22:06:08          120\n",
            "Extracting all the files now...\n",
            "Done!\n"
          ]
        }
      ]
    },
    {
      "cell_type": "markdown",
      "metadata": {
        "id": "x9_msVLYTH-C"
      },
      "source": [
        "# Prepare Dataset"
      ]
    },
    {
      "cell_type": "code",
      "metadata": {
        "execution": {
          "iopub.status.busy": "2021-05-22T18:22:54.898199Z",
          "iopub.execute_input": "2021-05-22T18:22:54.898549Z",
          "iopub.status.idle": "2021-05-22T18:22:54.904679Z",
          "shell.execute_reply.started": "2021-05-22T18:22:54.898514Z",
          "shell.execute_reply": "2021-05-22T18:22:54.903657Z"
        },
        "trusted": true,
        "id": "J1lTSBY2TH-C"
      },
      "source": [
        "def get_sent1_token_type(sent):\n",
        "    try:\n",
        "        return [0]* len(sent)\n",
        "    except:\n",
        "        return []\n",
        "\n",
        "def get_sent2_token_type(sent):\n",
        "    try:\n",
        "        return [1]* len(sent)\n",
        "    except:\n",
        "        return []\n",
        "    \n",
        "def combine_seq(seq):\n",
        "    return \" \".join(seq)\n",
        "\n",
        "def combine_mask(mask):\n",
        "    mask = [str(m) for m in mask]\n",
        "    return \" \".join(mask)"
      ],
      "execution_count": null,
      "outputs": []
    },
    {
      "cell_type": "code",
      "source": [
        "import json\n",
        "from tqdm import tqdm\n",
        "def getDataset(dataset_name=\"mnli\"):\n",
        "    if dataset_name==\"mnli\":\n",
        "        filepath_train=\"multinli_1.0/multinli_1.0_train.jsonl\"\n",
        "        filepath_dev=\"multinli_1.0/multinli_1.0_dev_matched.jsonl\"\n",
        "        filepath_test=\"multinli_1.0/multinli_1.0_dev_mismatched.jsonl\"\n",
        "    elif dataset_name==\"snli\":\n",
        "        filepath_train=\"../data/snli_1.0/snli_1.0/snli_1.0_train.jsonl\"\n",
        "        filepath_dev=\"../data/snli_1.0/snli_1.0/snli_1.0_dev.jsonl\"\n",
        "        filepath_test=\"../data/snli_1.0/snli_1.0/snli_1.0_test.jsonl\"\n",
        "    else:\n",
        "        print(\"Invalid dataset name\")\n",
        "        return None\n",
        "    \n",
        "    #read train,dev and test data\n",
        "    labels = [\"contradiction\", \"entailment\", \"neutral\"]\n",
        "    f= open(filepath_train, \"r\")\n",
        "    data = list(f)\n",
        "    train_dataset={\"sentence1\":[],\"sentence2\":[],\"gold_label\":[]}\n",
        "    print(\"train data\")\n",
        "    for line in tqdm(data):\n",
        "        line = json.loads(line)\n",
        "        if line['gold_label'] not in labels:\n",
        "            # print(line['gold_label'])\n",
        "            continue\n",
        "        train_dataset[\"sentence1\"].append(line['sentence1'])\n",
        "        train_dataset[\"sentence2\"].append(line['sentence2'])\n",
        "        train_dataset[\"gold_label\"].append(line['gold_label'])\n",
        "    f.close()\n",
        "\n",
        "    f= open(filepath_dev, \"r\")\n",
        "    data = list(f)\n",
        "    dev_dataset={\"sentence1\":[],\"sentence2\":[],\"gold_label\":[]}\n",
        "    print(\"dev data\")\n",
        "    for line in tqdm(data):\n",
        "        line = json.loads(line)\n",
        "        if line['gold_label'] not in labels:\n",
        "            # print(line['gold_label'])\n",
        "            continue\n",
        "        dev_dataset[\"sentence1\"].append(line['sentence1'])\n",
        "        dev_dataset[\"sentence2\"].append(line['sentence2'])\n",
        "        dev_dataset[\"gold_label\"].append(line['gold_label'])\n",
        "    f.close()\n",
        "\n",
        "    f= open(filepath_test, \"r\")\n",
        "    data = list(f)\n",
        "    test_dataset={\"sentence1\":[],\"sentence2\":[],\"gold_label\":[]}\n",
        "    print(\"test data\")\n",
        "    for line in tqdm(data):\n",
        "        line = json.loads(line)\n",
        "        if line['gold_label'] not in labels:\n",
        "            # print(line['gold_label'])\n",
        "            continue\n",
        "        test_dataset[\"sentence1\"].append(line['sentence1'])\n",
        "        test_dataset[\"sentence2\"].append(line['sentence2'])\n",
        "        test_dataset[\"gold_label\"].append(line['gold_label'])\n",
        "    f.close()\n",
        "    \n",
        "    return train_dataset,dev_dataset,test_dataset\n",
        "\n",
        "train_dataset,dev_dataset,test_dataset=getDataset()"
      ],
      "metadata": {
        "colab": {
          "base_uri": "https://localhost:8080/"
        },
        "id": "55gVp_LYgueS",
        "outputId": "07889879-0023-41b5-9d1a-96b629742025"
      },
      "execution_count": null,
      "outputs": [
        {
          "output_type": "stream",
          "name": "stdout",
          "text": [
            "train data\n"
          ]
        },
        {
          "output_type": "stream",
          "name": "stderr",
          "text": [
            "100%|██████████| 392702/392702 [00:09<00:00, 41793.28it/s] \n"
          ]
        },
        {
          "output_type": "stream",
          "name": "stdout",
          "text": [
            "dev data\n"
          ]
        },
        {
          "output_type": "stream",
          "name": "stderr",
          "text": [
            "100%|██████████| 10000/10000 [00:00<00:00, 128663.97it/s]\n"
          ]
        },
        {
          "output_type": "stream",
          "name": "stdout",
          "text": [
            "test data\n"
          ]
        },
        {
          "output_type": "stream",
          "name": "stderr",
          "text": [
            "100%|██████████| 10000/10000 [00:00<00:00, 129375.16it/s]\n"
          ]
        }
      ]
    },
    {
      "cell_type": "code",
      "metadata": {
        "id": "-o_OB1lsTowj"
      },
      "source": [
        "import pandas as pd\n",
        "\n",
        "df_train = pd.DataFrame.from_dict(train_dataset)\n",
        "df_dev = pd.DataFrame.from_dict(dev_dataset)\n",
        "df_test = pd.DataFrame.from_dict(test_dataset)\n",
        "\n",
        "df_train = df_train[['gold_label','sentence1','sentence2']]\n",
        "df_dev = df_dev[['gold_label','sentence1','sentence2']]\n",
        "df_test = df_test[['gold_label','sentence1','sentence2']]\n",
        "\n",
        "df_train = df_train[:80000]\n",
        "df_dev = df_dev[:8000]\n",
        "df_test = df_test[:8000]\n",
        "\n",
        "\n",
        "df_train['sentence1'] = df_train['sentence1'].apply(trim_sentence)\n",
        "df_train['sentence2'] = df_train['sentence2'].apply(trim_sentence)\n",
        "df_dev['sentence1'] = df_dev['sentence1'].apply(trim_sentence)\n",
        "df_dev['sentence2'] = df_dev['sentence2'].apply(trim_sentence)\n",
        "df_test['sentence1'] = df_test['sentence1'].apply(trim_sentence)\n",
        "df_test['sentence2'] = df_test['sentence2'].apply(trim_sentence)\n",
        "\n",
        "df_train['sent1'] = '[CLS] ' + df_train['sentence1'] + ' [SEP] '\n",
        "df_train['sent2'] = df_train['sentence2'] + ' [SEP]'\n",
        "df_dev['sent1'] = '[CLS] ' + df_dev['sentence1'] + ' [SEP] '\n",
        "df_dev['sent2'] = df_dev['sentence2'] + ' [SEP]'\n",
        "df_test['sent1'] = '[CLS] ' + df_test['sentence1'] + ' [SEP] '\n",
        "df_test['sent2'] = df_test['sentence2'] + ' [SEP]'\n",
        "\n",
        "df_train['sent1_t'] = df_train['sent1'].apply(tokenize_bert)\n",
        "df_train['sent2_t'] = df_train['sent2'].apply(tokenize_bert)\n",
        "df_dev['sent1_t'] = df_dev['sent1'].apply(tokenize_bert)\n",
        "df_dev['sent2_t'] = df_dev['sent2'].apply(tokenize_bert)\n",
        "df_test['sent1_t'] = df_test['sent1'].apply(tokenize_bert)\n",
        "df_test['sent2_t'] = df_test['sent2'].apply(tokenize_bert)\n",
        "\n",
        "df_train['sent1_token_type'] = df_train['sent1_t'].apply(get_sent1_token_type)\n",
        "df_train['sent2_token_type'] = df_train['sent2_t'].apply(get_sent2_token_type)\n",
        "df_dev['sent1_token_type'] = df_dev['sent1_t'].apply(get_sent1_token_type)\n",
        "df_dev['sent2_token_type'] = df_dev['sent2_t'].apply(get_sent2_token_type)\n",
        "df_test['sent1_token_type'] = df_test['sent1_t'].apply(get_sent1_token_type)\n",
        "df_test['sent2_token_type'] = df_test['sent2_t'].apply(get_sent2_token_type)\n",
        "\n",
        "df_train['sequence'] = df_train['sent1_t'] + df_train['sent2_t']\n",
        "df_dev['sequence'] = df_dev['sent1_t'] + df_dev['sent2_t']\n",
        "df_test['sequence'] = df_test['sent1_t'] + df_test['sent2_t']\n",
        "\n",
        "\n",
        "df_train['attention_mask'] = df_train['sequence'].apply(get_sent2_token_type)\n",
        "df_dev['attention_mask'] = df_dev['sequence'].apply(get_sent2_token_type)\n",
        "df_test['attention_mask'] = df_test['sequence'].apply(get_sent2_token_type)\n",
        "\n",
        "df_train['token_type'] = df_train['sent1_token_type'] + df_train['sent2_token_type']\n",
        "df_dev['token_type'] = df_dev['sent1_token_type'] + df_dev['sent2_token_type']\n",
        "df_test['token_type'] = df_test['sent1_token_type'] + df_test['sent2_token_type']\n",
        "\n",
        "df_train['sequence'] = df_train['sequence'].apply(combine_seq)\n",
        "df_dev['sequence'] = df_dev['sequence'].apply(combine_seq)\n",
        "df_test['sequence'] = df_test['sequence'].apply(combine_seq)\n",
        "\n",
        "df_train['attention_mask'] = df_train['attention_mask'].apply(combine_mask)\n",
        "df_dev['attention_mask'] = df_dev['attention_mask'].apply(combine_mask)\n",
        "df_test['attention_mask'] = df_test['attention_mask'].apply(combine_mask)\n",
        "\n",
        "df_train['token_type'] = df_train['token_type'].apply(combine_mask)\n",
        "df_dev['token_type'] = df_dev['token_type'].apply(combine_mask)\n",
        "df_test['token_type'] = df_test['token_type'].apply(combine_mask)\n",
        "\n",
        "df_train = df_train[['gold_label', 'sequence', 'attention_mask', 'token_type']]\n",
        "df_dev = df_dev[['gold_label', 'sequence', 'attention_mask', 'token_type']]\n",
        "df_test = df_test[['gold_label', 'sequence', 'attention_mask', 'token_type']]\n",
        "\n",
        "\n",
        "\n",
        "df_train = df_train.loc[df_train['gold_label'].isin(['entailment','contradiction','neutral'])]\n",
        "df_dev = df_dev.loc[df_dev['gold_label'].isin(['entailment','contradiction','neutral'])]\n",
        "df_test = df_test.loc[df_test['gold_label'].isin(['entailment','contradiction','neutral'])]\n",
        "\n",
        "\n",
        "\n",
        "df_train.to_csv('multinli_1.0/multinli_1.0_train.csv', index=False)\n",
        "df_dev.to_csv('multinli_1.0/multinli_1.0_dev.csv', index=False)\n",
        "df_test.to_csv('multinli_1.0/multinli_1.0_test.csv', index=False)"
      ],
      "execution_count": null,
      "outputs": []
    },
    {
      "cell_type": "code",
      "metadata": {
        "execution": {
          "iopub.status.busy": "2021-05-22T18:24:05.516834Z",
          "iopub.execute_input": "2021-05-22T18:24:05.517130Z",
          "iopub.status.idle": "2021-05-22T18:24:05.523940Z",
          "shell.execute_reply.started": "2021-05-22T18:24:05.517103Z",
          "shell.execute_reply": "2021-05-22T18:24:05.523027Z"
        },
        "trusted": true,
        "id": "Lmiw-NSBTH-F",
        "colab": {
          "base_uri": "https://localhost:8080/"
        },
        "outputId": "c7d108fd-9dcb-4ab7-d1bc-dc542e7f1390"
      },
      "source": [
        "print(df_train.iloc[0]['sequence'])\n",
        "print(df_train.iloc[0]['attention_mask'])\n",
        "print(df_train.iloc[0]['token_type'])"
      ],
      "execution_count": null,
      "outputs": [
        {
          "output_type": "stream",
          "name": "stdout",
          "text": [
            "[CLS] conceptual ##ly cream ski ##mming has two basic dimensions - product and geography . [SEP] product and geography are what make cream ski ##mming work . [SEP]\n",
            "1 1 1 1 1 1 1 1 1 1 1 1 1 1 1 1 1 1 1 1 1 1 1 1 1 1 1 1\n",
            "0 0 0 0 0 0 0 0 0 0 0 0 0 0 0 0 1 1 1 1 1 1 1 1 1 1 1 1\n"
          ]
        }
      ]
    },
    {
      "cell_type": "code",
      "metadata": {
        "execution": {
          "iopub.status.busy": "2021-05-22T18:24:05.547967Z",
          "iopub.execute_input": "2021-05-22T18:24:05.548321Z",
          "iopub.status.idle": "2021-05-22T18:24:05.553413Z",
          "shell.execute_reply.started": "2021-05-22T18:24:05.548287Z",
          "shell.execute_reply": "2021-05-22T18:24:05.552328Z"
        },
        "trusted": true,
        "id": "LoERk9gXTH-G"
      },
      "source": [
        "pd.set_option('display.max_colwidth', None)"
      ],
      "execution_count": null,
      "outputs": []
    },
    {
      "cell_type": "code",
      "metadata": {
        "execution": {
          "iopub.status.busy": "2021-05-22T18:24:05.571467Z",
          "iopub.execute_input": "2021-05-22T18:24:05.572040Z",
          "iopub.status.idle": "2021-05-22T18:24:05.582200Z",
          "shell.execute_reply.started": "2021-05-22T18:24:05.571999Z",
          "shell.execute_reply": "2021-05-22T18:24:05.581378Z"
        },
        "trusted": true,
        "id": "jRapwGZtTH-H"
      },
      "source": [
        "def convert_to_int(tok_ids):\n",
        "    tok_ids = [int(x) for x in tok_ids]\n",
        "    return tok_ids"
      ],
      "execution_count": null,
      "outputs": []
    },
    {
      "cell_type": "code",
      "metadata": {
        "execution": {
          "iopub.status.busy": "2021-05-22T18:24:05.584732Z",
          "iopub.execute_input": "2021-05-22T18:24:05.585410Z",
          "iopub.status.idle": "2021-05-22T18:24:05.643159Z",
          "shell.execute_reply.started": "2021-05-22T18:24:05.585369Z",
          "shell.execute_reply": "2021-05-22T18:24:05.642310Z"
        },
        "trusted": true,
        "id": "g77BTYgcTH-H"
      },
      "source": [
        "def padding_tokens(tokens,pd_tkn):\n",
        "    if(len(tokens)<max_input_length-1):\n",
        "        for i in range(max_input_length-1 -len(tokens)):\n",
        "            tokens.append(pd_tkn)\n",
        "    return tokens\n",
        "\n",
        "label2index = {\"entailment\":0,\"neutral\":1,\"contradiction\":2}\n",
        "\n",
        "train_data = {}\n",
        "train_data['sequence'] = []\n",
        "train_data['attention_mask']=[]\n",
        "train_data['token_type']=[]\n",
        "train_data['gold_label']=[]\n",
        "\n",
        "for data_t in df_train['sequence']:\n",
        "  tokens = split_and_cut(data_t)\n",
        "  token_ids = tokenizer.convert_tokens_to_ids(tokens)\n",
        "#   print(len(token_ids),end=\" \")\n",
        "  pd_tokens = padding_tokens(token_ids,pad_token_idx)\n",
        "#   print(len(pd_tokens),end=\" /\")\n",
        "  train_data['sequence'].append(pd_tokens)\n",
        "\n",
        "for data_t in df_train['attention_mask']:\n",
        "  tokens = split_and_cut(data_t)\n",
        "  token_ids = convert_to_int(tokens)\n",
        "  pd_tokens = padding_tokens(token_ids,pad_token_idx)\n",
        "  train_data['attention_mask'].append(pd_tokens)\n",
        "\n",
        "for data_t in df_train['token_type']:\n",
        "  tokens = split_and_cut(data_t)\n",
        "  token_ids = convert_to_int(tokens)\n",
        "  pd_tokens = padding_tokens(token_ids,1)\n",
        "  train_data['token_type'].append(pd_tokens)\n",
        "\n",
        "for t in df_train['gold_label']:\n",
        "    train_data['gold_label'].append(label2index[t])\n",
        "\n",
        "#valid data\n",
        "valid_data = {}\n",
        "valid_data['sequence'] = []\n",
        "valid_data['attention_mask']=[]\n",
        "valid_data['token_type']=[]\n",
        "valid_data['gold_label']=[]\n",
        "\n",
        "for data_t in df_dev['sequence']:\n",
        "  tokens = split_and_cut(data_t)\n",
        "  token_ids = tokenizer.convert_tokens_to_ids(tokens)\n",
        "  pd_tokens = padding_tokens(token_ids,pad_token_idx)\n",
        "  valid_data['sequence'].append(pd_tokens)\n",
        "\n",
        "for data_t in df_dev['attention_mask']:\n",
        "  tokens = split_and_cut(data_t)\n",
        "  token_ids = convert_to_int(tokens)\n",
        "  pd_tokens = padding_tokens(token_ids,pad_token_idx)\n",
        "  valid_data['attention_mask'].append(pd_tokens)\n",
        "\n",
        "for data_t in df_dev['token_type']:\n",
        "  tokens = split_and_cut(data_t)\n",
        "  token_ids = convert_to_int(tokens)\n",
        "  pd_tokens = padding_tokens(token_ids,1)\n",
        "  valid_data['token_type'].append(pd_tokens)\n",
        "\n",
        "for t in df_dev['gold_label']:\n",
        "    valid_data['gold_label'].append(label2index[t])\n",
        "\n",
        "test_data = {}\n",
        "test_data['sequence'] = []\n",
        "test_data['attention_mask']=[]\n",
        "test_data['token_type']=[]\n",
        "test_data['gold_label']=[]\n",
        "\n",
        "for data_t in df_test['sequence']:\n",
        "  tokens = split_and_cut(data_t)\n",
        "  token_ids = tokenizer.convert_tokens_to_ids(tokens)\n",
        "  pd_tokens = padding_tokens(token_ids,pad_token_idx)\n",
        "  test_data['sequence'].append(pd_tokens)\n",
        "\n",
        "for data_t in df_test['attention_mask']:\n",
        "  tokens = split_and_cut(data_t)\n",
        "  token_ids = convert_to_int(tokens)\n",
        "  pd_tokens = padding_tokens(token_ids,pad_token_idx)\n",
        "  test_data['attention_mask'].append(pd_tokens)\n",
        "\n",
        "for data_t in df_test['token_type']:\n",
        "  tokens = split_and_cut(data_t)\n",
        "  token_ids = convert_to_int(tokens)\n",
        "  pd_tokens = padding_tokens(token_ids,1)\n",
        "  test_data['token_type'].append(pd_tokens)\n",
        "\n",
        "for t in df_test['gold_label']:\n",
        "    test_data['gold_label'].append(label2index[t])\n",
        "\n",
        "\n",
        "\n",
        "\n"
      ],
      "execution_count": null,
      "outputs": []
    },
    {
      "cell_type": "code",
      "metadata": {
        "execution": {
          "iopub.status.busy": "2021-05-22T18:24:11.701745Z",
          "iopub.execute_input": "2021-05-22T18:24:11.702103Z",
          "iopub.status.idle": "2021-05-22T18:24:11.731022Z",
          "shell.execute_reply.started": "2021-05-22T18:24:11.702072Z",
          "shell.execute_reply": "2021-05-22T18:24:11.730049Z"
        },
        "trusted": true,
        "id": "V25Nf2FZTH-M"
      },
      "source": [
        "BATCH_SIZE = 16\n",
        "\n",
        "device = torch.device('cuda' if torch.cuda.is_available() else 'cpu')\n",
        "\n",
        "def getDataloader(dataset):\n",
        "    # print(len(dataset[\"premise\"]))\n",
        "    # for i in dataset[\"sequence\"][:100]:\n",
        "    #     print(len(i),end=\" \")\n",
        "    sequence = torch.tensor(dataset[\"sequence\"],dtype=torch.long)\n",
        "    attention_mask = torch.tensor(dataset[\"attention_mask\"],dtype=torch.long)\n",
        "    token_type = torch.tensor(dataset[\"token_type\"],dtype=torch.long)\n",
        "    labels = torch.tensor(dataset[\"gold_label\"],dtype=torch.long)\n",
        "    dataset = torch.utils.data.TensorDataset(sequence,attention_mask,token_type,labels)\n",
        "    dataloader = torch.utils.data.DataLoader(dataset, batch_size=BATCH_SIZE, shuffle=True)\n",
        "    return dataloader\n",
        "  \n",
        "train_dataloader = getDataloader(train_data)\n",
        "valid_dataloader = getDataloader(valid_data)\n",
        "test_dataloader = getDataloader(test_data)"
      ],
      "execution_count": null,
      "outputs": []
    },
    {
      "cell_type": "code",
      "metadata": {
        "execution": {
          "iopub.status.busy": "2021-05-22T18:24:11.732527Z",
          "iopub.execute_input": "2021-05-22T18:24:11.733192Z",
          "iopub.status.idle": "2021-05-22T18:24:36.845015Z",
          "shell.execute_reply.started": "2021-05-22T18:24:11.733148Z",
          "shell.execute_reply": "2021-05-22T18:24:36.844145Z"
        },
        "trusted": true,
        "id": "EssWp8iUTH-N",
        "colab": {
          "base_uri": "https://localhost:8080/",
          "height": 124,
          "referenced_widgets": [
            "d2db086e2a734754a13ec02207aa00bb",
            "49f7bb20e20544439c55604205397778",
            "a89bf15e12144640a02211e3fe64fc84",
            "9e352dc47a28433bbdd5766baa8de7e3",
            "625910a147e743bf9e083983d3173509",
            "ac6cff1de3284b2e97fc3e1c78e17808",
            "697cbad2a33d4606b8fef2ad4c804d17",
            "99574a811f09421dadd22718344cd0d9",
            "9ca37989e5d6461693b6f675e850428d",
            "1ae3f862f18d4ed8a780b368db08744c",
            "43984a359d8a441793972522ad44ca32"
          ]
        },
        "outputId": "0f8690d4-969a-4daa-b417-b7fc37ffad13"
      },
      "source": [
        "from transformers import BertModel\n",
        "\n",
        "bert_model = BertModel.from_pretrained('bert-base-uncased')"
      ],
      "execution_count": null,
      "outputs": [
        {
          "output_type": "display_data",
          "data": {
            "text/plain": [
              "Downloading pytorch_model.bin:   0%|          | 0.00/440M [00:00<?, ?B/s]"
            ],
            "application/vnd.jupyter.widget-view+json": {
              "version_major": 2,
              "version_minor": 0,
              "model_id": "d2db086e2a734754a13ec02207aa00bb"
            }
          },
          "metadata": {}
        },
        {
          "output_type": "stream",
          "name": "stderr",
          "text": [
            "Some weights of the model checkpoint at bert-base-uncased were not used when initializing BertModel: ['cls.predictions.bias', 'cls.predictions.transform.dense.bias', 'cls.seq_relationship.weight', 'cls.predictions.decoder.weight', 'cls.predictions.transform.LayerNorm.weight', 'cls.seq_relationship.bias', 'cls.predictions.transform.LayerNorm.bias', 'cls.predictions.transform.dense.weight']\n",
            "- This IS expected if you are initializing BertModel from the checkpoint of a model trained on another task or with another architecture (e.g. initializing a BertForSequenceClassification model from a BertForPreTraining model).\n",
            "- This IS NOT expected if you are initializing BertModel from the checkpoint of a model that you expect to be exactly identical (initializing a BertForSequenceClassification model from a BertForSequenceClassification model).\n"
          ]
        }
      ]
    },
    {
      "cell_type": "code",
      "metadata": {
        "execution": {
          "iopub.status.busy": "2021-05-22T18:24:36.855932Z",
          "iopub.execute_input": "2021-05-22T18:24:36.856437Z",
          "iopub.status.idle": "2021-05-22T18:24:36.866563Z",
          "shell.execute_reply.started": "2021-05-22T18:24:36.856399Z",
          "shell.execute_reply": "2021-05-22T18:24:36.865841Z"
        },
        "trusted": true,
        "id": "VDo0_WcrTH-N"
      },
      "source": [
        "import torch.nn as nn\n",
        "\n",
        "class BERTNLIModel(nn.Module):\n",
        "    def __init__(self,\n",
        "                 bert_model,\n",
        "                 hidden_dim,\n",
        "                 output_dim,\n",
        "                ):\n",
        "        \n",
        "        super().__init__()\n",
        "        \n",
        "        self.bert = bert_model\n",
        "        \n",
        "        embedding_dim = bert_model.config.to_dict()['hidden_size']\n",
        "        self.out = nn.Linear(embedding_dim, output_dim)\n",
        "        \n",
        "    def forward(self, sequence, attn_mask, token_type):\n",
        "        embedded = self.bert(input_ids = sequence, attention_mask = attn_mask, token_type_ids= token_type)[1]\n",
        "        output = self.out(embedded)\n",
        "\n",
        "        return output"
      ],
      "execution_count": null,
      "outputs": []
    },
    {
      "cell_type": "code",
      "metadata": {
        "execution": {
          "iopub.status.busy": "2021-05-22T18:24:36.867698Z",
          "iopub.execute_input": "2021-05-22T18:24:36.868235Z",
          "iopub.status.idle": "2021-05-22T18:24:41.276060Z",
          "shell.execute_reply.started": "2021-05-22T18:24:36.868195Z",
          "shell.execute_reply": "2021-05-22T18:24:41.275145Z"
        },
        "trusted": true,
        "id": "jaloK1rXTH-O"
      },
      "source": [
        "HIDDEN_DIM = 512\n",
        "OUTPUT_DIM = len(label2index)\n",
        "\n",
        "model = BERTNLIModel(bert_model,HIDDEN_DIM,OUTPUT_DIM,).to(device)"
      ],
      "execution_count": null,
      "outputs": []
    },
    {
      "cell_type": "code",
      "metadata": {
        "execution": {
          "iopub.status.busy": "2021-05-22T18:24:41.312320Z",
          "iopub.execute_input": "2021-05-22T18:24:41.312761Z",
          "iopub.status.idle": "2021-05-22T18:24:48.156690Z",
          "shell.execute_reply.started": "2021-05-22T18:24:41.312719Z",
          "shell.execute_reply": "2021-05-22T18:24:48.154976Z"
        },
        "trusted": true,
        "id": "xWHcwbEuTH-P",
        "colab": {
          "base_uri": "https://localhost:8080/"
        },
        "outputId": "c3a65b39-3303-4c35-a3ea-08f7990c63a3"
      },
      "source": [
        "from transformers import *"
      ],
      "execution_count": null,
      "outputs": [
        {
          "output_type": "stream",
          "name": "stderr",
          "text": [
            "/usr/local/lib/python3.10/dist-packages/transformers/generation_utils.py:24: FutureWarning: Importing `GenerationMixin` from `src/transformers/generation_utils.py` is deprecated and will be removed in Transformers v5. Import as `from transformers import GenerationMixin` instead.\n",
            "  warnings.warn(\n",
            "/usr/local/lib/python3.10/dist-packages/transformers/generation_tf_utils.py:24: FutureWarning: Importing `TFGenerationMixin` from `src/transformers/generation_tf_utils.py` is deprecated and will be removed in Transformers v5. Import as `from transformers import TFGenerationMixin` instead.\n",
            "  warnings.warn(\n",
            "/usr/local/lib/python3.10/dist-packages/transformers/generation_flax_utils.py:24: FutureWarning: Importing `FlaxGenerationMixin` from `src/transformers/generation_flax_utils.py` is deprecated and will be removed in Transformers v5. Import as `from transformers import FlaxGenerationMixin` instead.\n",
            "  warnings.warn(\n",
            "Xformers is not installed correctly. If you want to use memorry_efficient_attention to accelerate training use the following command to install Xformers\n",
            "pip install xformers.\n"
          ]
        }
      ]
    },
    {
      "cell_type": "code",
      "metadata": {
        "execution": {
          "iopub.status.busy": "2021-05-22T18:24:48.158473Z",
          "iopub.execute_input": "2021-05-22T18:24:48.158884Z",
          "iopub.status.idle": "2021-05-22T18:24:48.170838Z",
          "shell.execute_reply.started": "2021-05-22T18:24:48.158822Z",
          "shell.execute_reply": "2021-05-22T18:24:48.167735Z"
        },
        "trusted": true,
        "id": "zcpOWOTdTH-P",
        "colab": {
          "base_uri": "https://localhost:8080/"
        },
        "outputId": "4dd1b115-3940-4cac-e829-f9f80f631a45"
      },
      "source": [
        "import torch.optim as optim\n",
        "\n",
        "#optimizer = optim.Adam(model.parameters())\n",
        "optimizer = AdamW(model.parameters(),lr=2e-5,eps=1e-6,correct_bias=False)\n",
        "\n",
        "def get_scheduler(optimizer, warmup_steps):\n",
        "    scheduler = get_constant_schedule_with_warmup(optimizer, num_warmup_steps=warmup_steps)\n",
        "    return scheduler"
      ],
      "execution_count": null,
      "outputs": [
        {
          "output_type": "stream",
          "name": "stderr",
          "text": [
            "/usr/local/lib/python3.10/dist-packages/transformers/optimization.py:407: FutureWarning: This implementation of AdamW is deprecated and will be removed in a future version. Use the PyTorch implementation torch.optim.AdamW instead, or set `no_deprecation_warning=True` to disable this warning\n",
            "  warnings.warn(\n"
          ]
        }
      ]
    },
    {
      "cell_type": "code",
      "metadata": {
        "execution": {
          "iopub.status.busy": "2021-05-22T18:24:48.172358Z",
          "iopub.execute_input": "2021-05-22T18:24:48.172752Z",
          "iopub.status.idle": "2021-05-22T18:24:49.688801Z",
          "shell.execute_reply.started": "2021-05-22T18:24:48.172711Z",
          "shell.execute_reply": "2021-05-22T18:24:49.687709Z"
        },
        "trusted": true,
        "id": "o1oS_9oNTH-Q"
      },
      "source": [
        "criterion = nn.CrossEntropyLoss().to(device)\n",
        "from tqdm import tqdm"
      ],
      "execution_count": null,
      "outputs": []
    },
    {
      "cell_type": "code",
      "metadata": {
        "execution": {
          "iopub.status.busy": "2021-05-22T18:24:49.690480Z",
          "iopub.execute_input": "2021-05-22T18:24:49.691979Z",
          "iopub.status.idle": "2021-05-22T18:24:49.700224Z",
          "shell.execute_reply.started": "2021-05-22T18:24:49.691928Z",
          "shell.execute_reply": "2021-05-22T18:24:49.699269Z"
        },
        "trusted": true,
        "id": "oWYJmI66TH-Q"
      },
      "source": [
        "def categorical_accuracy(preds, y):\n",
        "    max_preds = preds.argmax(dim = 1, keepdim = True) # get the index of the max probability\n",
        "    correct = (max_preds.squeeze(1)==y).float()\n",
        "    return correct.sum() / len(y)"
      ],
      "execution_count": null,
      "outputs": []
    },
    {
      "cell_type": "code",
      "metadata": {
        "execution": {
          "iopub.status.busy": "2021-05-22T18:24:51.141635Z",
          "iopub.execute_input": "2021-05-22T18:24:51.141968Z",
          "iopub.status.idle": "2021-05-22T18:24:51.152037Z",
          "shell.execute_reply.started": "2021-05-22T18:24:51.141934Z",
          "shell.execute_reply": "2021-05-22T18:24:51.151084Z"
        },
        "trusted": true,
        "id": "LGxOjwjkTH-Q"
      },
      "source": [
        "max_grad_norm = 1\n",
        "\n",
        "def train(model, iterator, optimizer, criterion, scheduler):\n",
        "    #print(iterator)\n",
        "    \n",
        "    epoch_loss = 0\n",
        "    epoch_acc = 0\n",
        "    \n",
        "    model.train()\n",
        "    \n",
        "    for sequence,attn_mask,token_type,label in tqdm(iterator):\n",
        "\n",
        "        optimizer.zero_grad() # clear gradients first\n",
        "        torch.cuda.empty_cache() # releases all unoccupied cached memory \n",
        "        \n",
        "        sequence,attn_mask,token_type,label = sequence.to(device),attn_mask.to(device),token_type.to(device),label.to(device)\n",
        "        \n",
        "        predictions = model(sequence, attn_mask, token_type)\n",
        "        \n",
        "        loss = criterion(predictions, label)\n",
        "        \n",
        "        acc = categorical_accuracy(predictions, label)\n",
        "        loss.backward()\n",
        "        \n",
        "        optimizer.step()\n",
        "        scheduler.step()\n",
        "        \n",
        "        epoch_loss += loss.item()\n",
        "        epoch_acc += acc.item()\n",
        "        \n",
        "    return epoch_loss / len(iterator), epoch_acc / len(iterator)"
      ],
      "execution_count": null,
      "outputs": []
    },
    {
      "cell_type": "code",
      "metadata": {
        "execution": {
          "iopub.status.busy": "2021-05-22T18:24:51.153318Z",
          "iopub.execute_input": "2021-05-22T18:24:51.153732Z",
          "iopub.status.idle": "2021-05-22T18:24:51.166942Z",
          "shell.execute_reply.started": "2021-05-22T18:24:51.153685Z",
          "shell.execute_reply": "2021-05-22T18:24:51.166060Z"
        },
        "trusted": true,
        "id": "PjPxruc3TH-R"
      },
      "source": [
        "from sklearn.metrics import classification_report, confusion_matrix\n",
        "import numpy as np\n",
        "import seaborn as sn\n",
        "import matplotlib.pyplot as plt\n",
        "\n",
        "def evaluate(model, iterator, criterion):\n",
        "    #print(iterator)\n",
        "    epoch_loss = 0\n",
        "    epoch_acc = 0\n",
        "    y_true = []\n",
        "    y_pred = []\n",
        "    model.eval()\n",
        "    \n",
        "    with torch.no_grad():\n",
        "    \n",
        "        for sequence,attn_mask,token_type,labels in tqdm(iterator):\n",
        "\n",
        "            sequence,attn_mask,token_type,labels = sequence.to(device),attn_mask.to(device),token_type.to(device),labels.to(device)\n",
        "            predictions = model(sequence, attn_mask, token_type)\n",
        "            y_true.extend(labels.cpu())\n",
        "            y_pred.extend(predictions.cpu().argmax(1))\n",
        "            loss = criterion(predictions, labels)\n",
        "                \n",
        "            acc = categorical_accuracy(predictions, labels)\n",
        "            \n",
        "            epoch_loss += loss.item()\n",
        "            epoch_acc += acc.item()\n",
        "        print(\"Test Classification report\")\n",
        "        print(classification_report(y_true, y_pred, target_names=[\"entailment\",\"neutral\",\"contradiction\"]))\n",
        "        cf_matrix = confusion_matrix(y_true, y_pred)\n",
        "        df_cm = pd.DataFrame(cf_matrix / np.sum(cf_matrix, axis=1)[:, None], index = [i for i in [\"entailment\",\"neutral\",\"contradiction\"]],columns = [i for i in [\"entailment\",\"neutral\",\"contradiction\"]])\n",
        "        # plt.figure(figsize = (12,7))\n",
        "        plt.title(\"Confusion Matrix\")\n",
        "        sn.heatmap(df_cm, annot=True)\n",
        "        plt.savefig('output.png')\n",
        "        plt.show()\n",
        "\n",
        "        \n",
        "    return epoch_loss / len(iterator), epoch_acc / len(iterator)"
      ],
      "execution_count": null,
      "outputs": []
    },
    {
      "cell_type": "code",
      "metadata": {
        "execution": {
          "iopub.status.busy": "2021-05-22T18:24:51.169166Z",
          "iopub.execute_input": "2021-05-22T18:24:51.170246Z",
          "iopub.status.idle": "2021-05-22T18:24:51.181751Z",
          "shell.execute_reply.started": "2021-05-22T18:24:51.170216Z",
          "shell.execute_reply": "2021-05-22T18:24:51.181031Z"
        },
        "trusted": true,
        "id": "xIoYct0uTH-R"
      },
      "source": [
        "import time\n",
        "\n",
        "def epoch_time(start_time, end_time):\n",
        "    elapsed_time = end_time - start_time\n",
        "    elapsed_mins = int(elapsed_time / 60)\n",
        "    elapsed_secs = int(elapsed_time - (elapsed_mins * 60))\n",
        "    return elapsed_mins, elapsed_secs"
      ],
      "execution_count": null,
      "outputs": []
    },
    {
      "cell_type": "code",
      "metadata": {
        "execution": {
          "iopub.status.busy": "2021-05-22T18:24:51.183111Z",
          "iopub.execute_input": "2021-05-22T18:24:51.183483Z",
          "iopub.status.idle": "2021-05-22T19:43:27.258977Z",
          "shell.execute_reply.started": "2021-05-22T18:24:51.183445Z",
          "shell.execute_reply": "2021-05-22T19:43:27.257798Z"
        },
        "trusted": true,
        "id": "36KbCzW2TH-S",
        "colab": {
          "base_uri": "https://localhost:8080/",
          "height": 1000
        },
        "outputId": "7370c316-daa1-4b65-cea4-90678e4c30bf"
      },
      "source": [
        "import math\n",
        "N_EPOCHS = 6\n",
        "\n",
        "warmup_percent = 0.2\n",
        "total_steps = math.ceil(N_EPOCHS*len(train_data)*1./BATCH_SIZE)\n",
        "warmup_steps = int(total_steps*warmup_percent)\n",
        "scheduler = get_scheduler(optimizer, warmup_steps)\n",
        "\n",
        "best_valid_loss = float('inf')\n",
        "best_epoch=0\n",
        "\n",
        "for epoch in range(N_EPOCHS):\n",
        "\n",
        "    start_time = time.time()\n",
        "    \n",
        "    train_loss, train_acc = train(model, train_dataloader, optimizer, criterion, scheduler)\n",
        "    valid_loss, valid_acc = evaluate(model, valid_dataloader, criterion)\n",
        "    \n",
        "    end_time = time.time()\n",
        "\n",
        "    epoch_mins, epoch_secs = epoch_time(start_time, end_time)\n",
        "    \n",
        "    if valid_loss < best_valid_loss:\n",
        "        best_valid_loss = valid_loss\n",
        "        best_epoch=epoch\n",
        "    torch.save(model.state_dict(), f'/content/gdrive/MyDrive/NLPProject/models/bertmore-mnli_{epoch}.pt')\n",
        "    \n",
        "    print(f'Epoch: {epoch+1:02} | Epoch Time: {epoch_mins}m {epoch_secs}s')\n",
        "    print(f'\\tTrain Loss: {train_loss:.3f} | Train Acc: {train_acc*100:.2f}%')\n",
        "    print(f'\\t Val. Loss: {valid_loss:.3f} |  Val. Acc: {valid_acc*100:.2f}%')"
      ],
      "execution_count": 31,
      "outputs": [
        {
          "metadata": {
            "tags": null
          },
          "name": "stderr",
          "output_type": "stream",
          "text": [
            "100%|██████████| 5000/5000 [46:09<00:00,  1.81it/s]\n",
            "100%|██████████| 500/500 [01:35<00:00,  5.24it/s]\n"
          ]
        },
        {
          "metadata": {
            "tags": null
          },
          "name": "stdout",
          "output_type": "stream",
          "text": [
            "Test Classification report\n",
            "               precision    recall  f1-score   support\n",
            "\n",
            "   entailment       0.84      0.82      0.83      2861\n",
            "      neutral       0.76      0.74      0.75      2507\n",
            "contradiction       0.78      0.83      0.80      2632\n",
            "\n",
            "     accuracy                           0.79      8000\n",
            "    macro avg       0.79      0.79      0.79      8000\n",
            " weighted avg       0.79      0.79      0.79      8000\n",
            "\n"
          ]
        },
        {
          "data": {
            "image/png": "[encoded data removed]",
            "text/plain": [
              "<Figure size 640x480 with 2 Axes>"
            ]
          },
          "metadata": {},
          "output_type": "display_data"
        },
        {
          "metadata": {
            "tags": null
          },
          "name": "stdout",
          "output_type": "stream",
          "text": [
            "Epoch: 01 | Epoch Time: 47m 45s\n",
            "\tTrain Loss: 0.622 | Train Acc: 73.82%\n",
            "\t Val. Loss: 0.515 |  Val. Acc: 79.44%\n"
          ]
        },
        {
          "metadata": {
            "tags": null
          },
          "name": "stderr",
          "output_type": "stream",
          "text": [
            "100%|██████████| 5000/5000 [46:07<00:00,  1.81it/s]\n",
            "100%|██████████| 500/500 [01:35<00:00,  5.24it/s]\n"
          ]
        },
        {
          "metadata": {
            "tags": null
          },
          "name": "stdout",
          "output_type": "stream",
          "text": [
            "Test Classification report\n",
            "               precision    recall  f1-score   support\n",
            "\n",
            "   entailment       0.80      0.87      0.84      2861\n",
            "      neutral       0.78      0.72      0.75      2507\n",
            "contradiction       0.82      0.80      0.81      2632\n",
            "\n",
            "     accuracy                           0.80      8000\n",
            "    macro avg       0.80      0.80      0.80      8000\n",
            " weighted avg       0.80      0.80      0.80      8000\n",
            "\n"
          ]
        },
        {
          "data": {
            "image/png": "[encoded data removed]",
            "text/plain": [
              "<Figure size 640x480 with 2 Axes>"
            ]
          },
          "metadata": {},
          "output_type": "display_data"
        },
        {
          "metadata": {
            "tags": null
          },
          "name": "stdout",
          "output_type": "stream",
          "text": [
            "Epoch: 02 | Epoch Time: 47m 43s\n",
            "\tTrain Loss: 0.364 | Train Acc: 86.28%\n",
            "\t Val. Loss: 0.510 |  Val. Acc: 80.11%\n"
          ]
        },
        {
          "metadata": {
            "tags": null
          },
          "name": "stderr",
          "output_type": "stream",
          "text": [
            "100%|██████████| 5000/5000 [46:06<00:00,  1.81it/s]\n",
            "100%|██████████| 500/500 [01:35<00:00,  5.22it/s]\n"
          ]
        },
        {
          "metadata": {
            "tags": null
          },
          "name": "stdout",
          "output_type": "stream",
          "text": [
            "Test Classification report\n",
            "               precision    recall  f1-score   support\n",
            "\n",
            "   entailment       0.88      0.76      0.81      2861\n",
            "      neutral       0.71      0.79      0.75      2507\n",
            "contradiction       0.79      0.82      0.80      2632\n",
            "\n",
            "     accuracy                           0.79      8000\n",
            "    macro avg       0.79      0.79      0.79      8000\n",
            " weighted avg       0.80      0.79      0.79      8000\n",
            "\n"
          ]
        },
        {
          "data": {
            "image/png": "[encoded data removed]",
            "text/plain": [
              "<Figure size 640x480 with 2 Axes>"
            ]
          },
          "metadata": {},
          "output_type": "display_data"
        },
        {
          "metadata": {
            "tags": null
          },
          "name": "stdout",
          "output_type": "stream",
          "text": [
            "Epoch: 03 | Epoch Time: 47m 43s\n",
            "\tTrain Loss: 0.205 | Train Acc: 92.76%\n",
            "\t Val. Loss: 0.654 |  Val. Acc: 78.84%\n"
          ]
        },
        {
          "metadata": {
            "tags": null
          },
          "name": "stderr",
          "output_type": "stream",
          "text": [
            "100%|██████████| 5000/5000 [46:06<00:00,  1.81it/s]\n",
            "100%|██████████| 500/500 [01:35<00:00,  5.22it/s]\n"
          ]
        },
        {
          "metadata": {
            "tags": null
          },
          "name": "stdout",
          "output_type": "stream",
          "text": [
            "Test Classification report\n",
            "               precision    recall  f1-score   support\n",
            "\n",
            "   entailment       0.88      0.77      0.82      2861\n",
            "      neutral       0.74      0.77      0.75      2507\n",
            "contradiction       0.77      0.85      0.81      2632\n",
            "\n",
            "     accuracy                           0.79      8000\n",
            "    macro avg       0.79      0.79      0.79      8000\n",
            " weighted avg       0.80      0.79      0.79      8000\n",
            "\n"
          ]
        },
        {
          "data": {
            "image/png": "[encoded data removed]",
            "text/plain": [
              "<Figure size 640x480 with 2 Axes>"
            ]
          },
          "metadata": {},
          "output_type": "display_data"
        },
        {
          "metadata": {
            "tags": null
          },
          "name": "stdout",
          "output_type": "stream",
          "text": [
            "Epoch: 04 | Epoch Time: 47m 44s\n",
            "\tTrain Loss: 0.118 | Train Acc: 95.97%\n",
            "\t Val. Loss: 0.772 |  Val. Acc: 79.30%\n"
          ]
        },
        {
          "metadata": {
            "tags": null
          },
          "name": "stderr",
          "output_type": "stream",
          "text": [
            "100%|██████████| 5000/5000 [46:04<00:00,  1.81it/s]\n",
            "100%|██████████| 500/500 [01:36<00:00,  5.21it/s]\n"
          ]
        },
        {
          "metadata": {
            "tags": null
          },
          "name": "stdout",
          "output_type": "stream",
          "text": [
            "Test Classification report\n",
            "               precision    recall  f1-score   support\n",
            "\n",
            "   entailment       0.88      0.76      0.81      2861\n",
            "      neutral       0.69      0.82      0.75      2507\n",
            "contradiction       0.82      0.80      0.81      2632\n",
            "\n",
            "     accuracy                           0.79      8000\n",
            "    macro avg       0.80      0.79      0.79      8000\n",
            " weighted avg       0.80      0.79      0.79      8000\n",
            "\n"
          ]
        },
        {
          "data": {
            "image/png": "[encoded data removed]",
            "text/plain": [
              "<Figure size 640x480 with 2 Axes>"
            ]
          },
          "metadata": {},
          "output_type": "display_data"
        },
        {
          "metadata": {
            "tags": null
          },
          "name": "stdout",
          "output_type": "stream",
          "text": [
            "Epoch: 05 | Epoch Time: 47m 41s\n",
            "\tTrain Loss: 0.087 | Train Acc: 97.07%\n",
            "\t Val. Loss: 0.810 |  Val. Acc: 78.91%\n"
          ]
        },
        {
          "output_type": "stream",
          "name": "stderr",
          "text": [
            "100%|██████████| 5000/5000 [46:04<00:00,  1.81it/s]\n",
            "100%|██████████| 500/500 [01:34<00:00,  5.26it/s]\n"
          ]
        },
        {
          "output_type": "stream",
          "name": "stdout",
          "text": [
            "Test Classification report\n",
            "               precision    recall  f1-score   support\n",
            "\n",
            "   entailment       0.84      0.81      0.83      2861\n",
            "      neutral       0.73      0.77      0.75      2507\n",
            "contradiction       0.81      0.81      0.81      2632\n",
            "\n",
            "     accuracy                           0.80      8000\n",
            "    macro avg       0.80      0.80      0.80      8000\n",
            " weighted avg       0.80      0.80      0.80      8000\n",
            "\n"
          ]
        },
        {
          "output_type": "display_data",
          "data": {
            "text/plain": [
              "<Figure size 640x480 with 2 Axes>"
            ],
            "image/png": "[encoded data removed]"
          },
          "metadata": {}
        },
        {
          "output_type": "stream",
          "name": "stdout",
          "text": [
            "Epoch: 06 | Epoch Time: 47m 40s\n",
            "\tTrain Loss: 0.065 | Train Acc: 97.76%\n",
            "\t Val. Loss: 0.910 |  Val. Acc: 79.70%\n"
          ]
        }
      ]
    },
    {
      "cell_type": "code",
      "metadata": {
        "execution": {
          "iopub.status.busy": "2021-05-22T19:43:27.263388Z",
          "iopub.execute_input": "2021-05-22T19:43:27.265736Z",
          "iopub.status.idle": "2021-05-22T19:43:39.283837Z",
          "shell.execute_reply.started": "2021-05-22T19:43:27.265691Z",
          "shell.execute_reply": "2021-05-22T19:43:39.282313Z"
        },
        "trusted": true,
        "id": "-pTN9d9BTH-S",
        "colab": {
          "base_uri": "https://localhost:8080/",
          "height": 692
        },
        "outputId": "cb65c1ea-9055-4a10-d7ca-f4f8e55942d8"
      },
      "source": [
        "model.load_state_dict(torch.load(f'/content/gdrive/MyDrive/NLPProject/models/bertmore-mnli_{best_epoch}.pt'))\n",
        "\n",
        "test_loss, test_acc = evaluate(model, test_dataloader, criterion)\n",
        "\n",
        "print(f'Test Loss: {test_loss:.3f} |  Test Acc: {test_acc*100:.2f}%')"
      ],
      "execution_count": 32,
      "outputs": [
        {
          "output_type": "stream",
          "name": "stderr",
          "text": [
            "100%|██████████| 500/500 [01:35<00:00,  5.22it/s]\n"
          ]
        },
        {
          "output_type": "stream",
          "name": "stdout",
          "text": [
            "Test Classification report\n",
            "               precision    recall  f1-score   support\n",
            "\n",
            "   entailment       0.80      0.88      0.84      2853\n",
            "      neutral       0.78      0.73      0.76      2492\n",
            "contradiction       0.85      0.81      0.83      2655\n",
            "\n",
            "     accuracy                           0.81      8000\n",
            "    macro avg       0.81      0.81      0.81      8000\n",
            " weighted avg       0.81      0.81      0.81      8000\n",
            "\n"
          ]
        },
        {
          "output_type": "display_data",
          "data": {
            "text/plain": [
              "<Figure size 640x480 with 2 Axes>"
            ],
            "image/png": "[encoded data removed]"
          },
          "metadata": {}
        },
        {
          "output_type": "stream",
          "name": "stdout",
          "text": [
            "Test Loss: 0.499 |  Test Acc: 80.91%\n"
          ]
        }
      ]
    },
    {
      "cell_type": "code",
      "metadata": {
        "execution": {
          "iopub.status.busy": "2021-05-22T19:43:39.285211Z",
          "iopub.execute_input": "2021-05-22T19:43:39.285573Z",
          "iopub.status.idle": "2021-05-22T19:43:39.293377Z",
          "shell.execute_reply.started": "2021-05-22T19:43:39.285534Z",
          "shell.execute_reply": "2021-05-22T19:43:39.292238Z"
        },
        "trusted": true,
        "id": "clPjVrsVTH-S"
      },
      "source": [
        "index2label={0:\"entailment\",1:\"neutral\",2:\"contradiction\"}\n",
        "def predict_inference(premise, hypothesis, model, device):\n",
        "    \n",
        "    model.eval()\n",
        "    \n",
        "    premise = '[CLS] ' + premise + ' [SEP]'\n",
        "    hypothesis = hypothesis + ' [SEP]'\n",
        "    \n",
        "    prem_t = tokenize_bert(premise)\n",
        "    hypo_t = tokenize_bert(hypothesis)\n",
        "    \n",
        "    #print(len(prem_t), len(hypo_t))\n",
        "    \n",
        "    prem_type = get_sent1_token_type(prem_t)\n",
        "    hypo_type = get_sent2_token_type(hypo_t)\n",
        "    \n",
        "    #print(len(prem_type), len(hypo_type))\n",
        "    \n",
        "    indexes = prem_t + hypo_t\n",
        "    \n",
        "    indexes = tokenizer.convert_tokens_to_ids(indexes)\n",
        "    #print(indexes)\n",
        "    indexes_type = prem_type + hypo_type\n",
        "    #print(indexes_type)\n",
        "    \n",
        "    attn_mask = get_sent2_token_type(indexes)\n",
        "    #print(attn_mask)\n",
        "    \n",
        "    #print(len(indexes))\n",
        "    #print(len(indexes_type))\n",
        "    #print(len(attn_mask))\n",
        "\n",
        "    #seq = '[CLS] '+ premise + ' [SEP] '+ hypothesis \n",
        "\n",
        "    #tokens = tokenizer.tokenize(seq)\n",
        "\n",
        "    #indexes = tokenizer.convert_tokens_to_ids(tokens)\n",
        "    \n",
        "    indexes = torch.LongTensor(indexes).unsqueeze(0).to(device)\n",
        "    indexes_type = torch.LongTensor(indexes_type).unsqueeze(0).to(device)\n",
        "    attn_mask = torch.LongTensor(attn_mask).unsqueeze(0).to(device)\n",
        "    \n",
        "    #print(indexes.size())\n",
        "    \n",
        "    prediction = model(indexes, attn_mask, indexes_type)\n",
        "    \n",
        "    prediction = prediction.argmax(dim=-1).item()\n",
        "    \n",
        "    return index2label[prediction]"
      ],
      "execution_count": 33,
      "outputs": []
    },
    {
      "cell_type": "code",
      "metadata": {
        "execution": {
          "iopub.status.busy": "2021-05-22T19:43:39.294655Z",
          "iopub.execute_input": "2021-05-22T19:43:39.295190Z",
          "iopub.status.idle": "2021-05-22T19:43:39.345334Z",
          "shell.execute_reply.started": "2021-05-22T19:43:39.295145Z",
          "shell.execute_reply": "2021-05-22T19:43:39.344616Z"
        },
        "trusted": true,
        "id": "Hxb5rikYTH-T",
        "colab": {
          "base_uri": "https://localhost:8080/",
          "height": 36
        },
        "outputId": "b9e4e54d-e0cf-428d-e429-2b8519ae15bf"
      },
      "source": [
        "premise = 'a man sitting on a green bench.'\n",
        "hypothesis = 'a woman sitting on a green bench.'\n",
        "\n",
        "predict_inference(premise, hypothesis, model, device)"
      ],
      "execution_count": 34,
      "outputs": [
        {
          "output_type": "execute_result",
          "data": {
            "text/plain": [
              "'contradiction'"
            ],
            "application/vnd.google.colaboratory.intrinsic+json": {
              "type": "string"
            }
          },
          "metadata": {},
          "execution_count": 34
        }
      ]
    },
    {
      "cell_type": "code",
      "metadata": {
        "execution": {
          "iopub.status.busy": "2021-05-22T19:43:39.346465Z",
          "iopub.execute_input": "2021-05-22T19:43:39.346775Z",
          "iopub.status.idle": "2021-05-22T19:43:39.382134Z",
          "shell.execute_reply.started": "2021-05-22T19:43:39.346742Z",
          "shell.execute_reply": "2021-05-22T19:43:39.381216Z"
        },
        "trusted": true,
        "id": "2I-cDRfXTH-T",
        "colab": {
          "base_uri": "https://localhost:8080/",
          "height": 36
        },
        "outputId": "51820d45-437e-4942-8018-e6655e48227f"
      },
      "source": [
        "premise = 'a man sitting on a green bench.'\n",
        "hypothesis = 'a man sitting on a blue bench.'\n",
        "\n",
        "predict_inference(premise, hypothesis, model, device)"
      ],
      "execution_count": 35,
      "outputs": [
        {
          "output_type": "execute_result",
          "data": {
            "text/plain": [
              "'contradiction'"
            ],
            "application/vnd.google.colaboratory.intrinsic+json": {
              "type": "string"
            }
          },
          "metadata": {},
          "execution_count": 35
        }
      ]
    },
    {
      "cell_type": "code",
      "metadata": {
        "execution": {
          "iopub.status.busy": "2021-05-22T19:43:39.383222Z",
          "iopub.execute_input": "2021-05-22T19:43:39.383665Z",
          "iopub.status.idle": "2021-05-22T19:43:39.421339Z",
          "shell.execute_reply.started": "2021-05-22T19:43:39.383628Z",
          "shell.execute_reply": "2021-05-22T19:43:39.420435Z"
        },
        "trusted": true,
        "id": "blZecUUDTH-U",
        "colab": {
          "base_uri": "https://localhost:8080/",
          "height": 36
        },
        "outputId": "7fda5cba-9c26-4e49-c830-7b01db020a05"
      },
      "source": [
        "premise = 'I am lying down on bed.'\n",
        "hypothesis = 'I am resting on bed.'\n",
        "\n",
        "predict_inference(premise, hypothesis, model, device)"
      ],
      "execution_count": 36,
      "outputs": [
        {
          "output_type": "execute_result",
          "data": {
            "text/plain": [
              "'entailment'"
            ],
            "application/vnd.google.colaboratory.intrinsic+json": {
              "type": "string"
            }
          },
          "metadata": {},
          "execution_count": 36
        }
      ]
    },
    {
      "cell_type": "code",
      "metadata": {
        "execution": {
          "iopub.status.busy": "2021-05-22T19:43:39.422429Z",
          "iopub.execute_input": "2021-05-22T19:43:39.422755Z",
          "iopub.status.idle": "2021-05-22T19:43:39.458545Z",
          "shell.execute_reply.started": "2021-05-22T19:43:39.422722Z",
          "shell.execute_reply": "2021-05-22T19:43:39.457617Z"
        },
        "trusted": true,
        "id": "Ra1Ex97jTH-U",
        "colab": {
          "base_uri": "https://localhost:8080/",
          "height": 36
        },
        "outputId": "4953f2ed-49d7-450a-8a0d-a24d1b5852ee"
      },
      "source": [
        "premise = 'I go to office on my personal car.'\n",
        "hypothesis = 'I have to share office cab for reaching office.'\n",
        "\n",
        "predict_inference(premise, hypothesis, model, device)"
      ],
      "execution_count": 37,
      "outputs": [
        {
          "data": {
            "application/vnd.google.colaboratory.intrinsic+json": {
              "type": "string"
            },
            "text/plain": [
              "'contradiction'"
            ]
          },
          "execution_count": 37,
          "metadata": {},
          "output_type": "execute_result"
        }
      ]
    },
    {
      "cell_type": "code",
      "metadata": {
        "execution": {
          "iopub.status.busy": "2021-05-22T19:43:39.459640Z",
          "iopub.execute_input": "2021-05-22T19:43:39.459985Z",
          "iopub.status.idle": "2021-05-22T19:43:39.498287Z",
          "shell.execute_reply.started": "2021-05-22T19:43:39.459951Z",
          "shell.execute_reply": "2021-05-22T19:43:39.497356Z"
        },
        "trusted": true,
        "id": "j9Y0i_1xTH-U",
        "colab": {
          "base_uri": "https://localhost:8080/",
          "height": 36
        },
        "outputId": "1e4ff94f-60ef-4c20-df31-152b7b4c4c5b"
      },
      "source": [
        "premise = 'I love to play cricket.'\n",
        "hypothesis = 'I enjoy playing football.'\n",
        "\n",
        "predict_inference(premise, hypothesis, model, device)"
      ],
      "execution_count": 38,
      "outputs": [
        {
          "output_type": "execute_result",
          "data": {
            "text/plain": [
              "'contradiction'"
            ],
            "application/vnd.google.colaboratory.intrinsic+json": {
              "type": "string"
            }
          },
          "metadata": {},
          "execution_count": 38
        }
      ]
    },
    {
      "cell_type": "code",
      "metadata": {
        "execution": {
          "iopub.status.busy": "2021-05-22T19:43:39.499376Z",
          "iopub.execute_input": "2021-05-22T19:43:39.499708Z",
          "iopub.status.idle": "2021-05-22T19:43:39.537532Z",
          "shell.execute_reply.started": "2021-05-22T19:43:39.499675Z",
          "shell.execute_reply": "2021-05-22T19:43:39.536636Z"
        },
        "trusted": true,
        "id": "K8_YE-R5TH-V",
        "colab": {
          "base_uri": "https://localhost:8080/",
          "height": 36
        },
        "outputId": "33eb1d1d-486c-4b73-ad03-de8a4eed7dfe"
      },
      "source": [
        "premise = 'He is techy.'\n",
        "hypothesis = 'He has no idea of tech.'\n",
        "\n",
        "predict_inference(premise, hypothesis, model, device)"
      ],
      "execution_count": 39,
      "outputs": [
        {
          "output_type": "execute_result",
          "data": {
            "text/plain": [
              "'contradiction'"
            ],
            "application/vnd.google.colaboratory.intrinsic+json": {
              "type": "string"
            }
          },
          "metadata": {},
          "execution_count": 39
        }
      ]
    },
    {
      "cell_type": "code",
      "metadata": {
        "execution": {
          "iopub.status.busy": "2021-05-22T19:43:39.538597Z",
          "iopub.execute_input": "2021-05-22T19:43:39.539065Z",
          "iopub.status.idle": "2021-05-22T19:43:39.585624Z",
          "shell.execute_reply.started": "2021-05-22T19:43:39.539029Z",
          "shell.execute_reply": "2021-05-22T19:43:39.584727Z"
        },
        "trusted": true,
        "id": "lhFq0CRcTH-V",
        "colab": {
          "base_uri": "https://localhost:8080/",
          "height": 36
        },
        "outputId": "639ba41d-f3f0-4177-e8d6-a6cbea932429"
      },
      "source": [
        "premise = 'I am using mobile phone.'\n",
        "hypothesis = 'I have mobile in my hand.'\n",
        "\n",
        "predict_inference(premise, hypothesis, model, device)"
      ],
      "execution_count": 40,
      "outputs": [
        {
          "output_type": "execute_result",
          "data": {
            "text/plain": [
              "'entailment'"
            ],
            "application/vnd.google.colaboratory.intrinsic+json": {
              "type": "string"
            }
          },
          "metadata": {},
          "execution_count": 40
        }
      ]
    },
    {
      "cell_type": "code",
      "metadata": {
        "id": "xQ1wOHoITH-V"
      },
      "source": [],
      "execution_count": 40,
      "outputs": []
    }
  ]
}